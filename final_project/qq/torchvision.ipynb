{
 "cells": [
  {
   "cell_type": "code",
   "execution_count": 34,
   "metadata": {},
   "outputs": [],
   "source": [
    "import numpy as np \n",
    "import pandas as pd\n",
    "import torch\n",
    "import torch.nn as nn\n",
    "import torch.nn.functional as F\n",
    "from torch.utils.data import DataLoader, Dataset\n",
    "from torch import optim\n",
    "import torchvision.models as models\n",
    "import cv2\n",
    "import csv\n",
    "import sys\n",
    "import os\n",
    "#from PIL import Image\n",
    "import numpy as np\n",
    "import torch\n",
    "from torch.utils.data import DataLoader\n",
    "from torch.utils.data.sampler import SubsetRandomSampler\n",
    "from torchvision.transforms import Compose, ToTensor\n",
    "from tqdm.notebook import tqdm\n",
    "from torch.utils.data.sampler import SubsetRandomSampler\n",
    "from torch.autograd import Function\n",
    "import torch\n",
    "import torch.nn as nn\n",
    "import torch.optim as optim\n",
    "from torch.optim import lr_scheduler\n",
    "import numpy as np\n",
    "import torchvision\n",
    "from torchvision import datasets, models, transforms\n",
    "import matplotlib.pyplot as plt\n",
    "import time\n",
    "import os\n",
    "import copy\n",
    "import PIL.Image\n",
    "from sklearn.metrics import precision_score, recall_score, f1_score, accuracy_score\n",
    "from torchvision.models.resnet import ResNet, BasicBlock\n",
    "import inspect\n",
    "#from tqdm.autonotebook import tqdm\n",
    "#from tqdm import tqdm"
   ]
  },
  {
   "cell_type": "code",
   "execution_count": 23,
   "metadata": {},
   "outputs": [
    {
     "name": "stdout",
     "output_type": "stream",
     "text": [
      "finalResNet(\n",
      "  (conv1): Conv2d(3, 64, kernel_size=(5, 5), stride=(2, 2), padding=(2, 2), bias=False)\n",
      "  (bn1): BatchNorm2d(64, eps=1e-05, momentum=0.1, affine=True, track_running_stats=True)\n",
      "  (relu): ReLU(inplace=True)\n",
      "  (maxpool): MaxPool2d(kernel_size=3, stride=2, padding=1, dilation=1, ceil_mode=False)\n",
      "  (layer1): Sequential(\n",
      "    (0): BasicBlock(\n",
      "      (conv1): Conv2d(64, 64, kernel_size=(3, 3), stride=(1, 1), padding=(1, 1), bias=False)\n",
      "      (bn1): BatchNorm2d(64, eps=1e-05, momentum=0.1, affine=True, track_running_stats=True)\n",
      "      (relu): ReLU(inplace=True)\n",
      "      (conv2): Conv2d(64, 64, kernel_size=(3, 3), stride=(1, 1), padding=(1, 1), bias=False)\n",
      "      (bn2): BatchNorm2d(64, eps=1e-05, momentum=0.1, affine=True, track_running_stats=True)\n",
      "    )\n",
      "    (1): BasicBlock(\n",
      "      (conv1): Conv2d(64, 64, kernel_size=(3, 3), stride=(1, 1), padding=(1, 1), bias=False)\n",
      "      (bn1): BatchNorm2d(64, eps=1e-05, momentum=0.1, affine=True, track_running_stats=True)\n",
      "      (relu): ReLU(inplace=True)\n",
      "      (conv2): Conv2d(64, 64, kernel_size=(3, 3), stride=(1, 1), padding=(1, 1), bias=False)\n",
      "      (bn2): BatchNorm2d(64, eps=1e-05, momentum=0.1, affine=True, track_running_stats=True)\n",
      "    )\n",
      "  )\n",
      "  (layer2): Sequential(\n",
      "    (0): BasicBlock(\n",
      "      (conv1): Conv2d(64, 128, kernel_size=(3, 3), stride=(2, 2), padding=(1, 1), bias=False)\n",
      "      (bn1): BatchNorm2d(128, eps=1e-05, momentum=0.1, affine=True, track_running_stats=True)\n",
      "      (relu): ReLU(inplace=True)\n",
      "      (conv2): Conv2d(128, 128, kernel_size=(3, 3), stride=(1, 1), padding=(1, 1), bias=False)\n",
      "      (bn2): BatchNorm2d(128, eps=1e-05, momentum=0.1, affine=True, track_running_stats=True)\n",
      "      (downsample): Sequential(\n",
      "        (0): Conv2d(64, 128, kernel_size=(1, 1), stride=(2, 2), bias=False)\n",
      "        (1): BatchNorm2d(128, eps=1e-05, momentum=0.1, affine=True, track_running_stats=True)\n",
      "      )\n",
      "    )\n",
      "    (1): BasicBlock(\n",
      "      (conv1): Conv2d(128, 128, kernel_size=(3, 3), stride=(1, 1), padding=(1, 1), bias=False)\n",
      "      (bn1): BatchNorm2d(128, eps=1e-05, momentum=0.1, affine=True, track_running_stats=True)\n",
      "      (relu): ReLU(inplace=True)\n",
      "      (conv2): Conv2d(128, 128, kernel_size=(3, 3), stride=(1, 1), padding=(1, 1), bias=False)\n",
      "      (bn2): BatchNorm2d(128, eps=1e-05, momentum=0.1, affine=True, track_running_stats=True)\n",
      "    )\n",
      "  )\n",
      "  (layer3): Sequential(\n",
      "    (0): BasicBlock(\n",
      "      (conv1): Conv2d(128, 256, kernel_size=(3, 3), stride=(2, 2), padding=(1, 1), bias=False)\n",
      "      (bn1): BatchNorm2d(256, eps=1e-05, momentum=0.1, affine=True, track_running_stats=True)\n",
      "      (relu): ReLU(inplace=True)\n",
      "      (conv2): Conv2d(256, 256, kernel_size=(3, 3), stride=(1, 1), padding=(1, 1), bias=False)\n",
      "      (bn2): BatchNorm2d(256, eps=1e-05, momentum=0.1, affine=True, track_running_stats=True)\n",
      "      (downsample): Sequential(\n",
      "        (0): Conv2d(128, 256, kernel_size=(1, 1), stride=(2, 2), bias=False)\n",
      "        (1): BatchNorm2d(256, eps=1e-05, momentum=0.1, affine=True, track_running_stats=True)\n",
      "      )\n",
      "    )\n",
      "    (1): BasicBlock(\n",
      "      (conv1): Conv2d(256, 256, kernel_size=(3, 3), stride=(1, 1), padding=(1, 1), bias=False)\n",
      "      (bn1): BatchNorm2d(256, eps=1e-05, momentum=0.1, affine=True, track_running_stats=True)\n",
      "      (relu): ReLU(inplace=True)\n",
      "      (conv2): Conv2d(256, 256, kernel_size=(3, 3), stride=(1, 1), padding=(1, 1), bias=False)\n",
      "      (bn2): BatchNorm2d(256, eps=1e-05, momentum=0.1, affine=True, track_running_stats=True)\n",
      "    )\n",
      "  )\n",
      "  (layer4): Sequential(\n",
      "    (0): BasicBlock(\n",
      "      (conv1): Conv2d(256, 512, kernel_size=(3, 3), stride=(2, 2), padding=(1, 1), bias=False)\n",
      "      (bn1): BatchNorm2d(512, eps=1e-05, momentum=0.1, affine=True, track_running_stats=True)\n",
      "      (relu): ReLU(inplace=True)\n",
      "      (conv2): Conv2d(512, 512, kernel_size=(3, 3), stride=(1, 1), padding=(1, 1), bias=False)\n",
      "      (bn2): BatchNorm2d(512, eps=1e-05, momentum=0.1, affine=True, track_running_stats=True)\n",
      "      (downsample): Sequential(\n",
      "        (0): Conv2d(256, 512, kernel_size=(1, 1), stride=(2, 2), bias=False)\n",
      "        (1): BatchNorm2d(512, eps=1e-05, momentum=0.1, affine=True, track_running_stats=True)\n",
      "      )\n",
      "    )\n",
      "    (1): BasicBlock(\n",
      "      (conv1): Conv2d(512, 512, kernel_size=(3, 3), stride=(1, 1), padding=(1, 1), bias=False)\n",
      "      (bn1): BatchNorm2d(512, eps=1e-05, momentum=0.1, affine=True, track_running_stats=True)\n",
      "      (relu): ReLU(inplace=True)\n",
      "      (conv2): Conv2d(512, 512, kernel_size=(3, 3), stride=(1, 1), padding=(1, 1), bias=False)\n",
      "      (bn2): BatchNorm2d(512, eps=1e-05, momentum=0.1, affine=True, track_running_stats=True)\n",
      "    )\n",
      "  )\n",
      "  (avgpool): AdaptiveAvgPool2d(output_size=(1, 1))\n",
      "  (fc): Linear(in_features=512, out_features=10, bias=True)\n",
      ")\n"
     ]
    }
   ],
   "source": [
    "class finalResNet(ResNet):\n",
    "    def __init__(self):\n",
    "        super(finalResNet, self).__init__(BasicBlock, [2, 2, 2, 2], num_classes=10)\n",
    "        self.conv1 = torch.nn.Conv2d(3, 64, \n",
    "            kernel_size=(5, 5), \n",
    "            stride=(2, 2), \n",
    "            padding=(2, 2), bias=False)\n",
    "        \n",
    "    def forward(self, x):\n",
    "        return torch.softmax(\n",
    "            super(finalResNet, self).forward(x), dim=-1)\n",
    "model = finalResNet()\n",
    "print(model)"
   ]
  },
  {
   "cell_type": "code",
   "execution_count": 24,
   "metadata": {},
   "outputs": [
    {
     "name": "stdout",
     "output_type": "stream",
     "text": [
      "cuda\n"
     ]
    }
   ],
   "source": [
    "# detect is gpu available.\n",
    "use_gpu = torch.cuda.is_available()\n",
    "if use_gpu:\n",
    "    print(\"cuda\")\n",
    "    device =torch.device('cuda:0')\n",
    "else:\n",
    "    print(\"cpu\")\n",
    "    device =torch.device(\"cpu\")\n",
    "    \n",
    "data_transforms =   transforms.Compose([\n",
    "                    transforms.Resize((224, 224)),\n",
    "                    transforms.RandomHorizontalFlip(),\n",
    "                    transforms.ToTensor(),\n",
    "                    transforms.Normalize([0.485, 0.456, 0.406], [0.229, 0.224, 0.225])\n",
    "                ])\n",
    "    \n",
    "class Image_data(Dataset):\n",
    "    def __init__(self,label,data,data_transforms):\n",
    "        self.data_path = data\n",
    "        self.label_path = label\n",
    "        self.data_transforms = data_transforms\n",
    "    def __getitem__(self,index):\n",
    "\n",
    "        trainX = np.load(self.data_path)\n",
    "        trainY = np.load(self.label_path)\n",
    "        image = PIL.Image.fromarray(np.uint8(trainX[index]))\n",
    "\n",
    "        \n",
    "        #trainX[index] = np.transpose(trainX[index], ( 2, 0, 1))\n",
    "        #trainX = torch.Tensor(trainX)\n",
    "        trainY = torch.Tensor(trainY)\n",
    "        \n",
    "        return data_transforms(image),trainY[index]\n",
    "\n",
    "    def __len__(self):\n",
    "        return len(np.load(self.label_path))\n",
    "\n",
    "train_data = Image_data('./trainY.npy','./trainX.npy',data_transforms)\n",
    "\n",
    "########################################################################################################################################################\n",
    "########################################################################################################################################################\n",
    "########################################################################################################################################################\n",
    "########################################################################################################################################################\n",
    "batch_size = 32\n",
    "validation_split = .1\n",
    "shuffle_dataset = True\n",
    "random_seed= 42\n",
    "\n",
    "# Creating data indices for training and validation splits:\n",
    "dataset_size = len(train_data)\n",
    "indices = list(range(dataset_size))\n",
    "split = int(np.floor(validation_split * dataset_size))\n",
    "if shuffle_dataset :\n",
    "    np.random.seed(random_seed)\n",
    "    np.random.shuffle(indices)\n",
    "train_indices, val_indices = indices[split:], indices[:split]\n",
    "\n",
    "train_sampler = SubsetRandomSampler(train_indices)\n",
    "valid_sampler = SubsetRandomSampler(val_indices)\n",
    "\n",
    "train_loader = DataLoader(train_data, batch_size=batch_size,sampler=train_sampler)\n",
    "val_loader = DataLoader(train_data, batch_size=batch_size,sampler=valid_sampler)"
   ]
  },
  {
   "cell_type": "code",
   "execution_count": 30,
   "metadata": {},
   "outputs": [],
   "source": [
    "\n",
    "def calculate_metric(metric_fn, true_y, pred_y):\n",
    "    if \"average\" in inspect.getfullargspec(metric_fn).args:\n",
    "        return metric_fn(true_y, pred_y, average=\"macro\")\n",
    "    else:\n",
    "        return metric_fn(true_y, pred_y)\n",
    "    \n",
    "def print_scores(p, r, f1, a, batch_size):\n",
    "    for name, scores in zip((\"precision\", \"recall\", \"F1\", \"accuracy\"), (p, r, f1, a)):\n",
    "        print(f\"\\t{name.rjust(14, ' ')}: {sum(scores)/batch_size:.4f}\")"
   ]
  },
  {
   "cell_type": "code",
   "execution_count": 36,
   "metadata": {},
   "outputs": [
    {
     "data": {
      "application/vnd.jupyter.widget-view+json": {
       "model_id": "b21ccdca4ef9497ea40c4a38defc21e2",
       "version_major": 2,
       "version_minor": 0
      },
      "text/plain": [
       "HBox(children=(IntProgress(value=0, description='Loss: ', max=141, style=ProgressStyle(description_width='init…"
      ]
     },
     "metadata": {},
     "output_type": "display_data"
    },
    {
     "name": "stdout",
     "output_type": "stream",
     "text": [
      "\n",
      "Epoch 1/500, training loss: 2.085938588101813, validation loss: 2.07562518119812\n",
      "\t     precision: 0.3065\n",
      "\t        recall: 0.3914\n",
      "\t            F1: 0.3121\n",
      "\t      accuracy: 0.3812\n"
     ]
    },
    {
     "data": {
      "application/vnd.jupyter.widget-view+json": {
       "model_id": "77d1e83d4dbc4d6295acb1748a5c00b6",
       "version_major": 2,
       "version_minor": 0
      },
      "text/plain": [
       "HBox(children=(IntProgress(value=0, description='Loss: ', max=141, style=ProgressStyle(description_width='init…"
      ]
     },
     "metadata": {},
     "output_type": "display_data"
    },
    {
     "name": "stdout",
     "output_type": "stream",
     "text": [
      "\n",
      "Epoch 2/500, training loss: 2.0647676100967622, validation loss: 2.0714166164398193\n",
      "\t     precision: 0.3536\n",
      "\t        recall: 0.3779\n",
      "\t            F1: 0.3337\n",
      "\t      accuracy: 0.3805\n"
     ]
    },
    {
     "data": {
      "application/vnd.jupyter.widget-view+json": {
       "model_id": "67eb261936a04c7f84fa8f5ebe3d810f",
       "version_major": 2,
       "version_minor": 0
      },
      "text/plain": [
       "HBox(children=(IntProgress(value=0, description='Loss: ', max=141, style=ProgressStyle(description_width='init…"
      ]
     },
     "metadata": {},
     "output_type": "display_data"
    },
    {
     "name": "stdout",
     "output_type": "stream",
     "text": [
      "\n",
      "Epoch 3/500, training loss: 2.059797730006225, validation loss: 2.0811383724212646\n",
      "\t     precision: 0.2893\n",
      "\t        recall: 0.3745\n",
      "\t            F1: 0.2892\n",
      "\t      accuracy: 0.3680\n"
     ]
    },
    {
     "data": {
      "application/vnd.jupyter.widget-view+json": {
       "model_id": "a90a7f5127b34aba96306c67f4697c8d",
       "version_major": 2,
       "version_minor": 0
      },
      "text/plain": [
       "HBox(children=(IntProgress(value=0, description='Loss: ', max=141, style=ProgressStyle(description_width='init…"
      ]
     },
     "metadata": {},
     "output_type": "display_data"
    },
    {
     "name": "stdout",
     "output_type": "stream",
     "text": [
      "\n",
      "Epoch 4/500, training loss: 2.0603888821094594, validation loss: 2.038602828979492\n",
      "\t     precision: 0.3605\n",
      "\t        recall: 0.4128\n",
      "\t            F1: 0.3559\n",
      "\t      accuracy: 0.4141\n"
     ]
    },
    {
     "data": {
      "application/vnd.jupyter.widget-view+json": {
       "model_id": "36a7589deaa9469dad2c309ca6a21d7f",
       "version_major": 2,
       "version_minor": 0
      },
      "text/plain": [
       "HBox(children=(IntProgress(value=0, description='Loss: ', max=141, style=ProgressStyle(description_width='init…"
      ]
     },
     "metadata": {},
     "output_type": "display_data"
    },
    {
     "name": "stdout",
     "output_type": "stream",
     "text": [
      "\n",
      "Epoch 5/500, training loss: 2.041185260664487, validation loss: 2.0789411067962646\n",
      "\t     precision: 0.2938\n",
      "\t        recall: 0.3634\n",
      "\t            F1: 0.2944\n",
      "\t      accuracy: 0.3754\n"
     ]
    },
    {
     "data": {
      "application/vnd.jupyter.widget-view+json": {
       "model_id": "9537782a07b842fe8121ab99cd80b056",
       "version_major": 2,
       "version_minor": 0
      },
      "text/plain": [
       "HBox(children=(IntProgress(value=0, description='Loss: ', max=141, style=ProgressStyle(description_width='init…"
      ]
     },
     "metadata": {},
     "output_type": "display_data"
    },
    {
     "name": "stdout",
     "output_type": "stream",
     "text": [
      "\n",
      "Epoch 6/500, training loss: 2.0371751878278475, validation loss: 2.015336513519287\n",
      "\t     precision: 0.3822\n",
      "\t        recall: 0.4460\n",
      "\t            F1: 0.3857\n",
      "\t      accuracy: 0.4402\n"
     ]
    },
    {
     "data": {
      "application/vnd.jupyter.widget-view+json": {
       "model_id": "6dbf21e1758a48219d2e0c3bc2e2897a",
       "version_major": 2,
       "version_minor": 0
      },
      "text/plain": [
       "HBox(children=(IntProgress(value=0, description='Loss: ', max=141, style=ProgressStyle(description_width='init…"
      ]
     },
     "metadata": {},
     "output_type": "display_data"
    },
    {
     "name": "stdout",
     "output_type": "stream",
     "text": [
      "\n",
      "Epoch 7/500, training loss: 2.017956902794804, validation loss: 2.056182861328125\n",
      "\t     precision: 0.3601\n",
      "\t        recall: 0.3988\n",
      "\t            F1: 0.3421\n",
      "\t      accuracy: 0.3902\n"
     ]
    },
    {
     "data": {
      "application/vnd.jupyter.widget-view+json": {
       "model_id": "5ba1673a743b4d77a790cafa66815151",
       "version_major": 2,
       "version_minor": 0
      },
      "text/plain": [
       "HBox(children=(IntProgress(value=0, description='Loss: ', max=141, style=ProgressStyle(description_width='init…"
      ]
     },
     "metadata": {},
     "output_type": "display_data"
    },
    {
     "name": "stdout",
     "output_type": "stream",
     "text": [
      "\n",
      "Epoch 8/500, training loss: 2.0006014083294157, validation loss: 2.0271785259246826\n",
      "\t     precision: 0.3910\n",
      "\t        recall: 0.4420\n",
      "\t            F1: 0.3603\n",
      "\t      accuracy: 0.4320\n"
     ]
    },
    {
     "data": {
      "application/vnd.jupyter.widget-view+json": {
       "model_id": "045e76df1faa4becb6b40d992a651412",
       "version_major": 2,
       "version_minor": 0
      },
      "text/plain": [
       "HBox(children=(IntProgress(value=0, description='Loss: ', max=141, style=ProgressStyle(description_width='init…"
      ]
     },
     "metadata": {},
     "output_type": "display_data"
    },
    {
     "name": "stdout",
     "output_type": "stream",
     "text": [
      "\n",
      "Epoch 9/500, training loss: 2.0034904124888966, validation loss: 2.0062849521636963\n",
      "\t     precision: 0.4124\n",
      "\t        recall: 0.4451\n",
      "\t            F1: 0.3919\n",
      "\t      accuracy: 0.4512\n"
     ]
    },
    {
     "data": {
      "application/vnd.jupyter.widget-view+json": {
       "model_id": "4f850a0e29f54d2a90848cc72a9164bd",
       "version_major": 2,
       "version_minor": 0
      },
      "text/plain": [
       "HBox(children=(IntProgress(value=0, description='Loss: ', max=141, style=ProgressStyle(description_width='init…"
      ]
     },
     "metadata": {},
     "output_type": "display_data"
    },
    {
     "name": "stdout",
     "output_type": "stream",
     "text": [
      "\n",
      "Epoch 10/500, training loss: 1.9899267516237624, validation loss: 2.0389890670776367\n",
      "\t     precision: 0.3807\n",
      "\t        recall: 0.3995\n",
      "\t            F1: 0.3415\n",
      "\t      accuracy: 0.4125\n"
     ]
    },
    {
     "data": {
      "application/vnd.jupyter.widget-view+json": {
       "model_id": "85fdb702e74946af8e52cb7751532320",
       "version_major": 2,
       "version_minor": 0
      },
      "text/plain": [
       "HBox(children=(IntProgress(value=0, description='Loss: ', max=141, style=ProgressStyle(description_width='init…"
      ]
     },
     "metadata": {},
     "output_type": "display_data"
    },
    {
     "name": "stdout",
     "output_type": "stream",
     "text": [
      "\n",
      "Epoch 11/500, training loss: 1.96793336563922, validation loss: 2.0059754848480225\n",
      "\t     precision: 0.4531\n",
      "\t        recall: 0.4250\n",
      "\t            F1: 0.3974\n",
      "\t      accuracy: 0.4496\n"
     ]
    },
    {
     "data": {
      "application/vnd.jupyter.widget-view+json": {
       "model_id": "a5bce43f0ac14c1e9b6e73f7afaf2c4c",
       "version_major": 2,
       "version_minor": 0
      },
      "text/plain": [
       "HBox(children=(IntProgress(value=0, description='Loss: ', max=141, style=ProgressStyle(description_width='init…"
      ]
     },
     "metadata": {},
     "output_type": "display_data"
    },
    {
     "name": "stdout",
     "output_type": "stream",
     "text": [
      "\n",
      "Epoch 12/500, training loss: 1.9523255368496508, validation loss: 1.9657193422317505\n",
      "\t     precision: 0.5145\n",
      "\t        recall: 0.4991\n",
      "\t            F1: 0.4695\n",
      "\t      accuracy: 0.4836\n"
     ]
    },
    {
     "data": {
      "application/vnd.jupyter.widget-view+json": {
       "model_id": "f40d0ae6f5ca42a884fa5b2100d78637",
       "version_major": 2,
       "version_minor": 0
      },
      "text/plain": [
       "HBox(children=(IntProgress(value=0, description='Loss: ', max=141, style=ProgressStyle(description_width='init…"
      ]
     },
     "metadata": {},
     "output_type": "display_data"
    },
    {
     "name": "stdout",
     "output_type": "stream",
     "text": [
      "\n",
      "Epoch 13/500, training loss: 1.9398703110133502, validation loss: 1.9799755811691284\n",
      "\t     precision: 0.4529\n",
      "\t        recall: 0.4839\n",
      "\t            F1: 0.4316\n",
      "\t      accuracy: 0.4742\n"
     ]
    },
    {
     "data": {
      "application/vnd.jupyter.widget-view+json": {
       "model_id": "fe1ab4821ba44b9b81c9bb4970deca09",
       "version_major": 2,
       "version_minor": 0
      },
      "text/plain": [
       "HBox(children=(IntProgress(value=0, description='Loss: ', max=141, style=ProgressStyle(description_width='init…"
      ]
     },
     "metadata": {},
     "output_type": "display_data"
    },
    {
     "name": "stdout",
     "output_type": "stream",
     "text": [
      "\n",
      "Epoch 14/500, training loss: 1.9341653010523912, validation loss: 1.973774790763855\n",
      "\t     precision: 0.4557\n",
      "\t        recall: 0.4714\n",
      "\t            F1: 0.4117\n",
      "\t      accuracy: 0.4793\n"
     ]
    },
    {
     "data": {
      "application/vnd.jupyter.widget-view+json": {
       "model_id": "6d75e9f79806410483f9a8dc07727839",
       "version_major": 2,
       "version_minor": 0
      },
      "text/plain": [
       "HBox(children=(IntProgress(value=0, description='Loss: ', max=141, style=ProgressStyle(description_width='init…"
      ]
     },
     "metadata": {},
     "output_type": "display_data"
    },
    {
     "name": "stdout",
     "output_type": "stream",
     "text": [
      "\n",
      "Epoch 15/500, training loss: 1.9286252775936261, validation loss: 1.9577491283416748\n",
      "\t     precision: 0.4849\n",
      "\t        recall: 0.5133\n",
      "\t            F1: 0.4493\n",
      "\t      accuracy: 0.4953\n"
     ]
    },
    {
     "data": {
      "application/vnd.jupyter.widget-view+json": {
       "model_id": "b9f3458d75d2455cbdc63b27db6a0f55",
       "version_major": 2,
       "version_minor": 0
      },
      "text/plain": [
       "HBox(children=(IntProgress(value=0, description='Loss: ', max=141, style=ProgressStyle(description_width='init…"
      ]
     },
     "metadata": {},
     "output_type": "display_data"
    },
    {
     "name": "stdout",
     "output_type": "stream",
     "text": [
      "\n",
      "Epoch 16/500, training loss: 1.9045955695159047, validation loss: 1.9806716442108154\n",
      "\t     precision: 0.4529\n",
      "\t        recall: 0.4806\n",
      "\t            F1: 0.4322\n",
      "\t      accuracy: 0.4699\n"
     ]
    },
    {
     "data": {
      "application/vnd.jupyter.widget-view+json": {
       "model_id": "fc7847c6b3064cf592ddfa824005730a",
       "version_major": 2,
       "version_minor": 0
      },
      "text/plain": [
       "HBox(children=(IntProgress(value=0, description='Loss: ', max=141, style=ProgressStyle(description_width='init…"
      ]
     },
     "metadata": {},
     "output_type": "display_data"
    },
    {
     "name": "stdout",
     "output_type": "stream",
     "text": [
      "\n",
      "Epoch 17/500, training loss: 1.906237447515447, validation loss: 1.9522838592529297\n",
      "\t     precision: 0.5042\n",
      "\t        recall: 0.4965\n",
      "\t            F1: 0.4681\n",
      "\t      accuracy: 0.5062\n"
     ]
    },
    {
     "data": {
      "application/vnd.jupyter.widget-view+json": {
       "model_id": "0aa8617cebb149c6a65a147fe19186e5",
       "version_major": 2,
       "version_minor": 0
      },
      "text/plain": [
       "HBox(children=(IntProgress(value=0, description='Loss: ', max=141, style=ProgressStyle(description_width='init…"
      ]
     },
     "metadata": {},
     "output_type": "display_data"
    },
    {
     "name": "stdout",
     "output_type": "stream",
     "text": [
      "\n",
      "Epoch 18/500, training loss: 1.8948739166800856, validation loss: 1.9586336612701416\n",
      "\t     precision: 0.4763\n",
      "\t        recall: 0.4980\n",
      "\t            F1: 0.4455\n",
      "\t      accuracy: 0.4984\n"
     ]
    },
    {
     "data": {
      "application/vnd.jupyter.widget-view+json": {
       "model_id": "45d6c812309446e6994d964cbf7a6c5e",
       "version_major": 2,
       "version_minor": 0
      },
      "text/plain": [
       "HBox(children=(IntProgress(value=0, description='Loss: ', max=141, style=ProgressStyle(description_width='init…"
      ]
     },
     "metadata": {},
     "output_type": "display_data"
    },
    {
     "name": "stdout",
     "output_type": "stream",
     "text": [
      "\n",
      "Epoch 19/500, training loss: 1.8939499838132385, validation loss: 1.9370042085647583\n",
      "\t     precision: 0.4927\n",
      "\t        recall: 0.5109\n",
      "\t            F1: 0.4559\n",
      "\t      accuracy: 0.5199\n"
     ]
    },
    {
     "data": {
      "application/vnd.jupyter.widget-view+json": {
       "model_id": "936063c654514841aae543da247e2064",
       "version_major": 2,
       "version_minor": 0
      },
      "text/plain": [
       "HBox(children=(IntProgress(value=0, description='Loss: ', max=141, style=ProgressStyle(description_width='init…"
      ]
     },
     "metadata": {},
     "output_type": "display_data"
    },
    {
     "name": "stdout",
     "output_type": "stream",
     "text": [
      "\n",
      "Epoch 20/500, training loss: 1.872069921899349, validation loss: 1.934250831604004\n",
      "\t     precision: 0.5361\n",
      "\t        recall: 0.5232\n",
      "\t            F1: 0.4819\n",
      "\t      accuracy: 0.5207\n"
     ]
    },
    {
     "data": {
      "application/vnd.jupyter.widget-view+json": {
       "model_id": "8c4fdc157a0449d28136a7bc1bfdc2b0",
       "version_major": 2,
       "version_minor": 0
      },
      "text/plain": [
       "HBox(children=(IntProgress(value=0, description='Loss: ', max=141, style=ProgressStyle(description_width='init…"
      ]
     },
     "metadata": {},
     "output_type": "display_data"
    },
    {
     "name": "stdout",
     "output_type": "stream",
     "text": [
      "\n",
      "Epoch 21/500, training loss: 1.8615713525325694, validation loss: 1.9143218994140625\n",
      "\t     precision: 0.5140\n",
      "\t        recall: 0.5124\n",
      "\t            F1: 0.4743\n",
      "\t      accuracy: 0.5344\n"
     ]
    },
    {
     "data": {
      "application/vnd.jupyter.widget-view+json": {
       "model_id": "0fe9eeb8431d442c811fc360eacc6223",
       "version_major": 2,
       "version_minor": 0
      },
      "text/plain": [
       "HBox(children=(IntProgress(value=0, description='Loss: ', max=141, style=ProgressStyle(description_width='init…"
      ]
     },
     "metadata": {},
     "output_type": "display_data"
    },
    {
     "name": "stdout",
     "output_type": "stream",
     "text": [
      "\n",
      "Epoch 22/500, training loss: 1.8527468104734488, validation loss: 1.9046006202697754\n",
      "\t     precision: 0.5495\n",
      "\t        recall: 0.5584\n",
      "\t            F1: 0.5108\n",
      "\t      accuracy: 0.5461\n"
     ]
    },
    {
     "data": {
      "application/vnd.jupyter.widget-view+json": {
       "model_id": "601887f24bfd491fa8aa82a694b14c3f",
       "version_major": 2,
       "version_minor": 0
      },
      "text/plain": [
       "HBox(children=(IntProgress(value=0, description='Loss: ', max=141, style=ProgressStyle(description_width='init…"
      ]
     },
     "metadata": {},
     "output_type": "display_data"
    },
    {
     "name": "stdout",
     "output_type": "stream",
     "text": [
      "\n",
      "Epoch 23/500, training loss: 1.8347486291371338, validation loss: 1.8892782926559448\n",
      "\t     precision: 0.5843\n",
      "\t        recall: 0.5696\n",
      "\t            F1: 0.5310\n",
      "\t      accuracy: 0.5660\n"
     ]
    },
    {
     "data": {
      "application/vnd.jupyter.widget-view+json": {
       "model_id": "4f059e4760234aea805f7edee2c74582",
       "version_major": 2,
       "version_minor": 0
      },
      "text/plain": [
       "HBox(children=(IntProgress(value=0, description='Loss: ', max=141, style=ProgressStyle(description_width='init…"
      ]
     },
     "metadata": {},
     "output_type": "display_data"
    },
    {
     "name": "stdout",
     "output_type": "stream",
     "text": [
      "\n",
      "Epoch 24/500, training loss: 1.8349596676251567, validation loss: 1.911130666732788\n",
      "\t     precision: 0.5549\n",
      "\t        recall: 0.5414\n",
      "\t            F1: 0.5100\n",
      "\t      accuracy: 0.5410\n"
     ]
    },
    {
     "data": {
      "application/vnd.jupyter.widget-view+json": {
       "model_id": "3d7fd828e9cb44b6ac088f82f9fad855",
       "version_major": 2,
       "version_minor": 0
      },
      "text/plain": [
       "HBox(children=(IntProgress(value=0, description='Loss: ', max=141, style=ProgressStyle(description_width='init…"
      ]
     },
     "metadata": {},
     "output_type": "display_data"
    },
    {
     "name": "stdout",
     "output_type": "stream",
     "text": [
      "\n",
      "Epoch 25/500, training loss: 1.8184505827883457, validation loss: 1.9003280401229858\n",
      "\t     precision: 0.5309\n",
      "\t        recall: 0.5447\n",
      "\t            F1: 0.4956\n",
      "\t      accuracy: 0.5563\n"
     ]
    },
    {
     "data": {
      "application/vnd.jupyter.widget-view+json": {
       "model_id": "57d9f81848fb4ebfaba4f216c66c48b9",
       "version_major": 2,
       "version_minor": 0
      },
      "text/plain": [
       "HBox(children=(IntProgress(value=0, description='Loss: ', max=141, style=ProgressStyle(description_width='init…"
      ]
     },
     "metadata": {},
     "output_type": "display_data"
    },
    {
     "name": "stdout",
     "output_type": "stream",
     "text": [
      "\n",
      "Epoch 26/500, training loss: 1.8195294877316088, validation loss: 1.9482660293579102\n",
      "\t     precision: 0.5090\n",
      "\t        recall: 0.4789\n",
      "\t            F1: 0.4417\n",
      "\t      accuracy: 0.4996\n"
     ]
    },
    {
     "data": {
      "application/vnd.jupyter.widget-view+json": {
       "model_id": "c4ebd2b6b72045fbb45740810bf7f180",
       "version_major": 2,
       "version_minor": 0
      },
      "text/plain": [
       "HBox(children=(IntProgress(value=0, description='Loss: ', max=141, style=ProgressStyle(description_width='init…"
      ]
     },
     "metadata": {},
     "output_type": "display_data"
    },
    {
     "name": "stdout",
     "output_type": "stream",
     "text": [
      "\n",
      "Epoch 27/500, training loss: 1.8050639823818884, validation loss: 1.9347695112228394\n",
      "\t     precision: 0.5139\n",
      "\t        recall: 0.5148\n",
      "\t            F1: 0.4630\n",
      "\t      accuracy: 0.5121\n"
     ]
    },
    {
     "data": {
      "application/vnd.jupyter.widget-view+json": {
       "model_id": "d68c1ca4b09d4593826bc5b1abf6aab1",
       "version_major": 2,
       "version_minor": 0
      },
      "text/plain": [
       "HBox(children=(IntProgress(value=0, description='Loss: ', max=141, style=ProgressStyle(description_width='init…"
      ]
     },
     "metadata": {},
     "output_type": "display_data"
    },
    {
     "name": "stdout",
     "output_type": "stream",
     "text": [
      "\n",
      "Epoch 28/500, training loss: 1.7987674948171521, validation loss: 1.9174983501434326\n",
      "\t     precision: 0.5040\n",
      "\t        recall: 0.5160\n",
      "\t            F1: 0.4619\n",
      "\t      accuracy: 0.5340\n"
     ]
    },
    {
     "data": {
      "application/vnd.jupyter.widget-view+json": {
       "model_id": "e968b5a911fc4d9a96dd3d8645bb9abb",
       "version_major": 2,
       "version_minor": 0
      },
      "text/plain": [
       "HBox(children=(IntProgress(value=0, description='Loss: ', max=141, style=ProgressStyle(description_width='init…"
      ]
     },
     "metadata": {},
     "output_type": "display_data"
    },
    {
     "name": "stdout",
     "output_type": "stream",
     "text": [
      "\n",
      "Epoch 29/500, training loss: 1.7920967763197337, validation loss: 1.906313180923462\n",
      "\t     precision: 0.5524\n",
      "\t        recall: 0.5267\n",
      "\t            F1: 0.4964\n",
      "\t      accuracy: 0.5477\n"
     ]
    },
    {
     "data": {
      "application/vnd.jupyter.widget-view+json": {
       "model_id": "01d557a30e104c23ba29639bc097a36b",
       "version_major": 2,
       "version_minor": 0
      },
      "text/plain": [
       "HBox(children=(IntProgress(value=0, description='Loss: ', max=141, style=ProgressStyle(description_width='init…"
      ]
     },
     "metadata": {},
     "output_type": "display_data"
    },
    {
     "name": "stdout",
     "output_type": "stream",
     "text": [
      "\n",
      "Epoch 30/500, training loss: 1.7745278202895578, validation loss: 1.8848191499710083\n",
      "\t     precision: 0.5971\n",
      "\t        recall: 0.5674\n",
      "\t            F1: 0.5370\n",
      "\t      accuracy: 0.5820\n"
     ]
    },
    {
     "data": {
      "application/vnd.jupyter.widget-view+json": {
       "model_id": "c565e5bc454a4fd4892cf856c9e2b4f3",
       "version_major": 2,
       "version_minor": 0
      },
      "text/plain": [
       "HBox(children=(IntProgress(value=0, description='Loss: ', max=141, style=ProgressStyle(description_width='init…"
      ]
     },
     "metadata": {},
     "output_type": "display_data"
    },
    {
     "name": "stdout",
     "output_type": "stream",
     "text": [
      "\n",
      "Epoch 31/500, training loss: 1.7695112879394639, validation loss: 1.8536142110824585\n",
      "\t     precision: 0.6101\n",
      "\t        recall: 0.5863\n",
      "\t            F1: 0.5575\n",
      "\t      accuracy: 0.6000\n"
     ]
    },
    {
     "data": {
      "application/vnd.jupyter.widget-view+json": {
       "model_id": "6fc2665f35114e0b8b5bf615d8cc0bb7",
       "version_major": 2,
       "version_minor": 0
      },
      "text/plain": [
       "HBox(children=(IntProgress(value=0, description='Loss: ', max=141, style=ProgressStyle(description_width='init…"
      ]
     },
     "metadata": {},
     "output_type": "display_data"
    },
    {
     "name": "stdout",
     "output_type": "stream",
     "text": [
      "\n",
      "Epoch 32/500, training loss: 1.7667329522734838, validation loss: 1.8746947050094604\n",
      "\t     precision: 0.5948\n",
      "\t        recall: 0.6040\n",
      "\t            F1: 0.5614\n",
      "\t      accuracy: 0.5906\n"
     ]
    },
    {
     "data": {
      "application/vnd.jupyter.widget-view+json": {
       "model_id": "d58a20b7c15e4c86882a04dfeedb4d2f",
       "version_major": 2,
       "version_minor": 0
      },
      "text/plain": [
       "HBox(children=(IntProgress(value=0, description='Loss: ', max=141, style=ProgressStyle(description_width='init…"
      ]
     },
     "metadata": {},
     "output_type": "display_data"
    },
    {
     "name": "stdout",
     "output_type": "stream",
     "text": [
      "\n",
      "Epoch 33/500, training loss: 1.7580647333293942, validation loss: 1.8432852029800415\n",
      "\t     precision: 0.6100\n",
      "\t        recall: 0.5999\n",
      "\t            F1: 0.5656\n",
      "\t      accuracy: 0.6219\n"
     ]
    },
    {
     "data": {
      "application/vnd.jupyter.widget-view+json": {
       "model_id": "72e0e23c1f4e456d8eabea732ab3b33e",
       "version_major": 2,
       "version_minor": 0
      },
      "text/plain": [
       "HBox(children=(IntProgress(value=0, description='Loss: ', max=141, style=ProgressStyle(description_width='init…"
      ]
     },
     "metadata": {},
     "output_type": "display_data"
    },
    {
     "name": "stdout",
     "output_type": "stream",
     "text": [
      "\n",
      "Epoch 34/500, training loss: 1.7519215117109583, validation loss: 1.8633208274841309\n",
      "\t     precision: 0.6133\n",
      "\t        recall: 0.5803\n",
      "\t            F1: 0.5478\n",
      "\t      accuracy: 0.5902\n"
     ]
    },
    {
     "data": {
      "application/vnd.jupyter.widget-view+json": {
       "model_id": "4a727d72e58346be89fa3e260bd8f00d",
       "version_major": 2,
       "version_minor": 0
      },
      "text/plain": [
       "HBox(children=(IntProgress(value=0, description='Loss: ', max=141, style=ProgressStyle(description_width='init…"
      ]
     },
     "metadata": {},
     "output_type": "display_data"
    },
    {
     "name": "stdout",
     "output_type": "stream",
     "text": [
      "\n",
      "Epoch 35/500, training loss: 1.7393060499894704, validation loss: 1.8370435237884521\n",
      "\t     precision: 0.6257\n",
      "\t        recall: 0.6063\n",
      "\t            F1: 0.5863\n",
      "\t      accuracy: 0.6227\n"
     ]
    },
    {
     "data": {
      "application/vnd.jupyter.widget-view+json": {
       "model_id": "6589a053fdd3491ebc75f1af9794a14a",
       "version_major": 2,
       "version_minor": 0
      },
      "text/plain": [
       "HBox(children=(IntProgress(value=0, description='Loss: ', max=141, style=ProgressStyle(description_width='init…"
      ]
     },
     "metadata": {},
     "output_type": "display_data"
    },
    {
     "name": "stdout",
     "output_type": "stream",
     "text": [
      "\n",
      "Epoch 36/500, training loss: 1.7313948768250487, validation loss: 1.8469334840774536\n",
      "\t     precision: 0.5915\n",
      "\t        recall: 0.5869\n",
      "\t            F1: 0.5551\n",
      "\t      accuracy: 0.6078\n"
     ]
    },
    {
     "data": {
      "application/vnd.jupyter.widget-view+json": {
       "model_id": "ec1dc45201114f61bd815fe15bd0ab4c",
       "version_major": 2,
       "version_minor": 0
      },
      "text/plain": [
       "HBox(children=(IntProgress(value=0, description='Loss: ', max=141, style=ProgressStyle(description_width='init…"
      ]
     },
     "metadata": {},
     "output_type": "display_data"
    },
    {
     "name": "stdout",
     "output_type": "stream",
     "text": [
      "\n",
      "Epoch 37/500, training loss: 1.7250526120476688, validation loss: 1.8931201696395874\n",
      "\t     precision: 0.5419\n",
      "\t        recall: 0.5552\n",
      "\t            F1: 0.5033\n",
      "\t      accuracy: 0.5625\n"
     ]
    },
    {
     "data": {
      "application/vnd.jupyter.widget-view+json": {
       "model_id": "a86805715f9c4ff581156a931890f2f1",
       "version_major": 2,
       "version_minor": 0
      },
      "text/plain": [
       "HBox(children=(IntProgress(value=0, description='Loss: ', max=141, style=ProgressStyle(description_width='init…"
      ]
     },
     "metadata": {},
     "output_type": "display_data"
    },
    {
     "name": "stdout",
     "output_type": "stream",
     "text": [
      "\n",
      "Epoch 38/500, training loss: 1.7198734452538456, validation loss: 1.8327120542526245\n",
      "\t     precision: 0.6290\n",
      "\t        recall: 0.6258\n",
      "\t            F1: 0.5847\n",
      "\t      accuracy: 0.6238\n"
     ]
    },
    {
     "data": {
      "application/vnd.jupyter.widget-view+json": {
       "model_id": "0d999271d24a4e5bb7c5553021ea1ae9",
       "version_major": 2,
       "version_minor": 0
      },
      "text/plain": [
       "HBox(children=(IntProgress(value=0, description='Loss: ', max=141, style=ProgressStyle(description_width='init…"
      ]
     },
     "metadata": {},
     "output_type": "display_data"
    },
    {
     "name": "stdout",
     "output_type": "stream",
     "text": [
      "\n",
      "Epoch 39/500, training loss: 1.7049806523830333, validation loss: 1.813991904258728\n",
      "\t     precision: 0.6219\n",
      "\t        recall: 0.6284\n",
      "\t            F1: 0.5932\n",
      "\t      accuracy: 0.6383\n"
     ]
    },
    {
     "data": {
      "application/vnd.jupyter.widget-view+json": {
       "model_id": "d40679e61a6a46e5b1a5116b2d3b41bb",
       "version_major": 2,
       "version_minor": 0
      },
      "text/plain": [
       "HBox(children=(IntProgress(value=0, description='Loss: ', max=141, style=ProgressStyle(description_width='init…"
      ]
     },
     "metadata": {},
     "output_type": "display_data"
    },
    {
     "name": "stdout",
     "output_type": "stream",
     "text": [
      "\n",
      "Epoch 40/500, training loss: 1.6941168139166867, validation loss: 1.8414552211761475\n",
      "\t     precision: 0.5773\n",
      "\t        recall: 0.5912\n",
      "\t            F1: 0.5485\n",
      "\t      accuracy: 0.6109\n"
     ]
    },
    {
     "data": {
      "application/vnd.jupyter.widget-view+json": {
       "model_id": "c832cc817e96469d93bb0b6471def054",
       "version_major": 2,
       "version_minor": 0
      },
      "text/plain": [
       "HBox(children=(IntProgress(value=0, description='Loss: ', max=141, style=ProgressStyle(description_width='init…"
      ]
     },
     "metadata": {},
     "output_type": "display_data"
    },
    {
     "name": "stdout",
     "output_type": "stream",
     "text": [
      "\n",
      "Epoch 41/500, training loss: 1.687820111606138, validation loss: 1.8525655269622803\n",
      "\t     precision: 0.6333\n",
      "\t        recall: 0.5961\n",
      "\t            F1: 0.5605\n",
      "\t      accuracy: 0.6125\n"
     ]
    },
    {
     "data": {
      "application/vnd.jupyter.widget-view+json": {
       "model_id": "c4af6ad72420430482ee785ac7cd7919",
       "version_major": 2,
       "version_minor": 0
      },
      "text/plain": [
       "HBox(children=(IntProgress(value=0, description='Loss: ', max=141, style=ProgressStyle(description_width='init…"
      ]
     },
     "metadata": {},
     "output_type": "display_data"
    },
    {
     "name": "stdout",
     "output_type": "stream",
     "text": [
      "\n",
      "Epoch 42/500, training loss: 1.6849493819771084, validation loss: 1.8667058944702148\n",
      "\t     precision: 0.6314\n",
      "\t        recall: 0.5913\n",
      "\t            F1: 0.5575\n",
      "\t      accuracy: 0.5926\n"
     ]
    },
    {
     "data": {
      "application/vnd.jupyter.widget-view+json": {
       "model_id": "219dce5e52614ada815d4a9e176530b0",
       "version_major": 2,
       "version_minor": 0
      },
      "text/plain": [
       "HBox(children=(IntProgress(value=0, description='Loss: ', max=141, style=ProgressStyle(description_width='init…"
      ]
     },
     "metadata": {},
     "output_type": "display_data"
    },
    {
     "name": "stdout",
     "output_type": "stream",
     "text": [
      "\n",
      "Epoch 43/500, training loss: 1.6686717474714239, validation loss: 1.8031578063964844\n",
      "\t     precision: 0.6793\n",
      "\t        recall: 0.6785\n",
      "\t            F1: 0.6429\n",
      "\t      accuracy: 0.6605\n"
     ]
    },
    {
     "data": {
      "application/vnd.jupyter.widget-view+json": {
       "model_id": "a1c90c4bc04840cd9b092131e02bc1e2",
       "version_major": 2,
       "version_minor": 0
      },
      "text/plain": [
       "HBox(children=(IntProgress(value=0, description='Loss: ', max=141, style=ProgressStyle(description_width='init…"
      ]
     },
     "metadata": {},
     "output_type": "display_data"
    },
    {
     "name": "stdout",
     "output_type": "stream",
     "text": [
      "\n",
      "Epoch 44/500, training loss: 1.6569251363159072, validation loss: 1.8147560358047485\n",
      "\t     precision: 0.6295\n",
      "\t        recall: 0.6384\n",
      "\t            F1: 0.5950\n",
      "\t      accuracy: 0.6441\n"
     ]
    },
    {
     "data": {
      "application/vnd.jupyter.widget-view+json": {
       "model_id": "7707862efd024b0fa639ae880c2205ba",
       "version_major": 2,
       "version_minor": 0
      },
      "text/plain": [
       "HBox(children=(IntProgress(value=0, description='Loss: ', max=141, style=ProgressStyle(description_width='init…"
      ]
     },
     "metadata": {},
     "output_type": "display_data"
    },
    {
     "name": "stdout",
     "output_type": "stream",
     "text": [
      "\n",
      "Epoch 45/500, training loss: 1.6627205111456256, validation loss: 1.8173822164535522\n",
      "\t     precision: 0.6294\n",
      "\t        recall: 0.6466\n",
      "\t            F1: 0.5935\n",
      "\t      accuracy: 0.6355\n"
     ]
    },
    {
     "data": {
      "application/vnd.jupyter.widget-view+json": {
       "model_id": "5ffe41b245574f8793c748c8a50f11ce",
       "version_major": 2,
       "version_minor": 0
      },
      "text/plain": [
       "HBox(children=(IntProgress(value=0, description='Loss: ', max=141, style=ProgressStyle(description_width='init…"
      ]
     },
     "metadata": {},
     "output_type": "display_data"
    },
    {
     "name": "stdout",
     "output_type": "stream",
     "text": [
      "\n",
      "Epoch 46/500, training loss: 1.6568537443242175, validation loss: 1.8278828859329224\n",
      "\t     precision: 0.6319\n",
      "\t        recall: 0.6403\n",
      "\t            F1: 0.5975\n",
      "\t      accuracy: 0.6316\n"
     ]
    },
    {
     "data": {
      "application/vnd.jupyter.widget-view+json": {
       "model_id": "de35832003b34371a027825a0468c11b",
       "version_major": 2,
       "version_minor": 0
      },
      "text/plain": [
       "HBox(children=(IntProgress(value=0, description='Loss: ', max=141, style=ProgressStyle(description_width='init…"
      ]
     },
     "metadata": {},
     "output_type": "display_data"
    },
    {
     "name": "stdout",
     "output_type": "stream",
     "text": [
      "\n",
      "Epoch 47/500, training loss: 1.6505157482539508, validation loss: 1.7998700141906738\n",
      "\t     precision: 0.6734\n",
      "\t        recall: 0.6777\n",
      "\t            F1: 0.6389\n",
      "\t      accuracy: 0.6648\n"
     ]
    },
    {
     "data": {
      "application/vnd.jupyter.widget-view+json": {
       "model_id": "c20a3be214a545628c4bb9a67726ee9a",
       "version_major": 2,
       "version_minor": 0
      },
      "text/plain": [
       "HBox(children=(IntProgress(value=0, description='Loss: ', max=141, style=ProgressStyle(description_width='init…"
      ]
     },
     "metadata": {},
     "output_type": "display_data"
    },
    {
     "name": "stdout",
     "output_type": "stream",
     "text": [
      "\n",
      "Epoch 48/500, training loss: 1.637573078169045, validation loss: 1.8728200197219849\n",
      "\t     precision: 0.6318\n",
      "\t        recall: 0.5768\n",
      "\t            F1: 0.5515\n",
      "\t      accuracy: 0.5883\n"
     ]
    },
    {
     "data": {
      "application/vnd.jupyter.widget-view+json": {
       "model_id": "18a85082df95406c8cc86630dd85b3db",
       "version_major": 2,
       "version_minor": 0
      },
      "text/plain": [
       "HBox(children=(IntProgress(value=0, description='Loss: ', max=141, style=ProgressStyle(description_width='init…"
      ]
     },
     "metadata": {},
     "output_type": "display_data"
    },
    {
     "name": "stdout",
     "output_type": "stream",
     "text": [
      "\n",
      "Epoch 49/500, training loss: 1.628617971501452, validation loss: 1.8034043312072754\n",
      "\t     precision: 0.6609\n",
      "\t        recall: 0.6340\n",
      "\t            F1: 0.5992\n",
      "\t      accuracy: 0.6523\n"
     ]
    },
    {
     "data": {
      "application/vnd.jupyter.widget-view+json": {
       "model_id": "5333fe7131a845e4a7a3f013ccbb5ddd",
       "version_major": 2,
       "version_minor": 0
      },
      "text/plain": [
       "HBox(children=(IntProgress(value=0, description='Loss: ', max=141, style=ProgressStyle(description_width='init…"
      ]
     },
     "metadata": {},
     "output_type": "display_data"
    },
    {
     "name": "stdout",
     "output_type": "stream",
     "text": [
      "\n",
      "Epoch 50/500, training loss: 1.6311042613171516, validation loss: 1.7832448482513428\n",
      "\t     precision: 0.6793\n",
      "\t        recall: 0.6676\n",
      "\t            F1: 0.6339\n",
      "\t      accuracy: 0.6805\n"
     ]
    },
    {
     "data": {
      "application/vnd.jupyter.widget-view+json": {
       "model_id": "fa08103931b645c4955cd2b8143f28f3",
       "version_major": 2,
       "version_minor": 0
      },
      "text/plain": [
       "HBox(children=(IntProgress(value=0, description='Loss: ', max=141, style=ProgressStyle(description_width='init…"
      ]
     },
     "metadata": {},
     "output_type": "display_data"
    },
    {
     "name": "stdout",
     "output_type": "stream",
     "text": [
      "\n",
      "Epoch 51/500, training loss: 1.6228832293909492, validation loss: 1.7921971082687378\n",
      "\t     precision: 0.6571\n",
      "\t        recall: 0.6476\n",
      "\t            F1: 0.6210\n",
      "\t      accuracy: 0.6676\n"
     ]
    },
    {
     "data": {
      "application/vnd.jupyter.widget-view+json": {
       "model_id": "a073be82d8314c9783d40588832dbe39",
       "version_major": 2,
       "version_minor": 0
      },
      "text/plain": [
       "HBox(children=(IntProgress(value=0, description='Loss: ', max=141, style=ProgressStyle(description_width='init…"
      ]
     },
     "metadata": {},
     "output_type": "display_data"
    },
    {
     "name": "stdout",
     "output_type": "stream",
     "text": [
      "\n",
      "Epoch 52/500, training loss: 1.621506562469699, validation loss: 1.8022271394729614\n",
      "\t     precision: 0.6679\n",
      "\t        recall: 0.6715\n",
      "\t            F1: 0.6274\n",
      "\t      accuracy: 0.6594\n"
     ]
    },
    {
     "data": {
      "application/vnd.jupyter.widget-view+json": {
       "model_id": "dde5a59379fb4ae5af3534bc21f9de89",
       "version_major": 2,
       "version_minor": 0
      },
      "text/plain": [
       "HBox(children=(IntProgress(value=0, description='Loss: ', max=141, style=ProgressStyle(description_width='init…"
      ]
     },
     "metadata": {},
     "output_type": "display_data"
    },
    {
     "name": "stdout",
     "output_type": "stream",
     "text": [
      "\n",
      "Epoch 53/500, training loss: 1.611153469018057, validation loss: 1.7723677158355713\n",
      "\t     precision: 0.6789\n",
      "\t        recall: 0.6717\n",
      "\t            F1: 0.6389\n",
      "\t      accuracy: 0.6824\n"
     ]
    },
    {
     "data": {
      "application/vnd.jupyter.widget-view+json": {
       "model_id": "a399e114cd8f40c1892041551ab03411",
       "version_major": 2,
       "version_minor": 0
      },
      "text/plain": [
       "HBox(children=(IntProgress(value=0, description='Loss: ', max=141, style=ProgressStyle(description_width='init…"
      ]
     },
     "metadata": {},
     "output_type": "display_data"
    },
    {
     "name": "stdout",
     "output_type": "stream",
     "text": [
      "\n",
      "Epoch 54/500, training loss: 1.6074641900705107, validation loss: 1.7686117887496948\n",
      "\t     precision: 0.6685\n",
      "\t        recall: 0.6580\n",
      "\t            F1: 0.6361\n",
      "\t      accuracy: 0.6879\n"
     ]
    },
    {
     "data": {
      "application/vnd.jupyter.widget-view+json": {
       "model_id": "6e5585cd812c46d49c6238430f146917",
       "version_major": 2,
       "version_minor": 0
      },
      "text/plain": [
       "HBox(children=(IntProgress(value=0, description='Loss: ', max=141, style=ProgressStyle(description_width='init…"
      ]
     },
     "metadata": {},
     "output_type": "display_data"
    },
    {
     "name": "stdout",
     "output_type": "stream",
     "text": [
      "\n",
      "Epoch 55/500, training loss: 1.6040593132059624, validation loss: 1.7827435731887817\n",
      "\t     precision: 0.6693\n",
      "\t        recall: 0.6701\n",
      "\t            F1: 0.6354\n",
      "\t      accuracy: 0.6777\n"
     ]
    },
    {
     "data": {
      "application/vnd.jupyter.widget-view+json": {
       "model_id": "4978a1c439e54c83ba6e93578436d7ce",
       "version_major": 2,
       "version_minor": 0
      },
      "text/plain": [
       "HBox(children=(IntProgress(value=0, description='Loss: ', max=141, style=ProgressStyle(description_width='init…"
      ]
     },
     "metadata": {},
     "output_type": "display_data"
    },
    {
     "name": "stdout",
     "output_type": "stream",
     "text": [
      "\n",
      "Epoch 56/500, training loss: 1.599376064665774, validation loss: 1.7836304903030396\n",
      "\t     precision: 0.6486\n",
      "\t        recall: 0.6548\n",
      "\t            F1: 0.6150\n",
      "\t      accuracy: 0.6703\n"
     ]
    },
    {
     "data": {
      "application/vnd.jupyter.widget-view+json": {
       "model_id": "7adc82c7d54d4b688b246f504e036b95",
       "version_major": 2,
       "version_minor": 0
      },
      "text/plain": [
       "HBox(children=(IntProgress(value=0, description='Loss: ', max=141, style=ProgressStyle(description_width='init…"
      ]
     },
     "metadata": {},
     "output_type": "display_data"
    },
    {
     "name": "stdout",
     "output_type": "stream",
     "text": [
      "\n",
      "Epoch 57/500, training loss: 1.5945514516627535, validation loss: 1.792278528213501\n",
      "\t     precision: 0.6701\n",
      "\t        recall: 0.6543\n",
      "\t            F1: 0.6240\n",
      "\t      accuracy: 0.6660\n"
     ]
    },
    {
     "data": {
      "application/vnd.jupyter.widget-view+json": {
       "model_id": "a5da6761ed6c43f9ae3c3c050aeb80b5",
       "version_major": 2,
       "version_minor": 0
      },
      "text/plain": [
       "HBox(children=(IntProgress(value=0, description='Loss: ', max=141, style=ProgressStyle(description_width='init…"
      ]
     },
     "metadata": {},
     "output_type": "display_data"
    },
    {
     "name": "stdout",
     "output_type": "stream",
     "text": [
      "\n",
      "Epoch 58/500, training loss: 1.5797286650813218, validation loss: 1.7585663795471191\n",
      "\t     precision: 0.7194\n",
      "\t        recall: 0.6976\n",
      "\t            F1: 0.6757\n",
      "\t      accuracy: 0.7063\n"
     ]
    },
    {
     "data": {
      "application/vnd.jupyter.widget-view+json": {
       "model_id": "393ff3387f704a2f9f1159cbfa98cb29",
       "version_major": 2,
       "version_minor": 0
      },
      "text/plain": [
       "HBox(children=(IntProgress(value=0, description='Loss: ', max=141, style=ProgressStyle(description_width='init…"
      ]
     },
     "metadata": {},
     "output_type": "display_data"
    },
    {
     "name": "stdout",
     "output_type": "stream",
     "text": [
      "\n",
      "Epoch 59/500, training loss: 1.5898292901668143, validation loss: 1.8151417970657349\n",
      "\t     precision: 0.7014\n",
      "\t        recall: 0.6401\n",
      "\t            F1: 0.6277\n",
      "\t      accuracy: 0.6461\n"
     ]
    },
    {
     "data": {
      "application/vnd.jupyter.widget-view+json": {
       "model_id": "672ff357dd4e47e6b14835d51ff499e7",
       "version_major": 2,
       "version_minor": 0
      },
      "text/plain": [
       "HBox(children=(IntProgress(value=0, description='Loss: ', max=141, style=ProgressStyle(description_width='init…"
      ]
     },
     "metadata": {},
     "output_type": "display_data"
    },
    {
     "name": "stdout",
     "output_type": "stream",
     "text": [
      "\n",
      "Epoch 60/500, training loss: 1.5746428061884346, validation loss: 1.7823779582977295\n",
      "\t     precision: 0.6581\n",
      "\t        recall: 0.6549\n",
      "\t            F1: 0.6263\n",
      "\t      accuracy: 0.6727\n"
     ]
    },
    {
     "data": {
      "application/vnd.jupyter.widget-view+json": {
       "model_id": "d5709bac16c244679b16d2b52fb9f6e7",
       "version_major": 2,
       "version_minor": 0
      },
      "text/plain": [
       "HBox(children=(IntProgress(value=0, description='Loss: ', max=141, style=ProgressStyle(description_width='init…"
      ]
     },
     "metadata": {},
     "output_type": "display_data"
    },
    {
     "name": "stdout",
     "output_type": "stream",
     "text": [
      "\n",
      "Epoch 61/500, training loss: 1.5739578372197793, validation loss: 1.8161813020706177\n",
      "\t     precision: 0.6664\n",
      "\t        recall: 0.6517\n",
      "\t            F1: 0.6225\n",
      "\t      accuracy: 0.6422\n"
     ]
    },
    {
     "data": {
      "application/vnd.jupyter.widget-view+json": {
       "model_id": "227841e0e0874d0fb6831d4ef59e559d",
       "version_major": 2,
       "version_minor": 0
      },
      "text/plain": [
       "HBox(children=(IntProgress(value=0, description='Loss: ', max=141, style=ProgressStyle(description_width='init…"
      ]
     },
     "metadata": {},
     "output_type": "display_data"
    },
    {
     "name": "stdout",
     "output_type": "stream",
     "text": [
      "\n",
      "Epoch 62/500, training loss: 1.5767450848369733, validation loss: 1.802011251449585\n",
      "\t     precision: 0.6389\n",
      "\t        recall: 0.6394\n",
      "\t            F1: 0.6033\n",
      "\t      accuracy: 0.6551\n"
     ]
    },
    {
     "data": {
      "application/vnd.jupyter.widget-view+json": {
       "model_id": "cd68848d4cda42a08e3d0356ffe8eaba",
       "version_major": 2,
       "version_minor": 0
      },
      "text/plain": [
       "HBox(children=(IntProgress(value=0, description='Loss: ', max=141, style=ProgressStyle(description_width='init…"
      ]
     },
     "metadata": {},
     "output_type": "display_data"
    },
    {
     "name": "stdout",
     "output_type": "stream",
     "text": [
      "\n",
      "Epoch 63/500, training loss: 1.573183612620577, validation loss: 1.8421707153320312\n",
      "\t     precision: 0.5857\n",
      "\t        recall: 0.5979\n",
      "\t            F1: 0.5577\n",
      "\t      accuracy: 0.6051\n"
     ]
    },
    {
     "data": {
      "application/vnd.jupyter.widget-view+json": {
       "model_id": "0dca874a690c439694d5a64b6a0b6a3b",
       "version_major": 2,
       "version_minor": 0
      },
      "text/plain": [
       "HBox(children=(IntProgress(value=0, description='Loss: ', max=141, style=ProgressStyle(description_width='init…"
      ]
     },
     "metadata": {},
     "output_type": "display_data"
    },
    {
     "name": "stdout",
     "output_type": "stream",
     "text": [
      "\n",
      "Epoch 64/500, training loss: 1.5692093659799995, validation loss: 1.793469786643982\n",
      "\t     precision: 0.6863\n",
      "\t        recall: 0.6862\n",
      "\t            F1: 0.6450\n",
      "\t      accuracy: 0.6707\n"
     ]
    },
    {
     "data": {
      "application/vnd.jupyter.widget-view+json": {
       "model_id": "08d8eb2233574fcba07a503d1f9eed5c",
       "version_major": 2,
       "version_minor": 0
      },
      "text/plain": [
       "HBox(children=(IntProgress(value=0, description='Loss: ', max=141, style=ProgressStyle(description_width='init…"
      ]
     },
     "metadata": {},
     "output_type": "display_data"
    },
    {
     "name": "stdout",
     "output_type": "stream",
     "text": [
      "\n",
      "Epoch 65/500, training loss: 1.5579686376219946, validation loss: 1.7651716470718384\n",
      "\t     precision: 0.7049\n",
      "\t        recall: 0.6939\n",
      "\t            F1: 0.6683\n",
      "\t      accuracy: 0.6969\n"
     ]
    },
    {
     "data": {
      "application/vnd.jupyter.widget-view+json": {
       "model_id": "afa27fc7f5b84663a5061935a4aa4018",
       "version_major": 2,
       "version_minor": 0
      },
      "text/plain": [
       "HBox(children=(IntProgress(value=0, description='Loss: ', max=141, style=ProgressStyle(description_width='init…"
      ]
     },
     "metadata": {},
     "output_type": "display_data"
    },
    {
     "name": "stdout",
     "output_type": "stream",
     "text": [
      "\n",
      "Epoch 66/500, training loss: 1.5625765492730106, validation loss: 1.760309100151062\n",
      "\t     precision: 0.6966\n",
      "\t        recall: 0.6831\n",
      "\t            F1: 0.6636\n",
      "\t      accuracy: 0.7023\n"
     ]
    },
    {
     "data": {
      "application/vnd.jupyter.widget-view+json": {
       "model_id": "523f777271b34720b043d6945cc9530f",
       "version_major": 2,
       "version_minor": 0
      },
      "text/plain": [
       "HBox(children=(IntProgress(value=0, description='Loss: ', max=141, style=ProgressStyle(description_width='init…"
      ]
     },
     "metadata": {},
     "output_type": "display_data"
    },
    {
     "name": "stdout",
     "output_type": "stream",
     "text": [
      "\n",
      "Epoch 67/500, training loss: 1.54992964166276, validation loss: 1.775072693824768\n",
      "\t     precision: 0.7021\n",
      "\t        recall: 0.6862\n",
      "\t            F1: 0.6568\n",
      "\t      accuracy: 0.6867\n"
     ]
    },
    {
     "data": {
      "application/vnd.jupyter.widget-view+json": {
       "model_id": "d21a804952f94cc689851471e4176610",
       "version_major": 2,
       "version_minor": 0
      },
      "text/plain": [
       "HBox(children=(IntProgress(value=0, description='Loss: ', max=141, style=ProgressStyle(description_width='init…"
      ]
     },
     "metadata": {},
     "output_type": "display_data"
    },
    {
     "name": "stdout",
     "output_type": "stream",
     "text": [
      "\n",
      "Epoch 68/500, training loss: 1.5417212594485452, validation loss: 1.7717533111572266\n",
      "\t     precision: 0.6970\n",
      "\t        recall: 0.6836\n",
      "\t            F1: 0.6533\n",
      "\t      accuracy: 0.6855\n"
     ]
    },
    {
     "data": {
      "application/vnd.jupyter.widget-view+json": {
       "model_id": "a781c9022d544e318b34663721ae3add",
       "version_major": 2,
       "version_minor": 0
      },
      "text/plain": [
       "HBox(children=(IntProgress(value=0, description='Loss: ', max=141, style=ProgressStyle(description_width='init…"
      ]
     },
     "metadata": {},
     "output_type": "display_data"
    },
    {
     "name": "stdout",
     "output_type": "stream",
     "text": [
      "\n",
      "Epoch 69/500, training loss: 1.5423376991393718, validation loss: 1.7831974029541016\n",
      "\t     precision: 0.6867\n",
      "\t        recall: 0.6756\n",
      "\t            F1: 0.6431\n",
      "\t      accuracy: 0.6813\n"
     ]
    },
    {
     "data": {
      "application/vnd.jupyter.widget-view+json": {
       "model_id": "6ebc1f2875fa435fb5aad0942b519467",
       "version_major": 2,
       "version_minor": 0
      },
      "text/plain": [
       "HBox(children=(IntProgress(value=0, description='Loss: ', max=141, style=ProgressStyle(description_width='init…"
      ]
     },
     "metadata": {},
     "output_type": "display_data"
    },
    {
     "name": "stdout",
     "output_type": "stream",
     "text": [
      "\n",
      "Epoch 70/500, training loss: 1.5388063725004806, validation loss: 1.7757824659347534\n",
      "\t     precision: 0.6527\n",
      "\t        recall: 0.6871\n",
      "\t            F1: 0.6358\n",
      "\t      accuracy: 0.6805\n"
     ]
    },
    {
     "data": {
      "application/vnd.jupyter.widget-view+json": {
       "model_id": "d227ef2d5b754342b7e93c2e348bd91c",
       "version_major": 2,
       "version_minor": 0
      },
      "text/plain": [
       "HBox(children=(IntProgress(value=0, description='Loss: ', max=141, style=ProgressStyle(description_width='init…"
      ]
     },
     "metadata": {},
     "output_type": "display_data"
    },
    {
     "name": "stdout",
     "output_type": "stream",
     "text": [
      "\n",
      "Epoch 71/500, training loss: 1.5392277570480997, validation loss: 1.7631076574325562\n",
      "\t     precision: 0.7033\n",
      "\t        recall: 0.6909\n",
      "\t            F1: 0.6649\n",
      "\t      accuracy: 0.6969\n"
     ]
    },
    {
     "data": {
      "application/vnd.jupyter.widget-view+json": {
       "model_id": "6e52677d4a4e4e1f805f1b1fc3811c91",
       "version_major": 2,
       "version_minor": 0
      },
      "text/plain": [
       "HBox(children=(IntProgress(value=0, description='Loss: ', max=141, style=ProgressStyle(description_width='init…"
      ]
     },
     "metadata": {},
     "output_type": "display_data"
    },
    {
     "name": "stdout",
     "output_type": "stream",
     "text": [
      "\n",
      "Epoch 72/500, training loss: 1.5359416405359905, validation loss: 1.7473444938659668\n",
      "\t     precision: 0.6778\n",
      "\t        recall: 0.7031\n",
      "\t            F1: 0.6581\n",
      "\t      accuracy: 0.7043\n"
     ]
    },
    {
     "data": {
      "application/vnd.jupyter.widget-view+json": {
       "model_id": "da01cfab912c4e25a3e63488c918e9ab",
       "version_major": 2,
       "version_minor": 0
      },
      "text/plain": [
       "HBox(children=(IntProgress(value=0, description='Loss: ', max=141, style=ProgressStyle(description_width='init…"
      ]
     },
     "metadata": {},
     "output_type": "display_data"
    },
    {
     "name": "stdout",
     "output_type": "stream",
     "text": [
      "\n",
      "Epoch 73/500, training loss: 1.5287253324021683, validation loss: 1.7555878162384033\n",
      "\t     precision: 0.6842\n",
      "\t        recall: 0.6829\n",
      "\t            F1: 0.6629\n",
      "\t      accuracy: 0.7078\n"
     ]
    },
    {
     "data": {
      "application/vnd.jupyter.widget-view+json": {
       "model_id": "663d91889f2141cebc2fc643b6f592a3",
       "version_major": 2,
       "version_minor": 0
      },
      "text/plain": [
       "HBox(children=(IntProgress(value=0, description='Loss: ', max=141, style=ProgressStyle(description_width='init…"
      ]
     },
     "metadata": {},
     "output_type": "display_data"
    },
    {
     "name": "stdout",
     "output_type": "stream",
     "text": [
      "\n",
      "Epoch 74/500, training loss: 1.5356717642317428, validation loss: 1.8202530145645142\n",
      "\t     precision: 0.6505\n",
      "\t        recall: 0.6237\n",
      "\t            F1: 0.5866\n",
      "\t      accuracy: 0.6391\n"
     ]
    },
    {
     "data": {
      "application/vnd.jupyter.widget-view+json": {
       "model_id": "e393b5388fe14db68eb164e3decdd593",
       "version_major": 2,
       "version_minor": 0
      },
      "text/plain": [
       "HBox(children=(IntProgress(value=0, description='Loss: ', max=141, style=ProgressStyle(description_width='init…"
      ]
     },
     "metadata": {},
     "output_type": "display_data"
    },
    {
     "name": "stdout",
     "output_type": "stream",
     "text": [
      "\n",
      "Epoch 75/500, training loss: 1.525051030706852, validation loss: 1.7572736740112305\n",
      "\t     precision: 0.7036\n",
      "\t        recall: 0.7028\n",
      "\t            F1: 0.6699\n",
      "\t      accuracy: 0.7094\n"
     ]
    },
    {
     "data": {
      "application/vnd.jupyter.widget-view+json": {
       "model_id": "d9fbea6f872045c08de00f1951136705",
       "version_major": 2,
       "version_minor": 0
      },
      "text/plain": [
       "HBox(children=(IntProgress(value=0, description='Loss: ', max=141, style=ProgressStyle(description_width='init…"
      ]
     },
     "metadata": {},
     "output_type": "display_data"
    },
    {
     "name": "stdout",
     "output_type": "stream",
     "text": [
      "\n",
      "Epoch 76/500, training loss: 1.5211772470609517, validation loss: 1.783658504486084\n",
      "\t     precision: 0.6734\n",
      "\t        recall: 0.6732\n",
      "\t            F1: 0.6368\n",
      "\t      accuracy: 0.6813\n"
     ]
    },
    {
     "data": {
      "application/vnd.jupyter.widget-view+json": {
       "model_id": "53c652766f184944bc5bfb4276f94299",
       "version_major": 2,
       "version_minor": 0
      },
      "text/plain": [
       "HBox(children=(IntProgress(value=0, description='Loss: ', max=141, style=ProgressStyle(description_width='init…"
      ]
     },
     "metadata": {},
     "output_type": "display_data"
    },
    {
     "name": "stdout",
     "output_type": "stream",
     "text": [
      "\n",
      "Epoch 77/500, training loss: 1.5260014626996736, validation loss: 1.8304028511047363\n",
      "\t     precision: 0.6276\n",
      "\t        recall: 0.6588\n",
      "\t            F1: 0.5902\n",
      "\t      accuracy: 0.6285\n"
     ]
    },
    {
     "data": {
      "application/vnd.jupyter.widget-view+json": {
       "model_id": "0ea73e48ade24376b40e6bdbf76e5699",
       "version_major": 2,
       "version_minor": 0
      },
      "text/plain": [
       "HBox(children=(IntProgress(value=0, description='Loss: ', max=141, style=ProgressStyle(description_width='init…"
      ]
     },
     "metadata": {},
     "output_type": "display_data"
    },
    {
     "name": "stdout",
     "output_type": "stream",
     "text": [
      "\n",
      "Epoch 78/500, training loss: 1.5244689554187423, validation loss: 1.794116735458374\n",
      "\t     precision: 0.7119\n",
      "\t        recall: 0.6625\n",
      "\t            F1: 0.6501\n",
      "\t      accuracy: 0.6676\n"
     ]
    },
    {
     "data": {
      "application/vnd.jupyter.widget-view+json": {
       "model_id": "1209440e012740f095d205259fb366ca",
       "version_major": 2,
       "version_minor": 0
      },
      "text/plain": [
       "HBox(children=(IntProgress(value=0, description='Loss: ', max=141, style=ProgressStyle(description_width='init…"
      ]
     },
     "metadata": {},
     "output_type": "display_data"
    },
    {
     "name": "stdout",
     "output_type": "stream",
     "text": [
      "\n",
      "Epoch 79/500, training loss: 1.5216035859804626, validation loss: 1.7569291591644287\n",
      "\t     precision: 0.7092\n",
      "\t        recall: 0.7030\n",
      "\t            F1: 0.6715\n",
      "\t      accuracy: 0.7012\n"
     ]
    },
    {
     "data": {
      "application/vnd.jupyter.widget-view+json": {
       "model_id": "b7775a9eefca426ba36bcc69013bb7e4",
       "version_major": 2,
       "version_minor": 0
      },
      "text/plain": [
       "HBox(children=(IntProgress(value=0, description='Loss: ', max=141, style=ProgressStyle(description_width='init…"
      ]
     },
     "metadata": {},
     "output_type": "display_data"
    },
    {
     "name": "stdout",
     "output_type": "stream",
     "text": [
      "\n",
      "Epoch 80/500, training loss: 1.5251286224270544, validation loss: 1.7756073474884033\n",
      "\t     precision: 0.6819\n",
      "\t        recall: 0.6627\n",
      "\t            F1: 0.6352\n",
      "\t      accuracy: 0.6828\n"
     ]
    },
    {
     "data": {
      "application/vnd.jupyter.widget-view+json": {
       "model_id": "62dfe8d2253c483f8f0800a8e015283b",
       "version_major": 2,
       "version_minor": 0
      },
      "text/plain": [
       "HBox(children=(IntProgress(value=0, description='Loss: ', max=141, style=ProgressStyle(description_width='init…"
      ]
     },
     "metadata": {},
     "output_type": "display_data"
    },
    {
     "name": "stdout",
     "output_type": "stream",
     "text": [
      "\n",
      "Epoch 81/500, training loss: 1.5163685328571508, validation loss: 1.7413389682769775\n",
      "\t     precision: 0.7090\n",
      "\t        recall: 0.6984\n",
      "\t            F1: 0.6726\n",
      "\t      accuracy: 0.7168\n"
     ]
    },
    {
     "data": {
      "application/vnd.jupyter.widget-view+json": {
       "model_id": "c6151b46773848f9986166709208bc1c",
       "version_major": 2,
       "version_minor": 0
      },
      "text/plain": [
       "HBox(children=(IntProgress(value=0, description='Loss: ', max=141, style=ProgressStyle(description_width='init…"
      ]
     },
     "metadata": {},
     "output_type": "display_data"
    },
    {
     "name": "stdout",
     "output_type": "stream",
     "text": [
      "\n",
      "Epoch 82/500, training loss: 1.5138198796738969, validation loss: 1.782357096672058\n",
      "\t     precision: 0.6935\n",
      "\t        recall: 0.6763\n",
      "\t            F1: 0.6426\n",
      "\t      accuracy: 0.6805\n"
     ]
    },
    {
     "data": {
      "application/vnd.jupyter.widget-view+json": {
       "model_id": "08b1285ba22149cb8b15f58db5c57bb3",
       "version_major": 2,
       "version_minor": 0
      },
      "text/plain": [
       "HBox(children=(IntProgress(value=0, description='Loss: ', max=141, style=ProgressStyle(description_width='init…"
      ]
     },
     "metadata": {},
     "output_type": "display_data"
    },
    {
     "name": "stdout",
     "output_type": "stream",
     "text": [
      "\n",
      "Epoch 83/500, training loss: 1.5190827525253836, validation loss: 1.7520256042480469\n",
      "\t     precision: 0.7109\n",
      "\t        recall: 0.7059\n",
      "\t            F1: 0.6724\n",
      "\t      accuracy: 0.7090\n"
     ]
    },
    {
     "data": {
      "application/vnd.jupyter.widget-view+json": {
       "model_id": "6ff40485ebd54e2fbc85a08beac118bb",
       "version_major": 2,
       "version_minor": 0
      },
      "text/plain": [
       "HBox(children=(IntProgress(value=0, description='Loss: ', max=141, style=ProgressStyle(description_width='init…"
      ]
     },
     "metadata": {},
     "output_type": "display_data"
    },
    {
     "name": "stdout",
     "output_type": "stream",
     "text": [
      "\n",
      "Epoch 84/500, training loss: 1.5076083316870614, validation loss: 1.774265170097351\n",
      "\t     precision: 0.6881\n",
      "\t        recall: 0.6874\n",
      "\t            F1: 0.6557\n",
      "\t      accuracy: 0.6785\n"
     ]
    },
    {
     "data": {
      "application/vnd.jupyter.widget-view+json": {
       "model_id": "63298a90c45445d3a7aa55f56e6f52e4",
       "version_major": 2,
       "version_minor": 0
      },
      "text/plain": [
       "HBox(children=(IntProgress(value=0, description='Loss: ', max=141, style=ProgressStyle(description_width='init…"
      ]
     },
     "metadata": {},
     "output_type": "display_data"
    },
    {
     "name": "stdout",
     "output_type": "stream",
     "text": [
      "\n",
      "Epoch 85/500, training loss: 1.510445624378556, validation loss: 1.7788841724395752\n",
      "\t     precision: 0.6718\n",
      "\t        recall: 0.6942\n",
      "\t            F1: 0.6411\n",
      "\t      accuracy: 0.6836\n"
     ]
    },
    {
     "data": {
      "application/vnd.jupyter.widget-view+json": {
       "model_id": "68426554449f463089b057a0afebc713",
       "version_major": 2,
       "version_minor": 0
      },
      "text/plain": [
       "HBox(children=(IntProgress(value=0, description='Loss: ', max=141, style=ProgressStyle(description_width='init…"
      ]
     },
     "metadata": {},
     "output_type": "display_data"
    },
    {
     "name": "stdout",
     "output_type": "stream",
     "text": [
      "\n",
      "Epoch 86/500, training loss: 1.5046762819831252, validation loss: 1.7851035594940186\n",
      "\t     precision: 0.6395\n",
      "\t        recall: 0.6521\n",
      "\t            F1: 0.6073\n",
      "\t      accuracy: 0.6684\n"
     ]
    },
    {
     "data": {
      "application/vnd.jupyter.widget-view+json": {
       "model_id": "9f852fbb6d8a410f9009c5dbd9a534fb",
       "version_major": 2,
       "version_minor": 0
      },
      "text/plain": [
       "HBox(children=(IntProgress(value=0, description='Loss: ', max=141, style=ProgressStyle(description_width='init…"
      ]
     },
     "metadata": {},
     "output_type": "display_data"
    },
    {
     "name": "stdout",
     "output_type": "stream",
     "text": [
      "\n",
      "Epoch 87/500, training loss: 1.5100147149241563, validation loss: 1.8480699062347412\n",
      "\t     precision: 0.6030\n",
      "\t        recall: 0.6080\n",
      "\t            F1: 0.5584\n",
      "\t      accuracy: 0.6086\n"
     ]
    },
    {
     "data": {
      "application/vnd.jupyter.widget-view+json": {
       "model_id": "ee3b6b442f704318bfff97a1ae525b35",
       "version_major": 2,
       "version_minor": 0
      },
      "text/plain": [
       "HBox(children=(IntProgress(value=0, description='Loss: ', max=141, style=ProgressStyle(description_width='init…"
      ]
     },
     "metadata": {},
     "output_type": "display_data"
    },
    {
     "name": "stdout",
     "output_type": "stream",
     "text": [
      "\n",
      "Epoch 88/500, training loss: 1.5121500728823614, validation loss: 1.7828307151794434\n",
      "\t     precision: 0.6786\n",
      "\t        recall: 0.6666\n",
      "\t            F1: 0.6383\n",
      "\t      accuracy: 0.6773\n"
     ]
    },
    {
     "data": {
      "application/vnd.jupyter.widget-view+json": {
       "model_id": "1b0212827a9245b6ae0109f6da234099",
       "version_major": 2,
       "version_minor": 0
      },
      "text/plain": [
       "HBox(children=(IntProgress(value=0, description='Loss: ', max=141, style=ProgressStyle(description_width='init…"
      ]
     },
     "metadata": {},
     "output_type": "display_data"
    },
    {
     "name": "stdout",
     "output_type": "stream",
     "text": [
      "\n",
      "Epoch 89/500, training loss: 1.5058876707198772, validation loss: 1.7825490236282349\n",
      "\t     precision: 0.6647\n",
      "\t        recall: 0.6595\n",
      "\t            F1: 0.6366\n",
      "\t      accuracy: 0.6684\n"
     ]
    },
    {
     "data": {
      "application/vnd.jupyter.widget-view+json": {
       "model_id": "a443f5ed5f43430da7d2499b75941cbe",
       "version_major": 2,
       "version_minor": 0
      },
      "text/plain": [
       "HBox(children=(IntProgress(value=0, description='Loss: ', max=141, style=ProgressStyle(description_width='init…"
      ]
     },
     "metadata": {},
     "output_type": "display_data"
    },
    {
     "name": "stdout",
     "output_type": "stream",
     "text": [
      "\n",
      "Epoch 90/500, training loss: 1.5041192930640903, validation loss: 1.783857822418213\n",
      "\t     precision: 0.6772\n",
      "\t        recall: 0.6947\n",
      "\t            F1: 0.6453\n",
      "\t      accuracy: 0.6844\n"
     ]
    },
    {
     "data": {
      "application/vnd.jupyter.widget-view+json": {
       "model_id": "b25ffdca36d64f308ab78a93bfe83e41",
       "version_major": 2,
       "version_minor": 0
      },
      "text/plain": [
       "HBox(children=(IntProgress(value=0, description='Loss: ', max=141, style=ProgressStyle(description_width='init…"
      ]
     },
     "metadata": {},
     "output_type": "display_data"
    },
    {
     "name": "stdout",
     "output_type": "stream",
     "text": [
      "\n",
      "Epoch 91/500, training loss: 1.5021313116060082, validation loss: 1.7807236909866333\n",
      "\t     precision: 0.6863\n",
      "\t        recall: 0.6743\n",
      "\t            F1: 0.6471\n",
      "\t      accuracy: 0.6797\n"
     ]
    },
    {
     "data": {
      "application/vnd.jupyter.widget-view+json": {
       "model_id": "28765b14efbf474c97af4b4b4a1b37f9",
       "version_major": 2,
       "version_minor": 0
      },
      "text/plain": [
       "HBox(children=(IntProgress(value=0, description='Loss: ', max=141, style=ProgressStyle(description_width='init…"
      ]
     },
     "metadata": {},
     "output_type": "display_data"
    },
    {
     "name": "stdout",
     "output_type": "stream",
     "text": [
      "\n",
      "Epoch 92/500, training loss: 1.4977095989470786, validation loss: 1.7679219245910645\n",
      "\t     precision: 0.6759\n",
      "\t        recall: 0.6685\n",
      "\t            F1: 0.6423\n",
      "\t      accuracy: 0.6930\n"
     ]
    },
    {
     "data": {
      "application/vnd.jupyter.widget-view+json": {
       "model_id": "6fae4758f58940bb8e44901f96c7bd84",
       "version_major": 2,
       "version_minor": 0
      },
      "text/plain": [
       "HBox(children=(IntProgress(value=0, description='Loss: ', max=141, style=ProgressStyle(description_width='init…"
      ]
     },
     "metadata": {},
     "output_type": "display_data"
    },
    {
     "name": "stdout",
     "output_type": "stream",
     "text": [
      "\n",
      "Epoch 93/500, training loss: 1.4998400211334229, validation loss: 1.7704569101333618\n",
      "\t     precision: 0.6577\n",
      "\t        recall: 0.6762\n",
      "\t            F1: 0.6416\n",
      "\t      accuracy: 0.6867\n"
     ]
    },
    {
     "data": {
      "application/vnd.jupyter.widget-view+json": {
       "model_id": "515a03f8393a4299b06bceaf80c2aa78",
       "version_major": 2,
       "version_minor": 0
      },
      "text/plain": [
       "HBox(children=(IntProgress(value=0, description='Loss: ', max=141, style=ProgressStyle(description_width='init…"
      ]
     },
     "metadata": {},
     "output_type": "display_data"
    },
    {
     "name": "stdout",
     "output_type": "stream",
     "text": [
      "\n",
      "Epoch 94/500, training loss: 1.4946282349579723, validation loss: 1.772629976272583\n",
      "\t     precision: 0.6883\n",
      "\t        recall: 0.6945\n",
      "\t            F1: 0.6586\n",
      "\t      accuracy: 0.6863\n"
     ]
    },
    {
     "data": {
      "application/vnd.jupyter.widget-view+json": {
       "model_id": "ee68e0627d7e460d97a2a75914d47195",
       "version_major": 2,
       "version_minor": 0
      },
      "text/plain": [
       "HBox(children=(IntProgress(value=0, description='Loss: ', max=141, style=ProgressStyle(description_width='init…"
      ]
     },
     "metadata": {},
     "output_type": "display_data"
    },
    {
     "name": "stdout",
     "output_type": "stream",
     "text": [
      "\n",
      "Epoch 95/500, training loss: 1.4955820005836216, validation loss: 1.762405514717102\n",
      "\t     precision: 0.6954\n",
      "\t        recall: 0.7076\n",
      "\t            F1: 0.6744\n",
      "\t      accuracy: 0.7000\n"
     ]
    },
    {
     "data": {
      "application/vnd.jupyter.widget-view+json": {
       "model_id": "3b45c62b114f4ffb82f4b8508774038b",
       "version_major": 2,
       "version_minor": 0
      },
      "text/plain": [
       "HBox(children=(IntProgress(value=0, description='Loss: ', max=141, style=ProgressStyle(description_width='init…"
      ]
     },
     "metadata": {},
     "output_type": "display_data"
    },
    {
     "name": "stdout",
     "output_type": "stream",
     "text": [
      "\n",
      "Epoch 96/500, training loss: 1.4980001415766724, validation loss: 1.755213737487793\n",
      "\t     precision: 0.6944\n",
      "\t        recall: 0.6790\n",
      "\t            F1: 0.6562\n",
      "\t      accuracy: 0.7051\n"
     ]
    },
    {
     "data": {
      "application/vnd.jupyter.widget-view+json": {
       "model_id": "b2b2518f5f854f159bf3edc63c90ca6d",
       "version_major": 2,
       "version_minor": 0
      },
      "text/plain": [
       "HBox(children=(IntProgress(value=0, description='Loss: ', max=141, style=ProgressStyle(description_width='init…"
      ]
     },
     "metadata": {},
     "output_type": "display_data"
    },
    {
     "name": "stdout",
     "output_type": "stream",
     "text": [
      "\n",
      "Epoch 97/500, training loss: 1.4943994757131482, validation loss: 1.7639273405075073\n",
      "\t     precision: 0.6979\n",
      "\t        recall: 0.7039\n",
      "\t            F1: 0.6667\n",
      "\t      accuracy: 0.6961\n"
     ]
    },
    {
     "data": {
      "application/vnd.jupyter.widget-view+json": {
       "model_id": "283b5ffd4fd54641800aaaa6fac305d1",
       "version_major": 2,
       "version_minor": 0
      },
      "text/plain": [
       "HBox(children=(IntProgress(value=0, description='Loss: ', max=141, style=ProgressStyle(description_width='init…"
      ]
     },
     "metadata": {},
     "output_type": "display_data"
    },
    {
     "name": "stdout",
     "output_type": "stream",
     "text": [
      "\n",
      "Epoch 98/500, training loss: 1.498245007602881, validation loss: 1.756947636604309\n",
      "\t     precision: 0.7034\n",
      "\t        recall: 0.6869\n",
      "\t            F1: 0.6648\n",
      "\t      accuracy: 0.6996\n"
     ]
    },
    {
     "data": {
      "application/vnd.jupyter.widget-view+json": {
       "model_id": "4d7cf8eb843545a6bafd492a875de452",
       "version_major": 2,
       "version_minor": 0
      },
      "text/plain": [
       "HBox(children=(IntProgress(value=0, description='Loss: ', max=141, style=ProgressStyle(description_width='init…"
      ]
     },
     "metadata": {},
     "output_type": "display_data"
    },
    {
     "name": "stdout",
     "output_type": "stream",
     "text": [
      "\n",
      "Epoch 99/500, training loss: 1.492694932518276, validation loss: 1.7735786437988281\n",
      "\t     precision: 0.6728\n",
      "\t        recall: 0.6882\n",
      "\t            F1: 0.6422\n",
      "\t      accuracy: 0.6809\n"
     ]
    },
    {
     "data": {
      "application/vnd.jupyter.widget-view+json": {
       "model_id": "f3dba2bb91e14cd4a3c08fea7dfcbdc8",
       "version_major": 2,
       "version_minor": 0
      },
      "text/plain": [
       "HBox(children=(IntProgress(value=0, description='Loss: ', max=141, style=ProgressStyle(description_width='init…"
      ]
     },
     "metadata": {},
     "output_type": "display_data"
    },
    {
     "name": "stdout",
     "output_type": "stream",
     "text": [
      "\n",
      "Epoch 100/500, training loss: 1.4923119578801147, validation loss: 1.7720324993133545\n",
      "\t     precision: 0.6845\n",
      "\t        recall: 0.6826\n",
      "\t            F1: 0.6540\n",
      "\t      accuracy: 0.6863\n"
     ]
    },
    {
     "data": {
      "application/vnd.jupyter.widget-view+json": {
       "model_id": "d5d574f42d4548388a99e40b0bf0840b",
       "version_major": 2,
       "version_minor": 0
      },
      "text/plain": [
       "HBox(children=(IntProgress(value=0, description='Loss: ', max=141, style=ProgressStyle(description_width='init…"
      ]
     },
     "metadata": {},
     "output_type": "display_data"
    },
    {
     "name": "stdout",
     "output_type": "stream",
     "text": [
      "\n",
      "Epoch 101/500, training loss: 1.4913501883229465, validation loss: 1.7784465551376343\n",
      "\t     precision: 0.6936\n",
      "\t        recall: 0.6881\n",
      "\t            F1: 0.6516\n",
      "\t      accuracy: 0.6863\n"
     ]
    },
    {
     "data": {
      "application/vnd.jupyter.widget-view+json": {
       "model_id": "0af0d67e1d90407189916c398a5ca1a1",
       "version_major": 2,
       "version_minor": 0
      },
      "text/plain": [
       "HBox(children=(IntProgress(value=0, description='Loss: ', max=141, style=ProgressStyle(description_width='init…"
      ]
     },
     "metadata": {},
     "output_type": "display_data"
    },
    {
     "name": "stdout",
     "output_type": "stream",
     "text": [
      "\n",
      "Epoch 102/500, training loss: 1.4922300230526755, validation loss: 1.7677489519119263\n",
      "\t     precision: 0.6821\n",
      "\t        recall: 0.6860\n",
      "\t            F1: 0.6545\n",
      "\t      accuracy: 0.6879\n"
     ]
    },
    {
     "data": {
      "application/vnd.jupyter.widget-view+json": {
       "model_id": "a3a1f78e403a447da6a15e1316f76173",
       "version_major": 2,
       "version_minor": 0
      },
      "text/plain": [
       "HBox(children=(IntProgress(value=0, description='Loss: ', max=141, style=ProgressStyle(description_width='init…"
      ]
     },
     "metadata": {},
     "output_type": "display_data"
    },
    {
     "name": "stdout",
     "output_type": "stream",
     "text": [
      "\n",
      "Epoch 103/500, training loss: 1.4876834365493017, validation loss: 1.7655766010284424\n",
      "\t     precision: 0.6570\n",
      "\t        recall: 0.6920\n",
      "\t            F1: 0.6460\n",
      "\t      accuracy: 0.6961\n"
     ]
    },
    {
     "data": {
      "application/vnd.jupyter.widget-view+json": {
       "model_id": "52ab7d24c5a04101bf731558fe141389",
       "version_major": 2,
       "version_minor": 0
      },
      "text/plain": [
       "HBox(children=(IntProgress(value=0, description='Loss: ', max=141, style=ProgressStyle(description_width='init…"
      ]
     },
     "metadata": {},
     "output_type": "display_data"
    },
    {
     "name": "stdout",
     "output_type": "stream",
     "text": [
      "\n",
      "Epoch 104/500, training loss: 1.4862011975430427, validation loss: 1.7680604457855225\n",
      "\t     precision: 0.6991\n",
      "\t        recall: 0.6845\n",
      "\t            F1: 0.6587\n",
      "\t      accuracy: 0.6852\n"
     ]
    },
    {
     "data": {
      "application/vnd.jupyter.widget-view+json": {
       "model_id": "148c3f5a1f1b4b71b0f0ea806e28d866",
       "version_major": 2,
       "version_minor": 0
      },
      "text/plain": [
       "HBox(children=(IntProgress(value=0, description='Loss: ', max=141, style=ProgressStyle(description_width='init…"
      ]
     },
     "metadata": {},
     "output_type": "display_data"
    },
    {
     "name": "stdout",
     "output_type": "stream",
     "text": [
      "\n",
      "Epoch 105/500, training loss: 1.4868155709395172, validation loss: 1.7797071933746338\n",
      "\t     precision: 0.6820\n",
      "\t        recall: 0.6631\n",
      "\t            F1: 0.6393\n",
      "\t      accuracy: 0.6762\n"
     ]
    },
    {
     "data": {
      "application/vnd.jupyter.widget-view+json": {
       "model_id": "b70722cf7a8644809b39cc562dbee5b0",
       "version_major": 2,
       "version_minor": 0
      },
      "text/plain": [
       "HBox(children=(IntProgress(value=0, description='Loss: ', max=141, style=ProgressStyle(description_width='init…"
      ]
     },
     "metadata": {},
     "output_type": "display_data"
    },
    {
     "name": "stdout",
     "output_type": "stream",
     "text": [
      "\n",
      "Epoch 106/500, training loss: 1.4906990553470367, validation loss: 1.7812957763671875\n",
      "\t     precision: 0.7144\n",
      "\t        recall: 0.7099\n",
      "\t            F1: 0.6672\n",
      "\t      accuracy: 0.6770\n"
     ]
    },
    {
     "data": {
      "application/vnd.jupyter.widget-view+json": {
       "model_id": "681d4524345f4dda8ff93642a3933efe",
       "version_major": 2,
       "version_minor": 0
      },
      "text/plain": [
       "HBox(children=(IntProgress(value=0, description='Loss: ', max=141, style=ProgressStyle(description_width='init…"
      ]
     },
     "metadata": {},
     "output_type": "display_data"
    },
    {
     "name": "stdout",
     "output_type": "stream",
     "text": [
      "\n",
      "Epoch 107/500, training loss: 1.4867036367984527, validation loss: 1.770820140838623\n",
      "\t     precision: 0.6854\n",
      "\t        recall: 0.6785\n",
      "\t            F1: 0.6500\n",
      "\t      accuracy: 0.6898\n"
     ]
    },
    {
     "data": {
      "application/vnd.jupyter.widget-view+json": {
       "model_id": "13b3e45debbd40fdb04d777e259535ac",
       "version_major": 2,
       "version_minor": 0
      },
      "text/plain": [
       "HBox(children=(IntProgress(value=0, description='Loss: ', max=141, style=ProgressStyle(description_width='init…"
      ]
     },
     "metadata": {},
     "output_type": "display_data"
    },
    {
     "name": "stdout",
     "output_type": "stream",
     "text": [
      "\n",
      "Epoch 108/500, training loss: 1.4890688742306215, validation loss: 1.7695975303649902\n",
      "\t     precision: 0.6922\n",
      "\t        recall: 0.6756\n",
      "\t            F1: 0.6580\n",
      "\t      accuracy: 0.6883\n"
     ]
    },
    {
     "data": {
      "application/vnd.jupyter.widget-view+json": {
       "model_id": "8f83aaa614204c95ad8db0203964f4b9",
       "version_major": 2,
       "version_minor": 0
      },
      "text/plain": [
       "HBox(children=(IntProgress(value=0, description='Loss: ', max=141, style=ProgressStyle(description_width='init…"
      ]
     },
     "metadata": {},
     "output_type": "display_data"
    },
    {
     "name": "stdout",
     "output_type": "stream",
     "text": [
      "\n",
      "Epoch 109/500, training loss: 1.487523671583081, validation loss: 1.7830893993377686\n",
      "\t     precision: 0.6542\n",
      "\t        recall: 0.6629\n",
      "\t            F1: 0.6263\n",
      "\t      accuracy: 0.6734\n"
     ]
    },
    {
     "data": {
      "application/vnd.jupyter.widget-view+json": {
       "model_id": "ed45540aff29424588b6d7c1a8866cf4",
       "version_major": 2,
       "version_minor": 0
      },
      "text/plain": [
       "HBox(children=(IntProgress(value=0, description='Loss: ', max=141, style=ProgressStyle(description_width='init…"
      ]
     },
     "metadata": {},
     "output_type": "display_data"
    },
    {
     "name": "stdout",
     "output_type": "stream",
     "text": [
      "\n",
      "Epoch 110/500, training loss: 1.4839009790555806, validation loss: 1.7516334056854248\n",
      "\t     precision: 0.6974\n",
      "\t        recall: 0.7111\n",
      "\t            F1: 0.6782\n",
      "\t      accuracy: 0.7109\n"
     ]
    },
    {
     "data": {
      "application/vnd.jupyter.widget-view+json": {
       "model_id": "78dd5efde1d3460e9da3600e00e17d16",
       "version_major": 2,
       "version_minor": 0
      },
      "text/plain": [
       "HBox(children=(IntProgress(value=0, description='Loss: ', max=141, style=ProgressStyle(description_width='init…"
      ]
     },
     "metadata": {},
     "output_type": "display_data"
    },
    {
     "name": "stdout",
     "output_type": "stream",
     "text": [
      "\n",
      "Epoch 111/500, training loss: 1.4831459623702028, validation loss: 1.737709641456604\n",
      "\t     precision: 0.7144\n",
      "\t        recall: 0.7428\n",
      "\t            F1: 0.6994\n",
      "\t      accuracy: 0.7215\n"
     ]
    },
    {
     "data": {
      "application/vnd.jupyter.widget-view+json": {
       "model_id": "8d429cb287544ff080c099ac8ebab8a7",
       "version_major": 2,
       "version_minor": 0
      },
      "text/plain": [
       "HBox(children=(IntProgress(value=0, description='Loss: ', max=141, style=ProgressStyle(description_width='init…"
      ]
     },
     "metadata": {},
     "output_type": "display_data"
    },
    {
     "name": "stdout",
     "output_type": "stream",
     "text": [
      "\n",
      "Epoch 112/500, training loss: 1.4876458839321813, validation loss: 1.76832115650177\n",
      "\t     precision: 0.7038\n",
      "\t        recall: 0.6828\n",
      "\t            F1: 0.6661\n",
      "\t      accuracy: 0.6918\n"
     ]
    },
    {
     "data": {
      "application/vnd.jupyter.widget-view+json": {
       "model_id": "82d53c7832554202b19f59fa8a4fca44",
       "version_major": 2,
       "version_minor": 0
      },
      "text/plain": [
       "HBox(children=(IntProgress(value=0, description='Loss: ', max=141, style=ProgressStyle(description_width='init…"
      ]
     },
     "metadata": {},
     "output_type": "display_data"
    },
    {
     "name": "stdout",
     "output_type": "stream",
     "text": [
      "\n",
      "Epoch 113/500, training loss: 1.4851884334645373, validation loss: 1.787929654121399\n",
      "\t     precision: 0.6607\n",
      "\t        recall: 0.6390\n",
      "\t            F1: 0.6209\n",
      "\t      accuracy: 0.6668\n"
     ]
    },
    {
     "data": {
      "application/vnd.jupyter.widget-view+json": {
       "model_id": "f59c59824e7c4f9fbf6675c4eb1103d6",
       "version_major": 2,
       "version_minor": 0
      },
      "text/plain": [
       "HBox(children=(IntProgress(value=0, description='Loss: ', max=141, style=ProgressStyle(description_width='init…"
      ]
     },
     "metadata": {},
     "output_type": "display_data"
    },
    {
     "name": "stdout",
     "output_type": "stream",
     "text": [
      "\n",
      "Epoch 114/500, training loss: 1.484465994733445, validation loss: 1.7449674606323242\n",
      "\t     precision: 0.7056\n",
      "\t        recall: 0.6832\n",
      "\t            F1: 0.6651\n",
      "\t      accuracy: 0.7129\n"
     ]
    },
    {
     "data": {
      "application/vnd.jupyter.widget-view+json": {
       "model_id": "fae58ad5df8b41f79325ecf8f18bef43",
       "version_major": 2,
       "version_minor": 0
      },
      "text/plain": [
       "HBox(children=(IntProgress(value=0, description='Loss: ', max=141, style=ProgressStyle(description_width='init…"
      ]
     },
     "metadata": {},
     "output_type": "display_data"
    },
    {
     "name": "stdout",
     "output_type": "stream",
     "text": [
      "\n",
      "Epoch 115/500, training loss: 1.4855426566820618, validation loss: 1.7856817245483398\n",
      "\t     precision: 0.6864\n",
      "\t        recall: 0.6665\n",
      "\t            F1: 0.6465\n",
      "\t      accuracy: 0.6719\n"
     ]
    },
    {
     "data": {
      "application/vnd.jupyter.widget-view+json": {
       "model_id": "52bdb6ac57bf4af8a56d84467941a4f9",
       "version_major": 2,
       "version_minor": 0
      },
      "text/plain": [
       "HBox(children=(IntProgress(value=0, description='Loss: ', max=141, style=ProgressStyle(description_width='init…"
      ]
     },
     "metadata": {},
     "output_type": "display_data"
    },
    {
     "name": "stdout",
     "output_type": "stream",
     "text": [
      "\n",
      "Epoch 116/500, training loss: 1.4863425535513155, validation loss: 1.7608212232589722\n",
      "\t     precision: 0.6850\n",
      "\t        recall: 0.7059\n",
      "\t            F1: 0.6626\n",
      "\t      accuracy: 0.7004\n"
     ]
    },
    {
     "data": {
      "application/vnd.jupyter.widget-view+json": {
       "model_id": "8589f3dceeaa40e482a30339527187e6",
       "version_major": 2,
       "version_minor": 0
      },
      "text/plain": [
       "HBox(children=(IntProgress(value=0, description='Loss: ', max=141, style=ProgressStyle(description_width='init…"
      ]
     },
     "metadata": {},
     "output_type": "display_data"
    },
    {
     "name": "stdout",
     "output_type": "stream",
     "text": [
      "\n",
      "Epoch 117/500, training loss: 1.4831077672065573, validation loss: 1.7632825374603271\n",
      "\t     precision: 0.6955\n",
      "\t        recall: 0.6886\n",
      "\t            F1: 0.6645\n",
      "\t      accuracy: 0.6926\n"
     ]
    },
    {
     "data": {
      "application/vnd.jupyter.widget-view+json": {
       "model_id": "b832df4570804e9dac0ce8a96483eef4",
       "version_major": 2,
       "version_minor": 0
      },
      "text/plain": [
       "HBox(children=(IntProgress(value=0, description='Loss: ', max=141, style=ProgressStyle(description_width='init…"
      ]
     },
     "metadata": {},
     "output_type": "display_data"
    },
    {
     "name": "stdout",
     "output_type": "stream",
     "text": [
      "\n",
      "Epoch 118/500, training loss: 1.4840690244174173, validation loss: 1.761557936668396\n",
      "\t     precision: 0.6898\n",
      "\t        recall: 0.6839\n",
      "\t            F1: 0.6579\n",
      "\t      accuracy: 0.6910\n"
     ]
    },
    {
     "data": {
      "application/vnd.jupyter.widget-view+json": {
       "model_id": "7c18936361d242c1bc1baed9309f0e0d",
       "version_major": 2,
       "version_minor": 0
      },
      "text/plain": [
       "HBox(children=(IntProgress(value=0, description='Loss: ', max=141, style=ProgressStyle(description_width='init…"
      ]
     },
     "metadata": {},
     "output_type": "display_data"
    },
    {
     "name": "stdout",
     "output_type": "stream",
     "text": [
      "\n",
      "Epoch 119/500, training loss: 1.4852247880705705, validation loss: 1.761745572090149\n",
      "\t     precision: 0.6994\n",
      "\t        recall: 0.7048\n",
      "\t            F1: 0.6731\n",
      "\t      accuracy: 0.7031\n"
     ]
    },
    {
     "data": {
      "application/vnd.jupyter.widget-view+json": {
       "model_id": "d59a17b697f94cccbdd94c74d16bbabf",
       "version_major": 2,
       "version_minor": 0
      },
      "text/plain": [
       "HBox(children=(IntProgress(value=0, description='Loss: ', max=141, style=ProgressStyle(description_width='init…"
      ]
     },
     "metadata": {},
     "output_type": "display_data"
    },
    {
     "name": "stdout",
     "output_type": "stream",
     "text": [
      "\n",
      "Epoch 120/500, training loss: 1.4821156770625012, validation loss: 1.7502903938293457\n",
      "\t     precision: 0.6896\n",
      "\t        recall: 0.6927\n",
      "\t            F1: 0.6588\n",
      "\t      accuracy: 0.7121\n"
     ]
    },
    {
     "data": {
      "application/vnd.jupyter.widget-view+json": {
       "model_id": "adf1e1e80b3048aaafbee561a01d33b1",
       "version_major": 2,
       "version_minor": 0
      },
      "text/plain": [
       "HBox(children=(IntProgress(value=0, description='Loss: ', max=141, style=ProgressStyle(description_width='init…"
      ]
     },
     "metadata": {},
     "output_type": "display_data"
    },
    {
     "name": "stdout",
     "output_type": "stream",
     "text": [
      "\n",
      "Epoch 121/500, training loss: 1.4820133075646476, validation loss: 1.7704702615737915\n",
      "\t     precision: 0.6662\n",
      "\t        recall: 0.6836\n",
      "\t            F1: 0.6408\n",
      "\t      accuracy: 0.6848\n"
     ]
    },
    {
     "data": {
      "application/vnd.jupyter.widget-view+json": {
       "model_id": "d8f1f4c96c1e49fe8a01bf12dd5f5c07",
       "version_major": 2,
       "version_minor": 0
      },
      "text/plain": [
       "HBox(children=(IntProgress(value=0, description='Loss: ', max=141, style=ProgressStyle(description_width='init…"
      ]
     },
     "metadata": {},
     "output_type": "display_data"
    },
    {
     "name": "stdout",
     "output_type": "stream",
     "text": [
      "\n",
      "Epoch 122/500, training loss: 1.4840165410481445, validation loss: 1.746672511100769\n",
      "\t     precision: 0.6909\n",
      "\t        recall: 0.7099\n",
      "\t            F1: 0.6718\n",
      "\t      accuracy: 0.7164\n"
     ]
    },
    {
     "data": {
      "application/vnd.jupyter.widget-view+json": {
       "model_id": "72c91976b2114949b120eb77ab0a1797",
       "version_major": 2,
       "version_minor": 0
      },
      "text/plain": [
       "HBox(children=(IntProgress(value=0, description='Loss: ', max=141, style=ProgressStyle(description_width='init…"
      ]
     },
     "metadata": {},
     "output_type": "display_data"
    },
    {
     "name": "stdout",
     "output_type": "stream",
     "text": [
      "\n",
      "Epoch 123/500, training loss: 1.483278824927959, validation loss: 1.7865095138549805\n",
      "\t     precision: 0.6801\n",
      "\t        recall: 0.6665\n",
      "\t            F1: 0.6329\n",
      "\t      accuracy: 0.6738\n"
     ]
    },
    {
     "data": {
      "application/vnd.jupyter.widget-view+json": {
       "model_id": "be02a75e551e44e7a97c1ab334278ff5",
       "version_major": 2,
       "version_minor": 0
      },
      "text/plain": [
       "HBox(children=(IntProgress(value=0, description='Loss: ', max=141, style=ProgressStyle(description_width='init…"
      ]
     },
     "metadata": {},
     "output_type": "display_data"
    },
    {
     "name": "stdout",
     "output_type": "stream",
     "text": [
      "\n",
      "Epoch 124/500, training loss: 1.4818028828776475, validation loss: 1.7585135698318481\n",
      "\t     precision: 0.6948\n",
      "\t        recall: 0.7061\n",
      "\t            F1: 0.6662\n",
      "\t      accuracy: 0.7055\n"
     ]
    },
    {
     "data": {
      "application/vnd.jupyter.widget-view+json": {
       "model_id": "8b6e22b52b824b0180f78aef0935e823",
       "version_major": 2,
       "version_minor": 0
      },
      "text/plain": [
       "HBox(children=(IntProgress(value=0, description='Loss: ', max=141, style=ProgressStyle(description_width='init…"
      ]
     },
     "metadata": {},
     "output_type": "display_data"
    },
    {
     "name": "stdout",
     "output_type": "stream",
     "text": [
      "\n",
      "Epoch 125/500, training loss: 1.4840016990688676, validation loss: 1.7606397867202759\n",
      "\t     precision: 0.6892\n",
      "\t        recall: 0.7036\n",
      "\t            F1: 0.6696\n",
      "\t      accuracy: 0.6984\n"
     ]
    },
    {
     "data": {
      "application/vnd.jupyter.widget-view+json": {
       "model_id": "e0a6647bd3dd408f81c0551403de45d9",
       "version_major": 2,
       "version_minor": 0
      },
      "text/plain": [
       "HBox(children=(IntProgress(value=0, description='Loss: ', max=141, style=ProgressStyle(description_width='init…"
      ]
     },
     "metadata": {},
     "output_type": "display_data"
    },
    {
     "name": "stdout",
     "output_type": "stream",
     "text": [
      "\n",
      "Epoch 126/500, training loss: 1.4853042567029913, validation loss: 1.7505303621292114\n",
      "\t     precision: 0.6932\n",
      "\t        recall: 0.7072\n",
      "\t            F1: 0.6741\n",
      "\t      accuracy: 0.7117\n"
     ]
    },
    {
     "data": {
      "application/vnd.jupyter.widget-view+json": {
       "model_id": "b8ff106d80764c8182cd9c0bc714ff7f",
       "version_major": 2,
       "version_minor": 0
      },
      "text/plain": [
       "HBox(children=(IntProgress(value=0, description='Loss: ', max=141, style=ProgressStyle(description_width='init…"
      ]
     },
     "metadata": {},
     "output_type": "display_data"
    },
    {
     "name": "stdout",
     "output_type": "stream",
     "text": [
      "\n",
      "Epoch 127/500, training loss: 1.4830882802922676, validation loss: 1.7402299642562866\n",
      "\t     precision: 0.7151\n",
      "\t        recall: 0.7212\n",
      "\t            F1: 0.6848\n",
      "\t      accuracy: 0.7188\n"
     ]
    },
    {
     "data": {
      "application/vnd.jupyter.widget-view+json": {
       "model_id": "382a76deed5042e9b9bf4e12ab465733",
       "version_major": 2,
       "version_minor": 0
      },
      "text/plain": [
       "HBox(children=(IntProgress(value=0, description='Loss: ', max=141, style=ProgressStyle(description_width='init…"
      ]
     },
     "metadata": {},
     "output_type": "display_data"
    },
    {
     "name": "stdout",
     "output_type": "stream",
     "text": [
      "\n",
      "Epoch 128/500, training loss: 1.4800052811913456, validation loss: 1.7304431200027466\n",
      "\t     precision: 0.7361\n",
      "\t        recall: 0.7284\n",
      "\t            F1: 0.7047\n",
      "\t      accuracy: 0.7355\n"
     ]
    },
    {
     "data": {
      "application/vnd.jupyter.widget-view+json": {
       "model_id": "4fb0798b9d984e4b9d2774cddc599da5",
       "version_major": 2,
       "version_minor": 0
      },
      "text/plain": [
       "HBox(children=(IntProgress(value=0, description='Loss: ', max=141, style=ProgressStyle(description_width='init…"
      ]
     },
     "metadata": {},
     "output_type": "display_data"
    },
    {
     "name": "stdout",
     "output_type": "stream",
     "text": [
      "\n",
      "Epoch 129/500, training loss: 1.4809084445872205, validation loss: 1.7438623905181885\n",
      "\t     precision: 0.7330\n",
      "\t        recall: 0.7194\n",
      "\t            F1: 0.7025\n",
      "\t      accuracy: 0.7148\n"
     ]
    },
    {
     "data": {
      "application/vnd.jupyter.widget-view+json": {
       "model_id": "d5e019654d9945aba10dab0a5ba2a18e",
       "version_major": 2,
       "version_minor": 0
      },
      "text/plain": [
       "HBox(children=(IntProgress(value=0, description='Loss: ', max=141, style=ProgressStyle(description_width='init…"
      ]
     },
     "metadata": {},
     "output_type": "display_data"
    },
    {
     "name": "stdout",
     "output_type": "stream",
     "text": [
      "\n",
      "Epoch 130/500, training loss: 1.481136383739769, validation loss: 1.7344800233840942\n",
      "\t     precision: 0.7152\n",
      "\t        recall: 0.7367\n",
      "\t            F1: 0.7000\n",
      "\t      accuracy: 0.7289\n"
     ]
    },
    {
     "data": {
      "application/vnd.jupyter.widget-view+json": {
       "model_id": "2f55b1be64934ab4b91e2ea02728ad8a",
       "version_major": 2,
       "version_minor": 0
      },
      "text/plain": [
       "HBox(children=(IntProgress(value=0, description='Loss: ', max=141, style=ProgressStyle(description_width='init…"
      ]
     },
     "metadata": {},
     "output_type": "display_data"
    },
    {
     "name": "stdout",
     "output_type": "stream",
     "text": [
      "\n",
      "Epoch 131/500, training loss: 1.480172764324973, validation loss: 1.7344799041748047\n",
      "\t     precision: 0.7184\n",
      "\t        recall: 0.7130\n",
      "\t            F1: 0.6868\n",
      "\t      accuracy: 0.7258\n"
     ]
    },
    {
     "data": {
      "application/vnd.jupyter.widget-view+json": {
       "model_id": "37c62d22bc104e1dbaefe630fc37fbea",
       "version_major": 2,
       "version_minor": 0
      },
      "text/plain": [
       "HBox(children=(IntProgress(value=0, description='Loss: ', max=141, style=ProgressStyle(description_width='init…"
      ]
     },
     "metadata": {},
     "output_type": "display_data"
    },
    {
     "name": "stdout",
     "output_type": "stream",
     "text": [
      "\n",
      "Epoch 132/500, training loss: 1.478657786727797, validation loss: 1.755348563194275\n",
      "\t     precision: 0.7026\n",
      "\t        recall: 0.7068\n",
      "\t            F1: 0.6702\n",
      "\t      accuracy: 0.7020\n"
     ]
    },
    {
     "data": {
      "application/vnd.jupyter.widget-view+json": {
       "model_id": "94231155917a4deb95bd93264086a6cf",
       "version_major": 2,
       "version_minor": 0
      },
      "text/plain": [
       "HBox(children=(IntProgress(value=0, description='Loss: ', max=141, style=ProgressStyle(description_width='init…"
      ]
     },
     "metadata": {},
     "output_type": "display_data"
    },
    {
     "name": "stdout",
     "output_type": "stream",
     "text": [
      "\n",
      "Epoch 133/500, training loss: 1.4795842906262011, validation loss: 1.7706533670425415\n",
      "\t     precision: 0.6871\n",
      "\t        recall: 0.6792\n",
      "\t            F1: 0.6447\n",
      "\t      accuracy: 0.6852\n"
     ]
    },
    {
     "data": {
      "application/vnd.jupyter.widget-view+json": {
       "model_id": "8933a253fb794f7a98ec905181e76495",
       "version_major": 2,
       "version_minor": 0
      },
      "text/plain": [
       "HBox(children=(IntProgress(value=0, description='Loss: ', max=141, style=ProgressStyle(description_width='init…"
      ]
     },
     "metadata": {},
     "output_type": "display_data"
    },
    {
     "name": "stdout",
     "output_type": "stream",
     "text": [
      "\n",
      "Epoch 134/500, training loss: 1.47908608541421, validation loss: 1.755368947982788\n",
      "\t     precision: 0.6928\n",
      "\t        recall: 0.7040\n",
      "\t            F1: 0.6751\n",
      "\t      accuracy: 0.7059\n"
     ]
    },
    {
     "data": {
      "application/vnd.jupyter.widget-view+json": {
       "model_id": "791b6e4908764d43873937d000184b4e",
       "version_major": 2,
       "version_minor": 0
      },
      "text/plain": [
       "HBox(children=(IntProgress(value=0, description='Loss: ', max=141, style=ProgressStyle(description_width='init…"
      ]
     },
     "metadata": {},
     "output_type": "display_data"
    },
    {
     "name": "stdout",
     "output_type": "stream",
     "text": [
      "\n",
      "Epoch 135/500, training loss: 1.4778556950548862, validation loss: 1.7679436206817627\n",
      "\t     precision: 0.7019\n",
      "\t        recall: 0.6929\n",
      "\t            F1: 0.6693\n",
      "\t      accuracy: 0.6859\n"
     ]
    },
    {
     "data": {
      "application/vnd.jupyter.widget-view+json": {
       "model_id": "87e01a0ac00c4514bafd8f6f4e5f58ec",
       "version_major": 2,
       "version_minor": 0
      },
      "text/plain": [
       "HBox(children=(IntProgress(value=0, description='Loss: ', max=141, style=ProgressStyle(description_width='init…"
      ]
     },
     "metadata": {},
     "output_type": "display_data"
    },
    {
     "name": "stdout",
     "output_type": "stream",
     "text": [
      "\n",
      "Epoch 136/500, training loss: 1.4783049661217007, validation loss: 1.7519899606704712\n",
      "\t     precision: 0.6977\n",
      "\t        recall: 0.6921\n",
      "\t            F1: 0.6691\n",
      "\t      accuracy: 0.7055\n"
     ]
    },
    {
     "data": {
      "application/vnd.jupyter.widget-view+json": {
       "model_id": "c23b5e3307804dbdbbeeb1e94764279e",
       "version_major": 2,
       "version_minor": 0
      },
      "text/plain": [
       "HBox(children=(IntProgress(value=0, description='Loss: ', max=141, style=ProgressStyle(description_width='init…"
      ]
     },
     "metadata": {},
     "output_type": "display_data"
    },
    {
     "name": "stdout",
     "output_type": "stream",
     "text": [
      "\n",
      "Epoch 137/500, training loss: 1.4762238526175209, validation loss: 1.731945514678955\n",
      "\t     precision: 0.7286\n",
      "\t        recall: 0.7166\n",
      "\t            F1: 0.6966\n",
      "\t      accuracy: 0.7285\n"
     ]
    },
    {
     "data": {
      "application/vnd.jupyter.widget-view+json": {
       "model_id": "487c437b87364bcf8e0ad127cbe9f341",
       "version_major": 2,
       "version_minor": 0
      },
      "text/plain": [
       "HBox(children=(IntProgress(value=0, description='Loss: ', max=141, style=ProgressStyle(description_width='init…"
      ]
     },
     "metadata": {},
     "output_type": "display_data"
    },
    {
     "name": "stdout",
     "output_type": "stream",
     "text": [
      "\n",
      "Epoch 138/500, training loss: 1.4789174313240863, validation loss: 1.7290332317352295\n",
      "\t     precision: 0.7183\n",
      "\t        recall: 0.7353\n",
      "\t            F1: 0.7000\n",
      "\t      accuracy: 0.7367\n"
     ]
    },
    {
     "data": {
      "application/vnd.jupyter.widget-view+json": {
       "model_id": "9df6a173bed34db1b8fd0fb4b8dfabdc",
       "version_major": 2,
       "version_minor": 0
      },
      "text/plain": [
       "HBox(children=(IntProgress(value=0, description='Loss: ', max=141, style=ProgressStyle(description_width='init…"
      ]
     },
     "metadata": {},
     "output_type": "display_data"
    },
    {
     "name": "stdout",
     "output_type": "stream",
     "text": [
      "\n",
      "Epoch 139/500, training loss: 1.4775904560765476, validation loss: 1.7086352109909058\n",
      "\t     precision: 0.7246\n",
      "\t        recall: 0.7218\n",
      "\t            F1: 0.6978\n",
      "\t      accuracy: 0.7488\n"
     ]
    },
    {
     "data": {
      "application/vnd.jupyter.widget-view+json": {
       "model_id": "e39a22e0ec6144ab8dbd54711969f519",
       "version_major": 2,
       "version_minor": 0
      },
      "text/plain": [
       "HBox(children=(IntProgress(value=0, description='Loss: ', max=141, style=ProgressStyle(description_width='init…"
      ]
     },
     "metadata": {},
     "output_type": "display_data"
    },
    {
     "name": "stdout",
     "output_type": "stream",
     "text": [
      "\n",
      "Epoch 140/500, training loss: 1.4768180779531492, validation loss: 1.7407042980194092\n",
      "\t     precision: 0.6950\n",
      "\t        recall: 0.6939\n",
      "\t            F1: 0.6646\n",
      "\t      accuracy: 0.7188\n"
     ]
    },
    {
     "data": {
      "application/vnd.jupyter.widget-view+json": {
       "model_id": "7bd87c7af23d469d82e64adb95d1df5c",
       "version_major": 2,
       "version_minor": 0
      },
      "text/plain": [
       "HBox(children=(IntProgress(value=0, description='Loss: ', max=141, style=ProgressStyle(description_width='init…"
      ]
     },
     "metadata": {},
     "output_type": "display_data"
    },
    {
     "name": "stdout",
     "output_type": "stream",
     "text": [
      "\n",
      "Epoch 141/500, training loss: 1.47759861810833, validation loss: 1.7392385005950928\n",
      "\t     precision: 0.7157\n",
      "\t        recall: 0.7196\n",
      "\t            F1: 0.6938\n",
      "\t      accuracy: 0.7215\n"
     ]
    },
    {
     "data": {
      "application/vnd.jupyter.widget-view+json": {
       "model_id": "0af1cc50cda641f2ab6a8590605bc2bf",
       "version_major": 2,
       "version_minor": 0
      },
      "text/plain": [
       "HBox(children=(IntProgress(value=0, description='Loss: ', max=141, style=ProgressStyle(description_width='init…"
      ]
     },
     "metadata": {},
     "output_type": "display_data"
    },
    {
     "name": "stdout",
     "output_type": "stream",
     "text": [
      "\n",
      "Epoch 142/500, training loss: 1.4753872477416452, validation loss: 1.7424856424331665\n",
      "\t     precision: 0.6941\n",
      "\t        recall: 0.7030\n",
      "\t            F1: 0.6703\n",
      "\t      accuracy: 0.7090\n"
     ]
    },
    {
     "data": {
      "application/vnd.jupyter.widget-view+json": {
       "model_id": "850f173bb7784475b8256c9e7dd03024",
       "version_major": 2,
       "version_minor": 0
      },
      "text/plain": [
       "HBox(children=(IntProgress(value=0, description='Loss: ', max=141, style=ProgressStyle(description_width='init…"
      ]
     },
     "metadata": {},
     "output_type": "display_data"
    },
    {
     "name": "stdout",
     "output_type": "stream",
     "text": [
      "\n",
      "Epoch 143/500, training loss: 1.4757982247264674, validation loss: 1.7356936931610107\n",
      "\t     precision: 0.6752\n",
      "\t        recall: 0.6898\n",
      "\t            F1: 0.6551\n",
      "\t      accuracy: 0.7152\n"
     ]
    },
    {
     "data": {
      "application/vnd.jupyter.widget-view+json": {
       "model_id": "543b49f1e0764d9099160682fb423a7a",
       "version_major": 2,
       "version_minor": 0
      },
      "text/plain": [
       "HBox(children=(IntProgress(value=0, description='Loss: ', max=141, style=ProgressStyle(description_width='init…"
      ]
     },
     "metadata": {},
     "output_type": "display_data"
    },
    {
     "name": "stdout",
     "output_type": "stream",
     "text": [
      "\n",
      "Epoch 144/500, training loss: 1.476727640375178, validation loss: 1.7404245138168335\n",
      "\t     precision: 0.7212\n",
      "\t        recall: 0.7168\n",
      "\t            F1: 0.6913\n",
      "\t      accuracy: 0.7258\n"
     ]
    },
    {
     "data": {
      "application/vnd.jupyter.widget-view+json": {
       "model_id": "a0d735f347a94435a887f199ae0e8aa2",
       "version_major": 2,
       "version_minor": 0
      },
      "text/plain": [
       "HBox(children=(IntProgress(value=0, description='Loss: ', max=141, style=ProgressStyle(description_width='init…"
      ]
     },
     "metadata": {},
     "output_type": "display_data"
    },
    {
     "name": "stdout",
     "output_type": "stream",
     "text": [
      "\n",
      "Epoch 145/500, training loss: 1.4775622009385563, validation loss: 1.728163719177246\n",
      "\t     precision: 0.7378\n",
      "\t        recall: 0.7371\n",
      "\t            F1: 0.7159\n",
      "\t      accuracy: 0.7375\n"
     ]
    },
    {
     "data": {
      "application/vnd.jupyter.widget-view+json": {
       "model_id": "b5f74c4757984092bbe24b411fd83f67",
       "version_major": 2,
       "version_minor": 0
      },
      "text/plain": [
       "HBox(children=(IntProgress(value=0, description='Loss: ', max=141, style=ProgressStyle(description_width='init…"
      ]
     },
     "metadata": {},
     "output_type": "display_data"
    },
    {
     "name": "stdout",
     "output_type": "stream",
     "text": [
      "\n",
      "Epoch 146/500, training loss: 1.4768421819024051, validation loss: 1.7399778366088867\n",
      "\t     precision: 0.7165\n",
      "\t        recall: 0.7079\n",
      "\t            F1: 0.6792\n",
      "\t      accuracy: 0.7199\n"
     ]
    },
    {
     "data": {
      "application/vnd.jupyter.widget-view+json": {
       "model_id": "eb6e2714eb984056b498b27039b6251b",
       "version_major": 2,
       "version_minor": 0
      },
      "text/plain": [
       "HBox(children=(IntProgress(value=0, description='Loss: ', max=141, style=ProgressStyle(description_width='init…"
      ]
     },
     "metadata": {},
     "output_type": "display_data"
    },
    {
     "name": "stdout",
     "output_type": "stream",
     "text": [
      "\n",
      "Epoch 147/500, training loss: 1.476550687289407, validation loss: 1.7360905408859253\n",
      "\t     precision: 0.7439\n",
      "\t        recall: 0.7346\n",
      "\t            F1: 0.7052\n",
      "\t      accuracy: 0.7289\n"
     ]
    },
    {
     "data": {
      "application/vnd.jupyter.widget-view+json": {
       "model_id": "8680d02749d14376919cf7b8dea165a5",
       "version_major": 2,
       "version_minor": 0
      },
      "text/plain": [
       "HBox(children=(IntProgress(value=0, description='Loss: ', max=141, style=ProgressStyle(description_width='init…"
      ]
     },
     "metadata": {},
     "output_type": "display_data"
    },
    {
     "name": "stdout",
     "output_type": "stream",
     "text": [
      "\n",
      "Epoch 148/500, training loss: 1.4758121071132362, validation loss: 1.7543584108352661\n",
      "\t     precision: 0.7037\n",
      "\t        recall: 0.6935\n",
      "\t            F1: 0.6744\n",
      "\t      accuracy: 0.7035\n"
     ]
    },
    {
     "data": {
      "application/vnd.jupyter.widget-view+json": {
       "model_id": "99f1fcfb9dec46b6a818f57b4b09169a",
       "version_major": 2,
       "version_minor": 0
      },
      "text/plain": [
       "HBox(children=(IntProgress(value=0, description='Loss: ', max=141, style=ProgressStyle(description_width='init…"
      ]
     },
     "metadata": {},
     "output_type": "display_data"
    },
    {
     "name": "stdout",
     "output_type": "stream",
     "text": [
      "\n",
      "Epoch 149/500, training loss: 1.4758974381372438, validation loss: 1.7492661476135254\n",
      "\t     precision: 0.7129\n",
      "\t        recall: 0.6935\n",
      "\t            F1: 0.6726\n",
      "\t      accuracy: 0.7078\n"
     ]
    },
    {
     "data": {
      "application/vnd.jupyter.widget-view+json": {
       "model_id": "f5d0634dd57541be80a63fc5f31ae53a",
       "version_major": 2,
       "version_minor": 0
      },
      "text/plain": [
       "HBox(children=(IntProgress(value=0, description='Loss: ', max=141, style=ProgressStyle(description_width='init…"
      ]
     },
     "metadata": {},
     "output_type": "display_data"
    },
    {
     "name": "stdout",
     "output_type": "stream",
     "text": [
      "\n",
      "Epoch 150/500, training loss: 1.4753522822197447, validation loss: 1.7591400146484375\n",
      "\t     precision: 0.6738\n",
      "\t        recall: 0.6694\n",
      "\t            F1: 0.6429\n",
      "\t      accuracy: 0.6937\n"
     ]
    },
    {
     "data": {
      "application/vnd.jupyter.widget-view+json": {
       "model_id": "e5a0289b31c84b4b8ebc046eab7b553c",
       "version_major": 2,
       "version_minor": 0
      },
      "text/plain": [
       "HBox(children=(IntProgress(value=0, description='Loss: ', max=141, style=ProgressStyle(description_width='init…"
      ]
     },
     "metadata": {},
     "output_type": "display_data"
    },
    {
     "name": "stdout",
     "output_type": "stream",
     "text": [
      "\n",
      "Epoch 151/500, training loss: 1.4749399508144838, validation loss: 1.7489426136016846\n",
      "\t     precision: 0.7299\n",
      "\t        recall: 0.7161\n",
      "\t            F1: 0.6914\n",
      "\t      accuracy: 0.7117\n"
     ]
    },
    {
     "data": {
      "application/vnd.jupyter.widget-view+json": {
       "model_id": "102f7ee529f1484282d14a5973375497",
       "version_major": 2,
       "version_minor": 0
      },
      "text/plain": [
       "HBox(children=(IntProgress(value=0, description='Loss: ', max=141, style=ProgressStyle(description_width='init…"
      ]
     },
     "metadata": {},
     "output_type": "display_data"
    },
    {
     "name": "stdout",
     "output_type": "stream",
     "text": [
      "\n",
      "Epoch 152/500, training loss: 1.477203274449558, validation loss: 1.759864330291748\n",
      "\t     precision: 0.6947\n",
      "\t        recall: 0.6953\n",
      "\t            F1: 0.6560\n",
      "\t      accuracy: 0.7008\n"
     ]
    },
    {
     "data": {
      "application/vnd.jupyter.widget-view+json": {
       "model_id": "9b9286403f404c90839f627151bd412f",
       "version_major": 2,
       "version_minor": 0
      },
      "text/plain": [
       "HBox(children=(IntProgress(value=0, description='Loss: ', max=141, style=ProgressStyle(description_width='init…"
      ]
     },
     "metadata": {},
     "output_type": "display_data"
    },
    {
     "name": "stdout",
     "output_type": "stream",
     "text": [
      "\n",
      "Epoch 153/500, training loss: 1.475073629237236, validation loss: 1.7480823993682861\n",
      "\t     precision: 0.7092\n",
      "\t        recall: 0.7303\n",
      "\t            F1: 0.6819\n",
      "\t      accuracy: 0.7113\n"
     ]
    },
    {
     "data": {
      "application/vnd.jupyter.widget-view+json": {
       "model_id": "8e7a7d5e95534f22860e482d54d2a544",
       "version_major": 2,
       "version_minor": 0
      },
      "text/plain": [
       "HBox(children=(IntProgress(value=0, description='Loss: ', max=141, style=ProgressStyle(description_width='init…"
      ]
     },
     "metadata": {},
     "output_type": "display_data"
    },
    {
     "name": "stdout",
     "output_type": "stream",
     "text": [
      "\n",
      "Epoch 154/500, training loss: 1.4762048011130475, validation loss: 1.7391318082809448\n",
      "\t     precision: 0.6970\n",
      "\t        recall: 0.6948\n",
      "\t            F1: 0.6699\n",
      "\t      accuracy: 0.7203\n"
     ]
    },
    {
     "data": {
      "application/vnd.jupyter.widget-view+json": {
       "model_id": "48eba5c090fc4bbb891110d92b43cbc8",
       "version_major": 2,
       "version_minor": 0
      },
      "text/plain": [
       "HBox(children=(IntProgress(value=0, description='Loss: ', max=141, style=ProgressStyle(description_width='init…"
      ]
     },
     "metadata": {},
     "output_type": "display_data"
    },
    {
     "name": "stdout",
     "output_type": "stream",
     "text": [
      "\n",
      "Epoch 155/500, training loss: 1.4747835972630385, validation loss: 1.7352880239486694\n",
      "\t     precision: 0.7161\n",
      "\t        recall: 0.7143\n",
      "\t            F1: 0.6947\n",
      "\t      accuracy: 0.7230\n"
     ]
    },
    {
     "data": {
      "application/vnd.jupyter.widget-view+json": {
       "model_id": "696be94992f046f6848892afe8329ad6",
       "version_major": 2,
       "version_minor": 0
      },
      "text/plain": [
       "HBox(children=(IntProgress(value=0, description='Loss: ', max=141, style=ProgressStyle(description_width='init…"
      ]
     },
     "metadata": {},
     "output_type": "display_data"
    },
    {
     "name": "stdout",
     "output_type": "stream",
     "text": [
      "\n",
      "Epoch 156/500, training loss: 1.476115402600444, validation loss: 1.759984016418457\n",
      "\t     precision: 0.6968\n",
      "\t        recall: 0.6986\n",
      "\t            F1: 0.6676\n",
      "\t      accuracy: 0.6961\n"
     ]
    },
    {
     "data": {
      "application/vnd.jupyter.widget-view+json": {
       "model_id": "bd326d59067e42c881eabf73f583415f",
       "version_major": 2,
       "version_minor": 0
      },
      "text/plain": [
       "HBox(children=(IntProgress(value=0, description='Loss: ', max=141, style=ProgressStyle(description_width='init…"
      ]
     },
     "metadata": {},
     "output_type": "display_data"
    },
    {
     "name": "stdout",
     "output_type": "stream",
     "text": [
      "\n",
      "Epoch 157/500, training loss: 1.4755120632496286, validation loss: 1.7353054285049438\n",
      "\t     precision: 0.7162\n",
      "\t        recall: 0.7327\n",
      "\t            F1: 0.6962\n",
      "\t      accuracy: 0.7211\n"
     ]
    },
    {
     "data": {
      "application/vnd.jupyter.widget-view+json": {
       "model_id": "6ee7bf8076a141fa96481ec75261f542",
       "version_major": 2,
       "version_minor": 0
      },
      "text/plain": [
       "HBox(children=(IntProgress(value=0, description='Loss: ', max=141, style=ProgressStyle(description_width='init…"
      ]
     },
     "metadata": {},
     "output_type": "display_data"
    },
    {
     "name": "stdout",
     "output_type": "stream",
     "text": [
      "\n",
      "Epoch 158/500, training loss: 1.4762762979412756, validation loss: 1.7424664497375488\n",
      "\t     precision: 0.6972\n",
      "\t        recall: 0.7066\n",
      "\t            F1: 0.6756\n",
      "\t      accuracy: 0.7164\n"
     ]
    },
    {
     "data": {
      "application/vnd.jupyter.widget-view+json": {
       "model_id": "e60cb14af71646bd8f4af34f6374a4fd",
       "version_major": 2,
       "version_minor": 0
      },
      "text/plain": [
       "HBox(children=(IntProgress(value=0, description='Loss: ', max=141, style=ProgressStyle(description_width='init…"
      ]
     },
     "metadata": {},
     "output_type": "display_data"
    },
    {
     "name": "stdout",
     "output_type": "stream",
     "text": [
      "\n",
      "Epoch 159/500, training loss: 1.4745262260978103, validation loss: 1.732674479484558\n",
      "\t     precision: 0.7402\n",
      "\t        recall: 0.7479\n",
      "\t            F1: 0.7175\n",
      "\t      accuracy: 0.7281\n"
     ]
    },
    {
     "data": {
      "application/vnd.jupyter.widget-view+json": {
       "model_id": "cc7a74eb005047459a45491f38714a00",
       "version_major": 2,
       "version_minor": 0
      },
      "text/plain": [
       "HBox(children=(IntProgress(value=0, description='Loss: ', max=141, style=ProgressStyle(description_width='init…"
      ]
     },
     "metadata": {},
     "output_type": "display_data"
    },
    {
     "name": "stdout",
     "output_type": "stream",
     "text": [
      "\n",
      "Epoch 160/500, training loss: 1.4760637080415766, validation loss: 1.7587740421295166\n",
      "\t     precision: 0.6919\n",
      "\t        recall: 0.6802\n",
      "\t            F1: 0.6581\n",
      "\t      accuracy: 0.6906\n"
     ]
    },
    {
     "data": {
      "application/vnd.jupyter.widget-view+json": {
       "model_id": "6967ea46a84c4b43b7e8da7d5b7e84d0",
       "version_major": 2,
       "version_minor": 0
      },
      "text/plain": [
       "HBox(children=(IntProgress(value=0, description='Loss: ', max=141, style=ProgressStyle(description_width='init…"
      ]
     },
     "metadata": {},
     "output_type": "display_data"
    },
    {
     "name": "stdout",
     "output_type": "stream",
     "text": [
      "\n",
      "Epoch 161/500, training loss: 1.47538722998707, validation loss: 1.738191843032837\n",
      "\t     precision: 0.6844\n",
      "\t        recall: 0.6818\n",
      "\t            F1: 0.6572\n",
      "\t      accuracy: 0.7258\n"
     ]
    },
    {
     "data": {
      "application/vnd.jupyter.widget-view+json": {
       "model_id": "711deb38f66541cfac89030683772ba3",
       "version_major": 2,
       "version_minor": 0
      },
      "text/plain": [
       "HBox(children=(IntProgress(value=0, description='Loss: ', max=141, style=ProgressStyle(description_width='init…"
      ]
     },
     "metadata": {},
     "output_type": "display_data"
    },
    {
     "name": "stdout",
     "output_type": "stream",
     "text": [
      "\n",
      "Epoch 162/500, training loss: 1.4756226801703163, validation loss: 1.7425780296325684\n",
      "\t     precision: 0.7011\n",
      "\t        recall: 0.7111\n",
      "\t            F1: 0.6821\n",
      "\t      accuracy: 0.7180\n"
     ]
    },
    {
     "data": {
      "application/vnd.jupyter.widget-view+json": {
       "model_id": "77059a5c067545aa9a32159d29a03978",
       "version_major": 2,
       "version_minor": 0
      },
      "text/plain": [
       "HBox(children=(IntProgress(value=0, description='Loss: ', max=141, style=ProgressStyle(description_width='init…"
      ]
     },
     "metadata": {},
     "output_type": "display_data"
    },
    {
     "name": "stdout",
     "output_type": "stream",
     "text": [
      "\n",
      "Epoch 163/500, training loss: 1.47745776937363, validation loss: 1.7348921298980713\n",
      "\t     precision: 0.7146\n",
      "\t        recall: 0.7182\n",
      "\t            F1: 0.6917\n",
      "\t      accuracy: 0.7270\n"
     ]
    },
    {
     "data": {
      "application/vnd.jupyter.widget-view+json": {
       "model_id": "3b52682851e548bf94e77f098fdffafe",
       "version_major": 2,
       "version_minor": 0
      },
      "text/plain": [
       "HBox(children=(IntProgress(value=0, description='Loss: ', max=141, style=ProgressStyle(description_width='init…"
      ]
     },
     "metadata": {},
     "output_type": "display_data"
    },
    {
     "name": "stdout",
     "output_type": "stream",
     "text": [
      "\n",
      "Epoch 164/500, training loss: 1.4760377339437498, validation loss: 1.7403078079223633\n",
      "\t     precision: 0.7279\n",
      "\t        recall: 0.7103\n",
      "\t            F1: 0.6836\n",
      "\t      accuracy: 0.7215\n"
     ]
    },
    {
     "data": {
      "application/vnd.jupyter.widget-view+json": {
       "model_id": "de0b05790f3c4840b1da325e07a1cd3f",
       "version_major": 2,
       "version_minor": 0
      },
      "text/plain": [
       "HBox(children=(IntProgress(value=0, description='Loss: ', max=141, style=ProgressStyle(description_width='init…"
      ]
     },
     "metadata": {},
     "output_type": "display_data"
    },
    {
     "name": "stdout",
     "output_type": "stream",
     "text": [
      "\n",
      "Epoch 165/500, training loss: 1.4752787013425894, validation loss: 1.7312928438186646\n",
      "\t     precision: 0.6936\n",
      "\t        recall: 0.6989\n",
      "\t            F1: 0.6689\n",
      "\t      accuracy: 0.7320\n"
     ]
    },
    {
     "data": {
      "application/vnd.jupyter.widget-view+json": {
       "model_id": "4081035f1e594f10a3bd0d6f2ed4dd04",
       "version_major": 2,
       "version_minor": 0
      },
      "text/plain": [
       "HBox(children=(IntProgress(value=0, description='Loss: ', max=141, style=ProgressStyle(description_width='init…"
      ]
     },
     "metadata": {},
     "output_type": "display_data"
    },
    {
     "name": "stdout",
     "output_type": "stream",
     "text": [
      "\n",
      "Epoch 166/500, training loss: 1.474679393125764, validation loss: 1.7621175050735474\n",
      "\t     precision: 0.7077\n",
      "\t        recall: 0.6852\n",
      "\t            F1: 0.6585\n",
      "\t      accuracy: 0.6906\n"
     ]
    },
    {
     "data": {
      "application/vnd.jupyter.widget-view+json": {
       "model_id": "5233a52648244cc4a26bee0bb665b874",
       "version_major": 2,
       "version_minor": 0
      },
      "text/plain": [
       "HBox(children=(IntProgress(value=0, description='Loss: ', max=141, style=ProgressStyle(description_width='init…"
      ]
     },
     "metadata": {},
     "output_type": "display_data"
    },
    {
     "name": "stdout",
     "output_type": "stream",
     "text": [
      "\n",
      "Epoch 167/500, training loss: 1.4762205730938742, validation loss: 1.7291957139968872\n",
      "\t     precision: 0.7194\n",
      "\t        recall: 0.7152\n",
      "\t            F1: 0.6904\n",
      "\t      accuracy: 0.7309\n"
     ]
    },
    {
     "data": {
      "application/vnd.jupyter.widget-view+json": {
       "model_id": "11377bd1e67f4ab48e4478afb31499ab",
       "version_major": 2,
       "version_minor": 0
      },
      "text/plain": [
       "HBox(children=(IntProgress(value=0, description='Loss: ', max=141, style=ProgressStyle(description_width='init…"
      ]
     },
     "metadata": {},
     "output_type": "display_data"
    },
    {
     "name": "stdout",
     "output_type": "stream",
     "text": [
      "\n",
      "Epoch 168/500, training loss: 1.476566953861967, validation loss: 1.7389538288116455\n",
      "\t     precision: 0.6958\n",
      "\t        recall: 0.7071\n",
      "\t            F1: 0.6759\n",
      "\t      accuracy: 0.7160\n"
     ]
    },
    {
     "data": {
      "application/vnd.jupyter.widget-view+json": {
       "model_id": "5685a5fb6ae943d29b5ca6c8244935c9",
       "version_major": 2,
       "version_minor": 0
      },
      "text/plain": [
       "HBox(children=(IntProgress(value=0, description='Loss: ', max=141, style=ProgressStyle(description_width='init…"
      ]
     },
     "metadata": {},
     "output_type": "display_data"
    },
    {
     "name": "stdout",
     "output_type": "stream",
     "text": [
      "\n",
      "Epoch 169/500, training loss: 1.476713716561067, validation loss: 1.743834137916565\n",
      "\t     precision: 0.7024\n",
      "\t        recall: 0.7008\n",
      "\t            F1: 0.6767\n",
      "\t      accuracy: 0.7195\n"
     ]
    },
    {
     "data": {
      "application/vnd.jupyter.widget-view+json": {
       "model_id": "a61ab6a15d5a4aae975cc55cb35d7090",
       "version_major": 2,
       "version_minor": 0
      },
      "text/plain": [
       "HBox(children=(IntProgress(value=0, description='Loss: ', max=141, style=ProgressStyle(description_width='init…"
      ]
     },
     "metadata": {},
     "output_type": "display_data"
    },
    {
     "name": "stdout",
     "output_type": "stream",
     "text": [
      "\n",
      "Epoch 170/500, training loss: 1.4762365716568968, validation loss: 1.7362743616104126\n",
      "\t     precision: 0.7237\n",
      "\t        recall: 0.7313\n",
      "\t            F1: 0.7009\n",
      "\t      accuracy: 0.7266\n"
     ]
    },
    {
     "data": {
      "application/vnd.jupyter.widget-view+json": {
       "model_id": "5d54a84f37e04f43b18371a0db899132",
       "version_major": 2,
       "version_minor": 0
      },
      "text/plain": [
       "HBox(children=(IntProgress(value=0, description='Loss: ', max=141, style=ProgressStyle(description_width='init…"
      ]
     },
     "metadata": {},
     "output_type": "display_data"
    },
    {
     "name": "stdout",
     "output_type": "stream",
     "text": [
      "\n",
      "Epoch 171/500, training loss: 1.474199297580313, validation loss: 1.7384401559829712\n",
      "\t     precision: 0.7068\n",
      "\t        recall: 0.7112\n",
      "\t            F1: 0.6854\n",
      "\t      accuracy: 0.7211\n"
     ]
    },
    {
     "data": {
      "application/vnd.jupyter.widget-view+json": {
       "model_id": "1467e59a4fcf46ea9564f67206f7bc14",
       "version_major": 2,
       "version_minor": 0
      },
      "text/plain": [
       "HBox(children=(IntProgress(value=0, description='Loss: ', max=141, style=ProgressStyle(description_width='init…"
      ]
     },
     "metadata": {},
     "output_type": "display_data"
    },
    {
     "name": "stdout",
     "output_type": "stream",
     "text": [
      "\n",
      "Epoch 172/500, training loss: 1.4752771499309134, validation loss: 1.745152235031128\n",
      "\t     precision: 0.7196\n",
      "\t        recall: 0.7080\n",
      "\t            F1: 0.6871\n",
      "\t      accuracy: 0.7129\n"
     ]
    },
    {
     "data": {
      "application/vnd.jupyter.widget-view+json": {
       "model_id": "631cd8de2453436cbe07910e2e72476c",
       "version_major": 2,
       "version_minor": 0
      },
      "text/plain": [
       "HBox(children=(IntProgress(value=0, description='Loss: ', max=141, style=ProgressStyle(description_width='init…"
      ]
     },
     "metadata": {},
     "output_type": "display_data"
    },
    {
     "name": "stdout",
     "output_type": "stream",
     "text": [
      "\n",
      "Epoch 173/500, training loss: 1.4746877343942089, validation loss: 1.751319408416748\n",
      "\t     precision: 0.7033\n",
      "\t        recall: 0.6974\n",
      "\t            F1: 0.6749\n",
      "\t      accuracy: 0.7055\n"
     ]
    },
    {
     "data": {
      "application/vnd.jupyter.widget-view+json": {
       "model_id": "722c5113d55e4c0abfff8c1e2a690970",
       "version_major": 2,
       "version_minor": 0
      },
      "text/plain": [
       "HBox(children=(IntProgress(value=0, description='Loss: ', max=141, style=ProgressStyle(description_width='init…"
      ]
     },
     "metadata": {},
     "output_type": "display_data"
    },
    {
     "name": "stdout",
     "output_type": "stream",
     "text": [
      "\n",
      "Epoch 174/500, training loss: 1.475966106915305, validation loss: 1.7575078010559082\n",
      "\t     precision: 0.6938\n",
      "\t        recall: 0.6865\n",
      "\t            F1: 0.6655\n",
      "\t      accuracy: 0.7008\n"
     ]
    },
    {
     "data": {
      "application/vnd.jupyter.widget-view+json": {
       "model_id": "56a9b89ace684302b8c424c2b296b581",
       "version_major": 2,
       "version_minor": 0
      },
      "text/plain": [
       "HBox(children=(IntProgress(value=0, description='Loss: ', max=141, style=ProgressStyle(description_width='init…"
      ]
     },
     "metadata": {},
     "output_type": "display_data"
    },
    {
     "name": "stdout",
     "output_type": "stream",
     "text": [
      "\n",
      "Epoch 175/500, training loss: 1.4746749832275066, validation loss: 1.7421245574951172\n",
      "\t     precision: 0.6925\n",
      "\t        recall: 0.6914\n",
      "\t            F1: 0.6622\n",
      "\t      accuracy: 0.7148\n"
     ]
    },
    {
     "data": {
      "application/vnd.jupyter.widget-view+json": {
       "model_id": "e19dfeac4f1f451eb342a91a3447147c",
       "version_major": 2,
       "version_minor": 0
      },
      "text/plain": [
       "HBox(children=(IntProgress(value=0, description='Loss: ', max=141, style=ProgressStyle(description_width='init…"
      ]
     },
     "metadata": {},
     "output_type": "display_data"
    },
    {
     "name": "stdout",
     "output_type": "stream",
     "text": [
      "\n",
      "Epoch 176/500, training loss: 1.4743668661049918, validation loss: 1.740006923675537\n",
      "\t     precision: 0.7206\n",
      "\t        recall: 0.7037\n",
      "\t            F1: 0.6871\n",
      "\t      accuracy: 0.7215\n"
     ]
    },
    {
     "data": {
      "application/vnd.jupyter.widget-view+json": {
       "model_id": "3f4f1bdaa0de49a483557146e170b639",
       "version_major": 2,
       "version_minor": 0
      },
      "text/plain": [
       "HBox(children=(IntProgress(value=0, description='Loss: ', max=141, style=ProgressStyle(description_width='init…"
      ]
     },
     "metadata": {},
     "output_type": "display_data"
    },
    {
     "name": "stdout",
     "output_type": "stream",
     "text": [
      "\n",
      "Epoch 177/500, training loss: 1.475138891673257, validation loss: 1.7328619956970215\n",
      "\t     precision: 0.7114\n",
      "\t        recall: 0.7140\n",
      "\t            F1: 0.6869\n",
      "\t      accuracy: 0.7262\n"
     ]
    },
    {
     "data": {
      "application/vnd.jupyter.widget-view+json": {
       "model_id": "81b67a7f645b47debaeeec31be2e0345",
       "version_major": 2,
       "version_minor": 0
      },
      "text/plain": [
       "HBox(children=(IntProgress(value=0, description='Loss: ', max=141, style=ProgressStyle(description_width='init…"
      ]
     },
     "metadata": {},
     "output_type": "display_data"
    },
    {
     "name": "stdout",
     "output_type": "stream",
     "text": [
      "\n",
      "Epoch 178/500, training loss: 1.4749194983894944, validation loss: 1.7268882989883423\n",
      "\t     precision: 0.7172\n",
      "\t        recall: 0.7251\n",
      "\t            F1: 0.6959\n",
      "\t      accuracy: 0.7285\n"
     ]
    },
    {
     "data": {
      "application/vnd.jupyter.widget-view+json": {
       "model_id": "d43cc77ab45a435ca492c5d985abb4e3",
       "version_major": 2,
       "version_minor": 0
      },
      "text/plain": [
       "HBox(children=(IntProgress(value=0, description='Loss: ', max=141, style=ProgressStyle(description_width='init…"
      ]
     },
     "metadata": {},
     "output_type": "display_data"
    },
    {
     "name": "stdout",
     "output_type": "stream",
     "text": [
      "\n",
      "Epoch 179/500, training loss: 1.475648041312576, validation loss: 1.7401796579360962\n",
      "\t     precision: 0.7110\n",
      "\t        recall: 0.6992\n",
      "\t            F1: 0.6769\n",
      "\t      accuracy: 0.7172\n"
     ]
    },
    {
     "data": {
      "application/vnd.jupyter.widget-view+json": {
       "model_id": "760b9fb0fe3f445a93dcd5b51d62137c",
       "version_major": 2,
       "version_minor": 0
      },
      "text/plain": [
       "HBox(children=(IntProgress(value=0, description='Loss: ', max=141, style=ProgressStyle(description_width='init…"
      ]
     },
     "metadata": {},
     "output_type": "display_data"
    },
    {
     "name": "stdout",
     "output_type": "stream",
     "text": [
      "\n",
      "Epoch 180/500, training loss: 1.4766238192294507, validation loss: 1.7421144247055054\n",
      "\t     precision: 0.7031\n",
      "\t        recall: 0.7013\n",
      "\t            F1: 0.6807\n",
      "\t      accuracy: 0.7168\n"
     ]
    },
    {
     "data": {
      "application/vnd.jupyter.widget-view+json": {
       "model_id": "9d4101645b1747d2aee847a165bff0ae",
       "version_major": 2,
       "version_minor": 0
      },
      "text/plain": [
       "HBox(children=(IntProgress(value=0, description='Loss: ', max=141, style=ProgressStyle(description_width='init…"
      ]
     },
     "metadata": {},
     "output_type": "display_data"
    },
    {
     "name": "stdout",
     "output_type": "stream",
     "text": [
      "\n",
      "Epoch 181/500, training loss: 1.474954401347654, validation loss: 1.7397321462631226\n",
      "\t     precision: 0.7060\n",
      "\t        recall: 0.7244\n",
      "\t            F1: 0.6878\n",
      "\t      accuracy: 0.7191\n"
     ]
    },
    {
     "data": {
      "application/vnd.jupyter.widget-view+json": {
       "model_id": "6d859374c98a4fbbab225665e9f17800",
       "version_major": 2,
       "version_minor": 0
      },
      "text/plain": [
       "HBox(children=(IntProgress(value=0, description='Loss: ', max=141, style=ProgressStyle(description_width='init…"
      ]
     },
     "metadata": {},
     "output_type": "display_data"
    },
    {
     "name": "stdout",
     "output_type": "stream",
     "text": [
      "\n",
      "Epoch 182/500, training loss: 1.4755211654284321, validation loss: 1.7392669916152954\n",
      "\t     precision: 0.7157\n",
      "\t        recall: 0.7335\n",
      "\t            F1: 0.6961\n",
      "\t      accuracy: 0.7219\n"
     ]
    },
    {
     "data": {
      "application/vnd.jupyter.widget-view+json": {
       "model_id": "97ef97dbf6f7496c89e5dff18b1ebdd0",
       "version_major": 2,
       "version_minor": 0
      },
      "text/plain": [
       "HBox(children=(IntProgress(value=0, description='Loss: ', max=141, style=ProgressStyle(description_width='init…"
      ]
     },
     "metadata": {},
     "output_type": "display_data"
    },
    {
     "name": "stdout",
     "output_type": "stream",
     "text": [
      "\n",
      "Epoch 183/500, training loss: 1.4738176274806896, validation loss: 1.7442971467971802\n",
      "\t     precision: 0.7373\n",
      "\t        recall: 0.7099\n",
      "\t            F1: 0.6964\n",
      "\t      accuracy: 0.7230\n"
     ]
    },
    {
     "data": {
      "application/vnd.jupyter.widget-view+json": {
       "model_id": "aa1d78bab88248188620196750c45cf6",
       "version_major": 2,
       "version_minor": 0
      },
      "text/plain": [
       "HBox(children=(IntProgress(value=0, description='Loss: ', max=141, style=ProgressStyle(description_width='init…"
      ]
     },
     "metadata": {},
     "output_type": "display_data"
    },
    {
     "name": "stdout",
     "output_type": "stream",
     "text": [
      "\n",
      "Epoch 184/500, training loss: 1.4749589406006725, validation loss: 1.7574183940887451\n",
      "\t     precision: 0.6848\n",
      "\t        recall: 0.6586\n",
      "\t            F1: 0.6439\n",
      "\t      accuracy: 0.7031\n"
     ]
    },
    {
     "data": {
      "application/vnd.jupyter.widget-view+json": {
       "model_id": "eb2411cc0b194d8b842996471f64bd72",
       "version_major": 2,
       "version_minor": 0
      },
      "text/plain": [
       "HBox(children=(IntProgress(value=0, description='Loss: ', max=141, style=ProgressStyle(description_width='init…"
      ]
     },
     "metadata": {},
     "output_type": "display_data"
    },
    {
     "name": "stdout",
     "output_type": "stream",
     "text": [
      "\n",
      "Epoch 185/500, training loss: 1.4746946645966659, validation loss: 1.7394987344741821\n",
      "\t     precision: 0.7244\n",
      "\t        recall: 0.6983\n",
      "\t            F1: 0.6885\n",
      "\t      accuracy: 0.7219\n"
     ]
    },
    {
     "data": {
      "application/vnd.jupyter.widget-view+json": {
       "model_id": "59d2541e499248c29237a20771b74c28",
       "version_major": 2,
       "version_minor": 0
      },
      "text/plain": [
       "HBox(children=(IntProgress(value=0, description='Loss: ', max=141, style=ProgressStyle(description_width='init…"
      ]
     },
     "metadata": {},
     "output_type": "display_data"
    },
    {
     "name": "stdout",
     "output_type": "stream",
     "text": [
      "\n",
      "Epoch 186/500, training loss: 1.4748936375827655, validation loss: 1.7453665733337402\n",
      "\t     precision: 0.7076\n",
      "\t        recall: 0.6959\n",
      "\t            F1: 0.6771\n",
      "\t      accuracy: 0.7066\n"
     ]
    },
    {
     "data": {
      "application/vnd.jupyter.widget-view+json": {
       "model_id": "bd888e3729e2404ab8b63ddd0905bf43",
       "version_major": 2,
       "version_minor": 0
      },
      "text/plain": [
       "HBox(children=(IntProgress(value=0, description='Loss: ', max=141, style=ProgressStyle(description_width='init…"
      ]
     },
     "metadata": {},
     "output_type": "display_data"
    },
    {
     "name": "stdout",
     "output_type": "stream",
     "text": [
      "\n",
      "Epoch 187/500, training loss: 1.4754424128972046, validation loss: 1.726326823234558\n",
      "\t     precision: 0.7459\n",
      "\t        recall: 0.7487\n",
      "\t            F1: 0.7192\n",
      "\t      accuracy: 0.7398\n"
     ]
    },
    {
     "data": {
      "application/vnd.jupyter.widget-view+json": {
       "model_id": "cdb7b7e8a5a1441d883f5aa54192d91a",
       "version_major": 2,
       "version_minor": 0
      },
      "text/plain": [
       "HBox(children=(IntProgress(value=0, description='Loss: ', max=141, style=ProgressStyle(description_width='init…"
      ]
     },
     "metadata": {},
     "output_type": "display_data"
    },
    {
     "name": "stdout",
     "output_type": "stream",
     "text": [
      "\n",
      "Epoch 188/500, training loss: 1.4741039098577295, validation loss: 1.733602523803711\n",
      "\t     precision: 0.7433\n",
      "\t        recall: 0.7322\n",
      "\t            F1: 0.7127\n",
      "\t      accuracy: 0.7262\n"
     ]
    },
    {
     "data": {
      "application/vnd.jupyter.widget-view+json": {
       "model_id": "1bc9f1b215364fa9b0bebac247131b9a",
       "version_major": 2,
       "version_minor": 0
      },
      "text/plain": [
       "HBox(children=(IntProgress(value=0, description='Loss: ', max=141, style=ProgressStyle(description_width='init…"
      ]
     },
     "metadata": {},
     "output_type": "display_data"
    },
    {
     "name": "stdout",
     "output_type": "stream",
     "text": [
      "\n",
      "Epoch 189/500, training loss: 1.4738191129468012, validation loss: 1.721643328666687\n",
      "\t     precision: 0.7206\n",
      "\t        recall: 0.7001\n",
      "\t            F1: 0.6867\n",
      "\t      accuracy: 0.7383\n"
     ]
    },
    {
     "data": {
      "application/vnd.jupyter.widget-view+json": {
       "model_id": "d32b8c643b3a4962b407b403d67de0bd",
       "version_major": 2,
       "version_minor": 0
      },
      "text/plain": [
       "HBox(children=(IntProgress(value=0, description='Loss: ', max=141, style=ProgressStyle(description_width='init…"
      ]
     },
     "metadata": {},
     "output_type": "display_data"
    },
    {
     "name": "stdout",
     "output_type": "stream",
     "text": [
      "\n",
      "Epoch 190/500, training loss: 1.47418604505823, validation loss: 1.7287132740020752\n",
      "\t     precision: 0.7190\n",
      "\t        recall: 0.7225\n",
      "\t            F1: 0.7003\n",
      "\t      accuracy: 0.7316\n"
     ]
    },
    {
     "data": {
      "application/vnd.jupyter.widget-view+json": {
       "model_id": "ceae659884d24ea0a7b33af7d39ad57a",
       "version_major": 2,
       "version_minor": 0
      },
      "text/plain": [
       "HBox(children=(IntProgress(value=0, description='Loss: ', max=141, style=ProgressStyle(description_width='init…"
      ]
     },
     "metadata": {},
     "output_type": "display_data"
    },
    {
     "name": "stdout",
     "output_type": "stream",
     "text": [
      "\n",
      "Epoch 191/500, training loss: 1.4733323712720938, validation loss: 1.7229723930358887\n",
      "\t     precision: 0.7183\n",
      "\t        recall: 0.7247\n",
      "\t            F1: 0.6962\n",
      "\t      accuracy: 0.7379\n"
     ]
    },
    {
     "data": {
      "application/vnd.jupyter.widget-view+json": {
       "model_id": "8335441397fe41fbb4ee66da1409c02c",
       "version_major": 2,
       "version_minor": 0
      },
      "text/plain": [
       "HBox(children=(IntProgress(value=0, description='Loss: ', max=141, style=ProgressStyle(description_width='init…"
      ]
     },
     "metadata": {},
     "output_type": "display_data"
    },
    {
     "name": "stdout",
     "output_type": "stream",
     "text": [
      "\n",
      "Epoch 192/500, training loss: 1.4735245045195235, validation loss: 1.748993992805481\n",
      "\t     precision: 0.7061\n",
      "\t        recall: 0.7246\n",
      "\t            F1: 0.6877\n",
      "\t      accuracy: 0.7074\n"
     ]
    },
    {
     "data": {
      "application/vnd.jupyter.widget-view+json": {
       "model_id": "bc45083266b34f0caf95cb2d7e68ac64",
       "version_major": 2,
       "version_minor": 0
      },
      "text/plain": [
       "HBox(children=(IntProgress(value=0, description='Loss: ', max=141, style=ProgressStyle(description_width='init…"
      ]
     },
     "metadata": {},
     "output_type": "display_data"
    },
    {
     "name": "stdout",
     "output_type": "stream",
     "text": [
      "\n",
      "Epoch 193/500, training loss: 1.4742233043021344, validation loss: 1.7369632720947266\n",
      "\t     precision: 0.7122\n",
      "\t        recall: 0.6945\n",
      "\t            F1: 0.6773\n",
      "\t      accuracy: 0.7230\n"
     ]
    },
    {
     "data": {
      "application/vnd.jupyter.widget-view+json": {
       "model_id": "05b3b92c86b84addbf71c9d4a332347e",
       "version_major": 2,
       "version_minor": 0
      },
      "text/plain": [
       "HBox(children=(IntProgress(value=0, description='Loss: ', max=141, style=ProgressStyle(description_width='init…"
      ]
     },
     "metadata": {},
     "output_type": "display_data"
    },
    {
     "name": "stdout",
     "output_type": "stream",
     "text": [
      "\n",
      "Epoch 194/500, training loss: 1.4730338137200538, validation loss: 1.7584238052368164\n",
      "\t     precision: 0.6854\n",
      "\t        recall: 0.6948\n",
      "\t            F1: 0.6617\n",
      "\t      accuracy: 0.6992\n"
     ]
    },
    {
     "data": {
      "application/vnd.jupyter.widget-view+json": {
       "model_id": "e35d5c6e620b4e309a45187ce434732b",
       "version_major": 2,
       "version_minor": 0
      },
      "text/plain": [
       "HBox(children=(IntProgress(value=0, description='Loss: ', max=141, style=ProgressStyle(description_width='init…"
      ]
     },
     "metadata": {},
     "output_type": "display_data"
    },
    {
     "name": "stdout",
     "output_type": "stream",
     "text": [
      "\n",
      "Epoch 195/500, training loss: 1.4741639727396323, validation loss: 1.7597012519836426\n",
      "\t     precision: 0.6907\n",
      "\t        recall: 0.6864\n",
      "\t            F1: 0.6562\n",
      "\t      accuracy: 0.6945\n"
     ]
    },
    {
     "data": {
      "application/vnd.jupyter.widget-view+json": {
       "model_id": "0acc778225ae44f8863abb48021f798b",
       "version_major": 2,
       "version_minor": 0
      },
      "text/plain": [
       "HBox(children=(IntProgress(value=0, description='Loss: ', max=141, style=ProgressStyle(description_width='init…"
      ]
     },
     "metadata": {},
     "output_type": "display_data"
    },
    {
     "name": "stdout",
     "output_type": "stream",
     "text": [
      "\n",
      "Epoch 196/500, training loss: 1.474009467354903, validation loss: 1.755990743637085\n",
      "\t     precision: 0.7111\n",
      "\t        recall: 0.7064\n",
      "\t            F1: 0.6772\n",
      "\t      accuracy: 0.7031\n"
     ]
    },
    {
     "data": {
      "application/vnd.jupyter.widget-view+json": {
       "model_id": "8839e1a3d13e41afbf5adf043d4be1a6",
       "version_major": 2,
       "version_minor": 0
      },
      "text/plain": [
       "HBox(children=(IntProgress(value=0, description='Loss: ', max=141, style=ProgressStyle(description_width='init…"
      ]
     },
     "metadata": {},
     "output_type": "display_data"
    },
    {
     "name": "stdout",
     "output_type": "stream",
     "text": [
      "\n",
      "Epoch 197/500, training loss: 1.4732790914833123, validation loss: 1.7385544776916504\n",
      "\t     precision: 0.7023\n",
      "\t        recall: 0.7066\n",
      "\t            F1: 0.6787\n",
      "\t      accuracy: 0.7148\n"
     ]
    },
    {
     "data": {
      "application/vnd.jupyter.widget-view+json": {
       "model_id": "93df3e840b3c437c82321c04be3ca609",
       "version_major": 2,
       "version_minor": 0
      },
      "text/plain": [
       "HBox(children=(IntProgress(value=0, description='Loss: ', max=141, style=ProgressStyle(description_width='init…"
      ]
     },
     "metadata": {},
     "output_type": "display_data"
    },
    {
     "name": "stdout",
     "output_type": "stream",
     "text": [
      "\n",
      "Epoch 198/500, training loss: 1.4734465779987633, validation loss: 1.7318081855773926\n",
      "\t     precision: 0.7143\n",
      "\t        recall: 0.7410\n",
      "\t            F1: 0.7025\n",
      "\t      accuracy: 0.7336\n"
     ]
    },
    {
     "data": {
      "application/vnd.jupyter.widget-view+json": {
       "model_id": "3cd4287cc754470a8bfc13b60271960d",
       "version_major": 2,
       "version_minor": 0
      },
      "text/plain": [
       "HBox(children=(IntProgress(value=0, description='Loss: ', max=141, style=ProgressStyle(description_width='init…"
      ]
     },
     "metadata": {},
     "output_type": "display_data"
    },
    {
     "name": "stdout",
     "output_type": "stream",
     "text": [
      "\n",
      "Epoch 199/500, training loss: 1.47483059531408, validation loss: 1.7455685138702393\n",
      "\t     precision: 0.7356\n",
      "\t        recall: 0.7175\n",
      "\t            F1: 0.7004\n",
      "\t      accuracy: 0.7180\n"
     ]
    },
    {
     "data": {
      "application/vnd.jupyter.widget-view+json": {
       "model_id": "96eaf5e67954491189bf7174988e6729",
       "version_major": 2,
       "version_minor": 0
      },
      "text/plain": [
       "HBox(children=(IntProgress(value=0, description='Loss: ', max=141, style=ProgressStyle(description_width='init…"
      ]
     },
     "metadata": {},
     "output_type": "display_data"
    },
    {
     "name": "stdout",
     "output_type": "stream",
     "text": [
      "\n",
      "Epoch 200/500, training loss: 1.4738153954769702, validation loss: 1.740687370300293\n",
      "\t     precision: 0.7166\n",
      "\t        recall: 0.7282\n",
      "\t            F1: 0.6974\n",
      "\t      accuracy: 0.7184\n"
     ]
    },
    {
     "data": {
      "application/vnd.jupyter.widget-view+json": {
       "model_id": "debd9532e3a14bc5a7258efee2cee8c9",
       "version_major": 2,
       "version_minor": 0
      },
      "text/plain": [
       "HBox(children=(IntProgress(value=0, description='Loss: ', max=141, style=ProgressStyle(description_width='init…"
      ]
     },
     "metadata": {},
     "output_type": "display_data"
    },
    {
     "name": "stdout",
     "output_type": "stream",
     "text": [
      "\n",
      "Epoch 201/500, training loss: 1.474233607873849, validation loss: 1.7461060285568237\n",
      "\t     precision: 0.7072\n",
      "\t        recall: 0.7273\n",
      "\t            F1: 0.6838\n",
      "\t      accuracy: 0.7098\n"
     ]
    },
    {
     "data": {
      "application/vnd.jupyter.widget-view+json": {
       "model_id": "14a0b477a284472a889cc61c2f48f42d",
       "version_major": 2,
       "version_minor": 0
      },
      "text/plain": [
       "HBox(children=(IntProgress(value=0, description='Loss: ', max=141, style=ProgressStyle(description_width='init…"
      ]
     },
     "metadata": {},
     "output_type": "display_data"
    },
    {
     "name": "stdout",
     "output_type": "stream",
     "text": [
      "\n",
      "Epoch 202/500, training loss: 1.4749019399602363, validation loss: 1.735375165939331\n",
      "\t     precision: 0.7496\n",
      "\t        recall: 0.7267\n",
      "\t            F1: 0.7099\n",
      "\t      accuracy: 0.7262\n"
     ]
    },
    {
     "data": {
      "application/vnd.jupyter.widget-view+json": {
       "model_id": "25ea918701434db9b05d282357274275",
       "version_major": 2,
       "version_minor": 0
      },
      "text/plain": [
       "HBox(children=(IntProgress(value=0, description='Loss: ', max=141, style=ProgressStyle(description_width='init…"
      ]
     },
     "metadata": {},
     "output_type": "display_data"
    },
    {
     "name": "stdout",
     "output_type": "stream",
     "text": [
      "\n",
      "Epoch 203/500, training loss: 1.4749548511302217, validation loss: 1.762091875076294\n",
      "\t     precision: 0.6819\n",
      "\t        recall: 0.6927\n",
      "\t            F1: 0.6547\n",
      "\t      accuracy: 0.6930\n"
     ]
    },
    {
     "data": {
      "application/vnd.jupyter.widget-view+json": {
       "model_id": "b58bbdb01c8f4b948a78f3b3c54d52e2",
       "version_major": 2,
       "version_minor": 0
      },
      "text/plain": [
       "HBox(children=(IntProgress(value=0, description='Loss: ', max=141, style=ProgressStyle(description_width='init…"
      ]
     },
     "metadata": {},
     "output_type": "display_data"
    },
    {
     "name": "stdout",
     "output_type": "stream",
     "text": [
      "\n",
      "Epoch 204/500, training loss: 1.4736861869798485, validation loss: 1.7384588718414307\n",
      "\t     precision: 0.7245\n",
      "\t        recall: 0.7093\n",
      "\t            F1: 0.6889\n",
      "\t      accuracy: 0.7262\n"
     ]
    },
    {
     "data": {
      "application/vnd.jupyter.widget-view+json": {
       "model_id": "c864dc45d12d40aba81cc3def58b1c90",
       "version_major": 2,
       "version_minor": 0
      },
      "text/plain": [
       "HBox(children=(IntProgress(value=0, description='Loss: ', max=141, style=ProgressStyle(description_width='init…"
      ]
     },
     "metadata": {},
     "output_type": "display_data"
    },
    {
     "name": "stdout",
     "output_type": "stream",
     "text": [
      "\n",
      "Epoch 205/500, training loss: 1.4733040155248438, validation loss: 1.746096134185791\n",
      "\t     precision: 0.7190\n",
      "\t        recall: 0.7067\n",
      "\t            F1: 0.6860\n",
      "\t      accuracy: 0.7199\n"
     ]
    },
    {
     "data": {
      "application/vnd.jupyter.widget-view+json": {
       "model_id": "b2596b607ec1470b96def8fb4d5b63bc",
       "version_major": 2,
       "version_minor": 0
      },
      "text/plain": [
       "HBox(children=(IntProgress(value=0, description='Loss: ', max=141, style=ProgressStyle(description_width='init…"
      ]
     },
     "metadata": {},
     "output_type": "display_data"
    },
    {
     "name": "stdout",
     "output_type": "stream",
     "text": [
      "\n",
      "Epoch 206/500, training loss: 1.4740255149543708, validation loss: 1.7468780279159546\n",
      "\t     precision: 0.7050\n",
      "\t        recall: 0.7002\n",
      "\t            F1: 0.6708\n",
      "\t      accuracy: 0.7141\n"
     ]
    },
    {
     "data": {
      "application/vnd.jupyter.widget-view+json": {
       "model_id": "4d85d87736f247e69a047ef365bef18f",
       "version_major": 2,
       "version_minor": 0
      },
      "text/plain": [
       "HBox(children=(IntProgress(value=0, description='Loss: ', max=141, style=ProgressStyle(description_width='init…"
      ]
     },
     "metadata": {},
     "output_type": "display_data"
    },
    {
     "name": "stdout",
     "output_type": "stream",
     "text": [
      "\n",
      "Epoch 207/500, training loss: 1.4735497379979343, validation loss: 1.737307071685791\n",
      "\t     precision: 0.7399\n",
      "\t        recall: 0.7159\n",
      "\t            F1: 0.6950\n",
      "\t      accuracy: 0.7266\n"
     ]
    },
    {
     "data": {
      "application/vnd.jupyter.widget-view+json": {
       "model_id": "9cdd17c6c08c4e23a1d44d252762aa01",
       "version_major": 2,
       "version_minor": 0
      },
      "text/plain": [
       "HBox(children=(IntProgress(value=0, description='Loss: ', max=141, style=ProgressStyle(description_width='init…"
      ]
     },
     "metadata": {},
     "output_type": "display_data"
    },
    {
     "name": "stdout",
     "output_type": "stream",
     "text": [
      "\n",
      "Epoch 208/500, training loss: 1.4744514768005264, validation loss: 1.7674075365066528\n",
      "\t     precision: 0.6857\n",
      "\t        recall: 0.6916\n",
      "\t            F1: 0.6594\n",
      "\t      accuracy: 0.6898\n"
     ]
    },
    {
     "data": {
      "application/vnd.jupyter.widget-view+json": {
       "model_id": "ba012b3312f34527a5307d4a6182b98e",
       "version_major": 2,
       "version_minor": 0
      },
      "text/plain": [
       "HBox(children=(IntProgress(value=0, description='Loss: ', max=141, style=ProgressStyle(description_width='init…"
      ]
     },
     "metadata": {},
     "output_type": "display_data"
    },
    {
     "name": "stdout",
     "output_type": "stream",
     "text": [
      "\n",
      "Epoch 209/500, training loss: 1.473278522491455, validation loss: 1.7458741664886475\n",
      "\t     precision: 0.7215\n",
      "\t        recall: 0.7016\n",
      "\t            F1: 0.6839\n",
      "\t      accuracy: 0.7125\n"
     ]
    },
    {
     "data": {
      "application/vnd.jupyter.widget-view+json": {
       "model_id": "d5ea9c1a90934ecf9d340c2ec6d99eaa",
       "version_major": 2,
       "version_minor": 0
      },
      "text/plain": [
       "HBox(children=(IntProgress(value=0, description='Loss: ', max=141, style=ProgressStyle(description_width='init…"
      ]
     },
     "metadata": {},
     "output_type": "display_data"
    },
    {
     "name": "stdout",
     "output_type": "stream",
     "text": [
      "\n",
      "Epoch 210/500, training loss: 1.472651665937816, validation loss: 1.743439793586731\n",
      "\t     precision: 0.6955\n",
      "\t        recall: 0.7022\n",
      "\t            F1: 0.6706\n",
      "\t      accuracy: 0.7133\n"
     ]
    },
    {
     "data": {
      "application/vnd.jupyter.widget-view+json": {
       "model_id": "c7e4ed5f8b694c529f5ba318bf02ab5d",
       "version_major": 2,
       "version_minor": 0
      },
      "text/plain": [
       "HBox(children=(IntProgress(value=0, description='Loss: ', max=141, style=ProgressStyle(description_width='init…"
      ]
     },
     "metadata": {},
     "output_type": "display_data"
    },
    {
     "name": "stdout",
     "output_type": "stream",
     "text": [
      "\n",
      "Epoch 211/500, training loss: 1.4725159888571882, validation loss: 1.7466318607330322\n",
      "\t     precision: 0.7311\n",
      "\t        recall: 0.7209\n",
      "\t            F1: 0.6998\n",
      "\t      accuracy: 0.7172\n"
     ]
    },
    {
     "data": {
      "application/vnd.jupyter.widget-view+json": {
       "model_id": "7852a9305a4549f9a549279dddd572cf",
       "version_major": 2,
       "version_minor": 0
      },
      "text/plain": [
       "HBox(children=(IntProgress(value=0, description='Loss: ', max=141, style=ProgressStyle(description_width='init…"
      ]
     },
     "metadata": {},
     "output_type": "display_data"
    },
    {
     "name": "stdout",
     "output_type": "stream",
     "text": [
      "\n",
      "Epoch 212/500, training loss: 1.4730472032060014, validation loss: 1.727352499961853\n",
      "\t     precision: 0.7404\n",
      "\t        recall: 0.7361\n",
      "\t            F1: 0.7082\n",
      "\t      accuracy: 0.7363\n"
     ]
    },
    {
     "data": {
      "application/vnd.jupyter.widget-view+json": {
       "model_id": "8e6bd2ee827f483abf528296bf2d8f64",
       "version_major": 2,
       "version_minor": 0
      },
      "text/plain": [
       "HBox(children=(IntProgress(value=0, description='Loss: ', max=141, style=ProgressStyle(description_width='init…"
      ]
     },
     "metadata": {},
     "output_type": "display_data"
    },
    {
     "name": "stdout",
     "output_type": "stream",
     "text": [
      "\n",
      "Epoch 213/500, training loss: 1.4726272626971522, validation loss: 1.728690266609192\n",
      "\t     precision: 0.7354\n",
      "\t        recall: 0.7487\n",
      "\t            F1: 0.7184\n",
      "\t      accuracy: 0.7367\n"
     ]
    },
    {
     "data": {
      "application/vnd.jupyter.widget-view+json": {
       "model_id": "2f67cdaacc0d451db7292eadfd429b7e",
       "version_major": 2,
       "version_minor": 0
      },
      "text/plain": [
       "HBox(children=(IntProgress(value=0, description='Loss: ', max=141, style=ProgressStyle(description_width='init…"
      ]
     },
     "metadata": {},
     "output_type": "display_data"
    },
    {
     "name": "stdout",
     "output_type": "stream",
     "text": [
      "\n",
      "Epoch 214/500, training loss: 1.4725681391168148, validation loss: 1.760001540184021\n",
      "\t     precision: 0.7204\n",
      "\t        recall: 0.7052\n",
      "\t            F1: 0.6818\n",
      "\t      accuracy: 0.7012\n"
     ]
    },
    {
     "data": {
      "application/vnd.jupyter.widget-view+json": {
       "model_id": "763d8ff596f44dc687029d8c25a3bacb",
       "version_major": 2,
       "version_minor": 0
      },
      "text/plain": [
       "HBox(children=(IntProgress(value=0, description='Loss: ', max=141, style=ProgressStyle(description_width='init…"
      ]
     },
     "metadata": {},
     "output_type": "display_data"
    },
    {
     "name": "stdout",
     "output_type": "stream",
     "text": [
      "\n",
      "Epoch 215/500, training loss: 1.4724189719409808, validation loss: 1.758510708808899\n",
      "\t     precision: 0.6783\n",
      "\t        recall: 0.6776\n",
      "\t            F1: 0.6488\n",
      "\t      accuracy: 0.7031\n"
     ]
    },
    {
     "data": {
      "application/vnd.jupyter.widget-view+json": {
       "model_id": "4088a51ce6d641f88dfbffd8b739a6ac",
       "version_major": 2,
       "version_minor": 0
      },
      "text/plain": [
       "HBox(children=(IntProgress(value=0, description='Loss: ', max=141, style=ProgressStyle(description_width='init…"
      ]
     },
     "metadata": {},
     "output_type": "display_data"
    },
    {
     "name": "stdout",
     "output_type": "stream",
     "text": [
      "\n",
      "Epoch 216/500, training loss: 1.4726497856437737, validation loss: 1.741889238357544\n",
      "\t     precision: 0.7306\n",
      "\t        recall: 0.7188\n",
      "\t            F1: 0.6912\n",
      "\t      accuracy: 0.7148\n"
     ]
    },
    {
     "data": {
      "application/vnd.jupyter.widget-view+json": {
       "model_id": "b1dff62e1364494385700d1a679c144b",
       "version_major": 2,
       "version_minor": 0
      },
      "text/plain": [
       "HBox(children=(IntProgress(value=0, description='Loss: ', max=141, style=ProgressStyle(description_width='init…"
      ]
     },
     "metadata": {},
     "output_type": "display_data"
    },
    {
     "name": "stdout",
     "output_type": "stream",
     "text": [
      "\n",
      "Epoch 217/500, training loss: 1.4715774651114821, validation loss: 1.729457139968872\n",
      "\t     precision: 0.6979\n",
      "\t        recall: 0.6971\n",
      "\t            F1: 0.6785\n",
      "\t      accuracy: 0.7258\n"
     ]
    },
    {
     "data": {
      "application/vnd.jupyter.widget-view+json": {
       "model_id": "312f5e5692bc435b9a7df2a9165a4c85",
       "version_major": 2,
       "version_minor": 0
      },
      "text/plain": [
       "HBox(children=(IntProgress(value=0, description='Loss: ', max=141, style=ProgressStyle(description_width='init…"
      ]
     },
     "metadata": {},
     "output_type": "display_data"
    },
    {
     "name": "stdout",
     "output_type": "stream",
     "text": [
      "\n",
      "Epoch 218/500, training loss: 1.471895180695446, validation loss: 1.7230546474456787\n",
      "\t     precision: 0.7553\n",
      "\t        recall: 0.7575\n",
      "\t            F1: 0.7262\n",
      "\t      accuracy: 0.7441\n"
     ]
    },
    {
     "data": {
      "application/vnd.jupyter.widget-view+json": {
       "model_id": "47153d1074e242efa03df3fc8268bdd2",
       "version_major": 2,
       "version_minor": 0
      },
      "text/plain": [
       "HBox(children=(IntProgress(value=0, description='Loss: ', max=141, style=ProgressStyle(description_width='init…"
      ]
     },
     "metadata": {},
     "output_type": "display_data"
    },
    {
     "name": "stdout",
     "output_type": "stream",
     "text": [
      "\n",
      "Epoch 219/500, training loss: 1.4715867084814303, validation loss: 1.7203760147094727\n",
      "\t     precision: 0.7649\n",
      "\t        recall: 0.7551\n",
      "\t            F1: 0.7279\n",
      "\t      accuracy: 0.7445\n"
     ]
    },
    {
     "data": {
      "application/vnd.jupyter.widget-view+json": {
       "model_id": "27c5b258a1174a019a9e645648190e12",
       "version_major": 2,
       "version_minor": 0
      },
      "text/plain": [
       "HBox(children=(IntProgress(value=0, description='Loss: ', max=141, style=ProgressStyle(description_width='init…"
      ]
     },
     "metadata": {},
     "output_type": "display_data"
    },
    {
     "name": "stdout",
     "output_type": "stream",
     "text": [
      "\n",
      "Epoch 220/500, training loss: 1.4717552222258656, validation loss: 1.7220982313156128\n",
      "\t     precision: 0.7410\n",
      "\t        recall: 0.7393\n",
      "\t            F1: 0.7116\n",
      "\t      accuracy: 0.7359\n"
     ]
    },
    {
     "data": {
      "application/vnd.jupyter.widget-view+json": {
       "model_id": "18966bf4c4854ef5a38757acac847dc6",
       "version_major": 2,
       "version_minor": 0
      },
      "text/plain": [
       "HBox(children=(IntProgress(value=0, description='Loss: ', max=141, style=ProgressStyle(description_width='init…"
      ]
     },
     "metadata": {},
     "output_type": "display_data"
    },
    {
     "name": "stdout",
     "output_type": "stream",
     "text": [
      "\n",
      "Epoch 221/500, training loss: 1.4726544060605637, validation loss: 1.7402456998825073\n",
      "\t     precision: 0.7221\n",
      "\t        recall: 0.7162\n",
      "\t            F1: 0.6867\n",
      "\t      accuracy: 0.7246\n"
     ]
    },
    {
     "data": {
      "application/vnd.jupyter.widget-view+json": {
       "model_id": "ca07043d429844a8a04947f685eeb35a",
       "version_major": 2,
       "version_minor": 0
      },
      "text/plain": [
       "HBox(children=(IntProgress(value=0, description='Loss: ', max=141, style=ProgressStyle(description_width='init…"
      ]
     },
     "metadata": {},
     "output_type": "display_data"
    },
    {
     "name": "stdout",
     "output_type": "stream",
     "text": [
      "\n",
      "Epoch 222/500, training loss: 1.4732979307783411, validation loss: 1.7351934909820557\n",
      "\t     precision: 0.7143\n",
      "\t        recall: 0.7312\n",
      "\t            F1: 0.6984\n",
      "\t      accuracy: 0.7316\n"
     ]
    },
    {
     "data": {
      "application/vnd.jupyter.widget-view+json": {
       "model_id": "b7e2aa06670e48adb62015b999a576f6",
       "version_major": 2,
       "version_minor": 0
      },
      "text/plain": [
       "HBox(children=(IntProgress(value=0, description='Loss: ', max=141, style=ProgressStyle(description_width='init…"
      ]
     },
     "metadata": {},
     "output_type": "display_data"
    },
    {
     "name": "stdout",
     "output_type": "stream",
     "text": [
      "\n",
      "Epoch 223/500, training loss: 1.4725481677562633, validation loss: 1.7390708923339844\n",
      "\t     precision: 0.7118\n",
      "\t        recall: 0.7113\n",
      "\t            F1: 0.6843\n",
      "\t      accuracy: 0.7199\n"
     ]
    },
    {
     "data": {
      "application/vnd.jupyter.widget-view+json": {
       "model_id": "b15aaf368ae343e7a76c298c9e0f26d3",
       "version_major": 2,
       "version_minor": 0
      },
      "text/plain": [
       "HBox(children=(IntProgress(value=0, description='Loss: ', max=141, style=ProgressStyle(description_width='init…"
      ]
     },
     "metadata": {},
     "output_type": "display_data"
    },
    {
     "name": "stdout",
     "output_type": "stream",
     "text": [
      "\n",
      "Epoch 224/500, training loss: 1.4726367664675342, validation loss: 1.740843415260315\n",
      "\t     precision: 0.7002\n",
      "\t        recall: 0.7066\n",
      "\t            F1: 0.6712\n",
      "\t      accuracy: 0.7207\n"
     ]
    },
    {
     "data": {
      "application/vnd.jupyter.widget-view+json": {
       "model_id": "27e2e4e0303d45f28ee00dd764dc2962",
       "version_major": 2,
       "version_minor": 0
      },
      "text/plain": [
       "HBox(children=(IntProgress(value=0, description='Loss: ', max=141, style=ProgressStyle(description_width='init…"
      ]
     },
     "metadata": {},
     "output_type": "display_data"
    },
    {
     "name": "stdout",
     "output_type": "stream",
     "text": [
      "\n",
      "Epoch 225/500, training loss: 1.4733576343414632, validation loss: 1.737534761428833\n",
      "\t     precision: 0.7356\n",
      "\t        recall: 0.7250\n",
      "\t            F1: 0.7010\n",
      "\t      accuracy: 0.7246\n"
     ]
    },
    {
     "data": {
      "application/vnd.jupyter.widget-view+json": {
       "model_id": "49189f61d8c3434da7ec83302be0594a",
       "version_major": 2,
       "version_minor": 0
      },
      "text/plain": [
       "HBox(children=(IntProgress(value=0, description='Loss: ', max=141, style=ProgressStyle(description_width='init…"
      ]
     },
     "metadata": {},
     "output_type": "display_data"
    },
    {
     "name": "stdout",
     "output_type": "stream",
     "text": [
      "\n",
      "Epoch 226/500, training loss: 1.4722107868668035, validation loss: 1.7252100706100464\n",
      "\t     precision: 0.7291\n",
      "\t        recall: 0.7360\n",
      "\t            F1: 0.7089\n",
      "\t      accuracy: 0.7430\n"
     ]
    },
    {
     "data": {
      "application/vnd.jupyter.widget-view+json": {
       "model_id": "a5346774c116436781b53a6993f52685",
       "version_major": 2,
       "version_minor": 0
      },
      "text/plain": [
       "HBox(children=(IntProgress(value=0, description='Loss: ', max=141, style=ProgressStyle(description_width='init…"
      ]
     },
     "metadata": {},
     "output_type": "display_data"
    },
    {
     "name": "stdout",
     "output_type": "stream",
     "text": [
      "\n",
      "Epoch 227/500, training loss: 1.4720355618930032, validation loss: 1.732744574546814\n",
      "\t     precision: 0.7212\n",
      "\t        recall: 0.7192\n",
      "\t            F1: 0.6897\n",
      "\t      accuracy: 0.7238\n"
     ]
    },
    {
     "data": {
      "application/vnd.jupyter.widget-view+json": {
       "model_id": "fccb838152ef4d448301dda3759799ed",
       "version_major": 2,
       "version_minor": 0
      },
      "text/plain": [
       "HBox(children=(IntProgress(value=0, description='Loss: ', max=141, style=ProgressStyle(description_width='init…"
      ]
     },
     "metadata": {},
     "output_type": "display_data"
    },
    {
     "name": "stdout",
     "output_type": "stream",
     "text": [
      "\n",
      "Epoch 228/500, training loss: 1.4722946062155648, validation loss: 1.7494192123413086\n",
      "\t     precision: 0.7033\n",
      "\t        recall: 0.6777\n",
      "\t            F1: 0.6655\n",
      "\t      accuracy: 0.7121\n"
     ]
    },
    {
     "data": {
      "application/vnd.jupyter.widget-view+json": {
       "model_id": "81feee88f6084484b8e7fd1e8832a8f1",
       "version_major": 2,
       "version_minor": 0
      },
      "text/plain": [
       "HBox(children=(IntProgress(value=0, description='Loss: ', max=141, style=ProgressStyle(description_width='init…"
      ]
     },
     "metadata": {},
     "output_type": "display_data"
    },
    {
     "name": "stdout",
     "output_type": "stream",
     "text": [
      "\n",
      "Epoch 229/500, training loss: 1.473307507257935, validation loss: 1.7416869401931763\n",
      "\t     precision: 0.7338\n",
      "\t        recall: 0.7100\n",
      "\t            F1: 0.6876\n",
      "\t      accuracy: 0.7176\n"
     ]
    },
    {
     "data": {
      "application/vnd.jupyter.widget-view+json": {
       "model_id": "f0c760283a764c84a469892fda097163",
       "version_major": 2,
       "version_minor": 0
      },
      "text/plain": [
       "HBox(children=(IntProgress(value=0, description='Loss: ', max=141, style=ProgressStyle(description_width='init…"
      ]
     },
     "metadata": {},
     "output_type": "display_data"
    },
    {
     "name": "stdout",
     "output_type": "stream",
     "text": [
      "\n",
      "Epoch 230/500, training loss: 1.473023182111429, validation loss: 1.7382560968399048\n",
      "\t     precision: 0.7254\n",
      "\t        recall: 0.7278\n",
      "\t            F1: 0.6966\n",
      "\t      accuracy: 0.7227\n"
     ]
    },
    {
     "data": {
      "application/vnd.jupyter.widget-view+json": {
       "model_id": "97bc202edce34906b06a3694085e6e37",
       "version_major": 2,
       "version_minor": 0
      },
      "text/plain": [
       "HBox(children=(IntProgress(value=0, description='Loss: ', max=141, style=ProgressStyle(description_width='init…"
      ]
     },
     "metadata": {},
     "output_type": "display_data"
    },
    {
     "name": "stdout",
     "output_type": "stream",
     "text": [
      "\n",
      "Epoch 231/500, training loss: 1.472691114067186, validation loss: 1.7415977716445923\n",
      "\t     precision: 0.7194\n",
      "\t        recall: 0.7177\n",
      "\t            F1: 0.6891\n",
      "\t      accuracy: 0.7199\n"
     ]
    },
    {
     "data": {
      "application/vnd.jupyter.widget-view+json": {
       "model_id": "e48c073feb204eca85b8488dc8c8b95d",
       "version_major": 2,
       "version_minor": 0
      },
      "text/plain": [
       "HBox(children=(IntProgress(value=0, description='Loss: ', max=141, style=ProgressStyle(description_width='init…"
      ]
     },
     "metadata": {},
     "output_type": "display_data"
    },
    {
     "name": "stdout",
     "output_type": "stream",
     "text": [
      "\n",
      "Epoch 232/500, training loss: 1.4713537414023217, validation loss: 1.7548952102661133\n",
      "\t     precision: 0.6768\n",
      "\t        recall: 0.6779\n",
      "\t            F1: 0.6486\n",
      "\t      accuracy: 0.7082\n"
     ]
    },
    {
     "data": {
      "application/vnd.jupyter.widget-view+json": {
       "model_id": "7ff60eabd9de46e1a5a609de00a37d41",
       "version_major": 2,
       "version_minor": 0
      },
      "text/plain": [
       "HBox(children=(IntProgress(value=0, description='Loss: ', max=141, style=ProgressStyle(description_width='init…"
      ]
     },
     "metadata": {},
     "output_type": "display_data"
    },
    {
     "name": "stdout",
     "output_type": "stream",
     "text": [
      "\n",
      "Epoch 233/500, training loss: 1.4736274548456179, validation loss: 1.7323194742202759\n",
      "\t     precision: 0.7295\n",
      "\t        recall: 0.7321\n",
      "\t            F1: 0.7068\n",
      "\t      accuracy: 0.7270\n"
     ]
    },
    {
     "data": {
      "application/vnd.jupyter.widget-view+json": {
       "model_id": "8bdc49e457854866859bb75551363630",
       "version_major": 2,
       "version_minor": 0
      },
      "text/plain": [
       "HBox(children=(IntProgress(value=0, description='Loss: ', max=141, style=ProgressStyle(description_width='init…"
      ]
     },
     "metadata": {},
     "output_type": "display_data"
    },
    {
     "name": "stdout",
     "output_type": "stream",
     "text": [
      "\n",
      "Epoch 234/500, training loss: 1.4720136155473424, validation loss: 1.7431429624557495\n",
      "\t     precision: 0.7281\n",
      "\t        recall: 0.7213\n",
      "\t            F1: 0.6977\n",
      "\t      accuracy: 0.7176\n"
     ]
    },
    {
     "data": {
      "application/vnd.jupyter.widget-view+json": {
       "model_id": "5ee32371c3f44239ba401145f351e0e2",
       "version_major": 2,
       "version_minor": 0
      },
      "text/plain": [
       "HBox(children=(IntProgress(value=0, description='Loss: ', max=141, style=ProgressStyle(description_width='init…"
      ]
     },
     "metadata": {},
     "output_type": "display_data"
    },
    {
     "name": "stdout",
     "output_type": "stream",
     "text": [
      "\n",
      "Epoch 235/500, training loss: 1.4719823886316719, validation loss: 1.7412528991699219\n",
      "\t     precision: 0.7154\n",
      "\t        recall: 0.6930\n",
      "\t            F1: 0.6777\n",
      "\t      accuracy: 0.7199\n"
     ]
    },
    {
     "data": {
      "application/vnd.jupyter.widget-view+json": {
       "model_id": "c1be6383c9c64ce29cb73755640623d3",
       "version_major": 2,
       "version_minor": 0
      },
      "text/plain": [
       "HBox(children=(IntProgress(value=0, description='Loss: ', max=141, style=ProgressStyle(description_width='init…"
      ]
     },
     "metadata": {},
     "output_type": "display_data"
    },
    {
     "name": "stdout",
     "output_type": "stream",
     "text": [
      "\n",
      "Epoch 236/500, training loss: 1.472234383542487, validation loss: 1.7336997985839844\n",
      "\t     precision: 0.7261\n",
      "\t        recall: 0.7288\n",
      "\t            F1: 0.7028\n",
      "\t      accuracy: 0.7273\n"
     ]
    },
    {
     "data": {
      "application/vnd.jupyter.widget-view+json": {
       "model_id": "e30c5d31e85b40dab4c4cbdd2580f0c4",
       "version_major": 2,
       "version_minor": 0
      },
      "text/plain": [
       "HBox(children=(IntProgress(value=0, description='Loss: ', max=141, style=ProgressStyle(description_width='init…"
      ]
     },
     "metadata": {},
     "output_type": "display_data"
    },
    {
     "name": "stdout",
     "output_type": "stream",
     "text": [
      "\n",
      "Epoch 237/500, training loss: 1.4715458484406168, validation loss: 1.7326973676681519\n",
      "\t     precision: 0.7297\n",
      "\t        recall: 0.7364\n",
      "\t            F1: 0.7055\n",
      "\t      accuracy: 0.7289\n"
     ]
    },
    {
     "data": {
      "application/vnd.jupyter.widget-view+json": {
       "model_id": "bcc08f15c3134845a393dd557d5a9405",
       "version_major": 2,
       "version_minor": 0
      },
      "text/plain": [
       "HBox(children=(IntProgress(value=0, description='Loss: ', max=141, style=ProgressStyle(description_width='init…"
      ]
     },
     "metadata": {},
     "output_type": "display_data"
    },
    {
     "name": "stdout",
     "output_type": "stream",
     "text": [
      "\n",
      "Epoch 238/500, training loss: 1.4718727465216994, validation loss: 1.742401361465454\n",
      "\t     precision: 0.7232\n",
      "\t        recall: 0.7331\n",
      "\t            F1: 0.6965\n",
      "\t      accuracy: 0.7145\n"
     ]
    },
    {
     "data": {
      "application/vnd.jupyter.widget-view+json": {
       "model_id": "87f27cccfde5418ca76f5550dac46ab1",
       "version_major": 2,
       "version_minor": 0
      },
      "text/plain": [
       "HBox(children=(IntProgress(value=0, description='Loss: ', max=141, style=ProgressStyle(description_width='init…"
      ]
     },
     "metadata": {},
     "output_type": "display_data"
    },
    {
     "name": "stdout",
     "output_type": "stream",
     "text": [
      "\n",
      "Epoch 239/500, training loss: 1.4715226119291698, validation loss: 1.7448688745498657\n",
      "\t     precision: 0.7046\n",
      "\t        recall: 0.6895\n",
      "\t            F1: 0.6702\n",
      "\t      accuracy: 0.7125\n"
     ]
    },
    {
     "data": {
      "application/vnd.jupyter.widget-view+json": {
       "model_id": "245967b3cef8461d99066baccd88747a",
       "version_major": 2,
       "version_minor": 0
      },
      "text/plain": [
       "HBox(children=(IntProgress(value=0, description='Loss: ', max=141, style=ProgressStyle(description_width='init…"
      ]
     },
     "metadata": {},
     "output_type": "display_data"
    },
    {
     "name": "stdout",
     "output_type": "stream",
     "text": [
      "\n",
      "Epoch 240/500, training loss: 1.4723727872185672, validation loss: 1.7395373582839966\n",
      "\t     precision: 0.7028\n",
      "\t        recall: 0.7070\n",
      "\t            F1: 0.6775\n",
      "\t      accuracy: 0.7223\n"
     ]
    },
    {
     "data": {
      "application/vnd.jupyter.widget-view+json": {
       "model_id": "bb937d9ad45849ac8184fea5ce1ac369",
       "version_major": 2,
       "version_minor": 0
      },
      "text/plain": [
       "HBox(children=(IntProgress(value=0, description='Loss: ', max=141, style=ProgressStyle(description_width='init…"
      ]
     },
     "metadata": {},
     "output_type": "display_data"
    },
    {
     "name": "stdout",
     "output_type": "stream",
     "text": [
      "\n",
      "Epoch 241/500, training loss: 1.4716177189603765, validation loss: 1.751990556716919\n",
      "\t     precision: 0.7032\n",
      "\t        recall: 0.6846\n",
      "\t            F1: 0.6649\n",
      "\t      accuracy: 0.7051\n"
     ]
    },
    {
     "data": {
      "application/vnd.jupyter.widget-view+json": {
       "model_id": "609f4bf025fe402e9a44be42b7dc5d3a",
       "version_major": 2,
       "version_minor": 0
      },
      "text/plain": [
       "HBox(children=(IntProgress(value=0, description='Loss: ', max=141, style=ProgressStyle(description_width='init…"
      ]
     },
     "metadata": {},
     "output_type": "display_data"
    },
    {
     "name": "stdout",
     "output_type": "stream",
     "text": [
      "\n",
      "Epoch 242/500, training loss: 1.4721127985217046, validation loss: 1.7450968027114868\n",
      "\t     precision: 0.6939\n",
      "\t        recall: 0.7017\n",
      "\t            F1: 0.6690\n",
      "\t      accuracy: 0.7152\n"
     ]
    },
    {
     "data": {
      "application/vnd.jupyter.widget-view+json": {
       "model_id": "b432b6690a39497998077367c0aab6c5",
       "version_major": 2,
       "version_minor": 0
      },
      "text/plain": [
       "HBox(children=(IntProgress(value=0, description='Loss: ', max=141, style=ProgressStyle(description_width='init…"
      ]
     },
     "metadata": {},
     "output_type": "display_data"
    },
    {
     "name": "stdout",
     "output_type": "stream",
     "text": [
      "\n",
      "Epoch 243/500, training loss: 1.4708569844563801, validation loss: 1.732798457145691\n",
      "\t     precision: 0.7204\n",
      "\t        recall: 0.7030\n",
      "\t            F1: 0.6825\n",
      "\t      accuracy: 0.7273\n"
     ]
    },
    {
     "data": {
      "application/vnd.jupyter.widget-view+json": {
       "model_id": "9078185979364423ade76fdb9a5f729a",
       "version_major": 2,
       "version_minor": 0
      },
      "text/plain": [
       "HBox(children=(IntProgress(value=0, description='Loss: ', max=141, style=ProgressStyle(description_width='init…"
      ]
     },
     "metadata": {},
     "output_type": "display_data"
    },
    {
     "name": "stdout",
     "output_type": "stream",
     "text": [
      "\n",
      "Epoch 244/500, training loss: 1.470739261478397, validation loss: 1.7326810359954834\n",
      "\t     precision: 0.7202\n",
      "\t        recall: 0.7167\n",
      "\t            F1: 0.6960\n",
      "\t      accuracy: 0.7320\n"
     ]
    },
    {
     "data": {
      "application/vnd.jupyter.widget-view+json": {
       "model_id": "01227b1b26b64b5492942c940e64c317",
       "version_major": 2,
       "version_minor": 0
      },
      "text/plain": [
       "HBox(children=(IntProgress(value=0, description='Loss: ', max=141, style=ProgressStyle(description_width='init…"
      ]
     },
     "metadata": {},
     "output_type": "display_data"
    },
    {
     "name": "stdout",
     "output_type": "stream",
     "text": [
      "\n",
      "Epoch 245/500, training loss: 1.4720083458203796, validation loss: 1.7413156032562256\n",
      "\t     precision: 0.7102\n",
      "\t        recall: 0.7179\n",
      "\t            F1: 0.6777\n",
      "\t      accuracy: 0.7191\n"
     ]
    },
    {
     "data": {
      "application/vnd.jupyter.widget-view+json": {
       "model_id": "f6237f5f3c8645de9728932aad0f9943",
       "version_major": 2,
       "version_minor": 0
      },
      "text/plain": [
       "HBox(children=(IntProgress(value=0, description='Loss: ', max=141, style=ProgressStyle(description_width='init…"
      ]
     },
     "metadata": {},
     "output_type": "display_data"
    },
    {
     "name": "stdout",
     "output_type": "stream",
     "text": [
      "\n",
      "Epoch 246/500, training loss: 1.4716910927008229, validation loss: 1.7466785907745361\n",
      "\t     precision: 0.7448\n",
      "\t        recall: 0.7264\n",
      "\t            F1: 0.7031\n",
      "\t      accuracy: 0.7125\n"
     ]
    },
    {
     "data": {
      "application/vnd.jupyter.widget-view+json": {
       "model_id": "8c873ab2ec9444dc8a0eca1ad11fe458",
       "version_major": 2,
       "version_minor": 0
      },
      "text/plain": [
       "HBox(children=(IntProgress(value=0, description='Loss: ', max=141, style=ProgressStyle(description_width='init…"
      ]
     },
     "metadata": {},
     "output_type": "display_data"
    },
    {
     "name": "stdout",
     "output_type": "stream",
     "text": [
      "\n",
      "Epoch 247/500, training loss: 1.4714554210081168, validation loss: 1.735147476196289\n",
      "\t     precision: 0.7023\n",
      "\t        recall: 0.6985\n",
      "\t            F1: 0.6732\n",
      "\t      accuracy: 0.7266\n"
     ]
    },
    {
     "data": {
      "application/vnd.jupyter.widget-view+json": {
       "model_id": "985b2642b9d744aeb34779efa8f3a72f",
       "version_major": 2,
       "version_minor": 0
      },
      "text/plain": [
       "HBox(children=(IntProgress(value=0, description='Loss: ', max=141, style=ProgressStyle(description_width='init…"
      ]
     },
     "metadata": {},
     "output_type": "display_data"
    },
    {
     "name": "stdout",
     "output_type": "stream",
     "text": [
      "\n",
      "Epoch 248/500, training loss: 1.4714028530932488, validation loss: 1.728896141052246\n",
      "\t     precision: 0.7044\n",
      "\t        recall: 0.6856\n",
      "\t            F1: 0.6664\n",
      "\t      accuracy: 0.7301\n"
     ]
    },
    {
     "data": {
      "application/vnd.jupyter.widget-view+json": {
       "model_id": "0bd181b859ff43df811898d5a85273db",
       "version_major": 2,
       "version_minor": 0
      },
      "text/plain": [
       "HBox(children=(IntProgress(value=0, description='Loss: ', max=141, style=ProgressStyle(description_width='init…"
      ]
     },
     "metadata": {},
     "output_type": "display_data"
    },
    {
     "name": "stdout",
     "output_type": "stream",
     "text": [
      "\n",
      "Epoch 249/500, training loss: 1.4713580836641027, validation loss: 1.7556549310684204\n",
      "\t     precision: 0.7270\n",
      "\t        recall: 0.7059\n",
      "\t            F1: 0.6763\n",
      "\t      accuracy: 0.7012\n"
     ]
    },
    {
     "data": {
      "application/vnd.jupyter.widget-view+json": {
       "model_id": "d6d6942a30304192973438b904b238fe",
       "version_major": 2,
       "version_minor": 0
      },
      "text/plain": [
       "HBox(children=(IntProgress(value=0, description='Loss: ', max=141, style=ProgressStyle(description_width='init…"
      ]
     },
     "metadata": {},
     "output_type": "display_data"
    },
    {
     "name": "stdout",
     "output_type": "stream",
     "text": [
      "\n",
      "Epoch 250/500, training loss: 1.4718904250057032, validation loss: 1.7262505292892456\n",
      "\t     precision: 0.7203\n",
      "\t        recall: 0.7056\n",
      "\t            F1: 0.6845\n",
      "\t      accuracy: 0.7328\n"
     ]
    },
    {
     "data": {
      "application/vnd.jupyter.widget-view+json": {
       "model_id": "e3a847283c72491083463bfc74de9cd9",
       "version_major": 2,
       "version_minor": 0
      },
      "text/plain": [
       "HBox(children=(IntProgress(value=0, description='Loss: ', max=141, style=ProgressStyle(description_width='init…"
      ]
     },
     "metadata": {},
     "output_type": "display_data"
    },
    {
     "name": "stdout",
     "output_type": "stream",
     "text": [
      "\n",
      "Epoch 251/500, training loss: 1.471203901243548, validation loss: 1.7319085597991943\n",
      "\t     precision: 0.7245\n",
      "\t        recall: 0.7285\n",
      "\t            F1: 0.6994\n",
      "\t      accuracy: 0.7266\n"
     ]
    },
    {
     "data": {
      "application/vnd.jupyter.widget-view+json": {
       "model_id": "f9bc893204f843b19f52b24bc14817fa",
       "version_major": 2,
       "version_minor": 0
      },
      "text/plain": [
       "HBox(children=(IntProgress(value=0, description='Loss: ', max=141, style=ProgressStyle(description_width='init…"
      ]
     },
     "metadata": {},
     "output_type": "display_data"
    },
    {
     "name": "stdout",
     "output_type": "stream",
     "text": [
      "\n",
      "Epoch 252/500, training loss: 1.471393936914755, validation loss: 1.7395801544189453\n",
      "\t     precision: 0.6955\n",
      "\t        recall: 0.6840\n",
      "\t            F1: 0.6663\n",
      "\t      accuracy: 0.7164\n"
     ]
    },
    {
     "data": {
      "application/vnd.jupyter.widget-view+json": {
       "model_id": "32429b90d55b471d90216dd8e008f958",
       "version_major": 2,
       "version_minor": 0
      },
      "text/plain": [
       "HBox(children=(IntProgress(value=0, description='Loss: ', max=141, style=ProgressStyle(description_width='init…"
      ]
     },
     "metadata": {},
     "output_type": "display_data"
    },
    {
     "name": "stdout",
     "output_type": "stream",
     "text": [
      "\n",
      "Epoch 253/500, training loss: 1.4706951430503359, validation loss: 1.7365642786026\n",
      "\t     precision: 0.7091\n",
      "\t        recall: 0.7200\n",
      "\t            F1: 0.6909\n",
      "\t      accuracy: 0.7188\n"
     ]
    },
    {
     "data": {
      "application/vnd.jupyter.widget-view+json": {
       "model_id": "c090e4f2b009478792322929a8f8a3bb",
       "version_major": 2,
       "version_minor": 0
      },
      "text/plain": [
       "HBox(children=(IntProgress(value=0, description='Loss: ', max=141, style=ProgressStyle(description_width='init…"
      ]
     },
     "metadata": {},
     "output_type": "display_data"
    },
    {
     "name": "stdout",
     "output_type": "stream",
     "text": [
      "\n",
      "Epoch 254/500, training loss: 1.4708756876330005, validation loss: 1.7235795259475708\n",
      "\t     precision: 0.7114\n",
      "\t        recall: 0.7182\n",
      "\t            F1: 0.6880\n",
      "\t      accuracy: 0.7301\n"
     ]
    },
    {
     "data": {
      "application/vnd.jupyter.widget-view+json": {
       "model_id": "71ab06714b6d462c9e5186aa8d7cb0ad",
       "version_major": 2,
       "version_minor": 0
      },
      "text/plain": [
       "HBox(children=(IntProgress(value=0, description='Loss: ', max=141, style=ProgressStyle(description_width='init…"
      ]
     },
     "metadata": {},
     "output_type": "display_data"
    },
    {
     "name": "stdout",
     "output_type": "stream",
     "text": [
      "\n",
      "Epoch 255/500, training loss: 1.4707070876520576, validation loss: 1.742173671722412\n",
      "\t     precision: 0.7247\n",
      "\t        recall: 0.7221\n",
      "\t            F1: 0.6902\n",
      "\t      accuracy: 0.7184\n"
     ]
    },
    {
     "data": {
      "application/vnd.jupyter.widget-view+json": {
       "model_id": "80cc6984d4f946688b5d4a80d226628e",
       "version_major": 2,
       "version_minor": 0
      },
      "text/plain": [
       "HBox(children=(IntProgress(value=0, description='Loss: ', max=141, style=ProgressStyle(description_width='init…"
      ]
     },
     "metadata": {},
     "output_type": "display_data"
    },
    {
     "name": "stdout",
     "output_type": "stream",
     "text": [
      "\n",
      "Epoch 256/500, training loss: 1.4715001058916675, validation loss: 1.7406582832336426\n",
      "\t     precision: 0.7202\n",
      "\t        recall: 0.7203\n",
      "\t            F1: 0.6939\n",
      "\t      accuracy: 0.7230\n"
     ]
    },
    {
     "data": {
      "application/vnd.jupyter.widget-view+json": {
       "model_id": "c6ae77fb9a19427a8537effa6aea1792",
       "version_major": 2,
       "version_minor": 0
      },
      "text/plain": [
       "HBox(children=(IntProgress(value=0, description='Loss: ', max=141, style=ProgressStyle(description_width='init…"
      ]
     },
     "metadata": {},
     "output_type": "display_data"
    },
    {
     "name": "stdout",
     "output_type": "stream",
     "text": [
      "\n",
      "Epoch 257/500, training loss: 1.4721411246779963, validation loss: 1.7465380430221558\n",
      "\t     precision: 0.7355\n",
      "\t        recall: 0.7286\n",
      "\t            F1: 0.6958\n",
      "\t      accuracy: 0.7164\n"
     ]
    },
    {
     "data": {
      "application/vnd.jupyter.widget-view+json": {
       "model_id": "2014f739a51848848a040a11854ff911",
       "version_major": 2,
       "version_minor": 0
      },
      "text/plain": [
       "HBox(children=(IntProgress(value=0, description='Loss: ', max=141, style=ProgressStyle(description_width='init…"
      ]
     },
     "metadata": {},
     "output_type": "display_data"
    },
    {
     "name": "stdout",
     "output_type": "stream",
     "text": [
      "\n",
      "Epoch 258/500, training loss: 1.4718005792468998, validation loss: 1.7413486242294312\n",
      "\t     precision: 0.7168\n",
      "\t        recall: 0.7254\n",
      "\t            F1: 0.6902\n",
      "\t      accuracy: 0.7148\n"
     ]
    },
    {
     "data": {
      "application/vnd.jupyter.widget-view+json": {
       "model_id": "1442191cc6bc4865ba7d0add03b5ce5e",
       "version_major": 2,
       "version_minor": 0
      },
      "text/plain": [
       "HBox(children=(IntProgress(value=0, description='Loss: ', max=141, style=ProgressStyle(description_width='init…"
      ]
     },
     "metadata": {},
     "output_type": "display_data"
    },
    {
     "name": "stdout",
     "output_type": "stream",
     "text": [
      "\n",
      "Epoch 259/500, training loss: 1.4712673594765628, validation loss: 1.750746250152588\n",
      "\t     precision: 0.6973\n",
      "\t        recall: 0.6872\n",
      "\t            F1: 0.6607\n",
      "\t      accuracy: 0.7020\n"
     ]
    },
    {
     "data": {
      "application/vnd.jupyter.widget-view+json": {
       "model_id": "279db01fccb34a2290bd404322f86bac",
       "version_major": 2,
       "version_minor": 0
      },
      "text/plain": [
       "HBox(children=(IntProgress(value=0, description='Loss: ', max=141, style=ProgressStyle(description_width='init…"
      ]
     },
     "metadata": {},
     "output_type": "display_data"
    },
    {
     "name": "stdout",
     "output_type": "stream",
     "text": [
      "\n",
      "Epoch 260/500, training loss: 1.4720570119560188, validation loss: 1.7307484149932861\n",
      "\t     precision: 0.6769\n",
      "\t        recall: 0.6869\n",
      "\t            F1: 0.6540\n",
      "\t      accuracy: 0.7258\n"
     ]
    },
    {
     "data": {
      "application/vnd.jupyter.widget-view+json": {
       "model_id": "b19cbaa724be4ff6acf7d246655fb40e",
       "version_major": 2,
       "version_minor": 0
      },
      "text/plain": [
       "HBox(children=(IntProgress(value=0, description='Loss: ', max=141, style=ProgressStyle(description_width='init…"
      ]
     },
     "metadata": {},
     "output_type": "display_data"
    },
    {
     "name": "stdout",
     "output_type": "stream",
     "text": [
      "\n",
      "Epoch 261/500, training loss: 1.4710940097240692, validation loss: 1.7374464273452759\n",
      "\t     precision: 0.7076\n",
      "\t        recall: 0.7128\n",
      "\t            F1: 0.6853\n",
      "\t      accuracy: 0.7207\n"
     ]
    },
    {
     "data": {
      "application/vnd.jupyter.widget-view+json": {
       "model_id": "af053370f4854c84b28762064d147018",
       "version_major": 2,
       "version_minor": 0
      },
      "text/plain": [
       "HBox(children=(IntProgress(value=0, description='Loss: ', max=141, style=ProgressStyle(description_width='init…"
      ]
     },
     "metadata": {},
     "output_type": "display_data"
    },
    {
     "name": "stdout",
     "output_type": "stream",
     "text": [
      "\n",
      "Epoch 262/500, training loss: 1.4716800282187497, validation loss: 1.7322744131088257\n",
      "\t     precision: 0.7254\n",
      "\t        recall: 0.7137\n",
      "\t            F1: 0.6917\n",
      "\t      accuracy: 0.7262\n"
     ]
    },
    {
     "data": {
      "application/vnd.jupyter.widget-view+json": {
       "model_id": "8369337da19e4e0c8195d1e19530057b",
       "version_major": 2,
       "version_minor": 0
      },
      "text/plain": [
       "HBox(children=(IntProgress(value=0, description='Loss: ', max=141, style=ProgressStyle(description_width='init…"
      ]
     },
     "metadata": {},
     "output_type": "display_data"
    },
    {
     "name": "stdout",
     "output_type": "stream",
     "text": [
      "\n",
      "Epoch 263/500, training loss: 1.4710944958612429, validation loss: 1.7418321371078491\n",
      "\t     precision: 0.7293\n",
      "\t        recall: 0.7319\n",
      "\t            F1: 0.7011\n",
      "\t      accuracy: 0.7180\n"
     ]
    },
    {
     "data": {
      "application/vnd.jupyter.widget-view+json": {
       "model_id": "cc54a2a76b1649c1a72933dced28856b",
       "version_major": 2,
       "version_minor": 0
      },
      "text/plain": [
       "HBox(children=(IntProgress(value=0, description='Loss: ', max=141, style=ProgressStyle(description_width='init…"
      ]
     },
     "metadata": {},
     "output_type": "display_data"
    },
    {
     "name": "stdout",
     "output_type": "stream",
     "text": [
      "\n",
      "Epoch 264/500, training loss: 1.471133883117784, validation loss: 1.730047345161438\n",
      "\t     precision: 0.7400\n",
      "\t        recall: 0.7299\n",
      "\t            F1: 0.7044\n",
      "\t      accuracy: 0.7281\n"
     ]
    },
    {
     "data": {
      "application/vnd.jupyter.widget-view+json": {
       "model_id": "f1ac1572846f4eaea601c42829e7d958",
       "version_major": 2,
       "version_minor": 0
      },
      "text/plain": [
       "HBox(children=(IntProgress(value=0, description='Loss: ', max=141, style=ProgressStyle(description_width='init…"
      ]
     },
     "metadata": {},
     "output_type": "display_data"
    },
    {
     "name": "stdout",
     "output_type": "stream",
     "text": [
      "\n",
      "Epoch 265/500, training loss: 1.4718004575012424, validation loss: 1.7127685546875\n",
      "\t     precision: 0.7494\n",
      "\t        recall: 0.7501\n",
      "\t            F1: 0.7235\n",
      "\t      accuracy: 0.7445\n"
     ]
    },
    {
     "data": {
      "application/vnd.jupyter.widget-view+json": {
       "model_id": "720e358f78f04b07a32a8261596913a5",
       "version_major": 2,
       "version_minor": 0
      },
      "text/plain": [
       "HBox(children=(IntProgress(value=0, description='Loss: ', max=141, style=ProgressStyle(description_width='init…"
      ]
     },
     "metadata": {},
     "output_type": "display_data"
    },
    {
     "name": "stdout",
     "output_type": "stream",
     "text": [
      "\n",
      "Epoch 266/500, training loss: 1.4709560372305255, validation loss: 1.7442879676818848\n",
      "\t     precision: 0.7341\n",
      "\t        recall: 0.7265\n",
      "\t            F1: 0.6922\n",
      "\t      accuracy: 0.7172\n"
     ]
    },
    {
     "data": {
      "application/vnd.jupyter.widget-view+json": {
       "model_id": "919ea06877ad43a2a63592b21eb59aed",
       "version_major": 2,
       "version_minor": 0
      },
      "text/plain": [
       "HBox(children=(IntProgress(value=0, description='Loss: ', max=141, style=ProgressStyle(description_width='init…"
      ]
     },
     "metadata": {},
     "output_type": "display_data"
    },
    {
     "name": "stdout",
     "output_type": "stream",
     "text": [
      "\n",
      "Epoch 267/500, training loss: 1.4706861431717027, validation loss: 1.7218549251556396\n",
      "\t     precision: 0.7324\n",
      "\t        recall: 0.7429\n",
      "\t            F1: 0.7021\n",
      "\t      accuracy: 0.7391\n"
     ]
    },
    {
     "data": {
      "application/vnd.jupyter.widget-view+json": {
       "model_id": "3ea0696770364c9abb88bc1a87118d51",
       "version_major": 2,
       "version_minor": 0
      },
      "text/plain": [
       "HBox(children=(IntProgress(value=0, description='Loss: ', max=141, style=ProgressStyle(description_width='init…"
      ]
     },
     "metadata": {},
     "output_type": "display_data"
    },
    {
     "name": "stdout",
     "output_type": "stream",
     "text": [
      "\n",
      "Epoch 268/500, training loss: 1.470794530625039, validation loss: 1.7385406494140625\n",
      "\t     precision: 0.7514\n",
      "\t        recall: 0.7232\n",
      "\t            F1: 0.7106\n",
      "\t      accuracy: 0.7238\n"
     ]
    },
    {
     "data": {
      "application/vnd.jupyter.widget-view+json": {
       "model_id": "c04bbb9db56e474c9c4c72a7d27e8e3a",
       "version_major": 2,
       "version_minor": 0
      },
      "text/plain": [
       "HBox(children=(IntProgress(value=0, description='Loss: ', max=141, style=ProgressStyle(description_width='init…"
      ]
     },
     "metadata": {},
     "output_type": "display_data"
    },
    {
     "name": "stdout",
     "output_type": "stream",
     "text": [
      "\n",
      "Epoch 269/500, training loss: 1.4711477984773351, validation loss: 1.7267812490463257\n",
      "\t     precision: 0.7476\n",
      "\t        recall: 0.7470\n",
      "\t            F1: 0.7172\n",
      "\t      accuracy: 0.7363\n"
     ]
    },
    {
     "data": {
      "application/vnd.jupyter.widget-view+json": {
       "model_id": "bc39df601e8a4abca0ad020fbbd6869d",
       "version_major": 2,
       "version_minor": 0
      },
      "text/plain": [
       "HBox(children=(IntProgress(value=0, description='Loss: ', max=141, style=ProgressStyle(description_width='init…"
      ]
     },
     "metadata": {},
     "output_type": "display_data"
    },
    {
     "name": "stdout",
     "output_type": "stream",
     "text": [
      "\n",
      "Epoch 270/500, training loss: 1.4706838781952012, validation loss: 1.7352347373962402\n",
      "\t     precision: 0.7332\n",
      "\t        recall: 0.7392\n",
      "\t            F1: 0.7087\n",
      "\t      accuracy: 0.7250\n"
     ]
    },
    {
     "data": {
      "application/vnd.jupyter.widget-view+json": {
       "model_id": "81851d038dd94843ad32d8c389b2a6cb",
       "version_major": 2,
       "version_minor": 0
      },
      "text/plain": [
       "HBox(children=(IntProgress(value=0, description='Loss: ', max=141, style=ProgressStyle(description_width='init…"
      ]
     },
     "metadata": {},
     "output_type": "display_data"
    },
    {
     "name": "stdout",
     "output_type": "stream",
     "text": [
      "\n",
      "Epoch 271/500, training loss: 1.471078559016505, validation loss: 1.7289046049118042\n",
      "\t     precision: 0.7434\n",
      "\t        recall: 0.7548\n",
      "\t            F1: 0.7199\n",
      "\t      accuracy: 0.7234\n"
     ]
    },
    {
     "data": {
      "application/vnd.jupyter.widget-view+json": {
       "model_id": "6a29242deec4419ab83ede339072f4e8",
       "version_major": 2,
       "version_minor": 0
      },
      "text/plain": [
       "HBox(children=(IntProgress(value=0, description='Loss: ', max=141, style=ProgressStyle(description_width='init…"
      ]
     },
     "metadata": {},
     "output_type": "display_data"
    },
    {
     "name": "stdout",
     "output_type": "stream",
     "text": [
      "\n",
      "Epoch 272/500, training loss: 1.4714902766207432, validation loss: 1.7212148904800415\n",
      "\t     precision: 0.7326\n",
      "\t        recall: 0.7382\n",
      "\t            F1: 0.7072\n",
      "\t      accuracy: 0.7488\n"
     ]
    },
    {
     "data": {
      "application/vnd.jupyter.widget-view+json": {
       "model_id": "5016e22ce3974a58b8fc816545ef92ba",
       "version_major": 2,
       "version_minor": 0
      },
      "text/plain": [
       "HBox(children=(IntProgress(value=0, description='Loss: ', max=141, style=ProgressStyle(description_width='init…"
      ]
     },
     "metadata": {},
     "output_type": "display_data"
    },
    {
     "name": "stdout",
     "output_type": "stream",
     "text": [
      "\n",
      "Epoch 273/500, training loss: 1.4714410719296611, validation loss: 1.7549614906311035\n",
      "\t     precision: 0.7179\n",
      "\t        recall: 0.6977\n",
      "\t            F1: 0.6760\n",
      "\t      accuracy: 0.7012\n"
     ]
    },
    {
     "data": {
      "application/vnd.jupyter.widget-view+json": {
       "model_id": "33ec9cc15600415bbd65d73f8123303e",
       "version_major": 2,
       "version_minor": 0
      },
      "text/plain": [
       "HBox(children=(IntProgress(value=0, description='Loss: ', max=141, style=ProgressStyle(description_width='init…"
      ]
     },
     "metadata": {},
     "output_type": "display_data"
    },
    {
     "name": "stdout",
     "output_type": "stream",
     "text": [
      "\n",
      "Epoch 274/500, training loss: 1.4708122251727056, validation loss: 1.7392722368240356\n",
      "\t     precision: 0.7121\n",
      "\t        recall: 0.7061\n",
      "\t            F1: 0.6798\n",
      "\t      accuracy: 0.7141\n"
     ]
    },
    {
     "data": {
      "application/vnd.jupyter.widget-view+json": {
       "model_id": "a1eca47d60d742eebde2205197d2a4e3",
       "version_major": 2,
       "version_minor": 0
      },
      "text/plain": [
       "HBox(children=(IntProgress(value=0, description='Loss: ', max=141, style=ProgressStyle(description_width='init…"
      ]
     },
     "metadata": {},
     "output_type": "display_data"
    },
    {
     "name": "stdout",
     "output_type": "stream",
     "text": [
      "\n",
      "Epoch 275/500, training loss: 1.4706133899959266, validation loss: 1.7346165180206299\n",
      "\t     precision: 0.7295\n",
      "\t        recall: 0.7362\n",
      "\t            F1: 0.7082\n",
      "\t      accuracy: 0.7254\n"
     ]
    },
    {
     "data": {
      "application/vnd.jupyter.widget-view+json": {
       "model_id": "4bb9764be5da4442800727206db4a31c",
       "version_major": 2,
       "version_minor": 0
      },
      "text/plain": [
       "HBox(children=(IntProgress(value=0, description='Loss: ', max=141, style=ProgressStyle(description_width='init…"
      ]
     },
     "metadata": {},
     "output_type": "display_data"
    },
    {
     "name": "stdout",
     "output_type": "stream",
     "text": [
      "\n",
      "Epoch 276/500, training loss: 1.4710281453234084, validation loss: 1.7361277341842651\n",
      "\t     precision: 0.7002\n",
      "\t        recall: 0.7139\n",
      "\t            F1: 0.6775\n",
      "\t      accuracy: 0.7188\n"
     ]
    },
    {
     "data": {
      "application/vnd.jupyter.widget-view+json": {
       "model_id": "0c7e5fa060424412adf253269d14f0e2",
       "version_major": 2,
       "version_minor": 0
      },
      "text/plain": [
       "HBox(children=(IntProgress(value=0, description='Loss: ', max=141, style=ProgressStyle(description_width='init…"
      ]
     },
     "metadata": {},
     "output_type": "display_data"
    },
    {
     "name": "stdout",
     "output_type": "stream",
     "text": [
      "\n",
      "Epoch 277/500, training loss: 1.4706293327588562, validation loss: 1.7406178712844849\n",
      "\t     precision: 0.6978\n",
      "\t        recall: 0.6930\n",
      "\t            F1: 0.6705\n",
      "\t      accuracy: 0.7227\n"
     ]
    },
    {
     "data": {
      "application/vnd.jupyter.widget-view+json": {
       "model_id": "7621c31af6c947e1abde12eda139f021",
       "version_major": 2,
       "version_minor": 0
      },
      "text/plain": [
       "HBox(children=(IntProgress(value=0, description='Loss: ', max=141, style=ProgressStyle(description_width='init…"
      ]
     },
     "metadata": {},
     "output_type": "display_data"
    },
    {
     "name": "stdout",
     "output_type": "stream",
     "text": [
      "\n",
      "Epoch 278/500, training loss: 1.4708502639269998, validation loss: 1.7455018758773804\n",
      "\t     precision: 0.6971\n",
      "\t        recall: 0.7007\n",
      "\t            F1: 0.6652\n",
      "\t      accuracy: 0.7117\n"
     ]
    },
    {
     "data": {
      "application/vnd.jupyter.widget-view+json": {
       "model_id": "d27522d2d4d04bc3849b011c5d4c38b3",
       "version_major": 2,
       "version_minor": 0
      },
      "text/plain": [
       "HBox(children=(IntProgress(value=0, description='Loss: ', max=141, style=ProgressStyle(description_width='init…"
      ]
     },
     "metadata": {},
     "output_type": "display_data"
    },
    {
     "name": "stdout",
     "output_type": "stream",
     "text": [
      "\n",
      "Epoch 279/500, training loss: 1.4707217191128021, validation loss: 1.7282339334487915\n",
      "\t     precision: 0.7338\n",
      "\t        recall: 0.7197\n",
      "\t            F1: 0.6878\n",
      "\t      accuracy: 0.7297\n"
     ]
    },
    {
     "data": {
      "application/vnd.jupyter.widget-view+json": {
       "model_id": "0b45246d34314fda8633ff1e381e1a36",
       "version_major": 2,
       "version_minor": 0
      },
      "text/plain": [
       "HBox(children=(IntProgress(value=0, description='Loss: ', max=141, style=ProgressStyle(description_width='init…"
      ]
     },
     "metadata": {},
     "output_type": "display_data"
    },
    {
     "name": "stdout",
     "output_type": "stream",
     "text": [
      "\n",
      "Epoch 280/500, training loss: 1.4713309191642923, validation loss: 1.7291004657745361\n",
      "\t     precision: 0.7187\n",
      "\t        recall: 0.7226\n",
      "\t            F1: 0.6954\n",
      "\t      accuracy: 0.7324\n"
     ]
    },
    {
     "data": {
      "application/vnd.jupyter.widget-view+json": {
       "model_id": "89e98d6e78f741529f16b4425a9dab1a",
       "version_major": 2,
       "version_minor": 0
      },
      "text/plain": [
       "HBox(children=(IntProgress(value=0, description='Loss: ', max=141, style=ProgressStyle(description_width='init…"
      ]
     },
     "metadata": {},
     "output_type": "display_data"
    },
    {
     "name": "stdout",
     "output_type": "stream",
     "text": [
      "\n",
      "Epoch 281/500, training loss: 1.4708420283405492, validation loss: 1.731785774230957\n",
      "\t     precision: 0.6997\n",
      "\t        recall: 0.7039\n",
      "\t            F1: 0.6745\n",
      "\t      accuracy: 0.7230\n"
     ]
    },
    {
     "data": {
      "application/vnd.jupyter.widget-view+json": {
       "model_id": "0f65c4a591e54556b804bb2b94dfd1eb",
       "version_major": 2,
       "version_minor": 0
      },
      "text/plain": [
       "HBox(children=(IntProgress(value=0, description='Loss: ', max=141, style=ProgressStyle(description_width='init…"
      ]
     },
     "metadata": {},
     "output_type": "display_data"
    },
    {
     "name": "stdout",
     "output_type": "stream",
     "text": [
      "\n",
      "Epoch 282/500, training loss: 1.4712734442230657, validation loss: 1.7230430841445923\n",
      "\t     precision: 0.7206\n",
      "\t        recall: 0.7136\n",
      "\t            F1: 0.6888\n",
      "\t      accuracy: 0.7344\n"
     ]
    },
    {
     "data": {
      "application/vnd.jupyter.widget-view+json": {
       "model_id": "a47de45f4c93491eaec2fe265eb2c072",
       "version_major": 2,
       "version_minor": 0
      },
      "text/plain": [
       "HBox(children=(IntProgress(value=0, description='Loss: ', max=141, style=ProgressStyle(description_width='init…"
      ]
     },
     "metadata": {},
     "output_type": "display_data"
    },
    {
     "name": "stdout",
     "output_type": "stream",
     "text": [
      "\n",
      "Epoch 283/500, training loss: 1.4707320302936202, validation loss: 1.7342538833618164\n",
      "\t     precision: 0.7137\n",
      "\t        recall: 0.7035\n",
      "\t            F1: 0.6776\n",
      "\t      accuracy: 0.7180\n"
     ]
    },
    {
     "data": {
      "application/vnd.jupyter.widget-view+json": {
       "model_id": "4265e8ea763c40358973dda488db51c1",
       "version_major": 2,
       "version_minor": 0
      },
      "text/plain": [
       "HBox(children=(IntProgress(value=0, description='Loss: ', max=141, style=ProgressStyle(description_width='init…"
      ]
     },
     "metadata": {},
     "output_type": "display_data"
    },
    {
     "name": "stdout",
     "output_type": "stream",
     "text": [
      "\n",
      "Epoch 284/500, training loss: 1.4705005140169292, validation loss: 1.7261395454406738\n",
      "\t     precision: 0.7184\n",
      "\t        recall: 0.7294\n",
      "\t            F1: 0.6933\n",
      "\t      accuracy: 0.7273\n"
     ]
    },
    {
     "data": {
      "application/vnd.jupyter.widget-view+json": {
       "model_id": "d81a26f8acf741669cd070e437d09488",
       "version_major": 2,
       "version_minor": 0
      },
      "text/plain": [
       "HBox(children=(IntProgress(value=0, description='Loss: ', max=141, style=ProgressStyle(description_width='init…"
      ]
     },
     "metadata": {},
     "output_type": "display_data"
    },
    {
     "name": "stdout",
     "output_type": "stream",
     "text": [
      "\n",
      "Epoch 285/500, training loss: 1.4709127667947863, validation loss: 1.7360713481903076\n",
      "\t     precision: 0.6899\n",
      "\t        recall: 0.6767\n",
      "\t            F1: 0.6547\n",
      "\t      accuracy: 0.7176\n"
     ]
    },
    {
     "data": {
      "application/vnd.jupyter.widget-view+json": {
       "model_id": "1771955bf1934f9ba644d9fe1d86fbad",
       "version_major": 2,
       "version_minor": 0
      },
      "text/plain": [
       "HBox(children=(IntProgress(value=0, description='Loss: ', max=141, style=ProgressStyle(description_width='init…"
      ]
     },
     "metadata": {},
     "output_type": "display_data"
    },
    {
     "name": "stdout",
     "output_type": "stream",
     "text": [
      "\n",
      "Epoch 286/500, training loss: 1.4707466321634062, validation loss: 1.7200779914855957\n",
      "\t     precision: 0.7606\n",
      "\t        recall: 0.7320\n",
      "\t            F1: 0.7229\n",
      "\t      accuracy: 0.7418\n"
     ]
    },
    {
     "data": {
      "application/vnd.jupyter.widget-view+json": {
       "model_id": "1a018d5c1c3b4835bacdf664840b7b72",
       "version_major": 2,
       "version_minor": 0
      },
      "text/plain": [
       "HBox(children=(IntProgress(value=0, description='Loss: ', max=141, style=ProgressStyle(description_width='init…"
      ]
     },
     "metadata": {},
     "output_type": "display_data"
    },
    {
     "name": "stdout",
     "output_type": "stream",
     "text": [
      "\n",
      "Epoch 287/500, training loss: 1.471196617640502, validation loss: 1.723621129989624\n",
      "\t     precision: 0.7386\n",
      "\t        recall: 0.7494\n",
      "\t            F1: 0.7135\n",
      "\t      accuracy: 0.7387\n"
     ]
    },
    {
     "data": {
      "application/vnd.jupyter.widget-view+json": {
       "model_id": "6aaad10c09634b75aee058b47d1ffb8d",
       "version_major": 2,
       "version_minor": 0
      },
      "text/plain": [
       "HBox(children=(IntProgress(value=0, description='Loss: ', max=141, style=ProgressStyle(description_width='init…"
      ]
     },
     "metadata": {},
     "output_type": "display_data"
    },
    {
     "name": "stdout",
     "output_type": "stream",
     "text": [
      "\n",
      "Epoch 288/500, training loss: 1.470805179988239, validation loss: 1.727344036102295\n",
      "\t     precision: 0.7458\n",
      "\t        recall: 0.7406\n",
      "\t            F1: 0.7167\n",
      "\t      accuracy: 0.7367\n"
     ]
    },
    {
     "data": {
      "application/vnd.jupyter.widget-view+json": {
       "model_id": "558df98b7aa247949004191edc3c7e3f",
       "version_major": 2,
       "version_minor": 0
      },
      "text/plain": [
       "HBox(children=(IntProgress(value=0, description='Loss: ', max=141, style=ProgressStyle(description_width='init…"
      ]
     },
     "metadata": {},
     "output_type": "display_data"
    },
    {
     "name": "stdout",
     "output_type": "stream",
     "text": [
      "\n",
      "Epoch 289/500, training loss: 1.470937449881371, validation loss: 1.7400164604187012\n",
      "\t     precision: 0.7215\n",
      "\t        recall: 0.7173\n",
      "\t            F1: 0.6899\n",
      "\t      accuracy: 0.7211\n"
     ]
    },
    {
     "data": {
      "application/vnd.jupyter.widget-view+json": {
       "model_id": "1a8c96dc595d426f9bd0328ac4e3dded",
       "version_major": 2,
       "version_minor": 0
      },
      "text/plain": [
       "HBox(children=(IntProgress(value=0, description='Loss: ', max=141, style=ProgressStyle(description_width='init…"
      ]
     },
     "metadata": {},
     "output_type": "display_data"
    },
    {
     "name": "stdout",
     "output_type": "stream",
     "text": [
      "\n",
      "Epoch 290/500, training loss: 1.471484400701861, validation loss: 1.7556984424591064\n",
      "\t     precision: 0.6730\n",
      "\t        recall: 0.6795\n",
      "\t            F1: 0.6421\n",
      "\t      accuracy: 0.7039\n"
     ]
    },
    {
     "data": {
      "application/vnd.jupyter.widget-view+json": {
       "model_id": "8abdcf85579b45e0acafb1ae2519fa42",
       "version_major": 2,
       "version_minor": 0
      },
      "text/plain": [
       "HBox(children=(IntProgress(value=0, description='Loss: ', max=141, style=ProgressStyle(description_width='init…"
      ]
     },
     "metadata": {},
     "output_type": "display_data"
    },
    {
     "name": "stdout",
     "output_type": "stream",
     "text": [
      "\n",
      "Epoch 291/500, training loss: 1.470836028985098, validation loss: 1.7434401512145996\n",
      "\t     precision: 0.7089\n",
      "\t        recall: 0.7234\n",
      "\t            F1: 0.6900\n",
      "\t      accuracy: 0.7203\n"
     ]
    },
    {
     "data": {
      "application/vnd.jupyter.widget-view+json": {
       "model_id": "0df64088e9fb406d8719f2ad68ea8420",
       "version_major": 2,
       "version_minor": 0
      },
      "text/plain": [
       "HBox(children=(IntProgress(value=0, description='Loss: ', max=141, style=ProgressStyle(description_width='init…"
      ]
     },
     "metadata": {},
     "output_type": "display_data"
    },
    {
     "name": "stdout",
     "output_type": "stream",
     "text": [
      "\n",
      "Epoch 292/500, training loss: 1.4700453509675695, validation loss: 1.7274986505508423\n",
      "\t     precision: 0.7431\n",
      "\t        recall: 0.7438\n",
      "\t            F1: 0.7091\n",
      "\t      accuracy: 0.7359\n"
     ]
    },
    {
     "data": {
      "application/vnd.jupyter.widget-view+json": {
       "model_id": "114d4649e315441484df46996daddd2e",
       "version_major": 2,
       "version_minor": 0
      },
      "text/plain": [
       "HBox(children=(IntProgress(value=0, description='Loss: ', max=141, style=ProgressStyle(description_width='init…"
      ]
     },
     "metadata": {},
     "output_type": "display_data"
    },
    {
     "name": "stdout",
     "output_type": "stream",
     "text": [
      "\n",
      "Epoch 293/500, training loss: 1.4718800614066159, validation loss: 1.7447935342788696\n",
      "\t     precision: 0.7402\n",
      "\t        recall: 0.7308\n",
      "\t            F1: 0.7001\n",
      "\t      accuracy: 0.7160\n"
     ]
    },
    {
     "data": {
      "application/vnd.jupyter.widget-view+json": {
       "model_id": "2b17b38ce42445658b5e834f4f6329c7",
       "version_major": 2,
       "version_minor": 0
      },
      "text/plain": [
       "HBox(children=(IntProgress(value=0, description='Loss: ', max=141, style=ProgressStyle(description_width='init…"
      ]
     },
     "metadata": {},
     "output_type": "display_data"
    },
    {
     "name": "stdout",
     "output_type": "stream",
     "text": [
      "\n",
      "Epoch 294/500, training loss: 1.470764047710608, validation loss: 1.7324484586715698\n",
      "\t     precision: 0.7244\n",
      "\t        recall: 0.7355\n",
      "\t            F1: 0.7037\n",
      "\t      accuracy: 0.7234\n"
     ]
    },
    {
     "data": {
      "application/vnd.jupyter.widget-view+json": {
       "model_id": "6c0e91ebbc104e95afff162a4a233538",
       "version_major": 2,
       "version_minor": 0
      },
      "text/plain": [
       "HBox(children=(IntProgress(value=0, description='Loss: ', max=141, style=ProgressStyle(description_width='init…"
      ]
     },
     "metadata": {},
     "output_type": "display_data"
    },
    {
     "name": "stdout",
     "output_type": "stream",
     "text": [
      "\n",
      "Epoch 295/500, training loss: 1.4707703176119649, validation loss: 1.726388931274414\n",
      "\t     precision: 0.7075\n",
      "\t        recall: 0.7093\n",
      "\t            F1: 0.6809\n",
      "\t      accuracy: 0.7340\n"
     ]
    },
    {
     "data": {
      "application/vnd.jupyter.widget-view+json": {
       "model_id": "25887ede340140638206dc12aae7a921",
       "version_major": 2,
       "version_minor": 0
      },
      "text/plain": [
       "HBox(children=(IntProgress(value=0, description='Loss: ', max=141, style=ProgressStyle(description_width='init…"
      ]
     },
     "metadata": {},
     "output_type": "display_data"
    },
    {
     "name": "stdout",
     "output_type": "stream",
     "text": [
      "\n",
      "Epoch 296/500, training loss: 1.4708122894273583, validation loss: 1.7176905870437622\n",
      "\t     precision: 0.7280\n",
      "\t        recall: 0.7189\n",
      "\t            F1: 0.6980\n",
      "\t      accuracy: 0.7379\n"
     ]
    },
    {
     "data": {
      "application/vnd.jupyter.widget-view+json": {
       "model_id": "e54b9b7cd4df4f35acdf4d7aae1178ad",
       "version_major": 2,
       "version_minor": 0
      },
      "text/plain": [
       "HBox(children=(IntProgress(value=0, description='Loss: ', max=141, style=ProgressStyle(description_width='init…"
      ]
     },
     "metadata": {},
     "output_type": "display_data"
    },
    {
     "name": "stdout",
     "output_type": "stream",
     "text": [
      "\n",
      "Epoch 297/500, training loss: 1.470086211853839, validation loss: 1.7228981256484985\n",
      "\t     precision: 0.7371\n",
      "\t        recall: 0.7249\n",
      "\t            F1: 0.7021\n",
      "\t      accuracy: 0.7426\n"
     ]
    },
    {
     "data": {
      "application/vnd.jupyter.widget-view+json": {
       "model_id": "c2afaf6f68ff4c48a985418acb4ffb71",
       "version_major": 2,
       "version_minor": 0
      },
      "text/plain": [
       "HBox(children=(IntProgress(value=0, description='Loss: ', max=141, style=ProgressStyle(description_width='init…"
      ]
     },
     "metadata": {},
     "output_type": "display_data"
    },
    {
     "name": "stdout",
     "output_type": "stream",
     "text": [
      "\n",
      "Epoch 298/500, training loss: 1.4706950153864868, validation loss: 1.7306593656539917\n",
      "\t     precision: 0.7041\n",
      "\t        recall: 0.7054\n",
      "\t            F1: 0.6746\n",
      "\t      accuracy: 0.7258\n"
     ]
    },
    {
     "data": {
      "application/vnd.jupyter.widget-view+json": {
       "model_id": "40ca86c8d2074c47aba9aa172a173a15",
       "version_major": 2,
       "version_minor": 0
      },
      "text/plain": [
       "HBox(children=(IntProgress(value=0, description='Loss: ', max=141, style=ProgressStyle(description_width='init…"
      ]
     },
     "metadata": {},
     "output_type": "display_data"
    },
    {
     "name": "stdout",
     "output_type": "stream",
     "text": [
      "\n",
      "Epoch 299/500, training loss: 1.470095194823353, validation loss: 1.724931240081787\n",
      "\t     precision: 0.7252\n",
      "\t        recall: 0.7309\n",
      "\t            F1: 0.7015\n",
      "\t      accuracy: 0.7328\n"
     ]
    },
    {
     "data": {
      "application/vnd.jupyter.widget-view+json": {
       "model_id": "0f2133f03e774b049cab815937663294",
       "version_major": 2,
       "version_minor": 0
      },
      "text/plain": [
       "HBox(children=(IntProgress(value=0, description='Loss: ', max=141, style=ProgressStyle(description_width='init…"
      ]
     },
     "metadata": {},
     "output_type": "display_data"
    },
    {
     "name": "stdout",
     "output_type": "stream",
     "text": [
      "\n",
      "Epoch 300/500, training loss: 1.4709143122882709, validation loss: 1.7115988731384277\n",
      "\t     precision: 0.7497\n",
      "\t        recall: 0.7437\n",
      "\t            F1: 0.7204\n",
      "\t      accuracy: 0.7508\n"
     ]
    },
    {
     "data": {
      "application/vnd.jupyter.widget-view+json": {
       "model_id": "181c3740bf68409d869c685caa2528f8",
       "version_major": 2,
       "version_minor": 0
      },
      "text/plain": [
       "HBox(children=(IntProgress(value=0, description='Loss: ', max=141, style=ProgressStyle(description_width='init…"
      ]
     },
     "metadata": {},
     "output_type": "display_data"
    },
    {
     "name": "stdout",
     "output_type": "stream",
     "text": [
      "\n",
      "Epoch 301/500, training loss: 1.4702800833587106, validation loss: 1.7217774391174316\n",
      "\t     precision: 0.7198\n",
      "\t        recall: 0.7345\n",
      "\t            F1: 0.7048\n",
      "\t      accuracy: 0.7406\n"
     ]
    },
    {
     "data": {
      "application/vnd.jupyter.widget-view+json": {
       "model_id": "fd9f5236a7da4630aa7c8900c2315833",
       "version_major": 2,
       "version_minor": 0
      },
      "text/plain": [
       "HBox(children=(IntProgress(value=0, description='Loss: ', max=141, style=ProgressStyle(description_width='init…"
      ]
     },
     "metadata": {},
     "output_type": "display_data"
    },
    {
     "name": "stdout",
     "output_type": "stream",
     "text": [
      "\n",
      "Epoch 302/500, training loss: 1.4711227780538247, validation loss: 1.7330182790756226\n",
      "\t     precision: 0.7345\n",
      "\t        recall: 0.7171\n",
      "\t            F1: 0.6952\n",
      "\t      accuracy: 0.7277\n"
     ]
    },
    {
     "data": {
      "application/vnd.jupyter.widget-view+json": {
       "model_id": "f75e8bffd7b943b283a20b840f68d9e0",
       "version_major": 2,
       "version_minor": 0
      },
      "text/plain": [
       "HBox(children=(IntProgress(value=0, description='Loss: ', max=141, style=ProgressStyle(description_width='init…"
      ]
     },
     "metadata": {},
     "output_type": "display_data"
    },
    {
     "name": "stdout",
     "output_type": "stream",
     "text": [
      "\n",
      "Epoch 303/500, training loss: 1.4699808731146737, validation loss: 1.7303783893585205\n",
      "\t     precision: 0.7292\n",
      "\t        recall: 0.7245\n",
      "\t            F1: 0.6948\n",
      "\t      accuracy: 0.7246\n"
     ]
    },
    {
     "data": {
      "application/vnd.jupyter.widget-view+json": {
       "model_id": "10b4a270b24d43a898df360424b405f5",
       "version_major": 2,
       "version_minor": 0
      },
      "text/plain": [
       "HBox(children=(IntProgress(value=0, description='Loss: ', max=141, style=ProgressStyle(description_width='init…"
      ]
     },
     "metadata": {},
     "output_type": "display_data"
    },
    {
     "name": "stdout",
     "output_type": "stream",
     "text": [
      "\n",
      "Epoch 304/500, training loss: 1.4703590328811753, validation loss: 1.725530982017517\n",
      "\t     precision: 0.7401\n",
      "\t        recall: 0.7283\n",
      "\t            F1: 0.7010\n",
      "\t      accuracy: 0.7344\n"
     ]
    },
    {
     "data": {
      "application/vnd.jupyter.widget-view+json": {
       "model_id": "c345df2f4eee436695ae295ec01c9b07",
       "version_major": 2,
       "version_minor": 0
      },
      "text/plain": [
       "HBox(children=(IntProgress(value=0, description='Loss: ', max=141, style=ProgressStyle(description_width='init…"
      ]
     },
     "metadata": {},
     "output_type": "display_data"
    },
    {
     "name": "stdout",
     "output_type": "stream",
     "text": [
      "\n",
      "Epoch 305/500, training loss: 1.470969706562394, validation loss: 1.7373037338256836\n",
      "\t     precision: 0.7267\n",
      "\t        recall: 0.7377\n",
      "\t            F1: 0.6982\n",
      "\t      accuracy: 0.7207\n"
     ]
    },
    {
     "data": {
      "application/vnd.jupyter.widget-view+json": {
       "model_id": "10e43cd52e324b3199b313d166726b5f",
       "version_major": 2,
       "version_minor": 0
      },
      "text/plain": [
       "HBox(children=(IntProgress(value=0, description='Loss: ', max=141, style=ProgressStyle(description_width='init…"
      ]
     },
     "metadata": {},
     "output_type": "display_data"
    },
    {
     "name": "stdout",
     "output_type": "stream",
     "text": [
      "\n",
      "Epoch 306/500, training loss: 1.4697886789944155, validation loss: 1.7359437942504883\n",
      "\t     precision: 0.7170\n",
      "\t        recall: 0.7204\n",
      "\t            F1: 0.6873\n",
      "\t      accuracy: 0.7223\n"
     ]
    },
    {
     "data": {
      "application/vnd.jupyter.widget-view+json": {
       "model_id": "627fabc12973490982a4f3110e5d6092",
       "version_major": 2,
       "version_minor": 0
      },
      "text/plain": [
       "HBox(children=(IntProgress(value=0, description='Loss: ', max=141, style=ProgressStyle(description_width='init…"
      ]
     },
     "metadata": {},
     "output_type": "display_data"
    },
    {
     "name": "stdout",
     "output_type": "stream",
     "text": [
      "\n",
      "Epoch 307/500, training loss: 1.4706493573831327, validation loss: 1.7305493354797363\n",
      "\t     precision: 0.7406\n",
      "\t        recall: 0.7289\n",
      "\t            F1: 0.7088\n",
      "\t      accuracy: 0.7266\n"
     ]
    },
    {
     "data": {
      "application/vnd.jupyter.widget-view+json": {
       "model_id": "6a10839a77bf4e1b84d13a3fc8d9131e",
       "version_major": 2,
       "version_minor": 0
      },
      "text/plain": [
       "HBox(children=(IntProgress(value=0, description='Loss: ', max=141, style=ProgressStyle(description_width='init…"
      ]
     },
     "metadata": {},
     "output_type": "display_data"
    },
    {
     "name": "stdout",
     "output_type": "stream",
     "text": [
      "\n",
      "Epoch 308/500, training loss: 1.47088759926194, validation loss: 1.7317426204681396\n",
      "\t     precision: 0.7314\n",
      "\t        recall: 0.7283\n",
      "\t            F1: 0.7026\n",
      "\t      accuracy: 0.7285\n"
     ]
    },
    {
     "data": {
      "application/vnd.jupyter.widget-view+json": {
       "model_id": "95b2c36c69dd4290b9110877b6d209b5",
       "version_major": 2,
       "version_minor": 0
      },
      "text/plain": [
       "HBox(children=(IntProgress(value=0, description='Loss: ', max=141, style=ProgressStyle(description_width='init…"
      ]
     },
     "metadata": {},
     "output_type": "display_data"
    },
    {
     "name": "stdout",
     "output_type": "stream",
     "text": [
      "\n",
      "Epoch 309/500, training loss: 1.4699748593864712, validation loss: 1.7457764148712158\n",
      "\t     precision: 0.7017\n",
      "\t        recall: 0.7008\n",
      "\t            F1: 0.6719\n",
      "\t      accuracy: 0.7070\n"
     ]
    },
    {
     "data": {
      "application/vnd.jupyter.widget-view+json": {
       "model_id": "a600a95c02324b05840e0331f659e73d",
       "version_major": 2,
       "version_minor": 0
      },
      "text/plain": [
       "HBox(children=(IntProgress(value=0, description='Loss: ', max=141, style=ProgressStyle(description_width='init…"
      ]
     },
     "metadata": {},
     "output_type": "display_data"
    },
    {
     "name": "stdout",
     "output_type": "stream",
     "text": [
      "\n",
      "Epoch 310/500, training loss: 1.470515880178898, validation loss: 1.7380292415618896\n",
      "\t     precision: 0.7053\n",
      "\t        recall: 0.7146\n",
      "\t            F1: 0.6748\n",
      "\t      accuracy: 0.7191\n"
     ]
    },
    {
     "data": {
      "application/vnd.jupyter.widget-view+json": {
       "model_id": "7bda3cbf03cc4b2390b7e4817413040c",
       "version_major": 2,
       "version_minor": 0
      },
      "text/plain": [
       "HBox(children=(IntProgress(value=0, description='Loss: ', max=141, style=ProgressStyle(description_width='init…"
      ]
     },
     "metadata": {},
     "output_type": "display_data"
    },
    {
     "name": "stdout",
     "output_type": "stream",
     "text": [
      "\n",
      "Epoch 311/500, training loss: 1.4706107657006446, validation loss: 1.7392888069152832\n",
      "\t     precision: 0.7043\n",
      "\t        recall: 0.7005\n",
      "\t            F1: 0.6750\n",
      "\t      accuracy: 0.7168\n"
     ]
    },
    {
     "data": {
      "application/vnd.jupyter.widget-view+json": {
       "model_id": "24ba76c58e3f4828a0af854d31c6f317",
       "version_major": 2,
       "version_minor": 0
      },
      "text/plain": [
       "HBox(children=(IntProgress(value=0, description='Loss: ', max=141, style=ProgressStyle(description_width='init…"
      ]
     },
     "metadata": {},
     "output_type": "display_data"
    },
    {
     "name": "stdout",
     "output_type": "stream",
     "text": [
      "\n",
      "Epoch 312/500, training loss: 1.4709604302196637, validation loss: 1.7498605251312256\n",
      "\t     precision: 0.6716\n",
      "\t        recall: 0.6888\n",
      "\t            F1: 0.6529\n",
      "\t      accuracy: 0.7059\n"
     ]
    },
    {
     "data": {
      "application/vnd.jupyter.widget-view+json": {
       "model_id": "3024b9dcbbef44428481d56a53ef52c1",
       "version_major": 2,
       "version_minor": 0
      },
      "text/plain": [
       "HBox(children=(IntProgress(value=0, description='Loss: ', max=141, style=ProgressStyle(description_width='init…"
      ]
     },
     "metadata": {},
     "output_type": "display_data"
    },
    {
     "name": "stdout",
     "output_type": "stream",
     "text": [
      "\n",
      "Epoch 313/500, training loss: 1.4704140517728548, validation loss: 1.7372790575027466\n",
      "\t     precision: 0.6967\n",
      "\t        recall: 0.7017\n",
      "\t            F1: 0.6744\n",
      "\t      accuracy: 0.7211\n"
     ]
    },
    {
     "data": {
      "application/vnd.jupyter.widget-view+json": {
       "model_id": "9f401a9251a54b6c83249b9dd1dc2750",
       "version_major": 2,
       "version_minor": 0
      },
      "text/plain": [
       "HBox(children=(IntProgress(value=0, description='Loss: ', max=141, style=ProgressStyle(description_width='init…"
      ]
     },
     "metadata": {},
     "output_type": "display_data"
    },
    {
     "name": "stdout",
     "output_type": "stream",
     "text": [
      "\n",
      "Epoch 314/500, training loss: 1.47100375138276, validation loss: 1.7236998081207275\n",
      "\t     precision: 0.7180\n",
      "\t        recall: 0.7356\n",
      "\t            F1: 0.6974\n",
      "\t      accuracy: 0.7332\n"
     ]
    },
    {
     "data": {
      "application/vnd.jupyter.widget-view+json": {
       "model_id": "46a10c61f3204a498960d07b1a3bed3b",
       "version_major": 2,
       "version_minor": 0
      },
      "text/plain": [
       "HBox(children=(IntProgress(value=0, description='Loss: ', max=141, style=ProgressStyle(description_width='init…"
      ]
     },
     "metadata": {},
     "output_type": "display_data"
    },
    {
     "name": "stdout",
     "output_type": "stream",
     "text": [
      "\n",
      "Epoch 315/500, training loss: 1.4706329453921487, validation loss: 1.7351319789886475\n",
      "\t     precision: 0.7112\n",
      "\t        recall: 0.7112\n",
      "\t            F1: 0.6809\n",
      "\t      accuracy: 0.7234\n"
     ]
    },
    {
     "data": {
      "application/vnd.jupyter.widget-view+json": {
       "model_id": "6b781c3502824e21a9e7aeb846b96143",
       "version_major": 2,
       "version_minor": 0
      },
      "text/plain": [
       "HBox(children=(IntProgress(value=0, description='Loss: ', max=141, style=ProgressStyle(description_width='init…"
      ]
     },
     "metadata": {},
     "output_type": "display_data"
    },
    {
     "name": "stdout",
     "output_type": "stream",
     "text": [
      "\n",
      "Epoch 316/500, training loss: 1.4701491281495873, validation loss: 1.712514042854309\n",
      "\t     precision: 0.7373\n",
      "\t        recall: 0.7208\n",
      "\t            F1: 0.7076\n",
      "\t      accuracy: 0.7461\n"
     ]
    },
    {
     "data": {
      "application/vnd.jupyter.widget-view+json": {
       "model_id": "9481b15435d541a784818aed7dbc42da",
       "version_major": 2,
       "version_minor": 0
      },
      "text/plain": [
       "HBox(children=(IntProgress(value=0, description='Loss: ', max=141, style=ProgressStyle(description_width='init…"
      ]
     },
     "metadata": {},
     "output_type": "display_data"
    },
    {
     "name": "stdout",
     "output_type": "stream",
     "text": [
      "\n",
      "Epoch 317/500, training loss: 1.4700161260915987, validation loss: 1.7338606119155884\n",
      "\t     precision: 0.7200\n",
      "\t        recall: 0.7290\n",
      "\t            F1: 0.6997\n",
      "\t      accuracy: 0.7266\n"
     ]
    },
    {
     "data": {
      "application/vnd.jupyter.widget-view+json": {
       "model_id": "fe6f4343b7d04ff8a63bb764d043c02e",
       "version_major": 2,
       "version_minor": 0
      },
      "text/plain": [
       "HBox(children=(IntProgress(value=0, description='Loss: ', max=141, style=ProgressStyle(description_width='init…"
      ]
     },
     "metadata": {},
     "output_type": "display_data"
    },
    {
     "name": "stdout",
     "output_type": "stream",
     "text": [
      "\n",
      "Epoch 318/500, training loss: 1.4705593678968172, validation loss: 1.7257039546966553\n",
      "\t     precision: 0.7325\n",
      "\t        recall: 0.7252\n",
      "\t            F1: 0.7028\n",
      "\t      accuracy: 0.7371\n"
     ]
    },
    {
     "data": {
      "application/vnd.jupyter.widget-view+json": {
       "model_id": "201a263adeee41f5a1e30e73df550577",
       "version_major": 2,
       "version_minor": 0
      },
      "text/plain": [
       "HBox(children=(IntProgress(value=0, description='Loss: ', max=141, style=ProgressStyle(description_width='init…"
      ]
     },
     "metadata": {},
     "output_type": "display_data"
    },
    {
     "name": "stdout",
     "output_type": "stream",
     "text": [
      "\n",
      "Epoch 319/500, training loss: 1.470854158942581, validation loss: 1.71877920627594\n",
      "\t     precision: 0.7456\n",
      "\t        recall: 0.7445\n",
      "\t            F1: 0.7213\n",
      "\t      accuracy: 0.7367\n"
     ]
    },
    {
     "data": {
      "application/vnd.jupyter.widget-view+json": {
       "model_id": "fd0f4e5237384f028f584a1b3bade64c",
       "version_major": 2,
       "version_minor": 0
      },
      "text/plain": [
       "HBox(children=(IntProgress(value=0, description='Loss: ', max=141, style=ProgressStyle(description_width='init…"
      ]
     },
     "metadata": {},
     "output_type": "display_data"
    },
    {
     "name": "stdout",
     "output_type": "stream",
     "text": [
      "\n",
      "Epoch 320/500, training loss: 1.470235621675532, validation loss: 1.7197867631912231\n",
      "\t     precision: 0.7489\n",
      "\t        recall: 0.7411\n",
      "\t            F1: 0.7152\n",
      "\t      accuracy: 0.7406\n"
     ]
    },
    {
     "data": {
      "application/vnd.jupyter.widget-view+json": {
       "model_id": "b347cce0c5824c9b821542e25251ec98",
       "version_major": 2,
       "version_minor": 0
      },
      "text/plain": [
       "HBox(children=(IntProgress(value=0, description='Loss: ', max=141, style=ProgressStyle(description_width='init…"
      ]
     },
     "metadata": {},
     "output_type": "display_data"
    },
    {
     "name": "stdout",
     "output_type": "stream",
     "text": [
      "\n",
      "Epoch 321/500, training loss: 1.4700325490735102, validation loss: 1.7239201068878174\n",
      "\t     precision: 0.7112\n",
      "\t        recall: 0.7159\n",
      "\t            F1: 0.6928\n",
      "\t      accuracy: 0.7434\n"
     ]
    },
    {
     "data": {
      "application/vnd.jupyter.widget-view+json": {
       "model_id": "40ece3c6efbd40e5ab2da38a711df556",
       "version_major": 2,
       "version_minor": 0
      },
      "text/plain": [
       "HBox(children=(IntProgress(value=0, description='Loss: ', max=141, style=ProgressStyle(description_width='init…"
      ]
     },
     "metadata": {},
     "output_type": "display_data"
    },
    {
     "name": "stdout",
     "output_type": "stream",
     "text": [
      "\n",
      "Epoch 322/500, training loss: 1.4701447199422417, validation loss: 1.7165963649749756\n",
      "\t     precision: 0.7534\n",
      "\t        recall: 0.7487\n",
      "\t            F1: 0.7213\n",
      "\t      accuracy: 0.7441\n"
     ]
    },
    {
     "data": {
      "application/vnd.jupyter.widget-view+json": {
       "model_id": "42b2213b5dd0471cac0b42e025e2df34",
       "version_major": 2,
       "version_minor": 0
      },
      "text/plain": [
       "HBox(children=(IntProgress(value=0, description='Loss: ', max=141, style=ProgressStyle(description_width='init…"
      ]
     },
     "metadata": {},
     "output_type": "display_data"
    },
    {
     "name": "stdout",
     "output_type": "stream",
     "text": [
      "\n",
      "Epoch 323/500, training loss: 1.4701979346309149, validation loss: 1.708984375\n",
      "\t     precision: 0.7624\n",
      "\t        recall: 0.7464\n",
      "\t            F1: 0.7251\n",
      "\t      accuracy: 0.7543\n"
     ]
    },
    {
     "data": {
      "application/vnd.jupyter.widget-view+json": {
       "model_id": "b20003cd057d429aa4cccb7e70580c98",
       "version_major": 2,
       "version_minor": 0
      },
      "text/plain": [
       "HBox(children=(IntProgress(value=0, description='Loss: ', max=141, style=ProgressStyle(description_width='init…"
      ]
     },
     "metadata": {},
     "output_type": "display_data"
    },
    {
     "name": "stdout",
     "output_type": "stream",
     "text": [
      "\n",
      "Epoch 324/500, training loss: 1.4698346599619438, validation loss: 1.73405122756958\n",
      "\t     precision: 0.7161\n",
      "\t        recall: 0.7161\n",
      "\t            F1: 0.6871\n",
      "\t      accuracy: 0.7203\n"
     ]
    },
    {
     "data": {
      "application/vnd.jupyter.widget-view+json": {
       "model_id": "e9d759a7f5b84f4f9a8a3ad62742a714",
       "version_major": 2,
       "version_minor": 0
      },
      "text/plain": [
       "HBox(children=(IntProgress(value=0, description='Loss: ', max=141, style=ProgressStyle(description_width='init…"
      ]
     },
     "metadata": {},
     "output_type": "display_data"
    },
    {
     "name": "stdout",
     "output_type": "stream",
     "text": [
      "\n",
      "Epoch 325/500, training loss: 1.4697887136581096, validation loss: 1.7297046184539795\n",
      "\t     precision: 0.7466\n",
      "\t        recall: 0.7437\n",
      "\t            F1: 0.7172\n",
      "\t      accuracy: 0.7301\n"
     ]
    },
    {
     "data": {
      "application/vnd.jupyter.widget-view+json": {
       "model_id": "c91cbb5da10f4f0b98b8c513f34abbc9",
       "version_major": 2,
       "version_minor": 0
      },
      "text/plain": [
       "HBox(children=(IntProgress(value=0, description='Loss: ', max=141, style=ProgressStyle(description_width='init…"
      ]
     },
     "metadata": {},
     "output_type": "display_data"
    },
    {
     "name": "stdout",
     "output_type": "stream",
     "text": [
      "\n",
      "Epoch 326/500, training loss: 1.4701274777135105, validation loss: 1.7342724800109863\n",
      "\t     precision: 0.7166\n",
      "\t        recall: 0.7299\n",
      "\t            F1: 0.6900\n",
      "\t      accuracy: 0.7254\n"
     ]
    },
    {
     "data": {
      "application/vnd.jupyter.widget-view+json": {
       "model_id": "47845d25345f491c9bc6e1338e8664d1",
       "version_major": 2,
       "version_minor": 0
      },
      "text/plain": [
       "HBox(children=(IntProgress(value=0, description='Loss: ', max=141, style=ProgressStyle(description_width='init…"
      ]
     },
     "metadata": {},
     "output_type": "display_data"
    },
    {
     "name": "stdout",
     "output_type": "stream",
     "text": [
      "\n",
      "Epoch 327/500, training loss: 1.4700422278532745, validation loss: 1.7400603294372559\n",
      "\t     precision: 0.7031\n",
      "\t        recall: 0.7067\n",
      "\t            F1: 0.6698\n",
      "\t      accuracy: 0.7043\n"
     ]
    },
    {
     "data": {
      "application/vnd.jupyter.widget-view+json": {
       "model_id": "f91c16c4e74d4e249ce75f24d4be478d",
       "version_major": 2,
       "version_minor": 0
      },
      "text/plain": [
       "HBox(children=(IntProgress(value=0, description='Loss: ', max=141, style=ProgressStyle(description_width='init…"
      ]
     },
     "metadata": {},
     "output_type": "display_data"
    },
    {
     "name": "stdout",
     "output_type": "stream",
     "text": [
      "\n",
      "Epoch 328/500, training loss: 1.4701305078276505, validation loss: 1.7320913076400757\n",
      "\t     precision: 0.7392\n",
      "\t        recall: 0.7431\n",
      "\t            F1: 0.7077\n",
      "\t      accuracy: 0.7285\n"
     ]
    },
    {
     "data": {
      "application/vnd.jupyter.widget-view+json": {
       "model_id": "0ccb70be72ea48ec8caa2cb2a20b0d66",
       "version_major": 2,
       "version_minor": 0
      },
      "text/plain": [
       "HBox(children=(IntProgress(value=0, description='Loss: ', max=141, style=ProgressStyle(description_width='init…"
      ]
     },
     "metadata": {},
     "output_type": "display_data"
    },
    {
     "name": "stdout",
     "output_type": "stream",
     "text": [
      "\n",
      "Epoch 329/500, training loss: 1.4701874983226153, validation loss: 1.7234879732131958\n",
      "\t     precision: 0.7257\n",
      "\t        recall: 0.7146\n",
      "\t            F1: 0.6976\n",
      "\t      accuracy: 0.7301\n"
     ]
    },
    {
     "data": {
      "application/vnd.jupyter.widget-view+json": {
       "model_id": "fa1a008f80bb41a9bbc856b795e104de",
       "version_major": 2,
       "version_minor": 0
      },
      "text/plain": [
       "HBox(children=(IntProgress(value=0, description='Loss: ', max=141, style=ProgressStyle(description_width='init…"
      ]
     },
     "metadata": {},
     "output_type": "display_data"
    },
    {
     "name": "stdout",
     "output_type": "stream",
     "text": [
      "\n",
      "Epoch 330/500, training loss: 1.4702821014620733, validation loss: 1.737405776977539\n",
      "\t     precision: 0.7060\n",
      "\t        recall: 0.7151\n",
      "\t            F1: 0.6870\n",
      "\t      accuracy: 0.7242\n"
     ]
    },
    {
     "data": {
      "application/vnd.jupyter.widget-view+json": {
       "model_id": "acf974eddf004e6d93652ecc9c8965c5",
       "version_major": 2,
       "version_minor": 0
      },
      "text/plain": [
       "HBox(children=(IntProgress(value=0, description='Loss: ', max=141, style=ProgressStyle(description_width='init…"
      ]
     },
     "metadata": {},
     "output_type": "display_data"
    },
    {
     "name": "stdout",
     "output_type": "stream",
     "text": [
      "\n",
      "Epoch 331/500, training loss: 1.4699664986725394, validation loss: 1.7246464490890503\n",
      "\t     precision: 0.7394\n",
      "\t        recall: 0.7171\n",
      "\t            F1: 0.7013\n",
      "\t      accuracy: 0.7387\n"
     ]
    },
    {
     "data": {
      "application/vnd.jupyter.widget-view+json": {
       "model_id": "8d643462aa3a49b49c8b05c74f186468",
       "version_major": 2,
       "version_minor": 0
      },
      "text/plain": [
       "HBox(children=(IntProgress(value=0, description='Loss: ', max=141, style=ProgressStyle(description_width='init…"
      ]
     },
     "metadata": {},
     "output_type": "display_data"
    },
    {
     "name": "stdout",
     "output_type": "stream",
     "text": [
      "\n",
      "Epoch 332/500, training loss: 1.470092996637872, validation loss: 1.7311136722564697\n",
      "\t     precision: 0.7503\n",
      "\t        recall: 0.7541\n",
      "\t            F1: 0.7216\n",
      "\t      accuracy: 0.7332\n"
     ]
    },
    {
     "data": {
      "application/vnd.jupyter.widget-view+json": {
       "model_id": "a9dc0428c8324dc78c1d50cb66a87ee6",
       "version_major": 2,
       "version_minor": 0
      },
      "text/plain": [
       "HBox(children=(IntProgress(value=0, description='Loss: ', max=141, style=ProgressStyle(description_width='init…"
      ]
     },
     "metadata": {},
     "output_type": "display_data"
    },
    {
     "name": "stdout",
     "output_type": "stream",
     "text": [
      "\n",
      "Epoch 333/500, training loss: 1.4700958897881473, validation loss: 1.7249743938446045\n",
      "\t     precision: 0.7292\n",
      "\t        recall: 0.7387\n",
      "\t            F1: 0.7077\n",
      "\t      accuracy: 0.7383\n"
     ]
    },
    {
     "data": {
      "application/vnd.jupyter.widget-view+json": {
       "model_id": "6471f19a4d7d4cb7b2b21e1ee90f48ff",
       "version_major": 2,
       "version_minor": 0
      },
      "text/plain": [
       "HBox(children=(IntProgress(value=0, description='Loss: ', max=141, style=ProgressStyle(description_width='init…"
      ]
     },
     "metadata": {},
     "output_type": "display_data"
    },
    {
     "name": "stdout",
     "output_type": "stream",
     "text": [
      "\n",
      "Epoch 334/500, training loss: 1.4700862634266523, validation loss: 1.7324929237365723\n",
      "\t     precision: 0.7152\n",
      "\t        recall: 0.7204\n",
      "\t            F1: 0.6898\n",
      "\t      accuracy: 0.7238\n"
     ]
    },
    {
     "data": {
      "application/vnd.jupyter.widget-view+json": {
       "model_id": "caa3185a22534dea8071d6782f97b58f",
       "version_major": 2,
       "version_minor": 0
      },
      "text/plain": [
       "HBox(children=(IntProgress(value=0, description='Loss: ', max=141, style=ProgressStyle(description_width='init…"
      ]
     },
     "metadata": {},
     "output_type": "display_data"
    },
    {
     "name": "stdout",
     "output_type": "stream",
     "text": [
      "\n",
      "Epoch 335/500, training loss: 1.4698358402184561, validation loss: 1.727108120918274\n",
      "\t     precision: 0.7154\n",
      "\t        recall: 0.7219\n",
      "\t            F1: 0.6930\n",
      "\t      accuracy: 0.7293\n"
     ]
    },
    {
     "data": {
      "application/vnd.jupyter.widget-view+json": {
       "model_id": "0b6d157d8caa4afcb3ad8d152352359a",
       "version_major": 2,
       "version_minor": 0
      },
      "text/plain": [
       "HBox(children=(IntProgress(value=0, description='Loss: ', max=141, style=ProgressStyle(description_width='init…"
      ]
     },
     "metadata": {},
     "output_type": "display_data"
    },
    {
     "name": "stdout",
     "output_type": "stream",
     "text": [
      "\n",
      "Epoch 336/500, training loss: 1.4697460341960826, validation loss: 1.7339503765106201\n",
      "\t     precision: 0.7092\n",
      "\t        recall: 0.7067\n",
      "\t            F1: 0.6773\n",
      "\t      accuracy: 0.7246\n"
     ]
    },
    {
     "data": {
      "application/vnd.jupyter.widget-view+json": {
       "model_id": "9e16235be3e5472bad5def807d31e415",
       "version_major": 2,
       "version_minor": 0
      },
      "text/plain": [
       "HBox(children=(IntProgress(value=0, description='Loss: ', max=141, style=ProgressStyle(description_width='init…"
      ]
     },
     "metadata": {},
     "output_type": "display_data"
    },
    {
     "name": "stdout",
     "output_type": "stream",
     "text": [
      "\n",
      "Epoch 337/500, training loss: 1.4700307195068252, validation loss: 1.734836220741272\n",
      "\t     precision: 0.7083\n",
      "\t        recall: 0.7164\n",
      "\t            F1: 0.6908\n",
      "\t      accuracy: 0.7164\n"
     ]
    },
    {
     "data": {
      "application/vnd.jupyter.widget-view+json": {
       "model_id": "22d554f1164249669dd265e6db46885e",
       "version_major": 2,
       "version_minor": 0
      },
      "text/plain": [
       "HBox(children=(IntProgress(value=0, description='Loss: ', max=141, style=ProgressStyle(description_width='init…"
      ]
     },
     "metadata": {},
     "output_type": "display_data"
    },
    {
     "name": "stdout",
     "output_type": "stream",
     "text": [
      "\n",
      "Epoch 338/500, training loss: 1.4709432370273778, validation loss: 1.7361392974853516\n",
      "\t     precision: 0.7105\n",
      "\t        recall: 0.7110\n",
      "\t            F1: 0.6783\n",
      "\t      accuracy: 0.7195\n"
     ]
    },
    {
     "data": {
      "application/vnd.jupyter.widget-view+json": {
       "model_id": "3e5064bed32745549910bf951508e537",
       "version_major": 2,
       "version_minor": 0
      },
      "text/plain": [
       "HBox(children=(IntProgress(value=0, description='Loss: ', max=141, style=ProgressStyle(description_width='init…"
      ]
     },
     "metadata": {},
     "output_type": "display_data"
    },
    {
     "name": "stdout",
     "output_type": "stream",
     "text": [
      "\n",
      "Epoch 339/500, training loss: 1.4699769806354603, validation loss: 1.729906439781189\n",
      "\t     precision: 0.7096\n",
      "\t        recall: 0.7066\n",
      "\t            F1: 0.6836\n",
      "\t      accuracy: 0.7312\n"
     ]
    },
    {
     "data": {
      "application/vnd.jupyter.widget-view+json": {
       "model_id": "1163b748329d42aeb295f8179ed233ac",
       "version_major": 2,
       "version_minor": 0
      },
      "text/plain": [
       "HBox(children=(IntProgress(value=0, description='Loss: ', max=141, style=ProgressStyle(description_width='init…"
      ]
     },
     "metadata": {},
     "output_type": "display_data"
    },
    {
     "name": "stdout",
     "output_type": "stream",
     "text": [
      "\n",
      "Epoch 340/500, training loss: 1.47025628546451, validation loss: 1.7430696487426758\n",
      "\t     precision: 0.7293\n",
      "\t        recall: 0.7268\n",
      "\t            F1: 0.6922\n",
      "\t      accuracy: 0.7105\n"
     ]
    },
    {
     "data": {
      "application/vnd.jupyter.widget-view+json": {
       "model_id": "897d61f71c6f44a7b2757ea0a0286b60",
       "version_major": 2,
       "version_minor": 0
      },
      "text/plain": [
       "HBox(children=(IntProgress(value=0, description='Loss: ', max=141, style=ProgressStyle(description_width='init…"
      ]
     },
     "metadata": {},
     "output_type": "display_data"
    },
    {
     "name": "stdout",
     "output_type": "stream",
     "text": [
      "\n",
      "Epoch 341/500, training loss: 1.4699492133255545, validation loss: 1.7367042303085327\n",
      "\t     precision: 0.7267\n",
      "\t        recall: 0.7086\n",
      "\t            F1: 0.6872\n",
      "\t      accuracy: 0.7246\n"
     ]
    },
    {
     "data": {
      "application/vnd.jupyter.widget-view+json": {
       "model_id": "ba5a3d3eb6334094af1ed748ce96bc95",
       "version_major": 2,
       "version_minor": 0
      },
      "text/plain": [
       "HBox(children=(IntProgress(value=0, description='Loss: ', max=141, style=ProgressStyle(description_width='init…"
      ]
     },
     "metadata": {},
     "output_type": "display_data"
    },
    {
     "name": "stdout",
     "output_type": "stream",
     "text": [
      "\n",
      "Epoch 342/500, training loss: 1.4699854630950495, validation loss: 1.7473444938659668\n",
      "\t     precision: 0.7113\n",
      "\t        recall: 0.7068\n",
      "\t            F1: 0.6846\n",
      "\t      accuracy: 0.7203\n"
     ]
    },
    {
     "data": {
      "application/vnd.jupyter.widget-view+json": {
       "model_id": "b66b1e8e93bc4c6a94ee49d4936bd11f",
       "version_major": 2,
       "version_minor": 0
      },
      "text/plain": [
       "HBox(children=(IntProgress(value=0, description='Loss: ', max=141, style=ProgressStyle(description_width='init…"
      ]
     },
     "metadata": {},
     "output_type": "display_data"
    },
    {
     "name": "stdout",
     "output_type": "stream",
     "text": [
      "\n",
      "Epoch 343/500, training loss: 1.4700518364601947, validation loss: 1.7306510210037231\n",
      "\t     precision: 0.7199\n",
      "\t        recall: 0.7259\n",
      "\t            F1: 0.6942\n",
      "\t      accuracy: 0.7270\n"
     ]
    },
    {
     "data": {
      "application/vnd.jupyter.widget-view+json": {
       "model_id": "be550ac541864f69a51695e4c7f957e6",
       "version_major": 2,
       "version_minor": 0
      },
      "text/plain": [
       "HBox(children=(IntProgress(value=0, description='Loss: ', max=141, style=ProgressStyle(description_width='init…"
      ]
     },
     "metadata": {},
     "output_type": "display_data"
    },
    {
     "name": "stdout",
     "output_type": "stream",
     "text": [
      "\n",
      "Epoch 344/500, training loss: 1.470424308844492, validation loss: 1.7431812286376953\n",
      "\t     precision: 0.7109\n",
      "\t        recall: 0.7074\n",
      "\t            F1: 0.6871\n",
      "\t      accuracy: 0.7113\n"
     ]
    },
    {
     "data": {
      "application/vnd.jupyter.widget-view+json": {
       "model_id": "ee074e13c307437e817085d56cc84b79",
       "version_major": 2,
       "version_minor": 0
      },
      "text/plain": [
       "HBox(children=(IntProgress(value=0, description='Loss: ', max=141, style=ProgressStyle(description_width='init…"
      ]
     },
     "metadata": {},
     "output_type": "display_data"
    },
    {
     "name": "stdout",
     "output_type": "stream",
     "text": [
      "\n",
      "Epoch 345/500, training loss: 1.470209482713794, validation loss: 1.7317676544189453\n",
      "\t     precision: 0.7098\n",
      "\t        recall: 0.7078\n",
      "\t            F1: 0.6797\n",
      "\t      accuracy: 0.7293\n"
     ]
    },
    {
     "data": {
      "application/vnd.jupyter.widget-view+json": {
       "model_id": "b3039935c47a47c9b677b549e20e1c34",
       "version_major": 2,
       "version_minor": 0
      },
      "text/plain": [
       "HBox(children=(IntProgress(value=0, description='Loss: ', max=141, style=ProgressStyle(description_width='init…"
      ]
     },
     "metadata": {},
     "output_type": "display_data"
    },
    {
     "name": "stdout",
     "output_type": "stream",
     "text": [
      "\n",
      "Epoch 346/500, training loss: 1.4696245421754552, validation loss: 1.731097936630249\n",
      "\t     precision: 0.7005\n",
      "\t        recall: 0.7171\n",
      "\t            F1: 0.6822\n",
      "\t      accuracy: 0.7273\n"
     ]
    },
    {
     "data": {
      "application/vnd.jupyter.widget-view+json": {
       "model_id": "68b522be3c8c45ca9f3f9e7338f6b62b",
       "version_major": 2,
       "version_minor": 0
      },
      "text/plain": [
       "HBox(children=(IntProgress(value=0, description='Loss: ', max=141, style=ProgressStyle(description_width='init…"
      ]
     },
     "metadata": {},
     "output_type": "display_data"
    },
    {
     "name": "stdout",
     "output_type": "stream",
     "text": [
      "\n",
      "Epoch 347/500, training loss: 1.4706387359199795, validation loss: 1.7395658493041992\n",
      "\t     precision: 0.7108\n",
      "\t        recall: 0.6923\n",
      "\t            F1: 0.6796\n",
      "\t      accuracy: 0.7203\n"
     ]
    },
    {
     "data": {
      "application/vnd.jupyter.widget-view+json": {
       "model_id": "680984a3bce7420898082d3bb9ee761e",
       "version_major": 2,
       "version_minor": 0
      },
      "text/plain": [
       "HBox(children=(IntProgress(value=0, description='Loss: ', max=141, style=ProgressStyle(description_width='init…"
      ]
     },
     "metadata": {},
     "output_type": "display_data"
    },
    {
     "name": "stdout",
     "output_type": "stream",
     "text": [
      "\n",
      "Epoch 348/500, training loss: 1.4700689231250303, validation loss: 1.7268928289413452\n",
      "\t     precision: 0.7304\n",
      "\t        recall: 0.7322\n",
      "\t            F1: 0.7039\n",
      "\t      accuracy: 0.7297\n"
     ]
    },
    {
     "data": {
      "application/vnd.jupyter.widget-view+json": {
       "model_id": "035b85a3d73e4e55aeefab1cfeecea32",
       "version_major": 2,
       "version_minor": 0
      },
      "text/plain": [
       "HBox(children=(IntProgress(value=0, description='Loss: ', max=141, style=ProgressStyle(description_width='init…"
      ]
     },
     "metadata": {},
     "output_type": "display_data"
    },
    {
     "name": "stdout",
     "output_type": "stream",
     "text": [
      "\n",
      "Epoch 349/500, training loss: 1.4701191364450659, validation loss: 1.7286409139633179\n",
      "\t     precision: 0.7263\n",
      "\t        recall: 0.7305\n",
      "\t            F1: 0.7072\n",
      "\t      accuracy: 0.7355\n"
     ]
    },
    {
     "data": {
      "application/vnd.jupyter.widget-view+json": {
       "model_id": "bf1c5f56c96746fb8e5f1f011644e308",
       "version_major": 2,
       "version_minor": 0
      },
      "text/plain": [
       "HBox(children=(IntProgress(value=0, description='Loss: ', max=141, style=ProgressStyle(description_width='init…"
      ]
     },
     "metadata": {},
     "output_type": "display_data"
    },
    {
     "name": "stdout",
     "output_type": "stream",
     "text": [
      "\n",
      "Epoch 350/500, training loss: 1.4698495501322104, validation loss: 1.7310068607330322\n",
      "\t     precision: 0.7194\n",
      "\t        recall: 0.7138\n",
      "\t            F1: 0.6931\n",
      "\t      accuracy: 0.7285\n"
     ]
    },
    {
     "data": {
      "application/vnd.jupyter.widget-view+json": {
       "model_id": "a9d6adb009d347098de504a9e7eaf8e5",
       "version_major": 2,
       "version_minor": 0
      },
      "text/plain": [
       "HBox(children=(IntProgress(value=0, description='Loss: ', max=141, style=ProgressStyle(description_width='init…"
      ]
     },
     "metadata": {},
     "output_type": "display_data"
    },
    {
     "name": "stdout",
     "output_type": "stream",
     "text": [
      "\n",
      "Epoch 351/500, training loss: 1.4705599157522755, validation loss: 1.7232357263565063\n",
      "\t     precision: 0.7242\n",
      "\t        recall: 0.7276\n",
      "\t            F1: 0.6984\n",
      "\t      accuracy: 0.7340\n"
     ]
    },
    {
     "data": {
      "application/vnd.jupyter.widget-view+json": {
       "model_id": "08fd94f01c83440cbb16fc98f73912b7",
       "version_major": 2,
       "version_minor": 0
      },
      "text/plain": [
       "HBox(children=(IntProgress(value=0, description='Loss: ', max=141, style=ProgressStyle(description_width='init…"
      ]
     },
     "metadata": {},
     "output_type": "display_data"
    },
    {
     "name": "stdout",
     "output_type": "stream",
     "text": [
      "\n",
      "Epoch 352/500, training loss: 1.4701528921194955, validation loss: 1.7188347578048706\n",
      "\t     precision: 0.7448\n",
      "\t        recall: 0.7372\n",
      "\t            F1: 0.7160\n",
      "\t      accuracy: 0.7441\n"
     ]
    },
    {
     "data": {
      "application/vnd.jupyter.widget-view+json": {
       "model_id": "03f146a777bc4a2ab6c8aad40d0c8c95",
       "version_major": 2,
       "version_minor": 0
      },
      "text/plain": [
       "HBox(children=(IntProgress(value=0, description='Loss: ', max=141, style=ProgressStyle(description_width='init…"
      ]
     },
     "metadata": {},
     "output_type": "display_data"
    },
    {
     "name": "stdout",
     "output_type": "stream",
     "text": [
      "\n",
      "Epoch 353/500, training loss: 1.469858984575204, validation loss: 1.7203528881072998\n",
      "\t     precision: 0.7212\n",
      "\t        recall: 0.7384\n",
      "\t            F1: 0.7057\n",
      "\t      accuracy: 0.7453\n"
     ]
    },
    {
     "data": {
      "application/vnd.jupyter.widget-view+json": {
       "model_id": "10379f3332ba4a149dc78731384d1e40",
       "version_major": 2,
       "version_minor": 0
      },
      "text/plain": [
       "HBox(children=(IntProgress(value=0, description='Loss: ', max=141, style=ProgressStyle(description_width='init…"
      ]
     },
     "metadata": {},
     "output_type": "display_data"
    },
    {
     "name": "stdout",
     "output_type": "stream",
     "text": [
      "\n",
      "Epoch 354/500, training loss: 1.4700375118999616, validation loss: 1.713295340538025\n",
      "\t     precision: 0.7518\n",
      "\t        recall: 0.7570\n",
      "\t            F1: 0.7331\n",
      "\t      accuracy: 0.7543\n"
     ]
    },
    {
     "data": {
      "application/vnd.jupyter.widget-view+json": {
       "model_id": "fa08ae9b0c734cae83dca9480d0821e2",
       "version_major": 2,
       "version_minor": 0
      },
      "text/plain": [
       "HBox(children=(IntProgress(value=0, description='Loss: ', max=141, style=ProgressStyle(description_width='init…"
      ]
     },
     "metadata": {},
     "output_type": "display_data"
    },
    {
     "name": "stdout",
     "output_type": "stream",
     "text": [
      "\n",
      "Epoch 355/500, training loss: 1.4698774366514058, validation loss: 1.7254263162612915\n",
      "\t     precision: 0.7387\n",
      "\t        recall: 0.7401\n",
      "\t            F1: 0.7087\n",
      "\t      accuracy: 0.7316\n"
     ]
    },
    {
     "data": {
      "application/vnd.jupyter.widget-view+json": {
       "model_id": "2647bd2979974a28925c3edf93a35b03",
       "version_major": 2,
       "version_minor": 0
      },
      "text/plain": [
       "HBox(children=(IntProgress(value=0, description='Loss: ', max=141, style=ProgressStyle(description_width='init…"
      ]
     },
     "metadata": {},
     "output_type": "display_data"
    },
    {
     "name": "stdout",
     "output_type": "stream",
     "text": [
      "\n",
      "Epoch 356/500, training loss: 1.4697674166226218, validation loss: 1.7303133010864258\n",
      "\t     precision: 0.7063\n",
      "\t        recall: 0.7135\n",
      "\t            F1: 0.6878\n",
      "\t      accuracy: 0.7320\n"
     ]
    },
    {
     "data": {
      "application/vnd.jupyter.widget-view+json": {
       "model_id": "d7873b0424db4716b325455291ebeb64",
       "version_major": 2,
       "version_minor": 0
      },
      "text/plain": [
       "HBox(children=(IntProgress(value=0, description='Loss: ', max=141, style=ProgressStyle(description_width='init…"
      ]
     },
     "metadata": {},
     "output_type": "display_data"
    },
    {
     "name": "stdout",
     "output_type": "stream",
     "text": [
      "\n",
      "Epoch 357/500, training loss: 1.4697325170462858, validation loss: 1.7199546098709106\n",
      "\t     precision: 0.7201\n",
      "\t        recall: 0.7119\n",
      "\t            F1: 0.6905\n",
      "\t      accuracy: 0.7395\n"
     ]
    },
    {
     "data": {
      "application/vnd.jupyter.widget-view+json": {
       "model_id": "88fc22318cca409fa5b423c47a84a6ba",
       "version_major": 2,
       "version_minor": 0
      },
      "text/plain": [
       "HBox(children=(IntProgress(value=0, description='Loss: ', max=141, style=ProgressStyle(description_width='init…"
      ]
     },
     "metadata": {},
     "output_type": "display_data"
    },
    {
     "name": "stdout",
     "output_type": "stream",
     "text": [
      "\n",
      "Epoch 358/500, training loss: 1.4697407661600317, validation loss: 1.7248948812484741\n",
      "\t     precision: 0.7013\n",
      "\t        recall: 0.7047\n",
      "\t            F1: 0.6740\n",
      "\t      accuracy: 0.7305\n"
     ]
    },
    {
     "data": {
      "application/vnd.jupyter.widget-view+json": {
       "model_id": "742937fe94cc4a2b9bbf6a188c54d6fd",
       "version_major": 2,
       "version_minor": 0
      },
      "text/plain": [
       "HBox(children=(IntProgress(value=0, description='Loss: ', max=141, style=ProgressStyle(description_width='init…"
      ]
     },
     "metadata": {},
     "output_type": "display_data"
    },
    {
     "name": "stdout",
     "output_type": "stream",
     "text": [
      "\n",
      "Epoch 359/500, training loss: 1.4698922837034185, validation loss: 1.7314767837524414\n",
      "\t     precision: 0.7066\n",
      "\t        recall: 0.7234\n",
      "\t            F1: 0.6880\n",
      "\t      accuracy: 0.7195\n"
     ]
    },
    {
     "data": {
      "application/vnd.jupyter.widget-view+json": {
       "model_id": "0040f0dfddd1443ca302654a8b0e30ae",
       "version_major": 2,
       "version_minor": 0
      },
      "text/plain": [
       "HBox(children=(IntProgress(value=0, description='Loss: ', max=141, style=ProgressStyle(description_width='init…"
      ]
     },
     "metadata": {},
     "output_type": "display_data"
    },
    {
     "name": "stdout",
     "output_type": "stream",
     "text": [
      "\n",
      "Epoch 360/500, training loss: 1.4700565338134766, validation loss: 1.7233853340148926\n",
      "\t     precision: 0.7122\n",
      "\t        recall: 0.7180\n",
      "\t            F1: 0.6882\n",
      "\t      accuracy: 0.7262\n"
     ]
    },
    {
     "data": {
      "application/vnd.jupyter.widget-view+json": {
       "model_id": "70873157fb4a4430893d5c13c80f402e",
       "version_major": 2,
       "version_minor": 0
      },
      "text/plain": [
       "HBox(children=(IntProgress(value=0, description='Loss: ', max=141, style=ProgressStyle(description_width='init…"
      ]
     },
     "metadata": {},
     "output_type": "display_data"
    },
    {
     "name": "stdout",
     "output_type": "stream",
     "text": [
      "\n",
      "Epoch 361/500, training loss: 1.4697587194172204, validation loss: 1.7314496040344238\n",
      "\t     precision: 0.7358\n",
      "\t        recall: 0.7252\n",
      "\t            F1: 0.7001\n",
      "\t      accuracy: 0.7289\n"
     ]
    },
    {
     "data": {
      "application/vnd.jupyter.widget-view+json": {
       "model_id": "1bae9b2c50414d76bf9036bd4b47be8d",
       "version_major": 2,
       "version_minor": 0
      },
      "text/plain": [
       "HBox(children=(IntProgress(value=0, description='Loss: ', max=141, style=ProgressStyle(description_width='init…"
      ]
     },
     "metadata": {},
     "output_type": "display_data"
    },
    {
     "name": "stdout",
     "output_type": "stream",
     "text": [
      "\n",
      "Epoch 362/500, training loss: 1.47031417975189, validation loss: 1.729743242263794\n",
      "\t     precision: 0.7041\n",
      "\t        recall: 0.7122\n",
      "\t            F1: 0.6828\n",
      "\t      accuracy: 0.7285\n"
     ]
    },
    {
     "data": {
      "application/vnd.jupyter.widget-view+json": {
       "model_id": "c8881dfee91944e49c73ae16f58447ca",
       "version_major": 2,
       "version_minor": 0
      },
      "text/plain": [
       "HBox(children=(IntProgress(value=0, description='Loss: ', max=141, style=ProgressStyle(description_width='init…"
      ]
     },
     "metadata": {},
     "output_type": "display_data"
    },
    {
     "name": "stdout",
     "output_type": "stream",
     "text": [
      "\n",
      "Epoch 363/500, training loss: 1.4699606041536264, validation loss: 1.7407492399215698\n",
      "\t     precision: 0.7152\n",
      "\t        recall: 0.7149\n",
      "\t            F1: 0.6844\n",
      "\t      accuracy: 0.7105\n"
     ]
    },
    {
     "data": {
      "application/vnd.jupyter.widget-view+json": {
       "model_id": "900db695b9fe4601943c1624b737b56a",
       "version_major": 2,
       "version_minor": 0
      },
      "text/plain": [
       "HBox(children=(IntProgress(value=0, description='Loss: ', max=141, style=ProgressStyle(description_width='init…"
      ]
     },
     "metadata": {},
     "output_type": "display_data"
    },
    {
     "name": "stdout",
     "output_type": "stream",
     "text": [
      "\n",
      "Epoch 364/500, training loss: 1.4700568618503869, validation loss: 1.7209053039550781\n",
      "\t     precision: 0.7151\n",
      "\t        recall: 0.7265\n",
      "\t            F1: 0.6932\n",
      "\t      accuracy: 0.7434\n"
     ]
    },
    {
     "data": {
      "application/vnd.jupyter.widget-view+json": {
       "model_id": "74d1bd9d616c44db90244a6156a1a1c8",
       "version_major": 2,
       "version_minor": 0
      },
      "text/plain": [
       "HBox(children=(IntProgress(value=0, description='Loss: ', max=141, style=ProgressStyle(description_width='init…"
      ]
     },
     "metadata": {},
     "output_type": "display_data"
    },
    {
     "name": "stdout",
     "output_type": "stream",
     "text": [
      "\n",
      "Epoch 365/500, training loss: 1.4700261447446565, validation loss: 1.72449791431427\n",
      "\t     precision: 0.7210\n",
      "\t        recall: 0.7279\n",
      "\t            F1: 0.7002\n",
      "\t      accuracy: 0.7414\n"
     ]
    },
    {
     "data": {
      "application/vnd.jupyter.widget-view+json": {
       "model_id": "ec9b8886380942fcb850e1fa9c510850",
       "version_major": 2,
       "version_minor": 0
      },
      "text/plain": [
       "HBox(children=(IntProgress(value=0, description='Loss: ', max=141, style=ProgressStyle(description_width='init…"
      ]
     },
     "metadata": {},
     "output_type": "display_data"
    },
    {
     "name": "stdout",
     "output_type": "stream",
     "text": [
      "\n",
      "Epoch 366/500, training loss: 1.4701312256197558, validation loss: 1.7251111268997192\n",
      "\t     precision: 0.7104\n",
      "\t        recall: 0.7166\n",
      "\t            F1: 0.6894\n",
      "\t      accuracy: 0.7309\n"
     ]
    },
    {
     "data": {
      "application/vnd.jupyter.widget-view+json": {
       "model_id": "fedc357792334a329cd8903385cf9817",
       "version_major": 2,
       "version_minor": 0
      },
      "text/plain": [
       "HBox(children=(IntProgress(value=0, description='Loss: ', max=141, style=ProgressStyle(description_width='init…"
      ]
     },
     "metadata": {},
     "output_type": "display_data"
    },
    {
     "name": "stdout",
     "output_type": "stream",
     "text": [
      "\n",
      "Epoch 367/500, training loss: 1.4702655592708722, validation loss: 1.7392805814743042\n",
      "\t     precision: 0.6898\n",
      "\t        recall: 0.6981\n",
      "\t            F1: 0.6707\n",
      "\t      accuracy: 0.7172\n"
     ]
    },
    {
     "data": {
      "application/vnd.jupyter.widget-view+json": {
       "model_id": "177610d33d5a4eee83b0553e3fa32d2f",
       "version_major": 2,
       "version_minor": 0
      },
      "text/plain": [
       "HBox(children=(IntProgress(value=0, description='Loss: ', max=141, style=ProgressStyle(description_width='init…"
      ]
     },
     "metadata": {},
     "output_type": "display_data"
    },
    {
     "name": "stdout",
     "output_type": "stream",
     "text": [
      "\n",
      "Epoch 368/500, training loss: 1.469995471602636, validation loss: 1.7274523973464966\n",
      "\t     precision: 0.7270\n",
      "\t        recall: 0.7287\n",
      "\t            F1: 0.6944\n",
      "\t      accuracy: 0.7336\n"
     ]
    },
    {
     "data": {
      "application/vnd.jupyter.widget-view+json": {
       "model_id": "58610d078c7e4380a18b28287220cf4c",
       "version_major": 2,
       "version_minor": 0
      },
      "text/plain": [
       "HBox(children=(IntProgress(value=0, description='Loss: ', max=141, style=ProgressStyle(description_width='init…"
      ]
     },
     "metadata": {},
     "output_type": "display_data"
    },
    {
     "name": "stdout",
     "output_type": "stream",
     "text": [
      "\n",
      "Epoch 369/500, training loss: 1.46940267931485, validation loss: 1.7390490770339966\n",
      "\t     precision: 0.7594\n",
      "\t        recall: 0.7382\n",
      "\t            F1: 0.7108\n",
      "\t      accuracy: 0.7223\n"
     ]
    },
    {
     "data": {
      "application/vnd.jupyter.widget-view+json": {
       "model_id": "a7372c9d2663426d90aa316f0fd066c2",
       "version_major": 2,
       "version_minor": 0
      },
      "text/plain": [
       "HBox(children=(IntProgress(value=0, description='Loss: ', max=141, style=ProgressStyle(description_width='init…"
      ]
     },
     "metadata": {},
     "output_type": "display_data"
    },
    {
     "name": "stdout",
     "output_type": "stream",
     "text": [
      "\n",
      "Epoch 370/500, training loss: 1.4701386487230341, validation loss: 1.7313679456710815\n",
      "\t     precision: 0.7260\n",
      "\t        recall: 0.7466\n",
      "\t            F1: 0.7062\n",
      "\t      accuracy: 0.7371\n"
     ]
    },
    {
     "data": {
      "application/vnd.jupyter.widget-view+json": {
       "model_id": "8d35ab6ff16e4c858528e13bca660780",
       "version_major": 2,
       "version_minor": 0
      },
      "text/plain": [
       "HBox(children=(IntProgress(value=0, description='Loss: ', max=141, style=ProgressStyle(description_width='init…"
      ]
     },
     "metadata": {},
     "output_type": "display_data"
    },
    {
     "name": "stdout",
     "output_type": "stream",
     "text": [
      "\n",
      "Epoch 371/500, training loss: 1.4697281367389867, validation loss: 1.734426736831665\n",
      "\t     precision: 0.7130\n",
      "\t        recall: 0.7029\n",
      "\t            F1: 0.6850\n",
      "\t      accuracy: 0.7262\n"
     ]
    },
    {
     "data": {
      "application/vnd.jupyter.widget-view+json": {
       "model_id": "b3f5bc6faddb494db53d9171ef814ff2",
       "version_major": 2,
       "version_minor": 0
      },
      "text/plain": [
       "HBox(children=(IntProgress(value=0, description='Loss: ', max=141, style=ProgressStyle(description_width='init…"
      ]
     },
     "metadata": {},
     "output_type": "display_data"
    },
    {
     "name": "stdout",
     "output_type": "stream",
     "text": [
      "\n",
      "Epoch 372/500, training loss: 1.4698969117293121, validation loss: 1.7413865327835083\n",
      "\t     precision: 0.7140\n",
      "\t        recall: 0.7146\n",
      "\t            F1: 0.6893\n",
      "\t      accuracy: 0.7164\n"
     ]
    },
    {
     "data": {
      "application/vnd.jupyter.widget-view+json": {
       "model_id": "41c6b5ee73e14bc2b9c42146c574428a",
       "version_major": 2,
       "version_minor": 0
      },
      "text/plain": [
       "HBox(children=(IntProgress(value=0, description='Loss: ', max=141, style=ProgressStyle(description_width='init…"
      ]
     },
     "metadata": {},
     "output_type": "display_data"
    },
    {
     "name": "stdout",
     "output_type": "stream",
     "text": [
      "\n",
      "Epoch 373/500, training loss: 1.4697099349177476, validation loss: 1.734974980354309\n",
      "\t     precision: 0.7207\n",
      "\t        recall: 0.7316\n",
      "\t            F1: 0.6960\n",
      "\t      accuracy: 0.7203\n"
     ]
    },
    {
     "data": {
      "application/vnd.jupyter.widget-view+json": {
       "model_id": "e5ab8d789ebc4b8bad0b32d8e7f8f209",
       "version_major": 2,
       "version_minor": 0
      },
      "text/plain": [
       "HBox(children=(IntProgress(value=0, description='Loss: ', max=141, style=ProgressStyle(description_width='init…"
      ]
     },
     "metadata": {},
     "output_type": "display_data"
    },
    {
     "name": "stdout",
     "output_type": "stream",
     "text": [
      "\n",
      "Epoch 374/500, training loss: 1.4697915112718622, validation loss: 1.7427377700805664\n",
      "\t     precision: 0.7387\n",
      "\t        recall: 0.7099\n",
      "\t            F1: 0.6942\n",
      "\t      accuracy: 0.7172\n"
     ]
    },
    {
     "data": {
      "application/vnd.jupyter.widget-view+json": {
       "model_id": "8f125d6949244f59a3d0827badab5851",
       "version_major": 2,
       "version_minor": 0
      },
      "text/plain": [
       "HBox(children=(IntProgress(value=0, description='Loss: ', max=141, style=ProgressStyle(description_width='init…"
      ]
     },
     "metadata": {},
     "output_type": "display_data"
    },
    {
     "name": "stdout",
     "output_type": "stream",
     "text": [
      "\n",
      "Epoch 375/500, training loss: 1.469851570771941, validation loss: 1.734787940979004\n",
      "\t     precision: 0.7162\n",
      "\t        recall: 0.7173\n",
      "\t            F1: 0.6837\n",
      "\t      accuracy: 0.7164\n"
     ]
    },
    {
     "data": {
      "application/vnd.jupyter.widget-view+json": {
       "model_id": "9d5150e1a06f4752b08fec229d9ee7e1",
       "version_major": 2,
       "version_minor": 0
      },
      "text/plain": [
       "HBox(children=(IntProgress(value=0, description='Loss: ', max=141, style=ProgressStyle(description_width='init…"
      ]
     },
     "metadata": {},
     "output_type": "display_data"
    },
    {
     "name": "stdout",
     "output_type": "stream",
     "text": [
      "\n",
      "Epoch 376/500, training loss: 1.4698202001287581, validation loss: 1.7217353582382202\n",
      "\t     precision: 0.7553\n",
      "\t        recall: 0.7499\n",
      "\t            F1: 0.7194\n",
      "\t      accuracy: 0.7426\n"
     ]
    },
    {
     "data": {
      "application/vnd.jupyter.widget-view+json": {
       "model_id": "1c1aeca69b894d43981b4200f40b3af5",
       "version_major": 2,
       "version_minor": 0
      },
      "text/plain": [
       "HBox(children=(IntProgress(value=0, description='Loss: ', max=141, style=ProgressStyle(description_width='init…"
      ]
     },
     "metadata": {},
     "output_type": "display_data"
    },
    {
     "name": "stdout",
     "output_type": "stream",
     "text": [
      "\n",
      "Epoch 377/500, training loss: 1.4699925437886665, validation loss: 1.7286204099655151\n",
      "\t     precision: 0.7404\n",
      "\t        recall: 0.7326\n",
      "\t            F1: 0.7104\n",
      "\t      accuracy: 0.7316\n"
     ]
    },
    {
     "data": {
      "application/vnd.jupyter.widget-view+json": {
       "model_id": "cb0a6e04bea94f79973f9fa64a02f918",
       "version_major": 2,
       "version_minor": 0
      },
      "text/plain": [
       "HBox(children=(IntProgress(value=0, description='Loss: ', max=141, style=ProgressStyle(description_width='init…"
      ]
     },
     "metadata": {},
     "output_type": "display_data"
    },
    {
     "name": "stdout",
     "output_type": "stream",
     "text": [
      "\n",
      "Epoch 378/500, training loss: 1.4699905933217798, validation loss: 1.7363303899765015\n",
      "\t     precision: 0.7171\n",
      "\t        recall: 0.6886\n",
      "\t            F1: 0.6764\n",
      "\t      accuracy: 0.7309\n"
     ]
    },
    {
     "data": {
      "application/vnd.jupyter.widget-view+json": {
       "model_id": "a3a823f6b57f470c876f884b45bf38f6",
       "version_major": 2,
       "version_minor": 0
      },
      "text/plain": [
       "HBox(children=(IntProgress(value=0, description='Loss: ', max=141, style=ProgressStyle(description_width='init…"
      ]
     },
     "metadata": {},
     "output_type": "display_data"
    },
    {
     "name": "stdout",
     "output_type": "stream",
     "text": [
      "\n",
      "Epoch 379/500, training loss: 1.4698181126980072, validation loss: 1.741784930229187\n",
      "\t     precision: 0.7035\n",
      "\t        recall: 0.7169\n",
      "\t            F1: 0.6840\n",
      "\t      accuracy: 0.7203\n"
     ]
    },
    {
     "data": {
      "application/vnd.jupyter.widget-view+json": {
       "model_id": "38a73cc2a23d4dd290cfdc5d7c0df395",
       "version_major": 2,
       "version_minor": 0
      },
      "text/plain": [
       "HBox(children=(IntProgress(value=0, description='Loss: ', max=141, style=ProgressStyle(description_width='init…"
      ]
     },
     "metadata": {},
     "output_type": "display_data"
    },
    {
     "name": "stdout",
     "output_type": "stream",
     "text": [
      "\n",
      "Epoch 380/500, training loss: 1.4699844984298056, validation loss: 1.7298848628997803\n",
      "\t     precision: 0.7306\n",
      "\t        recall: 0.7297\n",
      "\t            F1: 0.7048\n",
      "\t      accuracy: 0.7293\n"
     ]
    },
    {
     "data": {
      "application/vnd.jupyter.widget-view+json": {
       "model_id": "d410d2c628d342a2a1c55688a1ffeb91",
       "version_major": 2,
       "version_minor": 0
      },
      "text/plain": [
       "HBox(children=(IntProgress(value=0, description='Loss: ', max=141, style=ProgressStyle(description_width='init…"
      ]
     },
     "metadata": {},
     "output_type": "display_data"
    },
    {
     "name": "stdout",
     "output_type": "stream",
     "text": [
      "\n",
      "Epoch 381/500, training loss: 1.4693648164153945, validation loss: 1.7344030141830444\n",
      "\t     precision: 0.7157\n",
      "\t        recall: 0.7258\n",
      "\t            F1: 0.6971\n",
      "\t      accuracy: 0.7297\n"
     ]
    },
    {
     "data": {
      "application/vnd.jupyter.widget-view+json": {
       "model_id": "69fedb0a34b041a5b368cda255340916",
       "version_major": 2,
       "version_minor": 0
      },
      "text/plain": [
       "HBox(children=(IntProgress(value=0, description='Loss: ', max=141, style=ProgressStyle(description_width='init…"
      ]
     },
     "metadata": {},
     "output_type": "display_data"
    },
    {
     "name": "stdout",
     "output_type": "stream",
     "text": [
      "\n",
      "Epoch 382/500, training loss: 1.4695212917124971, validation loss: 1.7385878562927246\n",
      "\t     precision: 0.7084\n",
      "\t        recall: 0.7115\n",
      "\t            F1: 0.6837\n",
      "\t      accuracy: 0.7125\n"
     ]
    },
    {
     "data": {
      "application/vnd.jupyter.widget-view+json": {
       "model_id": "36e88f5135794c669462ccdc7de76cd5",
       "version_major": 2,
       "version_minor": 0
      },
      "text/plain": [
       "HBox(children=(IntProgress(value=0, description='Loss: ', max=141, style=ProgressStyle(description_width='init…"
      ]
     },
     "metadata": {},
     "output_type": "display_data"
    },
    {
     "name": "stdout",
     "output_type": "stream",
     "text": [
      "\n",
      "Epoch 383/500, training loss: 1.4695745351466727, validation loss: 1.7413772344589233\n",
      "\t     precision: 0.7031\n",
      "\t        recall: 0.6822\n",
      "\t            F1: 0.6621\n",
      "\t      accuracy: 0.7117\n"
     ]
    },
    {
     "data": {
      "application/vnd.jupyter.widget-view+json": {
       "model_id": "bc777ffd35e64afc982776dcd5cb0127",
       "version_major": 2,
       "version_minor": 0
      },
      "text/plain": [
       "HBox(children=(IntProgress(value=0, description='Loss: ', max=141, style=ProgressStyle(description_width='init…"
      ]
     },
     "metadata": {},
     "output_type": "display_data"
    },
    {
     "name": "stdout",
     "output_type": "stream",
     "text": [
      "\n",
      "Epoch 384/500, training loss: 1.4692847821729402, validation loss: 1.7308160066604614\n",
      "\t     precision: 0.7472\n",
      "\t        recall: 0.7296\n",
      "\t            F1: 0.7052\n",
      "\t      accuracy: 0.7242\n"
     ]
    },
    {
     "data": {
      "application/vnd.jupyter.widget-view+json": {
       "model_id": "804d89fcb9104a56841d10d053081a55",
       "version_major": 2,
       "version_minor": 0
      },
      "text/plain": [
       "HBox(children=(IntProgress(value=0, description='Loss: ', max=141, style=ProgressStyle(description_width='init…"
      ]
     },
     "metadata": {},
     "output_type": "display_data"
    },
    {
     "name": "stdout",
     "output_type": "stream",
     "text": [
      "\n",
      "Epoch 385/500, training loss: 1.4695205468658015, validation loss: 1.7314245700836182\n",
      "\t     precision: 0.7315\n",
      "\t        recall: 0.7093\n",
      "\t            F1: 0.6935\n",
      "\t      accuracy: 0.7289\n"
     ]
    },
    {
     "data": {
      "application/vnd.jupyter.widget-view+json": {
       "model_id": "e416911d85fd4f86affe18463963af61",
       "version_major": 2,
       "version_minor": 0
      },
      "text/plain": [
       "HBox(children=(IntProgress(value=0, description='Loss: ', max=141, style=ProgressStyle(description_width='init…"
      ]
     },
     "metadata": {},
     "output_type": "display_data"
    },
    {
     "name": "stdout",
     "output_type": "stream",
     "text": [
      "\n",
      "Epoch 386/500, training loss: 1.4697488478734984, validation loss: 1.7359293699264526\n",
      "\t     precision: 0.7254\n",
      "\t        recall: 0.7286\n",
      "\t            F1: 0.6948\n",
      "\t      accuracy: 0.7223\n"
     ]
    },
    {
     "data": {
      "application/vnd.jupyter.widget-view+json": {
       "model_id": "75cb65a4d7924880aac41d188b4248b8",
       "version_major": 2,
       "version_minor": 0
      },
      "text/plain": [
       "HBox(children=(IntProgress(value=0, description='Loss: ', max=141, style=ProgressStyle(description_width='init…"
      ]
     },
     "metadata": {},
     "output_type": "display_data"
    },
    {
     "name": "stdout",
     "output_type": "stream",
     "text": [
      "\n",
      "Epoch 387/500, training loss: 1.4694833518765498, validation loss: 1.73280668258667\n",
      "\t     precision: 0.7301\n",
      "\t        recall: 0.7123\n",
      "\t            F1: 0.6910\n",
      "\t      accuracy: 0.7191\n"
     ]
    },
    {
     "data": {
      "application/vnd.jupyter.widget-view+json": {
       "model_id": "e0c54b6f65db4d669959bdbdc2ba8a86",
       "version_major": 2,
       "version_minor": 0
      },
      "text/plain": [
       "HBox(children=(IntProgress(value=0, description='Loss: ', max=141, style=ProgressStyle(description_width='init…"
      ]
     },
     "metadata": {},
     "output_type": "display_data"
    },
    {
     "name": "stdout",
     "output_type": "stream",
     "text": [
      "\n",
      "Epoch 388/500, training loss: 1.470093275638337, validation loss: 1.7236855030059814\n",
      "\t     precision: 0.7413\n",
      "\t        recall: 0.7552\n",
      "\t            F1: 0.7195\n",
      "\t      accuracy: 0.7332\n"
     ]
    },
    {
     "data": {
      "application/vnd.jupyter.widget-view+json": {
       "model_id": "c3c66bd340fd4a37999651d8b18337c4",
       "version_major": 2,
       "version_minor": 0
      },
      "text/plain": [
       "HBox(children=(IntProgress(value=0, description='Loss: ', max=141, style=ProgressStyle(description_width='init…"
      ]
     },
     "metadata": {},
     "output_type": "display_data"
    },
    {
     "name": "stdout",
     "output_type": "stream",
     "text": [
      "\n",
      "Epoch 389/500, training loss: 1.4695940710974078, validation loss: 1.72314453125\n",
      "\t     precision: 0.7320\n",
      "\t        recall: 0.7363\n",
      "\t            F1: 0.7124\n",
      "\t      accuracy: 0.7387\n"
     ]
    },
    {
     "data": {
      "application/vnd.jupyter.widget-view+json": {
       "model_id": "7d49e28a11504e599de5328d63189a48",
       "version_major": 2,
       "version_minor": 0
      },
      "text/plain": [
       "HBox(children=(IntProgress(value=0, description='Loss: ', max=141, style=ProgressStyle(description_width='init…"
      ]
     },
     "metadata": {},
     "output_type": "display_data"
    },
    {
     "name": "stdout",
     "output_type": "stream",
     "text": [
      "\n",
      "Epoch 390/500, training loss: 1.46991525389624, validation loss: 1.7317594289779663\n",
      "\t     precision: 0.7176\n",
      "\t        recall: 0.7205\n",
      "\t            F1: 0.6952\n",
      "\t      accuracy: 0.7309\n"
     ]
    },
    {
     "data": {
      "application/vnd.jupyter.widget-view+json": {
       "model_id": "16cea42d200b4d77bfe1a8042c62dbd3",
       "version_major": 2,
       "version_minor": 0
      },
      "text/plain": [
       "HBox(children=(IntProgress(value=0, description='Loss: ', max=141, style=ProgressStyle(description_width='init…"
      ]
     },
     "metadata": {},
     "output_type": "display_data"
    },
    {
     "name": "stdout",
     "output_type": "stream",
     "text": [
      "\n",
      "Epoch 391/500, training loss: 1.4694208988906643, validation loss: 1.722067952156067\n",
      "\t     precision: 0.7493\n",
      "\t        recall: 0.7261\n",
      "\t            F1: 0.7125\n",
      "\t      accuracy: 0.7391\n"
     ]
    },
    {
     "data": {
      "application/vnd.jupyter.widget-view+json": {
       "model_id": "98821acb22ae4e799e91d0073b4fbd45",
       "version_major": 2,
       "version_minor": 0
      },
      "text/plain": [
       "HBox(children=(IntProgress(value=0, description='Loss: ', max=141, style=ProgressStyle(description_width='init…"
      ]
     },
     "metadata": {},
     "output_type": "display_data"
    },
    {
     "name": "stdout",
     "output_type": "stream",
     "text": [
      "\n",
      "Epoch 392/500, training loss: 1.470001423612554, validation loss: 1.7151048183441162\n",
      "\t     precision: 0.7648\n",
      "\t        recall: 0.7477\n",
      "\t            F1: 0.7298\n",
      "\t      accuracy: 0.7551\n"
     ]
    },
    {
     "data": {
      "application/vnd.jupyter.widget-view+json": {
       "model_id": "536ea2de169344d99085e1693cd9b5b2",
       "version_major": 2,
       "version_minor": 0
      },
      "text/plain": [
       "HBox(children=(IntProgress(value=0, description='Loss: ', max=141, style=ProgressStyle(description_width='init…"
      ]
     },
     "metadata": {},
     "output_type": "display_data"
    },
    {
     "name": "stdout",
     "output_type": "stream",
     "text": [
      "\n",
      "Epoch 393/500, training loss: 1.4697110450014155, validation loss: 1.724996566772461\n",
      "\t     precision: 0.7595\n",
      "\t        recall: 0.7403\n",
      "\t            F1: 0.7255\n",
      "\t      accuracy: 0.7492\n"
     ]
    },
    {
     "data": {
      "application/vnd.jupyter.widget-view+json": {
       "model_id": "80f64a0d05964e3fb3b538db034d1d8a",
       "version_major": 2,
       "version_minor": 0
      },
      "text/plain": [
       "HBox(children=(IntProgress(value=0, description='Loss: ', max=141, style=ProgressStyle(description_width='init…"
      ]
     },
     "metadata": {},
     "output_type": "display_data"
    },
    {
     "name": "stdout",
     "output_type": "stream",
     "text": [
      "\n",
      "Epoch 394/500, training loss: 1.4697405759324418, validation loss: 1.738180160522461\n",
      "\t     precision: 0.7248\n",
      "\t        recall: 0.7116\n",
      "\t            F1: 0.6886\n",
      "\t      accuracy: 0.7254\n"
     ]
    },
    {
     "data": {
      "application/vnd.jupyter.widget-view+json": {
       "model_id": "5f8853f2c08b464bb77d2b1345a04f3c",
       "version_major": 2,
       "version_minor": 0
      },
      "text/plain": [
       "HBox(children=(IntProgress(value=0, description='Loss: ', max=141, style=ProgressStyle(description_width='init…"
      ]
     },
     "metadata": {},
     "output_type": "display_data"
    },
    {
     "name": "stdout",
     "output_type": "stream",
     "text": [
      "\n",
      "Epoch 395/500, training loss: 1.4701244628175776, validation loss: 1.7275047302246094\n",
      "\t     precision: 0.7336\n",
      "\t        recall: 0.7259\n",
      "\t            F1: 0.7057\n",
      "\t      accuracy: 0.7359\n"
     ]
    },
    {
     "data": {
      "application/vnd.jupyter.widget-view+json": {
       "model_id": "e777b336ea274aa0b778fa39250f6f0b",
       "version_major": 2,
       "version_minor": 0
      },
      "text/plain": [
       "HBox(children=(IntProgress(value=0, description='Loss: ', max=141, style=ProgressStyle(description_width='init…"
      ]
     },
     "metadata": {},
     "output_type": "display_data"
    },
    {
     "name": "stdout",
     "output_type": "stream",
     "text": [
      "\n",
      "Epoch 396/500, training loss: 1.4695510965712526, validation loss: 1.7326724529266357\n",
      "\t     precision: 0.7233\n",
      "\t        recall: 0.7392\n",
      "\t            F1: 0.7028\n",
      "\t      accuracy: 0.7312\n"
     ]
    },
    {
     "data": {
      "application/vnd.jupyter.widget-view+json": {
       "model_id": "88d65a8ad8194a3d94a647215acabe74",
       "version_major": 2,
       "version_minor": 0
      },
      "text/plain": [
       "HBox(children=(IntProgress(value=0, description='Loss: ', max=141, style=ProgressStyle(description_width='init…"
      ]
     },
     "metadata": {},
     "output_type": "display_data"
    },
    {
     "name": "stdout",
     "output_type": "stream",
     "text": [
      "\n",
      "Epoch 397/500, training loss: 1.4697157601092725, validation loss: 1.7385846376419067\n",
      "\t     precision: 0.7242\n",
      "\t        recall: 0.7257\n",
      "\t            F1: 0.6973\n",
      "\t      accuracy: 0.7223\n"
     ]
    },
    {
     "data": {
      "application/vnd.jupyter.widget-view+json": {
       "model_id": "abcd6c1746914794870edc442cba5c51",
       "version_major": 2,
       "version_minor": 0
      },
      "text/plain": [
       "HBox(children=(IntProgress(value=0, description='Loss: ', max=141, style=ProgressStyle(description_width='init…"
      ]
     },
     "metadata": {},
     "output_type": "display_data"
    },
    {
     "name": "stdout",
     "output_type": "stream",
     "text": [
      "\n",
      "Epoch 398/500, training loss: 1.4697980288918138, validation loss: 1.735089659690857\n",
      "\t     precision: 0.7352\n",
      "\t        recall: 0.7356\n",
      "\t            F1: 0.7114\n",
      "\t      accuracy: 0.7254\n"
     ]
    },
    {
     "data": {
      "application/vnd.jupyter.widget-view+json": {
       "model_id": "dbc537c7580f4757b57d442edc1c2a98",
       "version_major": 2,
       "version_minor": 0
      },
      "text/plain": [
       "HBox(children=(IntProgress(value=0, description='Loss: ', max=141, style=ProgressStyle(description_width='init…"
      ]
     },
     "metadata": {},
     "output_type": "display_data"
    },
    {
     "name": "stdout",
     "output_type": "stream",
     "text": [
      "\n",
      "Epoch 399/500, training loss: 1.470201330827483, validation loss: 1.7304867506027222\n",
      "\t     precision: 0.7372\n",
      "\t        recall: 0.7386\n",
      "\t            F1: 0.7141\n",
      "\t      accuracy: 0.7383\n"
     ]
    },
    {
     "data": {
      "application/vnd.jupyter.widget-view+json": {
       "model_id": "c7f1e1dd1ea64a7482fc1e93111a12cc",
       "version_major": 2,
       "version_minor": 0
      },
      "text/plain": [
       "HBox(children=(IntProgress(value=0, description='Loss: ', max=141, style=ProgressStyle(description_width='init…"
      ]
     },
     "metadata": {},
     "output_type": "display_data"
    },
    {
     "name": "stdout",
     "output_type": "stream",
     "text": [
      "\n",
      "Epoch 400/500, training loss: 1.469544712533342, validation loss: 1.7521837949752808\n",
      "\t     precision: 0.7001\n",
      "\t        recall: 0.7153\n",
      "\t            F1: 0.6765\n",
      "\t      accuracy: 0.7066\n"
     ]
    },
    {
     "data": {
      "application/vnd.jupyter.widget-view+json": {
       "model_id": "0e7d82826fc6404796be790e7d234c63",
       "version_major": 2,
       "version_minor": 0
      },
      "text/plain": [
       "HBox(children=(IntProgress(value=0, description='Loss: ', max=141, style=ProgressStyle(description_width='init…"
      ]
     },
     "metadata": {},
     "output_type": "display_data"
    },
    {
     "name": "stdout",
     "output_type": "stream",
     "text": [
      "\n",
      "Epoch 401/500, training loss: 1.4700775247939089, validation loss: 1.7433063983917236\n",
      "\t     precision: 0.7166\n",
      "\t        recall: 0.7257\n",
      "\t            F1: 0.6923\n",
      "\t      accuracy: 0.7121\n"
     ]
    },
    {
     "data": {
      "application/vnd.jupyter.widget-view+json": {
       "model_id": "e387c8a274a34584a0b9888cb5722312",
       "version_major": 2,
       "version_minor": 0
      },
      "text/plain": [
       "HBox(children=(IntProgress(value=0, description='Loss: ', max=141, style=ProgressStyle(description_width='init…"
      ]
     },
     "metadata": {},
     "output_type": "display_data"
    },
    {
     "name": "stdout",
     "output_type": "stream",
     "text": [
      "\n",
      "Epoch 402/500, training loss: 1.4708911637042432, validation loss: 1.7496289014816284\n",
      "\t     precision: 0.7084\n",
      "\t        recall: 0.7004\n",
      "\t            F1: 0.6781\n",
      "\t      accuracy: 0.7098\n"
     ]
    },
    {
     "data": {
      "application/vnd.jupyter.widget-view+json": {
       "model_id": "56695d38b2eb41b7bf52c43a9c2383a7",
       "version_major": 2,
       "version_minor": 0
      },
      "text/plain": [
       "HBox(children=(IntProgress(value=0, description='Loss: ', max=141, style=ProgressStyle(description_width='init…"
      ]
     },
     "metadata": {},
     "output_type": "display_data"
    },
    {
     "name": "stdout",
     "output_type": "stream",
     "text": [
      "\n",
      "Epoch 403/500, training loss: 1.4697971250993986, validation loss: 1.750330924987793\n",
      "\t     precision: 0.7302\n",
      "\t        recall: 0.7321\n",
      "\t            F1: 0.7004\n",
      "\t      accuracy: 0.7070\n"
     ]
    },
    {
     "data": {
      "application/vnd.jupyter.widget-view+json": {
       "model_id": "4b0b44f2a6574339b69db9e1425b05e1",
       "version_major": 2,
       "version_minor": 0
      },
      "text/plain": [
       "HBox(children=(IntProgress(value=0, description='Loss: ', max=141, style=ProgressStyle(description_width='init…"
      ]
     },
     "metadata": {},
     "output_type": "display_data"
    },
    {
     "name": "stdout",
     "output_type": "stream",
     "text": [
      "\n",
      "Epoch 404/500, training loss: 1.469441831534636, validation loss: 1.7442467212677002\n",
      "\t     precision: 0.7051\n",
      "\t        recall: 0.7136\n",
      "\t            F1: 0.6850\n",
      "\t      accuracy: 0.7184\n"
     ]
    },
    {
     "data": {
      "application/vnd.jupyter.widget-view+json": {
       "model_id": "ee19752d06a54605ace77651f923cac2",
       "version_major": 2,
       "version_minor": 0
      },
      "text/plain": [
       "HBox(children=(IntProgress(value=0, description='Loss: ', max=141, style=ProgressStyle(description_width='init…"
      ]
     },
     "metadata": {},
     "output_type": "display_data"
    },
    {
     "name": "stdout",
     "output_type": "stream",
     "text": [
      "\n",
      "Epoch 405/500, training loss: 1.4697845810694052, validation loss: 1.7374083995819092\n",
      "\t     precision: 0.7189\n",
      "\t        recall: 0.7169\n",
      "\t            F1: 0.6966\n",
      "\t      accuracy: 0.7230\n"
     ]
    },
    {
     "data": {
      "application/vnd.jupyter.widget-view+json": {
       "model_id": "03968e89026940cdb7fb08410e6a3428",
       "version_major": 2,
       "version_minor": 0
      },
      "text/plain": [
       "HBox(children=(IntProgress(value=0, description='Loss: ', max=141, style=ProgressStyle(description_width='init…"
      ]
     },
     "metadata": {},
     "output_type": "display_data"
    },
    {
     "name": "stdout",
     "output_type": "stream",
     "text": [
      "\n",
      "Epoch 406/500, training loss: 1.4696389521267397, validation loss: 1.7452555894851685\n",
      "\t     precision: 0.6982\n",
      "\t        recall: 0.6872\n",
      "\t            F1: 0.6681\n",
      "\t      accuracy: 0.7086\n"
     ]
    },
    {
     "data": {
      "application/vnd.jupyter.widget-view+json": {
       "model_id": "039ab3ccd8f0468b934477c94d5ae702",
       "version_major": 2,
       "version_minor": 0
      },
      "text/plain": [
       "HBox(children=(IntProgress(value=0, description='Loss: ', max=141, style=ProgressStyle(description_width='init…"
      ]
     },
     "metadata": {},
     "output_type": "display_data"
    },
    {
     "name": "stdout",
     "output_type": "stream",
     "text": [
      "\n",
      "Epoch 407/500, training loss: 1.4695792874545917, validation loss: 1.7287712097167969\n",
      "\t     precision: 0.7182\n",
      "\t        recall: 0.7299\n",
      "\t            F1: 0.6984\n",
      "\t      accuracy: 0.7336\n"
     ]
    },
    {
     "data": {
      "application/vnd.jupyter.widget-view+json": {
       "model_id": "d47eda0bf6dd4dba96262112cf11715a",
       "version_major": 2,
       "version_minor": 0
      },
      "text/plain": [
       "HBox(children=(IntProgress(value=0, description='Loss: ', max=141, style=ProgressStyle(description_width='init…"
      ]
     },
     "metadata": {},
     "output_type": "display_data"
    },
    {
     "name": "stdout",
     "output_type": "stream",
     "text": [
      "\n",
      "Epoch 408/500, training loss: 1.4699159623883296, validation loss: 1.7428200244903564\n",
      "\t     precision: 0.7360\n",
      "\t        recall: 0.7339\n",
      "\t            F1: 0.7013\n",
      "\t      accuracy: 0.7148\n"
     ]
    },
    {
     "data": {
      "application/vnd.jupyter.widget-view+json": {
       "model_id": "6934eecaa8f544069ff2efe3209a5f75",
       "version_major": 2,
       "version_minor": 0
      },
      "text/plain": [
       "HBox(children=(IntProgress(value=0, description='Loss: ', max=141, style=ProgressStyle(description_width='init…"
      ]
     },
     "metadata": {},
     "output_type": "display_data"
    },
    {
     "name": "stdout",
     "output_type": "stream",
     "text": [
      "\n",
      "Epoch 409/500, training loss: 1.4701274422043604, validation loss: 1.7361083030700684\n",
      "\t     precision: 0.7380\n",
      "\t        recall: 0.7246\n",
      "\t            F1: 0.7041\n",
      "\t      accuracy: 0.7273\n"
     ]
    },
    {
     "data": {
      "application/vnd.jupyter.widget-view+json": {
       "model_id": "3f1f5736c9084657ae65194d7c43b232",
       "version_major": 2,
       "version_minor": 0
      },
      "text/plain": [
       "HBox(children=(IntProgress(value=0, description='Loss: ', max=141, style=ProgressStyle(description_width='init…"
      ]
     },
     "metadata": {},
     "output_type": "display_data"
    },
    {
     "name": "stdout",
     "output_type": "stream",
     "text": [
      "\n",
      "Epoch 410/500, training loss: 1.4691936268028638, validation loss: 1.7257907390594482\n",
      "\t     precision: 0.7254\n",
      "\t        recall: 0.7144\n",
      "\t            F1: 0.6952\n",
      "\t      accuracy: 0.7391\n"
     ]
    },
    {
     "data": {
      "application/vnd.jupyter.widget-view+json": {
       "model_id": "b32057c1561c4403a9ba1d18edfb5f2b",
       "version_major": 2,
       "version_minor": 0
      },
      "text/plain": [
       "HBox(children=(IntProgress(value=0, description='Loss: ', max=141, style=ProgressStyle(description_width='init…"
      ]
     },
     "metadata": {},
     "output_type": "display_data"
    },
    {
     "name": "stdout",
     "output_type": "stream",
     "text": [
      "\n",
      "Epoch 411/500, training loss: 1.4696553023994392, validation loss: 1.7194825410842896\n",
      "\t     precision: 0.7421\n",
      "\t        recall: 0.7344\n",
      "\t            F1: 0.7111\n",
      "\t      accuracy: 0.7477\n"
     ]
    },
    {
     "data": {
      "application/vnd.jupyter.widget-view+json": {
       "model_id": "d631b8150a0c43ea80a6deb4071601ce",
       "version_major": 2,
       "version_minor": 0
      },
      "text/plain": [
       "HBox(children=(IntProgress(value=0, description='Loss: ', max=141, style=ProgressStyle(description_width='init…"
      ]
     },
     "metadata": {},
     "output_type": "display_data"
    },
    {
     "name": "stdout",
     "output_type": "stream",
     "text": [
      "\n",
      "Epoch 412/500, training loss: 1.4694229812486796, validation loss: 1.7285354137420654\n",
      "\t     precision: 0.7137\n",
      "\t        recall: 0.7247\n",
      "\t            F1: 0.6922\n",
      "\t      accuracy: 0.7305\n"
     ]
    },
    {
     "data": {
      "application/vnd.jupyter.widget-view+json": {
       "model_id": "bdd15727d2cf4f008e14f5b4e61b6cfd",
       "version_major": 2,
       "version_minor": 0
      },
      "text/plain": [
       "HBox(children=(IntProgress(value=0, description='Loss: ', max=141, style=ProgressStyle(description_width='init…"
      ]
     },
     "metadata": {},
     "output_type": "display_data"
    },
    {
     "name": "stdout",
     "output_type": "stream",
     "text": [
      "\n",
      "Epoch 413/500, training loss: 1.4691021924323224, validation loss: 1.7296773195266724\n",
      "\t     precision: 0.6905\n",
      "\t        recall: 0.6785\n",
      "\t            F1: 0.6652\n",
      "\t      accuracy: 0.7242\n"
     ]
    },
    {
     "data": {
      "application/vnd.jupyter.widget-view+json": {
       "model_id": "4bb23d4e26044cdc8a4887aab69f1ee1",
       "version_major": 2,
       "version_minor": 0
      },
      "text/plain": [
       "HBox(children=(IntProgress(value=0, description='Loss: ', max=141, style=ProgressStyle(description_width='init…"
      ]
     },
     "metadata": {},
     "output_type": "display_data"
    },
    {
     "name": "stdout",
     "output_type": "stream",
     "text": [
      "\n",
      "Epoch 414/500, training loss: 1.4692490244588108, validation loss: 1.7321032285690308\n",
      "\t     precision: 0.7334\n",
      "\t        recall: 0.7304\n",
      "\t            F1: 0.7057\n",
      "\t      accuracy: 0.7324\n"
     ]
    },
    {
     "data": {
      "application/vnd.jupyter.widget-view+json": {
       "model_id": "433a5f3745f54fa2b25802965d56ab9a",
       "version_major": 2,
       "version_minor": 0
      },
      "text/plain": [
       "HBox(children=(IntProgress(value=0, description='Loss: ', max=141, style=ProgressStyle(description_width='init…"
      ]
     },
     "metadata": {},
     "output_type": "display_data"
    },
    {
     "name": "stdout",
     "output_type": "stream",
     "text": [
      "\n",
      "Epoch 415/500, training loss: 1.4696309760952673, validation loss: 1.7336024045944214\n",
      "\t     precision: 0.7004\n",
      "\t        recall: 0.7088\n",
      "\t            F1: 0.6764\n",
      "\t      accuracy: 0.7234\n"
     ]
    },
    {
     "data": {
      "application/vnd.jupyter.widget-view+json": {
       "model_id": "9196518ff0c9446c8ec94fd3c2235d15",
       "version_major": 2,
       "version_minor": 0
      },
      "text/plain": [
       "HBox(children=(IntProgress(value=0, description='Loss: ', max=141, style=ProgressStyle(description_width='init…"
      ]
     },
     "metadata": {},
     "output_type": "display_data"
    },
    {
     "name": "stdout",
     "output_type": "stream",
     "text": [
      "\n",
      "Epoch 416/500, training loss: 1.4690915379963867, validation loss: 1.731089472770691\n",
      "\t     precision: 0.7327\n",
      "\t        recall: 0.7194\n",
      "\t            F1: 0.6977\n",
      "\t      accuracy: 0.7316\n"
     ]
    },
    {
     "data": {
      "application/vnd.jupyter.widget-view+json": {
       "model_id": "6e9d7b7c733b47aeae757e6606f93ede",
       "version_major": 2,
       "version_minor": 0
      },
      "text/plain": [
       "HBox(children=(IntProgress(value=0, description='Loss: ', max=141, style=ProgressStyle(description_width='init…"
      ]
     },
     "metadata": {},
     "output_type": "display_data"
    },
    {
     "name": "stdout",
     "output_type": "stream",
     "text": [
      "\n",
      "Epoch 417/500, training loss: 1.4689273453773337, validation loss: 1.7384896278381348\n",
      "\t     precision: 0.7121\n",
      "\t        recall: 0.7186\n",
      "\t            F1: 0.6865\n",
      "\t      accuracy: 0.7195\n"
     ]
    },
    {
     "data": {
      "application/vnd.jupyter.widget-view+json": {
       "model_id": "3c5df25fb50a42a5b09a76405aac40de",
       "version_major": 2,
       "version_minor": 0
      },
      "text/plain": [
       "HBox(children=(IntProgress(value=0, description='Loss: ', max=141, style=ProgressStyle(description_width='init…"
      ]
     },
     "metadata": {},
     "output_type": "display_data"
    },
    {
     "name": "stdout",
     "output_type": "stream",
     "text": [
      "\n",
      "Epoch 418/500, training loss: 1.4693188599660887, validation loss: 1.7457315921783447\n",
      "\t     precision: 0.7122\n",
      "\t        recall: 0.7018\n",
      "\t            F1: 0.6818\n",
      "\t      accuracy: 0.7172\n"
     ]
    },
    {
     "data": {
      "application/vnd.jupyter.widget-view+json": {
       "model_id": "e834efdac33e4e6dbf583e5c316dcb8e",
       "version_major": 2,
       "version_minor": 0
      },
      "text/plain": [
       "HBox(children=(IntProgress(value=0, description='Loss: ', max=141, style=ProgressStyle(description_width='init…"
      ]
     },
     "metadata": {},
     "output_type": "display_data"
    },
    {
     "name": "stdout",
     "output_type": "stream",
     "text": [
      "\n",
      "Epoch 419/500, training loss: 1.468831162926153, validation loss: 1.7370522022247314\n",
      "\t     precision: 0.7143\n",
      "\t        recall: 0.7125\n",
      "\t            F1: 0.6850\n",
      "\t      accuracy: 0.7266\n"
     ]
    },
    {
     "data": {
      "application/vnd.jupyter.widget-view+json": {
       "model_id": "edc9b1cafcf946c39c9ad16ba8d22517",
       "version_major": 2,
       "version_minor": 0
      },
      "text/plain": [
       "HBox(children=(IntProgress(value=0, description='Loss: ', max=141, style=ProgressStyle(description_width='init…"
      ]
     },
     "metadata": {},
     "output_type": "display_data"
    },
    {
     "name": "stdout",
     "output_type": "stream",
     "text": [
      "\n",
      "Epoch 420/500, training loss: 1.469170905174093, validation loss: 1.7308562994003296\n",
      "\t     precision: 0.7403\n",
      "\t        recall: 0.7400\n",
      "\t            F1: 0.7121\n",
      "\t      accuracy: 0.7293\n"
     ]
    },
    {
     "data": {
      "application/vnd.jupyter.widget-view+json": {
       "model_id": "9783ed708b244a2fa3d5841300fcf142",
       "version_major": 2,
       "version_minor": 0
      },
      "text/plain": [
       "HBox(children=(IntProgress(value=0, description='Loss: ', max=141, style=ProgressStyle(description_width='init…"
      ]
     },
     "metadata": {},
     "output_type": "display_data"
    },
    {
     "name": "stdout",
     "output_type": "stream",
     "text": [
      "\n",
      "Epoch 421/500, training loss: 1.4693030085124024, validation loss: 1.7341681718826294\n",
      "\t     precision: 0.7322\n",
      "\t        recall: 0.7233\n",
      "\t            F1: 0.6921\n",
      "\t      accuracy: 0.7277\n"
     ]
    },
    {
     "data": {
      "application/vnd.jupyter.widget-view+json": {
       "model_id": "0967d3d39ef748c495b8424f75dadb48",
       "version_major": 2,
       "version_minor": 0
      },
      "text/plain": [
       "HBox(children=(IntProgress(value=0, description='Loss: ', max=141, style=ProgressStyle(description_width='init…"
      ]
     },
     "metadata": {},
     "output_type": "display_data"
    },
    {
     "name": "stdout",
     "output_type": "stream",
     "text": [
      "\n",
      "Epoch 422/500, training loss: 1.4697142585794976, validation loss: 1.7354373931884766\n",
      "\t     precision: 0.7218\n",
      "\t        recall: 0.7230\n",
      "\t            F1: 0.6876\n",
      "\t      accuracy: 0.7270\n"
     ]
    },
    {
     "data": {
      "application/vnd.jupyter.widget-view+json": {
       "model_id": "a86c612aaa4c47108c2d2a5782ba154b",
       "version_major": 2,
       "version_minor": 0
      },
      "text/plain": [
       "HBox(children=(IntProgress(value=0, description='Loss: ', max=141, style=ProgressStyle(description_width='init…"
      ]
     },
     "metadata": {},
     "output_type": "display_data"
    },
    {
     "name": "stdout",
     "output_type": "stream",
     "text": [
      "\n",
      "Epoch 423/500, training loss: 1.468854937993043, validation loss: 1.721749186515808\n",
      "\t     precision: 0.7354\n",
      "\t        recall: 0.7303\n",
      "\t            F1: 0.7037\n",
      "\t      accuracy: 0.7422\n"
     ]
    },
    {
     "data": {
      "application/vnd.jupyter.widget-view+json": {
       "model_id": "797556c7d2314874a72aa3cab4d44204",
       "version_major": 2,
       "version_minor": 0
      },
      "text/plain": [
       "HBox(children=(IntProgress(value=0, description='Loss: ', max=141, style=ProgressStyle(description_width='init…"
      ]
     },
     "metadata": {},
     "output_type": "display_data"
    },
    {
     "name": "stdout",
     "output_type": "stream",
     "text": [
      "\n",
      "Epoch 424/500, training loss: 1.469133698348458, validation loss: 1.7268202304840088\n",
      "\t     precision: 0.7431\n",
      "\t        recall: 0.7538\n",
      "\t            F1: 0.7214\n",
      "\t      accuracy: 0.7434\n"
     ]
    },
    {
     "data": {
      "application/vnd.jupyter.widget-view+json": {
       "model_id": "e00fb1f212704d9cae78ccc468a305f8",
       "version_major": 2,
       "version_minor": 0
      },
      "text/plain": [
       "HBox(children=(IntProgress(value=0, description='Loss: ', max=141, style=ProgressStyle(description_width='init…"
      ]
     },
     "metadata": {},
     "output_type": "display_data"
    },
    {
     "name": "stdout",
     "output_type": "stream",
     "text": [
      "\n",
      "Epoch 425/500, training loss: 1.469547766320249, validation loss: 1.7405142784118652\n",
      "\t     precision: 0.7160\n",
      "\t        recall: 0.7172\n",
      "\t            F1: 0.6852\n",
      "\t      accuracy: 0.7199\n"
     ]
    },
    {
     "data": {
      "application/vnd.jupyter.widget-view+json": {
       "model_id": "9c5d787acaab4b4c92429e80b2821c43",
       "version_major": 2,
       "version_minor": 0
      },
      "text/plain": [
       "HBox(children=(IntProgress(value=0, description='Loss: ', max=141, style=ProgressStyle(description_width='init…"
      ]
     },
     "metadata": {},
     "output_type": "display_data"
    },
    {
     "name": "stdout",
     "output_type": "stream",
     "text": [
      "\n",
      "Epoch 426/500, training loss: 1.46995299674095, validation loss: 1.7346981763839722\n",
      "\t     precision: 0.7526\n",
      "\t        recall: 0.7288\n",
      "\t            F1: 0.7044\n",
      "\t      accuracy: 0.7359\n"
     ]
    },
    {
     "data": {
      "application/vnd.jupyter.widget-view+json": {
       "model_id": "0172020f8c484ad7a0933ae23e0ec8a5",
       "version_major": 2,
       "version_minor": 0
      },
      "text/plain": [
       "HBox(children=(IntProgress(value=0, description='Loss: ', max=141, style=ProgressStyle(description_width='init…"
      ]
     },
     "metadata": {},
     "output_type": "display_data"
    },
    {
     "name": "stdout",
     "output_type": "stream",
     "text": [
      "\n",
      "Epoch 427/500, training loss: 1.4695378618037447, validation loss: 1.7431533336639404\n",
      "\t     precision: 0.6977\n",
      "\t        recall: 0.6978\n",
      "\t            F1: 0.6696\n",
      "\t      accuracy: 0.7141\n"
     ]
    },
    {
     "data": {
      "application/vnd.jupyter.widget-view+json": {
       "model_id": "1aafd348ec89496faafc009980113821",
       "version_major": 2,
       "version_minor": 0
      },
      "text/plain": [
       "HBox(children=(IntProgress(value=0, description='Loss: ', max=141, style=ProgressStyle(description_width='init…"
      ]
     },
     "metadata": {},
     "output_type": "display_data"
    },
    {
     "name": "stdout",
     "output_type": "stream",
     "text": [
      "\n",
      "Epoch 428/500, training loss: 1.4694983240560437, validation loss: 1.7410639524459839\n",
      "\t     precision: 0.7242\n",
      "\t        recall: 0.7218\n",
      "\t            F1: 0.6872\n",
      "\t      accuracy: 0.7195\n"
     ]
    },
    {
     "data": {
      "application/vnd.jupyter.widget-view+json": {
       "model_id": "c2a36ae933b144d89dafcccea4318ac0",
       "version_major": 2,
       "version_minor": 0
      },
      "text/plain": [
       "HBox(children=(IntProgress(value=0, description='Loss: ', max=141, style=ProgressStyle(description_width='init…"
      ]
     },
     "metadata": {},
     "output_type": "display_data"
    },
    {
     "name": "stdout",
     "output_type": "stream",
     "text": [
      "\n",
      "Epoch 429/500, training loss: 1.4690856781411679, validation loss: 1.7434688806533813\n",
      "\t     precision: 0.7119\n",
      "\t        recall: 0.6947\n",
      "\t            F1: 0.6767\n",
      "\t      accuracy: 0.7137\n"
     ]
    },
    {
     "data": {
      "application/vnd.jupyter.widget-view+json": {
       "model_id": "deae1847224b4dc39e4d733c96c1ffd7",
       "version_major": 2,
       "version_minor": 0
      },
      "text/plain": [
       "HBox(children=(IntProgress(value=0, description='Loss: ', max=141, style=ProgressStyle(description_width='init…"
      ]
     },
     "metadata": {},
     "output_type": "display_data"
    },
    {
     "name": "stdout",
     "output_type": "stream",
     "text": [
      "\n",
      "Epoch 430/500, training loss: 1.469134951314182, validation loss: 1.7352219820022583\n",
      "\t     precision: 0.6884\n",
      "\t        recall: 0.6897\n",
      "\t            F1: 0.6660\n",
      "\t      accuracy: 0.7285\n"
     ]
    },
    {
     "data": {
      "application/vnd.jupyter.widget-view+json": {
       "model_id": "52bdfd3987ac433abc015d8d6505f319",
       "version_major": 2,
       "version_minor": 0
      },
      "text/plain": [
       "HBox(children=(IntProgress(value=0, description='Loss: ', max=141, style=ProgressStyle(description_width='init…"
      ]
     },
     "metadata": {},
     "output_type": "display_data"
    },
    {
     "name": "stdout",
     "output_type": "stream",
     "text": [
      "\n",
      "Epoch 431/500, training loss: 1.469135805224696, validation loss: 1.7356643676757812\n",
      "\t     precision: 0.7170\n",
      "\t        recall: 0.7184\n",
      "\t            F1: 0.6887\n",
      "\t      accuracy: 0.7191\n"
     ]
    },
    {
     "data": {
      "application/vnd.jupyter.widget-view+json": {
       "model_id": "55a6b09d36064bd8a56ec4307e79398e",
       "version_major": 2,
       "version_minor": 0
      },
      "text/plain": [
       "HBox(children=(IntProgress(value=0, description='Loss: ', max=141, style=ProgressStyle(description_width='init…"
      ]
     },
     "metadata": {},
     "output_type": "display_data"
    },
    {
     "name": "stdout",
     "output_type": "stream",
     "text": [
      "\n",
      "Epoch 432/500, training loss: 1.4690707254071607, validation loss: 1.7261755466461182\n",
      "\t     precision: 0.7085\n",
      "\t        recall: 0.7134\n",
      "\t            F1: 0.6841\n",
      "\t      accuracy: 0.7281\n"
     ]
    },
    {
     "data": {
      "application/vnd.jupyter.widget-view+json": {
       "model_id": "794f7b2b0a274ee0a26728408b9ad48f",
       "version_major": 2,
       "version_minor": 0
      },
      "text/plain": [
       "HBox(children=(IntProgress(value=0, description='Loss: ', max=141, style=ProgressStyle(description_width='init…"
      ]
     },
     "metadata": {},
     "output_type": "display_data"
    },
    {
     "name": "stdout",
     "output_type": "stream",
     "text": [
      "\n",
      "Epoch 433/500, training loss: 1.469609777978126, validation loss: 1.7294843196868896\n",
      "\t     precision: 0.7043\n",
      "\t        recall: 0.7239\n",
      "\t            F1: 0.6898\n",
      "\t      accuracy: 0.7312\n"
     ]
    },
    {
     "data": {
      "application/vnd.jupyter.widget-view+json": {
       "model_id": "41aab5bc36ff48c5b6c41a0ef17cfe1d",
       "version_major": 2,
       "version_minor": 0
      },
      "text/plain": [
       "HBox(children=(IntProgress(value=0, description='Loss: ', max=141, style=ProgressStyle(description_width='init…"
      ]
     },
     "metadata": {},
     "output_type": "display_data"
    },
    {
     "name": "stdout",
     "output_type": "stream",
     "text": [
      "\n",
      "Epoch 434/500, training loss: 1.4695527773376897, validation loss: 1.732663869857788\n",
      "\t     precision: 0.7254\n",
      "\t        recall: 0.7405\n",
      "\t            F1: 0.6939\n",
      "\t      accuracy: 0.7266\n"
     ]
    },
    {
     "data": {
      "application/vnd.jupyter.widget-view+json": {
       "model_id": "693c78f6527a41cbb9966e9745826b07",
       "version_major": 2,
       "version_minor": 0
      },
      "text/plain": [
       "HBox(children=(IntProgress(value=0, description='Loss: ', max=141, style=ProgressStyle(description_width='init…"
      ]
     },
     "metadata": {},
     "output_type": "display_data"
    },
    {
     "name": "stdout",
     "output_type": "stream",
     "text": [
      "\n",
      "Epoch 435/500, training loss: 1.46907262514669, validation loss: 1.7344778776168823\n",
      "\t     precision: 0.7045\n",
      "\t        recall: 0.7150\n",
      "\t            F1: 0.6873\n",
      "\t      accuracy: 0.7207\n"
     ]
    },
    {
     "data": {
      "application/vnd.jupyter.widget-view+json": {
       "model_id": "cac1ceb11b9a4e629bdb6b321077756d",
       "version_major": 2,
       "version_minor": 0
      },
      "text/plain": [
       "HBox(children=(IntProgress(value=0, description='Loss: ', max=141, style=ProgressStyle(description_width='init…"
      ]
     },
     "metadata": {},
     "output_type": "display_data"
    },
    {
     "name": "stdout",
     "output_type": "stream",
     "text": [
      "\n",
      "Epoch 436/500, training loss: 1.4691268848189225, validation loss: 1.7246876955032349\n",
      "\t     precision: 0.7405\n",
      "\t        recall: 0.7518\n",
      "\t            F1: 0.7159\n",
      "\t      accuracy: 0.7398\n"
     ]
    },
    {
     "data": {
      "application/vnd.jupyter.widget-view+json": {
       "model_id": "a7c24af0f3d349f9961cb6ad45e5303b",
       "version_major": 2,
       "version_minor": 0
      },
      "text/plain": [
       "HBox(children=(IntProgress(value=0, description='Loss: ', max=141, style=ProgressStyle(description_width='init…"
      ]
     },
     "metadata": {},
     "output_type": "display_data"
    },
    {
     "name": "stdout",
     "output_type": "stream",
     "text": [
      "\n",
      "Epoch 437/500, training loss: 1.4692902429729489, validation loss: 1.73060142993927\n",
      "\t     precision: 0.6985\n",
      "\t        recall: 0.7066\n",
      "\t            F1: 0.6817\n",
      "\t      accuracy: 0.7270\n"
     ]
    },
    {
     "data": {
      "application/vnd.jupyter.widget-view+json": {
       "model_id": "913915238cfd483380d065ca9193f530",
       "version_major": 2,
       "version_minor": 0
      },
      "text/plain": [
       "HBox(children=(IntProgress(value=0, description='Loss: ', max=141, style=ProgressStyle(description_width='init…"
      ]
     },
     "metadata": {},
     "output_type": "display_data"
    },
    {
     "name": "stdout",
     "output_type": "stream",
     "text": [
      "\n",
      "Epoch 438/500, training loss: 1.4686299520181425, validation loss: 1.7333333492279053\n",
      "\t     precision: 0.7186\n",
      "\t        recall: 0.7294\n",
      "\t            F1: 0.7042\n",
      "\t      accuracy: 0.7312\n"
     ]
    },
    {
     "data": {
      "application/vnd.jupyter.widget-view+json": {
       "model_id": "428fbc27dee740828811500b73e1987d",
       "version_major": 2,
       "version_minor": 0
      },
      "text/plain": [
       "HBox(children=(IntProgress(value=0, description='Loss: ', max=141, style=ProgressStyle(description_width='init…"
      ]
     },
     "metadata": {},
     "output_type": "display_data"
    },
    {
     "name": "stdout",
     "output_type": "stream",
     "text": [
      "\n",
      "Epoch 439/500, training loss: 1.469073736075814, validation loss: 1.7358269691467285\n",
      "\t     precision: 0.7003\n",
      "\t        recall: 0.7141\n",
      "\t            F1: 0.6831\n",
      "\t      accuracy: 0.7227\n"
     ]
    },
    {
     "data": {
      "application/vnd.jupyter.widget-view+json": {
       "model_id": "732920204c2e4d5dab58afecad08ba68",
       "version_major": 2,
       "version_minor": 0
      },
      "text/plain": [
       "HBox(children=(IntProgress(value=0, description='Loss: ', max=141, style=ProgressStyle(description_width='init…"
      ]
     },
     "metadata": {},
     "output_type": "display_data"
    },
    {
     "name": "stdout",
     "output_type": "stream",
     "text": [
      "\n",
      "Epoch 440/500, training loss: 1.469027173434589, validation loss: 1.7456001043319702\n",
      "\t     precision: 0.6964\n",
      "\t        recall: 0.6965\n",
      "\t            F1: 0.6742\n",
      "\t      accuracy: 0.7113\n"
     ]
    },
    {
     "data": {
      "application/vnd.jupyter.widget-view+json": {
       "model_id": "fd45d93f647a4b069a1b5a9c1625ecf0",
       "version_major": 2,
       "version_minor": 0
      },
      "text/plain": [
       "HBox(children=(IntProgress(value=0, description='Loss: ', max=141, style=ProgressStyle(description_width='init…"
      ]
     },
     "metadata": {},
     "output_type": "display_data"
    },
    {
     "name": "stdout",
     "output_type": "stream",
     "text": [
      "\n",
      "Epoch 441/500, training loss: 1.468883955732305, validation loss: 1.729041576385498\n",
      "\t     precision: 0.7344\n",
      "\t        recall: 0.7240\n",
      "\t            F1: 0.7081\n",
      "\t      accuracy: 0.7375\n"
     ]
    },
    {
     "data": {
      "application/vnd.jupyter.widget-view+json": {
       "model_id": "2a989cd7735e4e2286cdf59de57166e2",
       "version_major": 2,
       "version_minor": 0
      },
      "text/plain": [
       "HBox(children=(IntProgress(value=0, description='Loss: ', max=141, style=ProgressStyle(description_width='init…"
      ]
     },
     "metadata": {},
     "output_type": "display_data"
    },
    {
     "name": "stdout",
     "output_type": "stream",
     "text": [
      "\n",
      "Epoch 442/500, training loss: 1.4686484776490123, validation loss: 1.7371996641159058\n",
      "\t     precision: 0.7201\n",
      "\t        recall: 0.6907\n",
      "\t            F1: 0.6796\n",
      "\t      accuracy: 0.7223\n"
     ]
    },
    {
     "data": {
      "application/vnd.jupyter.widget-view+json": {
       "model_id": "b267ea3ee5dc422eb0a659fee848b638",
       "version_major": 2,
       "version_minor": 0
      },
      "text/plain": [
       "HBox(children=(IntProgress(value=0, description='Loss: ', max=141, style=ProgressStyle(description_width='init…"
      ]
     },
     "metadata": {},
     "output_type": "display_data"
    },
    {
     "name": "stdout",
     "output_type": "stream",
     "text": [
      "\n",
      "Epoch 443/500, training loss: 1.4686186254447233, validation loss: 1.7284607887268066\n",
      "\t     precision: 0.7335\n",
      "\t        recall: 0.7177\n",
      "\t            F1: 0.6996\n",
      "\t      accuracy: 0.7359\n"
     ]
    },
    {
     "data": {
      "application/vnd.jupyter.widget-view+json": {
       "model_id": "8c2e48055e6248c18a276cbd9f4d56e9",
       "version_major": 2,
       "version_minor": 0
      },
      "text/plain": [
       "HBox(children=(IntProgress(value=0, description='Loss: ', max=141, style=ProgressStyle(description_width='init…"
      ]
     },
     "metadata": {},
     "output_type": "display_data"
    },
    {
     "name": "stdout",
     "output_type": "stream",
     "text": [
      "\n",
      "Epoch 444/500, training loss: 1.4694775672669107, validation loss: 1.731553554534912\n",
      "\t     precision: 0.7365\n",
      "\t        recall: 0.7312\n",
      "\t            F1: 0.7076\n",
      "\t      accuracy: 0.7301\n"
     ]
    },
    {
     "data": {
      "application/vnd.jupyter.widget-view+json": {
       "model_id": "3bbe4c4481a64827bdb7f0eccbfe59d8",
       "version_major": 2,
       "version_minor": 0
      },
      "text/plain": [
       "HBox(children=(IntProgress(value=0, description='Loss: ', max=141, style=ProgressStyle(description_width='init…"
      ]
     },
     "metadata": {},
     "output_type": "display_data"
    },
    {
     "name": "stdout",
     "output_type": "stream",
     "text": [
      "\n",
      "Epoch 445/500, training loss: 1.4688676206778126, validation loss: 1.7265353202819824\n",
      "\t     precision: 0.7165\n",
      "\t        recall: 0.7200\n",
      "\t            F1: 0.6933\n",
      "\t      accuracy: 0.7336\n"
     ]
    },
    {
     "data": {
      "application/vnd.jupyter.widget-view+json": {
       "model_id": "19641cafd0094dde8095f5de1a6f4d02",
       "version_major": 2,
       "version_minor": 0
      },
      "text/plain": [
       "HBox(children=(IntProgress(value=0, description='Loss: ', max=141, style=ProgressStyle(description_width='init…"
      ]
     },
     "metadata": {},
     "output_type": "display_data"
    },
    {
     "name": "stdout",
     "output_type": "stream",
     "text": [
      "\n",
      "Epoch 446/500, training loss: 1.4688577584341063, validation loss: 1.7232062816619873\n",
      "\t     precision: 0.7307\n",
      "\t        recall: 0.7283\n",
      "\t            F1: 0.7049\n",
      "\t      accuracy: 0.7352\n"
     ]
    },
    {
     "data": {
      "application/vnd.jupyter.widget-view+json": {
       "model_id": "feb2cef94f9248e6ab3c55f580ed42b0",
       "version_major": 2,
       "version_minor": 0
      },
      "text/plain": [
       "HBox(children=(IntProgress(value=0, description='Loss: ', max=141, style=ProgressStyle(description_width='init…"
      ]
     },
     "metadata": {},
     "output_type": "display_data"
    },
    {
     "name": "stdout",
     "output_type": "stream",
     "text": [
      "\n",
      "Epoch 447/500, training loss: 1.4691366684352252, validation loss: 1.7367405891418457\n",
      "\t     precision: 0.7215\n",
      "\t        recall: 0.7357\n",
      "\t            F1: 0.6990\n",
      "\t      accuracy: 0.7246\n"
     ]
    },
    {
     "data": {
      "application/vnd.jupyter.widget-view+json": {
       "model_id": "817eab5faeb74721b5c3c037b02428ee",
       "version_major": 2,
       "version_minor": 0
      },
      "text/plain": [
       "HBox(children=(IntProgress(value=0, description='Loss: ', max=141, style=ProgressStyle(description_width='init…"
      ]
     },
     "metadata": {},
     "output_type": "display_data"
    },
    {
     "name": "stdout",
     "output_type": "stream",
     "text": [
      "\n",
      "Epoch 448/500, training loss: 1.468903123064244, validation loss: 1.7402902841567993\n",
      "\t     precision: 0.7121\n",
      "\t        recall: 0.7099\n",
      "\t            F1: 0.6822\n",
      "\t      accuracy: 0.7168\n"
     ]
    },
    {
     "data": {
      "application/vnd.jupyter.widget-view+json": {
       "model_id": "1903d290e7fa4b46bb4816f8c7887b8e",
       "version_major": 2,
       "version_minor": 0
      },
      "text/plain": [
       "HBox(children=(IntProgress(value=0, description='Loss: ', max=141, style=ProgressStyle(description_width='init…"
      ]
     },
     "metadata": {},
     "output_type": "display_data"
    },
    {
     "name": "stdout",
     "output_type": "stream",
     "text": [
      "\n",
      "Epoch 449/500, training loss: 1.4690737825758913, validation loss: 1.7266312837600708\n",
      "\t     precision: 0.7220\n",
      "\t        recall: 0.7167\n",
      "\t            F1: 0.6896\n",
      "\t      accuracy: 0.7301\n"
     ]
    },
    {
     "data": {
      "application/vnd.jupyter.widget-view+json": {
       "model_id": "da8430fad6ac4629aa641591706572cd",
       "version_major": 2,
       "version_minor": 0
      },
      "text/plain": [
       "HBox(children=(IntProgress(value=0, description='Loss: ', max=141, style=ProgressStyle(description_width='init…"
      ]
     },
     "metadata": {},
     "output_type": "display_data"
    },
    {
     "name": "stdout",
     "output_type": "stream",
     "text": [
      "\n",
      "Epoch 450/500, training loss: 1.4687837446835024, validation loss: 1.7261075973510742\n",
      "\t     precision: 0.7237\n",
      "\t        recall: 0.7239\n",
      "\t            F1: 0.6946\n",
      "\t      accuracy: 0.7355\n"
     ]
    },
    {
     "data": {
      "application/vnd.jupyter.widget-view+json": {
       "model_id": "08f7c36ee7e6452fb49f12bf0888f084",
       "version_major": 2,
       "version_minor": 0
      },
      "text/plain": [
       "HBox(children=(IntProgress(value=0, description='Loss: ', max=141, style=ProgressStyle(description_width='init…"
      ]
     },
     "metadata": {},
     "output_type": "display_data"
    },
    {
     "name": "stdout",
     "output_type": "stream",
     "text": [
      "\n",
      "Epoch 451/500, training loss: 1.468859890674023, validation loss: 1.7249752283096313\n",
      "\t     precision: 0.7212\n",
      "\t        recall: 0.7343\n",
      "\t            F1: 0.7000\n",
      "\t      accuracy: 0.7352\n"
     ]
    },
    {
     "data": {
      "application/vnd.jupyter.widget-view+json": {
       "model_id": "3987b78c60c9454b9d3718ffcbc0bf3b",
       "version_major": 2,
       "version_minor": 0
      },
      "text/plain": [
       "HBox(children=(IntProgress(value=0, description='Loss: ', max=141, style=ProgressStyle(description_width='init…"
      ]
     },
     "metadata": {},
     "output_type": "display_data"
    },
    {
     "name": "stdout",
     "output_type": "stream",
     "text": [
      "\n",
      "Epoch 452/500, training loss: 1.4688896371963176, validation loss: 1.720621109008789\n",
      "\t     precision: 0.7563\n",
      "\t        recall: 0.7574\n",
      "\t            F1: 0.7287\n",
      "\t      accuracy: 0.7477\n"
     ]
    },
    {
     "data": {
      "application/vnd.jupyter.widget-view+json": {
       "model_id": "08d37a422c5744fa9a4f3512358107b9",
       "version_major": 2,
       "version_minor": 0
      },
      "text/plain": [
       "HBox(children=(IntProgress(value=0, description='Loss: ', max=141, style=ProgressStyle(description_width='init…"
      ]
     },
     "metadata": {},
     "output_type": "display_data"
    },
    {
     "name": "stdout",
     "output_type": "stream",
     "text": [
      "\n",
      "Epoch 453/500, training loss: 1.4691816543010956, validation loss: 1.7265164852142334\n",
      "\t     precision: 0.7234\n",
      "\t        recall: 0.7260\n",
      "\t            F1: 0.6950\n",
      "\t      accuracy: 0.7344\n"
     ]
    },
    {
     "data": {
      "application/vnd.jupyter.widget-view+json": {
       "model_id": "0e0addc6fa6c47698a228e549e382407",
       "version_major": 2,
       "version_minor": 0
      },
      "text/plain": [
       "HBox(children=(IntProgress(value=0, description='Loss: ', max=141, style=ProgressStyle(description_width='init…"
      ]
     },
     "metadata": {},
     "output_type": "display_data"
    },
    {
     "name": "stdout",
     "output_type": "stream",
     "text": [
      "\n",
      "Epoch 454/500, training loss: 1.4687674721927508, validation loss: 1.7261360883712769\n",
      "\t     precision: 0.7257\n",
      "\t        recall: 0.7112\n",
      "\t            F1: 0.6935\n",
      "\t      accuracy: 0.7328\n"
     ]
    },
    {
     "data": {
      "application/vnd.jupyter.widget-view+json": {
       "model_id": "e2ddf758a6814bafa399a4a325d9880b",
       "version_major": 2,
       "version_minor": 0
      },
      "text/plain": [
       "HBox(children=(IntProgress(value=0, description='Loss: ', max=141, style=ProgressStyle(description_width='init…"
      ]
     },
     "metadata": {},
     "output_type": "display_data"
    },
    {
     "name": "stdout",
     "output_type": "stream",
     "text": [
      "\n",
      "Epoch 455/500, training loss: 1.4688409964243572, validation loss: 1.7358410358428955\n",
      "\t     precision: 0.6977\n",
      "\t        recall: 0.6749\n",
      "\t            F1: 0.6626\n",
      "\t      accuracy: 0.7188\n"
     ]
    },
    {
     "data": {
      "application/vnd.jupyter.widget-view+json": {
       "model_id": "08af2d25c867464280ac0c05112b6448",
       "version_major": 2,
       "version_minor": 0
      },
      "text/plain": [
       "HBox(children=(IntProgress(value=0, description='Loss: ', max=141, style=ProgressStyle(description_width='init…"
      ]
     },
     "metadata": {},
     "output_type": "display_data"
    },
    {
     "name": "stdout",
     "output_type": "stream",
     "text": [
      "\n",
      "Epoch 456/500, training loss: 1.4692276834596134, validation loss: 1.730720043182373\n",
      "\t     precision: 0.7369\n",
      "\t        recall: 0.7225\n",
      "\t            F1: 0.7056\n",
      "\t      accuracy: 0.7340\n"
     ]
    },
    {
     "data": {
      "application/vnd.jupyter.widget-view+json": {
       "model_id": "aa1be93254fa45f7845d3598cf845665",
       "version_major": 2,
       "version_minor": 0
      },
      "text/plain": [
       "HBox(children=(IntProgress(value=0, description='Loss: ', max=141, style=ProgressStyle(description_width='init…"
      ]
     },
     "metadata": {},
     "output_type": "display_data"
    },
    {
     "name": "stdout",
     "output_type": "stream",
     "text": [
      "\n",
      "Epoch 457/500, training loss: 1.4691679384691496, validation loss: 1.720393419265747\n",
      "\t     precision: 0.7515\n",
      "\t        recall: 0.7567\n",
      "\t            F1: 0.7237\n",
      "\t      accuracy: 0.7367\n"
     ]
    },
    {
     "data": {
      "application/vnd.jupyter.widget-view+json": {
       "model_id": "e75deedd2b0444f89163fd5977930c96",
       "version_major": 2,
       "version_minor": 0
      },
      "text/plain": [
       "HBox(children=(IntProgress(value=0, description='Loss: ', max=141, style=ProgressStyle(description_width='init…"
      ]
     },
     "metadata": {},
     "output_type": "display_data"
    },
    {
     "name": "stdout",
     "output_type": "stream",
     "text": [
      "\n",
      "Epoch 458/500, training loss: 1.46869754114895, validation loss: 1.737605094909668\n",
      "\t     precision: 0.7244\n",
      "\t        recall: 0.7312\n",
      "\t            F1: 0.6959\n",
      "\t      accuracy: 0.7188\n"
     ]
    },
    {
     "data": {
      "application/vnd.jupyter.widget-view+json": {
       "model_id": "a90b550cbc824324880f1c084a995e39",
       "version_major": 2,
       "version_minor": 0
      },
      "text/plain": [
       "HBox(children=(IntProgress(value=0, description='Loss: ', max=141, style=ProgressStyle(description_width='init…"
      ]
     },
     "metadata": {},
     "output_type": "display_data"
    },
    {
     "name": "stdout",
     "output_type": "stream",
     "text": [
      "\n",
      "Epoch 459/500, training loss: 1.4692933322690058, validation loss: 1.7256431579589844\n",
      "\t     precision: 0.7464\n",
      "\t        recall: 0.7570\n",
      "\t            F1: 0.7167\n",
      "\t      accuracy: 0.7359\n"
     ]
    },
    {
     "data": {
      "application/vnd.jupyter.widget-view+json": {
       "model_id": "64a869fa0d3949cba873c65993f50fcd",
       "version_major": 2,
       "version_minor": 0
      },
      "text/plain": [
       "HBox(children=(IntProgress(value=0, description='Loss: ', max=141, style=ProgressStyle(description_width='init…"
      ]
     },
     "metadata": {},
     "output_type": "display_data"
    },
    {
     "name": "stdout",
     "output_type": "stream",
     "text": [
      "\n",
      "Epoch 460/500, training loss: 1.4692334486237655, validation loss: 1.7272164821624756\n",
      "\t     precision: 0.7359\n",
      "\t        recall: 0.7280\n",
      "\t            F1: 0.7045\n",
      "\t      accuracy: 0.7285\n"
     ]
    },
    {
     "data": {
      "application/vnd.jupyter.widget-view+json": {
       "model_id": "0b6f6fb4a4204dcdaf25525644c010fe",
       "version_major": 2,
       "version_minor": 0
      },
      "text/plain": [
       "HBox(children=(IntProgress(value=0, description='Loss: ', max=141, style=ProgressStyle(description_width='init…"
      ]
     },
     "metadata": {},
     "output_type": "display_data"
    },
    {
     "name": "stdout",
     "output_type": "stream",
     "text": [
      "\n",
      "Epoch 461/500, training loss: 1.4687793466216283, validation loss: 1.7255860567092896\n",
      "\t     precision: 0.7321\n",
      "\t        recall: 0.7053\n",
      "\t            F1: 0.6894\n",
      "\t      accuracy: 0.7273\n"
     ]
    },
    {
     "data": {
      "application/vnd.jupyter.widget-view+json": {
       "model_id": "8f2a97e9d8694e80b2e17b26a91d08d9",
       "version_major": 2,
       "version_minor": 0
      },
      "text/plain": [
       "HBox(children=(IntProgress(value=0, description='Loss: ', max=141, style=ProgressStyle(description_width='init…"
      ]
     },
     "metadata": {},
     "output_type": "display_data"
    },
    {
     "name": "stdout",
     "output_type": "stream",
     "text": [
      "\n",
      "Epoch 462/500, training loss: 1.4693074759016647, validation loss: 1.71957528591156\n",
      "\t     precision: 0.7333\n",
      "\t        recall: 0.7391\n",
      "\t            F1: 0.7102\n",
      "\t      accuracy: 0.7477\n"
     ]
    },
    {
     "data": {
      "application/vnd.jupyter.widget-view+json": {
       "model_id": "775ffb17f3eb45e2b619fc6fc22d17eb",
       "version_major": 2,
       "version_minor": 0
      },
      "text/plain": [
       "HBox(children=(IntProgress(value=0, description='Loss: ', max=141, style=ProgressStyle(description_width='init…"
      ]
     },
     "metadata": {},
     "output_type": "display_data"
    },
    {
     "name": "stdout",
     "output_type": "stream",
     "text": [
      "\n",
      "Epoch 463/500, training loss: 1.4690285836551207, validation loss: 1.7193024158477783\n",
      "\t     precision: 0.7282\n",
      "\t        recall: 0.7400\n",
      "\t            F1: 0.7090\n",
      "\t      accuracy: 0.7406\n"
     ]
    },
    {
     "data": {
      "application/vnd.jupyter.widget-view+json": {
       "model_id": "089a7437fb04415d8eda78261873200f",
       "version_major": 2,
       "version_minor": 0
      },
      "text/plain": [
       "HBox(children=(IntProgress(value=0, description='Loss: ', max=141, style=ProgressStyle(description_width='init…"
      ]
     },
     "metadata": {},
     "output_type": "display_data"
    },
    {
     "name": "stdout",
     "output_type": "stream",
     "text": [
      "\n",
      "Epoch 464/500, training loss: 1.469160109547013, validation loss: 1.740734338760376\n",
      "\t     precision: 0.7189\n",
      "\t        recall: 0.7047\n",
      "\t            F1: 0.6849\n",
      "\t      accuracy: 0.7168\n"
     ]
    },
    {
     "data": {
      "application/vnd.jupyter.widget-view+json": {
       "model_id": "d7fa5abe6dbf45d69067d5c312dac3d0",
       "version_major": 2,
       "version_minor": 0
      },
      "text/plain": [
       "HBox(children=(IntProgress(value=0, description='Loss: ', max=141, style=ProgressStyle(description_width='init…"
      ]
     },
     "metadata": {},
     "output_type": "display_data"
    },
    {
     "name": "stdout",
     "output_type": "stream",
     "text": [
      "\n",
      "Epoch 465/500, training loss: 1.4696167039533032, validation loss: 1.7423237562179565\n",
      "\t     precision: 0.7249\n",
      "\t        recall: 0.7302\n",
      "\t            F1: 0.6970\n",
      "\t      accuracy: 0.7273\n"
     ]
    },
    {
     "data": {
      "application/vnd.jupyter.widget-view+json": {
       "model_id": "7c815ab362e64bceb4ba1e4c4aca97a9",
       "version_major": 2,
       "version_minor": 0
      },
      "text/plain": [
       "HBox(children=(IntProgress(value=0, description='Loss: ', max=141, style=ProgressStyle(description_width='init…"
      ]
     },
     "metadata": {},
     "output_type": "display_data"
    },
    {
     "name": "stdout",
     "output_type": "stream",
     "text": [
      "\n",
      "Epoch 466/500, training loss: 1.4687322462704164, validation loss: 1.7480605840682983\n",
      "\t     precision: 0.6886\n",
      "\t        recall: 0.6857\n",
      "\t            F1: 0.6624\n",
      "\t      accuracy: 0.7121\n"
     ]
    },
    {
     "data": {
      "application/vnd.jupyter.widget-view+json": {
       "model_id": "92500f1d0511406db79840afbb5522b2",
       "version_major": 2,
       "version_minor": 0
      },
      "text/plain": [
       "HBox(children=(IntProgress(value=0, description='Loss: ', max=141, style=ProgressStyle(description_width='init…"
      ]
     },
     "metadata": {},
     "output_type": "display_data"
    },
    {
     "name": "stdout",
     "output_type": "stream",
     "text": [
      "\n",
      "Epoch 467/500, training loss: 1.4692390683694934, validation loss: 1.7237993478775024\n",
      "\t     precision: 0.6946\n",
      "\t        recall: 0.7034\n",
      "\t            F1: 0.6703\n",
      "\t      accuracy: 0.7293\n"
     ]
    },
    {
     "data": {
      "application/vnd.jupyter.widget-view+json": {
       "model_id": "1827e595a6e0440a9e0684ca3a99feed",
       "version_major": 2,
       "version_minor": 0
      },
      "text/plain": [
       "HBox(children=(IntProgress(value=0, description='Loss: ', max=141, style=ProgressStyle(description_width='init…"
      ]
     },
     "metadata": {},
     "output_type": "display_data"
    },
    {
     "name": "stdout",
     "output_type": "stream",
     "text": [
      "\n",
      "Epoch 468/500, training loss: 1.4691847368335047, validation loss: 1.7367844581604004\n",
      "\t     precision: 0.7185\n",
      "\t        recall: 0.7166\n",
      "\t            F1: 0.6881\n",
      "\t      accuracy: 0.7180\n"
     ]
    },
    {
     "data": {
      "application/vnd.jupyter.widget-view+json": {
       "model_id": "92ca61bed76645eea66afaa61def730e",
       "version_major": 2,
       "version_minor": 0
      },
      "text/plain": [
       "HBox(children=(IntProgress(value=0, description='Loss: ', max=141, style=ProgressStyle(description_width='init…"
      ]
     },
     "metadata": {},
     "output_type": "display_data"
    },
    {
     "name": "stdout",
     "output_type": "stream",
     "text": [
      "\n",
      "Epoch 469/500, training loss: 1.468870718428429, validation loss: 1.7465455532073975\n",
      "\t     precision: 0.6983\n",
      "\t        recall: 0.7239\n",
      "\t            F1: 0.6819\n",
      "\t      accuracy: 0.7113\n"
     ]
    },
    {
     "data": {
      "application/vnd.jupyter.widget-view+json": {
       "model_id": "40204a7972a44d9e88237c0714f64a1b",
       "version_major": 2,
       "version_minor": 0
      },
      "text/plain": [
       "HBox(children=(IntProgress(value=0, description='Loss: ', max=141, style=ProgressStyle(description_width='init…"
      ]
     },
     "metadata": {},
     "output_type": "display_data"
    },
    {
     "name": "stdout",
     "output_type": "stream",
     "text": [
      "\n",
      "Epoch 470/500, training loss: 1.4689167898597446, validation loss: 1.7257843017578125\n",
      "\t     precision: 0.7319\n",
      "\t        recall: 0.7299\n",
      "\t            F1: 0.7087\n",
      "\t      accuracy: 0.7320\n"
     ]
    },
    {
     "data": {
      "application/vnd.jupyter.widget-view+json": {
       "model_id": "a68619cbca184460b8aabb2f442956c4",
       "version_major": 2,
       "version_minor": 0
      },
      "text/plain": [
       "HBox(children=(IntProgress(value=0, description='Loss: ', max=141, style=ProgressStyle(description_width='init…"
      ]
     },
     "metadata": {},
     "output_type": "display_data"
    },
    {
     "name": "stdout",
     "output_type": "stream",
     "text": [
      "\n",
      "Epoch 471/500, training loss: 1.4694274621652372, validation loss: 1.730800747871399\n",
      "\t     precision: 0.7158\n",
      "\t        recall: 0.7306\n",
      "\t            F1: 0.6988\n",
      "\t      accuracy: 0.7301\n"
     ]
    },
    {
     "data": {
      "application/vnd.jupyter.widget-view+json": {
       "model_id": "4b10e1f96ad444d98a8c235cad7edbb2",
       "version_major": 2,
       "version_minor": 0
      },
      "text/plain": [
       "HBox(children=(IntProgress(value=0, description='Loss: ', max=141, style=ProgressStyle(description_width='init…"
      ]
     },
     "metadata": {},
     "output_type": "display_data"
    },
    {
     "name": "stdout",
     "output_type": "stream",
     "text": [
      "\n",
      "Epoch 472/500, training loss: 1.4690403261928693, validation loss: 1.7322741746902466\n",
      "\t     precision: 0.7157\n",
      "\t        recall: 0.7046\n",
      "\t            F1: 0.6811\n",
      "\t      accuracy: 0.7227\n"
     ]
    },
    {
     "data": {
      "application/vnd.jupyter.widget-view+json": {
       "model_id": "c29b62d54f644f4581d9b48db305f30c",
       "version_major": 2,
       "version_minor": 0
      },
      "text/plain": [
       "HBox(children=(IntProgress(value=0, description='Loss: ', max=141, style=ProgressStyle(description_width='init…"
      ]
     },
     "metadata": {},
     "output_type": "display_data"
    },
    {
     "name": "stdout",
     "output_type": "stream",
     "text": [
      "\n",
      "Epoch 473/500, training loss: 1.468845859487006, validation loss: 1.733090877532959\n",
      "\t     precision: 0.7249\n",
      "\t        recall: 0.7245\n",
      "\t            F1: 0.6905\n",
      "\t      accuracy: 0.7246\n"
     ]
    },
    {
     "data": {
      "application/vnd.jupyter.widget-view+json": {
       "model_id": "e06960e520e343edb4d9199a2a64d840",
       "version_major": 2,
       "version_minor": 0
      },
      "text/plain": [
       "HBox(children=(IntProgress(value=0, description='Loss: ', max=141, style=ProgressStyle(description_width='init…"
      ]
     },
     "metadata": {},
     "output_type": "display_data"
    },
    {
     "name": "stdout",
     "output_type": "stream",
     "text": [
      "\n",
      "Epoch 474/500, training loss: 1.469177871731156, validation loss: 1.7361869812011719\n",
      "\t     precision: 0.6987\n",
      "\t        recall: 0.7088\n",
      "\t            F1: 0.6717\n",
      "\t      accuracy: 0.7195\n"
     ]
    },
    {
     "data": {
      "application/vnd.jupyter.widget-view+json": {
       "model_id": "fc15fd7ea82349ef96d5a96ec01ab965",
       "version_major": 2,
       "version_minor": 0
      },
      "text/plain": [
       "HBox(children=(IntProgress(value=0, description='Loss: ', max=141, style=ProgressStyle(description_width='init…"
      ]
     },
     "metadata": {},
     "output_type": "display_data"
    },
    {
     "name": "stdout",
     "output_type": "stream",
     "text": [
      "\n",
      "Epoch 475/500, training loss: 1.4693439454897075, validation loss: 1.7146729230880737\n",
      "\t     precision: 0.7580\n",
      "\t        recall: 0.7442\n",
      "\t            F1: 0.7201\n",
      "\t      accuracy: 0.7488\n"
     ]
    },
    {
     "data": {
      "application/vnd.jupyter.widget-view+json": {
       "model_id": "e045b9e9ac4c4d82b52290934eccd5d2",
       "version_major": 2,
       "version_minor": 0
      },
      "text/plain": [
       "HBox(children=(IntProgress(value=0, description='Loss: ', max=141, style=ProgressStyle(description_width='init…"
      ]
     },
     "metadata": {},
     "output_type": "display_data"
    },
    {
     "name": "stdout",
     "output_type": "stream",
     "text": [
      "\n",
      "Epoch 476/500, training loss: 1.468852696689308, validation loss: 1.7138116359710693\n",
      "\t     precision: 0.7038\n",
      "\t        recall: 0.7203\n",
      "\t            F1: 0.6870\n",
      "\t      accuracy: 0.7426\n"
     ]
    },
    {
     "data": {
      "application/vnd.jupyter.widget-view+json": {
       "model_id": "9f0ddac23a15492eb1e0f691c46fbe2c",
       "version_major": 2,
       "version_minor": 0
      },
      "text/plain": [
       "HBox(children=(IntProgress(value=0, description='Loss: ', max=141, style=ProgressStyle(description_width='init…"
      ]
     },
     "metadata": {},
     "output_type": "display_data"
    },
    {
     "name": "stdout",
     "output_type": "stream",
     "text": [
      "\n",
      "Epoch 477/500, training loss: 1.4690270077252219, validation loss: 1.7300838232040405\n",
      "\t     precision: 0.7395\n",
      "\t        recall: 0.7205\n",
      "\t            F1: 0.6965\n",
      "\t      accuracy: 0.7289\n"
     ]
    },
    {
     "data": {
      "application/vnd.jupyter.widget-view+json": {
       "model_id": "6900fd6fbd7c4c8999ef4cc3b227730c",
       "version_major": 2,
       "version_minor": 0
      },
      "text/plain": [
       "HBox(children=(IntProgress(value=0, description='Loss: ', max=141, style=ProgressStyle(description_width='init…"
      ]
     },
     "metadata": {},
     "output_type": "display_data"
    },
    {
     "name": "stdout",
     "output_type": "stream",
     "text": [
      "\n",
      "Epoch 478/500, training loss: 1.469311162089625, validation loss: 1.7362500429153442\n",
      "\t     precision: 0.7260\n",
      "\t        recall: 0.7171\n",
      "\t            F1: 0.6973\n",
      "\t      accuracy: 0.7184\n"
     ]
    },
    {
     "data": {
      "application/vnd.jupyter.widget-view+json": {
       "model_id": "c741860705fc471eb60c10094c91d275",
       "version_major": 2,
       "version_minor": 0
      },
      "text/plain": [
       "HBox(children=(IntProgress(value=0, description='Loss: ', max=141, style=ProgressStyle(description_width='init…"
      ]
     },
     "metadata": {},
     "output_type": "display_data"
    },
    {
     "name": "stdout",
     "output_type": "stream",
     "text": [
      "\n",
      "Epoch 479/500, training loss: 1.4688569298872711, validation loss: 1.71828031539917\n",
      "\t     precision: 0.7437\n",
      "\t        recall: 0.7403\n",
      "\t            F1: 0.7178\n",
      "\t      accuracy: 0.7484\n"
     ]
    },
    {
     "data": {
      "application/vnd.jupyter.widget-view+json": {
       "model_id": "44d8cfdd60434816ac0b0fa914d5873f",
       "version_major": 2,
       "version_minor": 0
      },
      "text/plain": [
       "HBox(children=(IntProgress(value=0, description='Loss: ', max=141, style=ProgressStyle(description_width='init…"
      ]
     },
     "metadata": {},
     "output_type": "display_data"
    },
    {
     "name": "stdout",
     "output_type": "stream",
     "text": [
      "\n",
      "Epoch 480/500, training loss: 1.4686643105026678, validation loss: 1.7313144207000732\n",
      "\t     precision: 0.7524\n",
      "\t        recall: 0.7429\n",
      "\t            F1: 0.7202\n",
      "\t      accuracy: 0.7336\n"
     ]
    },
    {
     "data": {
      "application/vnd.jupyter.widget-view+json": {
       "model_id": "ae9e93761a7740658b898701ef415551",
       "version_major": 2,
       "version_minor": 0
      },
      "text/plain": [
       "HBox(children=(IntProgress(value=0, description='Loss: ', max=141, style=ProgressStyle(description_width='init…"
      ]
     },
     "metadata": {},
     "output_type": "display_data"
    },
    {
     "name": "stdout",
     "output_type": "stream",
     "text": [
      "\n",
      "Epoch 481/500, training loss: 1.468900868233214, validation loss: 1.7274813652038574\n",
      "\t     precision: 0.7080\n",
      "\t        recall: 0.7206\n",
      "\t            F1: 0.6924\n",
      "\t      accuracy: 0.7320\n"
     ]
    },
    {
     "data": {
      "application/vnd.jupyter.widget-view+json": {
       "model_id": "e6263d9d4d3d4a5f8aec7fdf661ace27",
       "version_major": 2,
       "version_minor": 0
      },
      "text/plain": [
       "HBox(children=(IntProgress(value=0, description='Loss: ', max=141, style=ProgressStyle(description_width='init…"
      ]
     },
     "metadata": {},
     "output_type": "display_data"
    },
    {
     "name": "stdout",
     "output_type": "stream",
     "text": [
      "\n",
      "Epoch 482/500, training loss: 1.4689670775799042, validation loss: 1.733803629875183\n",
      "\t     precision: 0.7135\n",
      "\t        recall: 0.7143\n",
      "\t            F1: 0.6869\n",
      "\t      accuracy: 0.7254\n"
     ]
    },
    {
     "data": {
      "application/vnd.jupyter.widget-view+json": {
       "model_id": "565e3ff704f7462babf82fb50b5f8cdc",
       "version_major": 2,
       "version_minor": 0
      },
      "text/plain": [
       "HBox(children=(IntProgress(value=0, description='Loss: ', max=141, style=ProgressStyle(description_width='init…"
      ]
     },
     "metadata": {},
     "output_type": "display_data"
    },
    {
     "name": "stdout",
     "output_type": "stream",
     "text": [
      "\n",
      "Epoch 483/500, training loss: 1.4689353391633813, validation loss: 1.7219340801239014\n",
      "\t     precision: 0.7226\n",
      "\t        recall: 0.7261\n",
      "\t            F1: 0.6953\n",
      "\t      accuracy: 0.7422\n"
     ]
    },
    {
     "data": {
      "application/vnd.jupyter.widget-view+json": {
       "model_id": "84b415b281814f1284c690ee6c66380c",
       "version_major": 2,
       "version_minor": 0
      },
      "text/plain": [
       "HBox(children=(IntProgress(value=0, description='Loss: ', max=141, style=ProgressStyle(description_width='init…"
      ]
     },
     "metadata": {},
     "output_type": "display_data"
    },
    {
     "name": "stdout",
     "output_type": "stream",
     "text": [
      "\n",
      "Epoch 484/500, training loss: 1.4688607268299616, validation loss: 1.7288930416107178\n",
      "\t     precision: 0.7320\n",
      "\t        recall: 0.7346\n",
      "\t            F1: 0.7091\n",
      "\t      accuracy: 0.7352\n"
     ]
    },
    {
     "data": {
      "application/vnd.jupyter.widget-view+json": {
       "model_id": "cd2d970a14ae4e9e88a1d6cb1ee0cf40",
       "version_major": 2,
       "version_minor": 0
      },
      "text/plain": [
       "HBox(children=(IntProgress(value=0, description='Loss: ', max=141, style=ProgressStyle(description_width='init…"
      ]
     },
     "metadata": {},
     "output_type": "display_data"
    },
    {
     "name": "stdout",
     "output_type": "stream",
     "text": [
      "\n",
      "Epoch 485/500, training loss: 1.4691210275000715, validation loss: 1.7341418266296387\n",
      "\t     precision: 0.7565\n",
      "\t        recall: 0.7458\n",
      "\t            F1: 0.7210\n",
      "\t      accuracy: 0.7301\n"
     ]
    },
    {
     "data": {
      "application/vnd.jupyter.widget-view+json": {
       "model_id": "673db2091e01469b8817934223c357f7",
       "version_major": 2,
       "version_minor": 0
      },
      "text/plain": [
       "HBox(children=(IntProgress(value=0, description='Loss: ', max=141, style=ProgressStyle(description_width='init…"
      ]
     },
     "metadata": {},
     "output_type": "display_data"
    },
    {
     "name": "stdout",
     "output_type": "stream",
     "text": [
      "\n",
      "Epoch 486/500, training loss: 1.4694836849861956, validation loss: 1.7322938442230225\n",
      "\t     precision: 0.7113\n",
      "\t        recall: 0.7246\n",
      "\t            F1: 0.6894\n",
      "\t      accuracy: 0.7305\n"
     ]
    },
    {
     "data": {
      "application/vnd.jupyter.widget-view+json": {
       "model_id": "420a2557aa0e456682f7132be5301afc",
       "version_major": 2,
       "version_minor": 0
      },
      "text/plain": [
       "HBox(children=(IntProgress(value=0, description='Loss: ', max=141, style=ProgressStyle(description_width='init…"
      ]
     },
     "metadata": {},
     "output_type": "display_data"
    },
    {
     "name": "stdout",
     "output_type": "stream",
     "text": [
      "\n",
      "Epoch 487/500, training loss: 1.468989169343989, validation loss: 1.733512282371521\n",
      "\t     precision: 0.7197\n",
      "\t        recall: 0.6961\n",
      "\t            F1: 0.6800\n",
      "\t      accuracy: 0.7219\n"
     ]
    },
    {
     "data": {
      "application/vnd.jupyter.widget-view+json": {
       "model_id": "714dccb4d5554d598da9bd8f3b350307",
       "version_major": 2,
       "version_minor": 0
      },
      "text/plain": [
       "HBox(children=(IntProgress(value=0, description='Loss: ', max=141, style=ProgressStyle(description_width='init…"
      ]
     },
     "metadata": {},
     "output_type": "display_data"
    },
    {
     "name": "stdout",
     "output_type": "stream",
     "text": [
      "\n",
      "Epoch 488/500, training loss: 1.4689057338322309, validation loss: 1.7243608236312866\n",
      "\t     precision: 0.7413\n",
      "\t        recall: 0.7422\n",
      "\t            F1: 0.7128\n",
      "\t      accuracy: 0.7391\n"
     ]
    },
    {
     "data": {
      "application/vnd.jupyter.widget-view+json": {
       "model_id": "baf5d73b906d4dd78863e269124977b6",
       "version_major": 2,
       "version_minor": 0
      },
      "text/plain": [
       "HBox(children=(IntProgress(value=0, description='Loss: ', max=141, style=ProgressStyle(description_width='init…"
      ]
     },
     "metadata": {},
     "output_type": "display_data"
    },
    {
     "name": "stdout",
     "output_type": "stream",
     "text": [
      "\n",
      "Epoch 489/500, training loss: 1.4686486737947937, validation loss: 1.7251651287078857\n",
      "\t     precision: 0.7387\n",
      "\t        recall: 0.7228\n",
      "\t            F1: 0.7060\n",
      "\t      accuracy: 0.7363\n"
     ]
    },
    {
     "data": {
      "application/vnd.jupyter.widget-view+json": {
       "model_id": "b993b5c45ed348208332a8aa7d5a72ad",
       "version_major": 2,
       "version_minor": 0
      },
      "text/plain": [
       "HBox(children=(IntProgress(value=0, description='Loss: ', max=141, style=ProgressStyle(description_width='init…"
      ]
     },
     "metadata": {},
     "output_type": "display_data"
    },
    {
     "name": "stdout",
     "output_type": "stream",
     "text": [
      "\n",
      "Epoch 490/500, training loss: 1.4688734923694151, validation loss: 1.7235541343688965\n",
      "\t     precision: 0.7325\n",
      "\t        recall: 0.7342\n",
      "\t            F1: 0.7043\n",
      "\t      accuracy: 0.7402\n"
     ]
    },
    {
     "data": {
      "application/vnd.jupyter.widget-view+json": {
       "model_id": "71dbb606a12345b0a77285294b4e9153",
       "version_major": 2,
       "version_minor": 0
      },
      "text/plain": [
       "HBox(children=(IntProgress(value=0, description='Loss: ', max=141, style=ProgressStyle(description_width='init…"
      ]
     },
     "metadata": {},
     "output_type": "display_data"
    },
    {
     "name": "stdout",
     "output_type": "stream",
     "text": [
      "\n",
      "Epoch 491/500, training loss: 1.4693380653435457, validation loss: 1.7158679962158203\n",
      "\t     precision: 0.7507\n",
      "\t        recall: 0.7645\n",
      "\t            F1: 0.7298\n",
      "\t      accuracy: 0.7492\n"
     ]
    },
    {
     "data": {
      "application/vnd.jupyter.widget-view+json": {
       "model_id": "5b2d2ba8a63d4794a2a1fcf03dbb4359",
       "version_major": 2,
       "version_minor": 0
      },
      "text/plain": [
       "HBox(children=(IntProgress(value=0, description='Loss: ', max=141, style=ProgressStyle(description_width='init…"
      ]
     },
     "metadata": {},
     "output_type": "display_data"
    },
    {
     "name": "stdout",
     "output_type": "stream",
     "text": [
      "\n",
      "Epoch 492/500, training loss: 1.468648908831549, validation loss: 1.7345277070999146\n",
      "\t     precision: 0.7277\n",
      "\t        recall: 0.7176\n",
      "\t            F1: 0.6944\n",
      "\t      accuracy: 0.7262\n"
     ]
    },
    {
     "data": {
      "application/vnd.jupyter.widget-view+json": {
       "model_id": "50a843e668524df4afc286ec36d9433e",
       "version_major": 2,
       "version_minor": 0
      },
      "text/plain": [
       "HBox(children=(IntProgress(value=0, description='Loss: ', max=141, style=ProgressStyle(description_width='init…"
      ]
     },
     "metadata": {},
     "output_type": "display_data"
    },
    {
     "name": "stdout",
     "output_type": "stream",
     "text": [
      "\n",
      "Epoch 493/500, training loss: 1.4688065102759829, validation loss: 1.7270432710647583\n",
      "\t     precision: 0.7376\n",
      "\t        recall: 0.7157\n",
      "\t            F1: 0.6993\n",
      "\t      accuracy: 0.7402\n"
     ]
    },
    {
     "data": {
      "application/vnd.jupyter.widget-view+json": {
       "model_id": "82b8bfd894f4471998a2d59ada19c983",
       "version_major": 2,
       "version_minor": 0
      },
      "text/plain": [
       "HBox(children=(IntProgress(value=0, description='Loss: ', max=141, style=ProgressStyle(description_width='init…"
      ]
     },
     "metadata": {},
     "output_type": "display_data"
    },
    {
     "name": "stdout",
     "output_type": "stream",
     "text": [
      "\n",
      "Epoch 494/500, training loss: 1.4688822191657749, validation loss: 1.730478048324585\n",
      "\t     precision: 0.7380\n",
      "\t        recall: 0.7308\n",
      "\t            F1: 0.6995\n",
      "\t      accuracy: 0.7297\n"
     ]
    },
    {
     "data": {
      "application/vnd.jupyter.widget-view+json": {
       "model_id": "6faa0064db9d4dff8fefe9db7a1955c6",
       "version_major": 2,
       "version_minor": 0
      },
      "text/plain": [
       "HBox(children=(IntProgress(value=0, description='Loss: ', max=141, style=ProgressStyle(description_width='init…"
      ]
     },
     "metadata": {},
     "output_type": "display_data"
    },
    {
     "name": "stdout",
     "output_type": "stream",
     "text": [
      "\n",
      "Epoch 495/500, training loss: 1.4688525960800496, validation loss: 1.729832410812378\n",
      "\t     precision: 0.7372\n",
      "\t        recall: 0.7445\n",
      "\t            F1: 0.7163\n",
      "\t      accuracy: 0.7246\n"
     ]
    },
    {
     "data": {
      "application/vnd.jupyter.widget-view+json": {
       "model_id": "435703882ae94abd9e1ed239bcfeaf60",
       "version_major": 2,
       "version_minor": 0
      },
      "text/plain": [
       "HBox(children=(IntProgress(value=0, description='Loss: ', max=141, style=ProgressStyle(description_width='init…"
      ]
     },
     "metadata": {},
     "output_type": "display_data"
    },
    {
     "name": "stdout",
     "output_type": "stream",
     "text": [
      "\n",
      "Epoch 496/500, training loss: 1.4689234131616904, validation loss: 1.7283539772033691\n",
      "\t     precision: 0.6979\n",
      "\t        recall: 0.7110\n",
      "\t            F1: 0.6780\n",
      "\t      accuracy: 0.7449\n"
     ]
    },
    {
     "data": {
      "application/vnd.jupyter.widget-view+json": {
       "model_id": "a52e80a95b6a449fb1cef62ea8a787e2",
       "version_major": 2,
       "version_minor": 0
      },
      "text/plain": [
       "HBox(children=(IntProgress(value=0, description='Loss: ', max=141, style=ProgressStyle(description_width='init…"
      ]
     },
     "metadata": {},
     "output_type": "display_data"
    },
    {
     "name": "stdout",
     "output_type": "stream",
     "text": [
      "\n",
      "Epoch 497/500, training loss: 1.4689932486689683, validation loss: 1.7377359867095947\n",
      "\t     precision: 0.7180\n",
      "\t        recall: 0.7308\n",
      "\t            F1: 0.6950\n",
      "\t      accuracy: 0.7191\n"
     ]
    },
    {
     "data": {
      "application/vnd.jupyter.widget-view+json": {
       "model_id": "99ce5b3cdeb0452fbadbff1f59750d25",
       "version_major": 2,
       "version_minor": 0
      },
      "text/plain": [
       "HBox(children=(IntProgress(value=0, description='Loss: ', max=141, style=ProgressStyle(description_width='init…"
      ]
     },
     "metadata": {},
     "output_type": "display_data"
    },
    {
     "name": "stdout",
     "output_type": "stream",
     "text": [
      "\n",
      "Epoch 498/500, training loss: 1.4691279078206272, validation loss: 1.737043857574463\n",
      "\t     precision: 0.7270\n",
      "\t        recall: 0.7322\n",
      "\t            F1: 0.7002\n",
      "\t      accuracy: 0.7281\n"
     ]
    },
    {
     "data": {
      "application/vnd.jupyter.widget-view+json": {
       "model_id": "20d0cae7c491430ab821c6dde0e5ac02",
       "version_major": 2,
       "version_minor": 0
      },
      "text/plain": [
       "HBox(children=(IntProgress(value=0, description='Loss: ', max=141, style=ProgressStyle(description_width='init…"
      ]
     },
     "metadata": {},
     "output_type": "display_data"
    },
    {
     "name": "stdout",
     "output_type": "stream",
     "text": [
      "\n",
      "Epoch 499/500, training loss: 1.468912751962107, validation loss: 1.7221908569335938\n",
      "\t     precision: 0.7313\n",
      "\t        recall: 0.7343\n",
      "\t            F1: 0.7003\n",
      "\t      accuracy: 0.7418\n"
     ]
    },
    {
     "data": {
      "application/vnd.jupyter.widget-view+json": {
       "model_id": "bd6e4952332648b4bd451f5491b79198",
       "version_major": 2,
       "version_minor": 0
      },
      "text/plain": [
       "HBox(children=(IntProgress(value=0, description='Loss: ', max=141, style=ProgressStyle(description_width='init…"
      ]
     },
     "metadata": {},
     "output_type": "display_data"
    },
    {
     "name": "stdout",
     "output_type": "stream",
     "text": [
      "\n",
      "Epoch 500/500, training loss: 1.4688795086339856, validation loss: 1.7337818145751953\n",
      "\t     precision: 0.7167\n",
      "\t        recall: 0.7166\n",
      "\t            F1: 0.6929\n",
      "\t      accuracy: 0.7293\n",
      "[2.085938588101813, 2.0647676100967622, 2.059797730006225, 2.0603888821094594, 2.041185260664487, 2.0371751878278475, 2.017956902794804, 2.0006014083294157, 2.0034904124888966, 1.9899267516237624, 1.96793336563922, 1.9523255368496508, 1.9398703110133502, 1.9341653010523912, 1.9286252775936261, 1.9045955695159047, 1.906237447515447, 1.8948739166800856, 1.8939499838132385, 1.872069921899349, 1.8615713525325694, 1.8527468104734488, 1.8347486291371338, 1.8349596676251567, 1.8184505827883457, 1.8195294877316088, 1.8050639823818884, 1.7987674948171521, 1.7920967763197337, 1.7745278202895578, 1.7695112879394639, 1.7667329522734838, 1.7580647333293942, 1.7519215117109583, 1.7393060499894704, 1.7313948768250487, 1.7250526120476688, 1.7198734452538456, 1.7049806523830333, 1.6941168139166867, 1.687820111606138, 1.6849493819771084, 1.6686717474714239, 1.6569251363159072, 1.6627205111456256, 1.6568537443242175, 1.6505157482539508, 1.637573078169045, 1.628617971501452, 1.6311042613171516, 1.6228832293909492, 1.621506562469699, 1.611153469018057, 1.6074641900705107, 1.6040593132059624, 1.599376064665774, 1.5945514516627535, 1.5797286650813218, 1.5898292901668143, 1.5746428061884346, 1.5739578372197793, 1.5767450848369733, 1.573183612620577, 1.5692093659799995, 1.5579686376219946, 1.5625765492730106, 1.54992964166276, 1.5417212594485452, 1.5423376991393718, 1.5388063725004806, 1.5392277570480997, 1.5359416405359905, 1.5287253324021683, 1.5356717642317428, 1.525051030706852, 1.5211772470609517, 1.5260014626996736, 1.5244689554187423, 1.5216035859804626, 1.5251286224270544, 1.5163685328571508, 1.5138198796738969, 1.5190827525253836, 1.5076083316870614, 1.510445624378556, 1.5046762819831252, 1.5100147149241563, 1.5121500728823614, 1.5058876707198772, 1.5041192930640903, 1.5021313116060082, 1.4977095989470786, 1.4998400211334229, 1.4946282349579723, 1.4955820005836216, 1.4980001415766724, 1.4943994757131482, 1.498245007602881, 1.492694932518276, 1.4923119578801147, 1.4913501883229465, 1.4922300230526755, 1.4876834365493017, 1.4862011975430427, 1.4868155709395172, 1.4906990553470367, 1.4867036367984527, 1.4890688742306215, 1.487523671583081, 1.4839009790555806, 1.4831459623702028, 1.4876458839321813, 1.4851884334645373, 1.484465994733445, 1.4855426566820618, 1.4863425535513155, 1.4831077672065573, 1.4840690244174173, 1.4852247880705705, 1.4821156770625012, 1.4820133075646476, 1.4840165410481445, 1.483278824927959, 1.4818028828776475, 1.4840016990688676, 1.4853042567029913, 1.4830882802922676, 1.4800052811913456, 1.4809084445872205, 1.481136383739769, 1.480172764324973, 1.478657786727797, 1.4795842906262011, 1.47908608541421, 1.4778556950548862, 1.4783049661217007, 1.4762238526175209, 1.4789174313240863, 1.4775904560765476, 1.4768180779531492, 1.47759861810833, 1.4753872477416452, 1.4757982247264674, 1.476727640375178, 1.4775622009385563, 1.4768421819024051, 1.476550687289407, 1.4758121071132362, 1.4758974381372438, 1.4753522822197447, 1.4749399508144838, 1.477203274449558, 1.475073629237236, 1.4762048011130475, 1.4747835972630385, 1.476115402600444, 1.4755120632496286, 1.4762762979412756, 1.4745262260978103, 1.4760637080415766, 1.47538722998707, 1.4756226801703163, 1.47745776937363, 1.4760377339437498, 1.4752787013425894, 1.474679393125764, 1.4762205730938742, 1.476566953861967, 1.476713716561067, 1.4762365716568968, 1.474199297580313, 1.4752771499309134, 1.4746877343942089, 1.475966106915305, 1.4746749832275066, 1.4743668661049918, 1.475138891673257, 1.4749194983894944, 1.475648041312576, 1.4766238192294507, 1.474954401347654, 1.4755211654284321, 1.4738176274806896, 1.4749589406006725, 1.4746946645966659, 1.4748936375827655, 1.4754424128972046, 1.4741039098577295, 1.4738191129468012, 1.47418604505823, 1.4733323712720938, 1.4735245045195235, 1.4742233043021344, 1.4730338137200538, 1.4741639727396323, 1.474009467354903, 1.4732790914833123, 1.4734465779987633, 1.47483059531408, 1.4738153954769702, 1.474233607873849, 1.4749019399602363, 1.4749548511302217, 1.4736861869798485, 1.4733040155248438, 1.4740255149543708, 1.4735497379979343, 1.4744514768005264, 1.473278522491455, 1.472651665937816, 1.4725159888571882, 1.4730472032060014, 1.4726272626971522, 1.4725681391168148, 1.4724189719409808, 1.4726497856437737, 1.4715774651114821, 1.471895180695446, 1.4715867084814303, 1.4717552222258656, 1.4726544060605637, 1.4732979307783411, 1.4725481677562633, 1.4726367664675342, 1.4733576343414632, 1.4722107868668035, 1.4720355618930032, 1.4722946062155648, 1.473307507257935, 1.473023182111429, 1.472691114067186, 1.4713537414023217, 1.4736274548456179, 1.4720136155473424, 1.4719823886316719, 1.472234383542487, 1.4715458484406168, 1.4718727465216994, 1.4715226119291698, 1.4723727872185672, 1.4716177189603765, 1.4721127985217046, 1.4708569844563801, 1.470739261478397, 1.4720083458203796, 1.4716910927008229, 1.4714554210081168, 1.4714028530932488, 1.4713580836641027, 1.4718904250057032, 1.471203901243548, 1.471393936914755, 1.4706951430503359, 1.4708756876330005, 1.4707070876520576, 1.4715001058916675, 1.4721411246779963, 1.4718005792468998, 1.4712673594765628, 1.4720570119560188, 1.4710940097240692, 1.4716800282187497, 1.4710944958612429, 1.471133883117784, 1.4718004575012424, 1.4709560372305255, 1.4706861431717027, 1.470794530625039, 1.4711477984773351, 1.4706838781952012, 1.471078559016505, 1.4714902766207432, 1.4714410719296611, 1.4708122251727056, 1.4706133899959266, 1.4710281453234084, 1.4706293327588562, 1.4708502639269998, 1.4707217191128021, 1.4713309191642923, 1.4708420283405492, 1.4712734442230657, 1.4707320302936202, 1.4705005140169292, 1.4709127667947863, 1.4707466321634062, 1.471196617640502, 1.470805179988239, 1.470937449881371, 1.471484400701861, 1.470836028985098, 1.4700453509675695, 1.4718800614066159, 1.470764047710608, 1.4707703176119649, 1.4708122894273583, 1.470086211853839, 1.4706950153864868, 1.470095194823353, 1.4709143122882709, 1.4702800833587106, 1.4711227780538247, 1.4699808731146737, 1.4703590328811753, 1.470969706562394, 1.4697886789944155, 1.4706493573831327, 1.47088759926194, 1.4699748593864712, 1.470515880178898, 1.4706107657006446, 1.4709604302196637, 1.4704140517728548, 1.47100375138276, 1.4706329453921487, 1.4701491281495873, 1.4700161260915987, 1.4705593678968172, 1.470854158942581, 1.470235621675532, 1.4700325490735102, 1.4701447199422417, 1.4701979346309149, 1.4698346599619438, 1.4697887136581096, 1.4701274777135105, 1.4700422278532745, 1.4701305078276505, 1.4701874983226153, 1.4702821014620733, 1.4699664986725394, 1.470092996637872, 1.4700958897881473, 1.4700862634266523, 1.4698358402184561, 1.4697460341960826, 1.4700307195068252, 1.4709432370273778, 1.4699769806354603, 1.47025628546451, 1.4699492133255545, 1.4699854630950495, 1.4700518364601947, 1.470424308844492, 1.470209482713794, 1.4696245421754552, 1.4706387359199795, 1.4700689231250303, 1.4701191364450659, 1.4698495501322104, 1.4705599157522755, 1.4701528921194955, 1.469858984575204, 1.4700375118999616, 1.4698774366514058, 1.4697674166226218, 1.4697325170462858, 1.4697407661600317, 1.4698922837034185, 1.4700565338134766, 1.4697587194172204, 1.47031417975189, 1.4699606041536264, 1.4700568618503869, 1.4700261447446565, 1.4701312256197558, 1.4702655592708722, 1.469995471602636, 1.46940267931485, 1.4701386487230341, 1.4697281367389867, 1.4698969117293121, 1.4697099349177476, 1.4697915112718622, 1.469851570771941, 1.4698202001287581, 1.4699925437886665, 1.4699905933217798, 1.4698181126980072, 1.4699844984298056, 1.4693648164153945, 1.4695212917124971, 1.4695745351466727, 1.4692847821729402, 1.4695205468658015, 1.4697488478734984, 1.4694833518765498, 1.470093275638337, 1.4695940710974078, 1.46991525389624, 1.4694208988906643, 1.470001423612554, 1.4697110450014155, 1.4697405759324418, 1.4701244628175776, 1.4695510965712526, 1.4697157601092725, 1.4697980288918138, 1.470201330827483, 1.469544712533342, 1.4700775247939089, 1.4708911637042432, 1.4697971250993986, 1.469441831534636, 1.4697845810694052, 1.4696389521267397, 1.4695792874545917, 1.4699159623883296, 1.4701274422043604, 1.4691936268028638, 1.4696553023994392, 1.4694229812486796, 1.4691021924323224, 1.4692490244588108, 1.4696309760952673, 1.4690915379963867, 1.4689273453773337, 1.4693188599660887, 1.468831162926153, 1.469170905174093, 1.4693030085124024, 1.4697142585794976, 1.468854937993043, 1.469133698348458, 1.469547766320249, 1.46995299674095, 1.4695378618037447, 1.4694983240560437, 1.4690856781411679, 1.469134951314182, 1.469135805224696, 1.4690707254071607, 1.469609777978126, 1.4695527773376897, 1.46907262514669, 1.4691268848189225, 1.4692902429729489, 1.4686299520181425, 1.469073736075814, 1.469027173434589, 1.468883955732305, 1.4686484776490123, 1.4686186254447233, 1.4694775672669107, 1.4688676206778126, 1.4688577584341063, 1.4691366684352252, 1.468903123064244, 1.4690737825758913, 1.4687837446835024, 1.468859890674023, 1.4688896371963176, 1.4691816543010956, 1.4687674721927508, 1.4688409964243572, 1.4692276834596134, 1.4691679384691496, 1.46869754114895, 1.4692933322690058, 1.4692334486237655, 1.4687793466216283, 1.4693074759016647, 1.4690285836551207, 1.469160109547013, 1.4696167039533032, 1.4687322462704164, 1.4692390683694934, 1.4691847368335047, 1.468870718428429, 1.4689167898597446, 1.4694274621652372, 1.4690403261928693, 1.468845859487006, 1.469177871731156, 1.4693439454897075, 1.468852696689308, 1.4690270077252219, 1.469311162089625, 1.4688569298872711, 1.4686643105026678, 1.468900868233214, 1.4689670775799042, 1.4689353391633813, 1.4688607268299616, 1.4691210275000715, 1.4694836849861956, 1.468989169343989, 1.4689057338322309, 1.4686486737947937, 1.4688734923694151, 1.4693380653435457, 1.468648908831549, 1.4688065102759829, 1.4688822191657749, 1.4688525960800496, 1.4689234131616904, 1.4689932486689683, 1.4691279078206272, 1.468912751962107, 1.4688795086339856]\n",
      "Training time: 10926.728147983551s\n"
     ]
    }
   ],
   "source": [
    "model = model.to(device)\n",
    "start_ts = time.time()\n",
    "losses = []\n",
    "loss_function = nn.CrossEntropyLoss()\n",
    "optimizer = optim.Adadelta(model.parameters())\n",
    "epochs = 500\n",
    "batches = len(train_loader)\n",
    "val_batches = len(val_loader)\n",
    "\n",
    "# training loop + eval loop\n",
    "for epoch in range(epochs):\n",
    "    total_loss = 0\n",
    "    progress = tqdm(enumerate(train_loader), desc=\"Loss: \", total=batches)\n",
    "    model.train()\n",
    "    \n",
    "    for i, data in progress:\n",
    "        X, y = data[0].to(device), data[1].to(device)\n",
    "        y = y.long()  \n",
    "        \n",
    "        model.zero_grad()\n",
    "        outputs = model(X)\n",
    "        loss = loss_function(outputs, y)\n",
    "\n",
    "        loss.backward()\n",
    "        optimizer.step()\n",
    "        current_loss = loss.item()\n",
    "        total_loss += current_loss\n",
    "        progress.set_description(\"Loss: {:.4f}\".format(total_loss/(i+1)))\n",
    "        \n",
    "    torch.cuda.empty_cache()\n",
    "    \n",
    "    val_losses = 0\n",
    "    precision, recall, f1, accuracy = [], [], [], []\n",
    "    \n",
    "    model.eval()\n",
    "    with torch.no_grad():\n",
    "        for i, data in enumerate(val_loader):\n",
    "            X, y = data[0].to(device), data[1].to(device)\n",
    "            y = y.long()\n",
    "            outputs = model(X)\n",
    "            val_losses += loss_function(outputs, y)\n",
    "\n",
    "            predicted_classes = torch.max(outputs, 1)[1]\n",
    "            \n",
    "            for acc, metric in zip((precision, recall, f1, accuracy), \n",
    "                                   (precision_score, recall_score, f1_score, accuracy_score)):\n",
    "                acc.append(\n",
    "                    calculate_metric(metric, y.cpu(), predicted_classes.cpu())\n",
    "                )\n",
    "        \n",
    "        \n",
    "        \n",
    "    print(f\"Epoch {epoch+1}/{epochs}, training loss: {total_loss/batches}, validation loss: {val_losses/val_batches}\")\n",
    "    print_scores(precision, recall, f1, accuracy, val_batches)\n",
    "    losses.append(total_loss/batches)\n",
    "print(losses)\n",
    "print(f\"Training time: {time.time()-start_ts}s\")"
   ]
  },
  {
   "cell_type": "code",
   "execution_count": 37,
   "metadata": {},
   "outputs": [
    {
     "name": "stderr",
     "output_type": "stream",
     "text": [
      "/home/t-rex/anaconda3/envs/ml2019fall_hw1/lib/python3.6/site-packages/torch/serialization.py:256: UserWarning: Couldn't retrieve source code for container of type finalResNet. It won't be checked for correctness upon loading.\n",
      "  \"type \" + obj.__name__ + \". It won't be checked \"\n"
     ]
    }
   ],
   "source": [
    "torch.save(model,'trained_models/torchvision_model.pt')"
   ]
  },
  {
   "cell_type": "code",
   "execution_count": 40,
   "metadata": {},
   "outputs": [],
   "source": [
    "\n",
    "test = torch.load('trained_models/torchvision_model.pt')"
   ]
  },
  {
   "cell_type": "code",
   "execution_count": 41,
   "metadata": {},
   "outputs": [
    {
     "name": "stdout",
     "output_type": "stream",
     "text": [
      "finalResNet(\n",
      "  (conv1): Conv2d(3, 64, kernel_size=(5, 5), stride=(2, 2), padding=(2, 2), bias=False)\n",
      "  (bn1): BatchNorm2d(64, eps=1e-05, momentum=0.1, affine=True, track_running_stats=True)\n",
      "  (relu): ReLU(inplace=True)\n",
      "  (maxpool): MaxPool2d(kernel_size=3, stride=2, padding=1, dilation=1, ceil_mode=False)\n",
      "  (layer1): Sequential(\n",
      "    (0): BasicBlock(\n",
      "      (conv1): Conv2d(64, 64, kernel_size=(3, 3), stride=(1, 1), padding=(1, 1), bias=False)\n",
      "      (bn1): BatchNorm2d(64, eps=1e-05, momentum=0.1, affine=True, track_running_stats=True)\n",
      "      (relu): ReLU(inplace=True)\n",
      "      (conv2): Conv2d(64, 64, kernel_size=(3, 3), stride=(1, 1), padding=(1, 1), bias=False)\n",
      "      (bn2): BatchNorm2d(64, eps=1e-05, momentum=0.1, affine=True, track_running_stats=True)\n",
      "    )\n",
      "    (1): BasicBlock(\n",
      "      (conv1): Conv2d(64, 64, kernel_size=(3, 3), stride=(1, 1), padding=(1, 1), bias=False)\n",
      "      (bn1): BatchNorm2d(64, eps=1e-05, momentum=0.1, affine=True, track_running_stats=True)\n",
      "      (relu): ReLU(inplace=True)\n",
      "      (conv2): Conv2d(64, 64, kernel_size=(3, 3), stride=(1, 1), padding=(1, 1), bias=False)\n",
      "      (bn2): BatchNorm2d(64, eps=1e-05, momentum=0.1, affine=True, track_running_stats=True)\n",
      "    )\n",
      "  )\n",
      "  (layer2): Sequential(\n",
      "    (0): BasicBlock(\n",
      "      (conv1): Conv2d(64, 128, kernel_size=(3, 3), stride=(2, 2), padding=(1, 1), bias=False)\n",
      "      (bn1): BatchNorm2d(128, eps=1e-05, momentum=0.1, affine=True, track_running_stats=True)\n",
      "      (relu): ReLU(inplace=True)\n",
      "      (conv2): Conv2d(128, 128, kernel_size=(3, 3), stride=(1, 1), padding=(1, 1), bias=False)\n",
      "      (bn2): BatchNorm2d(128, eps=1e-05, momentum=0.1, affine=True, track_running_stats=True)\n",
      "      (downsample): Sequential(\n",
      "        (0): Conv2d(64, 128, kernel_size=(1, 1), stride=(2, 2), bias=False)\n",
      "        (1): BatchNorm2d(128, eps=1e-05, momentum=0.1, affine=True, track_running_stats=True)\n",
      "      )\n",
      "    )\n",
      "    (1): BasicBlock(\n",
      "      (conv1): Conv2d(128, 128, kernel_size=(3, 3), stride=(1, 1), padding=(1, 1), bias=False)\n",
      "      (bn1): BatchNorm2d(128, eps=1e-05, momentum=0.1, affine=True, track_running_stats=True)\n",
      "      (relu): ReLU(inplace=True)\n",
      "      (conv2): Conv2d(128, 128, kernel_size=(3, 3), stride=(1, 1), padding=(1, 1), bias=False)\n",
      "      (bn2): BatchNorm2d(128, eps=1e-05, momentum=0.1, affine=True, track_running_stats=True)\n",
      "    )\n",
      "  )\n",
      "  (layer3): Sequential(\n",
      "    (0): BasicBlock(\n",
      "      (conv1): Conv2d(128, 256, kernel_size=(3, 3), stride=(2, 2), padding=(1, 1), bias=False)\n",
      "      (bn1): BatchNorm2d(256, eps=1e-05, momentum=0.1, affine=True, track_running_stats=True)\n",
      "      (relu): ReLU(inplace=True)\n",
      "      (conv2): Conv2d(256, 256, kernel_size=(3, 3), stride=(1, 1), padding=(1, 1), bias=False)\n",
      "      (bn2): BatchNorm2d(256, eps=1e-05, momentum=0.1, affine=True, track_running_stats=True)\n",
      "      (downsample): Sequential(\n",
      "        (0): Conv2d(128, 256, kernel_size=(1, 1), stride=(2, 2), bias=False)\n",
      "        (1): BatchNorm2d(256, eps=1e-05, momentum=0.1, affine=True, track_running_stats=True)\n",
      "      )\n",
      "    )\n",
      "    (1): BasicBlock(\n",
      "      (conv1): Conv2d(256, 256, kernel_size=(3, 3), stride=(1, 1), padding=(1, 1), bias=False)\n",
      "      (bn1): BatchNorm2d(256, eps=1e-05, momentum=0.1, affine=True, track_running_stats=True)\n",
      "      (relu): ReLU(inplace=True)\n",
      "      (conv2): Conv2d(256, 256, kernel_size=(3, 3), stride=(1, 1), padding=(1, 1), bias=False)\n",
      "      (bn2): BatchNorm2d(256, eps=1e-05, momentum=0.1, affine=True, track_running_stats=True)\n",
      "    )\n",
      "  )\n",
      "  (layer4): Sequential(\n",
      "    (0): BasicBlock(\n",
      "      (conv1): Conv2d(256, 512, kernel_size=(3, 3), stride=(2, 2), padding=(1, 1), bias=False)\n",
      "      (bn1): BatchNorm2d(512, eps=1e-05, momentum=0.1, affine=True, track_running_stats=True)\n",
      "      (relu): ReLU(inplace=True)\n",
      "      (conv2): Conv2d(512, 512, kernel_size=(3, 3), stride=(1, 1), padding=(1, 1), bias=False)\n",
      "      (bn2): BatchNorm2d(512, eps=1e-05, momentum=0.1, affine=True, track_running_stats=True)\n",
      "      (downsample): Sequential(\n",
      "        (0): Conv2d(256, 512, kernel_size=(1, 1), stride=(2, 2), bias=False)\n",
      "        (1): BatchNorm2d(512, eps=1e-05, momentum=0.1, affine=True, track_running_stats=True)\n",
      "      )\n",
      "    )\n",
      "    (1): BasicBlock(\n",
      "      (conv1): Conv2d(512, 512, kernel_size=(3, 3), stride=(1, 1), padding=(1, 1), bias=False)\n",
      "      (bn1): BatchNorm2d(512, eps=1e-05, momentum=0.1, affine=True, track_running_stats=True)\n",
      "      (relu): ReLU(inplace=True)\n",
      "      (conv2): Conv2d(512, 512, kernel_size=(3, 3), stride=(1, 1), padding=(1, 1), bias=False)\n",
      "      (bn2): BatchNorm2d(512, eps=1e-05, momentum=0.1, affine=True, track_running_stats=True)\n",
      "    )\n",
      "  )\n",
      "  (avgpool): AdaptiveAvgPool2d(output_size=(1, 1))\n",
      "  (fc): Linear(in_features=512, out_features=10, bias=True)\n",
      ")\n"
     ]
    }
   ],
   "source": [
    "print(test)"
   ]
  },
  {
   "cell_type": "code",
   "execution_count": null,
   "metadata": {},
   "outputs": [],
   "source": []
  }
 ],
 "metadata": {
  "kernelspec": {
   "display_name": "Python 3",
   "language": "python",
   "name": "python3"
  },
  "language_info": {
   "codemirror_mode": {
    "name": "ipython",
    "version": 3
   },
   "file_extension": ".py",
   "mimetype": "text/x-python",
   "name": "python",
   "nbconvert_exporter": "python",
   "pygments_lexer": "ipython3",
   "version": "3.6.5"
  }
 },
 "nbformat": 4,
 "nbformat_minor": 2
}
