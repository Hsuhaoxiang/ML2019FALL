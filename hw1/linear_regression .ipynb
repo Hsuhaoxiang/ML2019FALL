{
 "cells": [
  {
   "cell_type": "code",
   "execution_count": 30,
   "metadata": {},
   "outputs": [],
   "source": [
    "import numpy as np\n",
    "import pandas as pd\n",
    "import sys\n",
    "from sklearn import ensemble as em\n",
    "train = pd.read_csv('year1-data.csv')\n",
    "train2  = pd.read_csv('year2-data.csv')\n",
    "X_test = pd.read_csv('testing_data.csv')\n",
    "#train.shape #6588(366*18)*26\n",
    "#train2.shape #6570(365*18)*26\n",
    "#X_test.shape #9000*11"
   ]
  },
  {
   "cell_type": "code",
   "execution_count": 31,
   "metadata": {},
   "outputs": [],
   "source": [
    "#train = train.replace(\"#\",\"\")\n",
    "#train = train.replace(\"\\*\",\"\")\n",
    "#train = train.replace(\"x\",\"\")\n",
    "def preprocess(train):\n",
    "    train.replace(\"#\",'',inplace=True,regex=True)\n",
    "    train.replace(\"x\",'',inplace=True,regex=True)\n",
    "    train.replace(\"\\*\",'',inplace=True,regex=True)\n",
    "    train.replace(\"NR\",0,inplace=True) #將NR變成0\n",
    "    train.fillna(0, inplace=True) #把NAN變成0\n",
    "    train = train.iloc[:,2:]\n",
    "    return train"
   ]
  },
  {
   "cell_type": "code",
   "execution_count": 32,
   "metadata": {},
   "outputs": [],
   "source": [
    "train =  preprocess(train) #6588*24\n",
    "train2 = preprocess(train2) #6570*24\n",
    "X_test = preprocess(X_test) #9000*9\n"
   ]
  },
  {
   "cell_type": "code",
   "execution_count": 33,
   "metadata": {},
   "outputs": [],
   "source": [
    "def get_feature(train,test=False):\n",
    "    train = np.array(train,dtype=float)# to array 6588*24\n",
    "    tmp=[]\n",
    "    feature = []\n",
    "    for i  in range(train.shape[0]): #0~6587\n",
    "        if not test:\n",
    "            if i/18>180 and i/18<240:\n",
    "                continue\n",
    "        index = i%18\n",
    "        if index==2 or index==4 or index==5 or index==7 or index==8 or index==9 or index==12:#只取CO,NO,NO2,PM2.5,PM10,O3,SO2\n",
    "                        \n",
    "    \n",
    "            tmp.append(train[i])\n",
    "        if index==17:\n",
    "            tmp = np.array(tmp,dtype=float)#shape7*24\n",
    "            feature.append(tmp)\n",
    "            tmp = []\n",
    "    feature = np.array(feature,dtype=float)#366*168\n",
    "    print(feature.shape)\n",
    "    return feature"
   ]
  },
  {
   "cell_type": "code",
   "execution_count": 34,
   "metadata": {},
   "outputs": [
    {
     "name": "stdout",
     "output_type": "stream",
     "text": [
      "(306, 7, 24)\n",
      "(305, 7, 24)\n",
      "(500, 7, 9)\n"
     ]
    }
   ],
   "source": [
    "train = get_feature(train)#shape 366*168\n",
    "train2 = get_feature(train2)#shape 365*168\n",
    "X_test = get_feature(X_test,test=True)#500*7*9\n"
   ]
  },
  {
   "cell_type": "code",
   "execution_count": 35,
   "metadata": {},
   "outputs": [],
   "source": [
    "train = np.concatenate((train, train2), axis=0)#shape 731*7*24"
   ]
  },
  {
   "cell_type": "code",
   "execution_count": 36,
   "metadata": {},
   "outputs": [],
   "source": [
    "tmp = train[0]\n",
    "tmp.shape\n",
    "for i in range(1,train.shape[0]):\n",
    "    tmp =  np.concatenate((tmp, train[i]), axis=1)\n",
    "train = tmp #7*17544"
   ]
  },
  {
   "cell_type": "code",
   "execution_count": 37,
   "metadata": {},
   "outputs": [],
   "source": [
    "def valid(x, y):\n",
    "    if y <= 2 or y > 100:\n",
    "        return False\n",
    "    for i in range(9):\n",
    "        if x[5,i] <= 2 or x[5,i] > 100:\n",
    "            return False\n",
    "    for i in range(9):\n",
    "        for j in range(7):\n",
    "            if x[j,i] < 0:\n",
    "                return False\n",
    "    return True"
   ]
  },
  {
   "cell_type": "code",
   "execution_count": 38,
   "metadata": {},
   "outputs": [
    {
     "data": {
      "text/plain": [
       "(500, 63)"
      ]
     },
     "execution_count": 38,
     "metadata": {},
     "output_type": "execute_result"
    }
   ],
   "source": [
    "tmp = []\n",
    "X_test.shape\n",
    "for i in range(X_test.shape[0]):\n",
    "    tmp.append(X_test[i].flatten())\n",
    "X_test = tmp \n",
    "X_test = np.array(X_test,dtype=float)#shape 500*63\n",
    "X_test.shape\n"
   ]
  },
  {
   "cell_type": "code",
   "execution_count": 39,
   "metadata": {},
   "outputs": [],
   "source": [
    "X=[]\n",
    "Y=[]\n",
    "for i in range(0, train.shape[1]-9):\n",
    "    x =  train[:, i:i+9]\n",
    "    y = train[5, i+9]\n",
    "    if valid(x,y):\n",
    "        X.append(x.flatten())\n",
    "        Y.append([y])\n",
    "\n",
    "X = np.array(X)#shape 5845*63\n",
    "Y = np.array(Y)#shape 5845*1\n",
    "#X_1=X[0:2327,:]\n",
    "#X_2=X[2327:4654,:]\n",
    "#X_3=X[4654:6981,:]\n",
    "#X_4=X[6981:9308,:]\n",
    "#X_5=X[9308:,:]\n",
    "#Y_1 = Y[0:2327,:]\n",
    "#Y_2 = Y[2327:4654,:]\n",
    "#Y_3 = Y[4654:6981,:]\n",
    "#Y_4 = Y[6981:9308,:]\n",
    "#Y_5 = Y[9308:,:]\n"
   ]
  },
  {
   "cell_type": "code",
   "execution_count": 40,
   "metadata": {},
   "outputs": [],
   "source": [
    "class Linear_Regression():\n",
    "    def __init__(self,B = np.double(0),W = np.ones((63, 1))):\n",
    "        self.B = B\n",
    "        self.W = W\n",
    "        pass\n",
    "    def error(self, X, Y):\n",
    "        return Y - self.predict(X)\n",
    "\n",
    "    def MSE(self, X, Y):#MSE(X) = E[(X-Y)^2]\n",
    "        return np.sqrt(np.mean(self.error(X, Y) ** 2))\n",
    "    \n",
    "    def predict(self, X):#   y = wx+b\n",
    "        _X = np.reshape(X, (-1, self.feature_dim))\n",
    "        return np.dot(_X, self.W) + self.B\n",
    "\n",
    "    def fit(self, _X, Y, valid, max_epoch=500000, lr=0.000001, C=0.0):\n",
    "        assert _X.shape[0] == Y.shape[0]\n",
    "        N = _X.shape[0]\n",
    "        self.feature_dim = feature_dim = _X.shape[1]\n",
    "        self.C = C\n",
    "        print(_X.shape)\n",
    "        X = _X\n",
    "        \n",
    "     \n",
    "        #self.B = 0.0\n",
    "        #self.W = np.ones((self.feature_dim, 1))\n",
    "        for epoch in range(1, max_epoch+1):\n",
    "            \n",
    "            error = Y - self.predict(X)          \n",
    "            B_grad = -np.sum(error)  / N\n",
    "            W_grad = -np.dot(X.T, error) / N\n",
    "            self.B = self.B - lr  * B_grad\n",
    "            self.W = self.W - lr  * W_grad\n",
    "            \n",
    "            if epoch % 1000 == 0:\n",
    "                print('[Epoch {}]: loss: {}'.format(epoch, self.MSE(X, Y)))"
   ]
  },
  {
   "cell_type": "code",
   "execution_count": 41,
   "metadata": {},
   "outputs": [
    {
     "name": "stdout",
     "output_type": "stream",
     "text": [
      "(11635, 63)\n",
      "[Epoch 1000]: loss: 21.205522703381693\n",
      "[Epoch 2000]: loss: 15.870487303452933\n",
      "[Epoch 3000]: loss: 12.803205960906885\n",
      "[Epoch 4000]: loss: 10.712575638390904\n",
      "[Epoch 5000]: loss: 9.175346610722588\n",
      "[Epoch 6000]: loss: 8.00854585618434\n",
      "[Epoch 7000]: loss: 7.115023013367047\n",
      "[Epoch 8000]: loss: 6.432698911924571\n",
      "[Epoch 9000]: loss: 5.915942219128102\n",
      "[Epoch 10000]: loss: 5.528468077275539\n",
      "[Epoch 11000]: loss: 5.240636435721716\n"
     ]
    },
    {
     "ename": "KeyboardInterrupt",
     "evalue": "",
     "output_type": "error",
     "traceback": [
      "\u001b[0;31m---------------------------------------------------------------------------\u001b[0m",
      "\u001b[0;31mKeyboardInterrupt\u001b[0m                         Traceback (most recent call last)",
      "\u001b[0;32m<ipython-input-41-b030b2bf9eae>\u001b[0m in \u001b[0;36m<module>\u001b[0;34m\u001b[0m\n\u001b[1;32m      1\u001b[0m \u001b[0mmodel\u001b[0m \u001b[0;34m=\u001b[0m \u001b[0mLinear_Regression\u001b[0m\u001b[0;34m(\u001b[0m\u001b[0;34m)\u001b[0m\u001b[0;34m\u001b[0m\u001b[0m\n\u001b[0;32m----> 2\u001b[0;31m \u001b[0mmodel\u001b[0m\u001b[0;34m.\u001b[0m\u001b[0mfit\u001b[0m\u001b[0;34m(\u001b[0m\u001b[0mX\u001b[0m\u001b[0;34m,\u001b[0m \u001b[0mY\u001b[0m\u001b[0;34m,\u001b[0m \u001b[0mvalid\u001b[0m\u001b[0;34m=\u001b[0m\u001b[0;32mNone\u001b[0m\u001b[0;34m,\u001b[0m \u001b[0mmax_epoch\u001b[0m\u001b[0;34m=\u001b[0m\u001b[0;36m100000\u001b[0m\u001b[0;34m,\u001b[0m \u001b[0mlr\u001b[0m\u001b[0;34m=\u001b[0m\u001b[0;36m0.000003\u001b[0m\u001b[0;34m,\u001b[0m \u001b[0mC\u001b[0m\u001b[0;34m=\u001b[0m\u001b[0;36m0.00001\u001b[0m\u001b[0;34m)\u001b[0m\u001b[0;34m\u001b[0m\u001b[0m\n\u001b[0m",
      "\u001b[0;32m<ipython-input-40-88b75894564f>\u001b[0m in \u001b[0;36mfit\u001b[0;34m(self, _X, Y, valid, max_epoch, lr, C)\u001b[0m\n\u001b[1;32m     29\u001b[0m             \u001b[0merror\u001b[0m \u001b[0;34m=\u001b[0m \u001b[0mY\u001b[0m \u001b[0;34m-\u001b[0m \u001b[0mself\u001b[0m\u001b[0;34m.\u001b[0m\u001b[0mpredict\u001b[0m\u001b[0;34m(\u001b[0m\u001b[0mX\u001b[0m\u001b[0;34m)\u001b[0m\u001b[0;34m\u001b[0m\u001b[0m\n\u001b[1;32m     30\u001b[0m             \u001b[0mB_grad\u001b[0m \u001b[0;34m=\u001b[0m \u001b[0;34m-\u001b[0m\u001b[0mnp\u001b[0m\u001b[0;34m.\u001b[0m\u001b[0msum\u001b[0m\u001b[0;34m(\u001b[0m\u001b[0merror\u001b[0m\u001b[0;34m)\u001b[0m  \u001b[0;34m/\u001b[0m \u001b[0mN\u001b[0m\u001b[0;34m\u001b[0m\u001b[0m\n\u001b[0;32m---> 31\u001b[0;31m             \u001b[0mW_grad\u001b[0m \u001b[0;34m=\u001b[0m \u001b[0;34m-\u001b[0m\u001b[0mnp\u001b[0m\u001b[0;34m.\u001b[0m\u001b[0mdot\u001b[0m\u001b[0;34m(\u001b[0m\u001b[0mX\u001b[0m\u001b[0;34m.\u001b[0m\u001b[0mT\u001b[0m\u001b[0;34m,\u001b[0m \u001b[0merror\u001b[0m\u001b[0;34m)\u001b[0m \u001b[0;34m/\u001b[0m \u001b[0mN\u001b[0m\u001b[0;34m\u001b[0m\u001b[0m\n\u001b[0m\u001b[1;32m     32\u001b[0m             \u001b[0mself\u001b[0m\u001b[0;34m.\u001b[0m\u001b[0mB\u001b[0m \u001b[0;34m=\u001b[0m \u001b[0mself\u001b[0m\u001b[0;34m.\u001b[0m\u001b[0mB\u001b[0m \u001b[0;34m-\u001b[0m \u001b[0mlr\u001b[0m  \u001b[0;34m*\u001b[0m \u001b[0mB_grad\u001b[0m\u001b[0;34m\u001b[0m\u001b[0m\n\u001b[1;32m     33\u001b[0m             \u001b[0mself\u001b[0m\u001b[0;34m.\u001b[0m\u001b[0mW\u001b[0m \u001b[0;34m=\u001b[0m \u001b[0mself\u001b[0m\u001b[0;34m.\u001b[0m\u001b[0mW\u001b[0m \u001b[0;34m-\u001b[0m \u001b[0mlr\u001b[0m  \u001b[0;34m*\u001b[0m \u001b[0mW_grad\u001b[0m\u001b[0;34m\u001b[0m\u001b[0m\n",
      "\u001b[0;31mKeyboardInterrupt\u001b[0m: "
     ]
    }
   ],
   "source": [
    "model = Linear_Regression()\n",
    "model.fit(X, Y, valid=None, max_epoch=100000, lr=0.000003, C=0.00001)"
   ]
  },
  {
   "cell_type": "code",
   "execution_count": 12,
   "metadata": {},
   "outputs": [],
   "source": [
    "predict = model.predict(X_test)\n",
    "for i in range(len(predict)):\n",
    "    if predict[i]<0:\n",
    "        predict[i] = 19.445"
   ]
  },
  {
   "cell_type": "code",
   "execution_count": 13,
   "metadata": {},
   "outputs": [],
   "source": [
    " with open('line_regression_result.csv', 'w') as f:\n",
    "        print('id,value', file=f)\n",
    "        for (i, p) in enumerate(predict) :\n",
    "            print('id_{},{}'.format(i, p), file=f)"
   ]
  },
  {
   "cell_type": "markdown",
   "metadata": {},
   "source": [
    "# TODO #\n",
    "\n",
    "* ~~去掉七八月~~\n",
    "* ~~shift 3 小時~~\n",
    "* ~~只做PM2.5 PM10 NO2影響大......~~\n",
    "* ~~負的資料砍掉~~\n",
    "* n-fold\n",
    "* normalize\n",
    "* gradient bootsing\n",
    "\n"
   ]
  },
  {
   "cell_type": "code",
   "execution_count": null,
   "metadata": {},
   "outputs": [],
   "source": []
  }
 ],
 "metadata": {
  "kernelspec": {
   "display_name": "Python 3",
   "language": "python",
   "name": "python3"
  },
  "language_info": {
   "codemirror_mode": {
    "name": "ipython",
    "version": 3
   },
   "file_extension": ".py",
   "mimetype": "text/x-python",
   "name": "python",
   "nbconvert_exporter": "python",
   "pygments_lexer": "ipython3",
   "version": "3.6.5"
  }
 },
 "nbformat": 4,
 "nbformat_minor": 2
}
