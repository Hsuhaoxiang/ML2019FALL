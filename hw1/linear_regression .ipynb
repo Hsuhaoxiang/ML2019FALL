{
 "cells": [
  {
   "cell_type": "code",
   "execution_count": 15,
   "metadata": {},
   "outputs": [],
   "source": [
    "import numpy as np\n",
    "import pandas as pd\n",
    "import sys\n",
    "from sklearn import ensemble as em\n",
    "train = pd.read_csv('year1-data.csv')\n",
    "train2  = pd.read_csv('year2-data.csv')\n",
    "X_test = pd.read_csv('testing_data.csv')\n",
    "#train.shape #6588(366*18)*26\n",
    "#train2.shape #6570(365*18)*26\n",
    "#X_test.shape #9000*11"
   ]
  },
  {
   "cell_type": "code",
   "execution_count": 16,
   "metadata": {},
   "outputs": [],
   "source": [
    "#train = train.replace(\"#\",\"\")\n",
    "#train = train.replace(\"\\*\",\"\")\n",
    "#train = train.replace(\"x\",\"\")\n",
    "def preprocess(train):\n",
    "    train.replace(\"#\",'',inplace=True,regex=True)\n",
    "    train.replace(\"x\",'',inplace=True,regex=True)\n",
    "    train.replace(\"\\*\",'',inplace=True,regex=True)\n",
    "    train.replace(\"NR\",0,inplace=True) #將NR變成0\n",
    "    train.fillna(0, inplace=True) #把NAN變成0\n",
    "    train = train.iloc[:,2:]\n",
    "    return train"
   ]
  },
  {
   "cell_type": "code",
   "execution_count": 17,
   "metadata": {},
   "outputs": [],
   "source": [
    "train =  preprocess(train) #6588*24\n",
    "train2 = preprocess(train2) #6570*24\n",
    "X_test = preprocess(X_test) #9000*9\n"
   ]
  },
  {
   "cell_type": "code",
   "execution_count": 18,
   "metadata": {},
   "outputs": [],
   "source": [
    "def get_feature(train,test=False):\n",
    "    train = np.array(train,dtype=float)# to array 6588*24\n",
    "    tmp=[]\n",
    "    feature = []\n",
    "    for i  in range(train.shape[0]): #0~6587\n",
    "        if not test:\n",
    "            if i/18>180 and i/18<240:\n",
    "                continue\n",
    "        index = i%18\n",
    "        if index==2 or index==4 or index==5 or index==7 or index==8 or index==9 or index==12:#只取CO,NO,NO2,PM2.5,PM10,O3,SO2\n",
    "            tmp.append(train[i])\n",
    "        if index==17:\n",
    "            tmp = np.array(tmp,dtype=float)#shape7*24\n",
    "            feature.append(tmp)\n",
    "            tmp = []\n",
    "    feature = np.array(feature,dtype=float)#366*168\n",
    "    print(feature.shape)\n",
    "    return feature"
   ]
  },
  {
   "cell_type": "code",
   "execution_count": 19,
   "metadata": {},
   "outputs": [
    {
     "name": "stdout",
     "output_type": "stream",
     "text": [
      "(306, 7, 24)\n",
      "(305, 7, 24)\n",
      "(500, 7, 9)\n"
     ]
    }
   ],
   "source": [
    "train = get_feature(train)#shape 366*168\n",
    "train2 = get_feature(train2)#shape 365*168\n",
    "X_test = get_feature(X_test,test=True)#500*7*9\n"
   ]
  },
  {
   "cell_type": "code",
   "execution_count": 20,
   "metadata": {},
   "outputs": [],
   "source": [
    "train = np.concatenate((train, train2), axis=0)#shape 731*7*24"
   ]
  },
  {
   "cell_type": "code",
   "execution_count": 21,
   "metadata": {},
   "outputs": [],
   "source": [
    "tmp = train[0]\n",
    "tmp.shape\n",
    "for i in range(1,train.shape[0]):\n",
    "    tmp =  np.concatenate((tmp, train[i]), axis=1)\n",
    "train = tmp #7*17544"
   ]
  },
  {
   "cell_type": "code",
   "execution_count": 22,
   "metadata": {},
   "outputs": [],
   "source": [
    "def valid(x, y):\n",
    "    if y <= 2 or y > 100:\n",
    "        return False\n",
    "    for i in range(9):\n",
    "        if x[5,i] <= 2 or x[5,i] > 100:\n",
    "            return False\n",
    "    for i in range(9):\n",
    "        for j in range(7):\n",
    "            if x[j,i] < 0:\n",
    "                return False\n",
    "    return True"
   ]
  },
  {
   "cell_type": "code",
   "execution_count": 23,
   "metadata": {},
   "outputs": [
    {
     "data": {
      "text/plain": [
       "(500, 63)"
      ]
     },
     "execution_count": 23,
     "metadata": {},
     "output_type": "execute_result"
    }
   ],
   "source": [
    "tmp = []\n",
    "X_test.shape\n",
    "for i in range(X_test.shape[0]):\n",
    "    tmp.append(X_test[i].flatten())\n",
    "X_test = tmp \n",
    "X_test = np.array(X_test,dtype=float)#shape 500*63\n",
    "X_test.shape\n"
   ]
  },
  {
   "cell_type": "code",
   "execution_count": 24,
   "metadata": {},
   "outputs": [],
   "source": [
    "X=[]\n",
    "Y=[]\n",
    "for i in range(0, train.shape[1]-9):\n",
    "    x =  train[:, i:i+9]\n",
    "    y = train[5, i+9]\n",
    "    if valid(x,y):\n",
    "        X.append(x.flatten())\n",
    "        Y.append([y])\n",
    "\n",
    "X = np.array(X)#shape 5845*63\n",
    "Y = np.array(Y)#shape 5845*1\n",
    "\n",
    "\n",
    "\n",
    "#X_1=X[0:2327,:]\n",
    "#X_2=X[2327:4654,:]\n",
    "#X_3=X[4654:6981,:]\n",
    "#X_4=X[6981:9308,:]\n",
    "#X_5=X[9308:,:]\n",
    "#Y_1 = Y[0:2327,:]\n",
    "#Y_2 = Y[2327:4654,:]\n",
    "#Y_3 = Y[4654:6981,:]\n",
    "#Y_4 = Y[6981:9308,:]\n",
    "#Y_5 = Y[9308:,:]\n"
   ]
  },
  {
   "cell_type": "code",
   "execution_count": 25,
   "metadata": {},
   "outputs": [],
   "source": [
    "class Linear_Regression():\n",
    "    def __init__(self,B = np.double(0),W = np.ones((63, 1))):\n",
    "        self.B = B\n",
    "        self.W = W\n",
    "        pass\n",
    "    def error(self, X, Y):\n",
    "        return Y - self.predict(X)\n",
    "\n",
    "    def MSE(self, X, Y):#MSE(X) = E[(X-Y)^2]\n",
    "        return np.sqrt(np.mean(self.error(X, Y) ** 2))\n",
    "    \n",
    "    def predict(self, X):#   y = wx+b\n",
    "        _X = np.reshape(X, (-1, self.feature_dim))\n",
    "        return np.dot(_X, self.W) + self.B\n",
    "\n",
    "    def fit(self, _X, Y, valid, max_epoch=500000, lr=0.000001, C=0.0):\n",
    "        assert _X.shape[0] == Y.shape[0]\n",
    "        N = _X.shape[0]\n",
    "        self.feature_dim = feature_dim = _X.shape[1]\n",
    "        self.C = C\n",
    "        print(_X.shape)\n",
    "        X = _X\n",
    "        \n",
    "     \n",
    "        #self.B = 0.0\n",
    "        #self.W = np.ones((self.feature_dim, 1))\n",
    "        for epoch in range(1, max_epoch+1):\n",
    "            \n",
    "            error = Y - self.predict(X)          \n",
    "            B_grad = -np.sum(error)  / N\n",
    "            W_grad = -np.dot(X.T, error) / N\n",
    "            self.B = self.B - lr  * B_grad\n",
    "            self.W = self.W - lr  * W_grad\n",
    "            \n",
    "            if epoch % 1000 == 0:\n",
    "                print('[Epoch {}]: loss: {}'.format(epoch, self.MSE(X, Y)))"
   ]
  },
  {
   "cell_type": "code",
   "execution_count": 26,
   "metadata": {},
   "outputs": [
    {
     "name": "stdout",
     "output_type": "stream",
     "text": [
      "(11635, 63)\n",
      "[Epoch 1000]: loss: 21.205522703381693\n",
      "[Epoch 2000]: loss: 15.870487303452933\n",
      "[Epoch 3000]: loss: 12.803205960906885\n",
      "[Epoch 4000]: loss: 10.712575638390904\n",
      "[Epoch 5000]: loss: 9.175346610722588\n",
      "[Epoch 6000]: loss: 8.00854585618434\n",
      "[Epoch 7000]: loss: 7.115023013367047\n",
      "[Epoch 8000]: loss: 6.432698911924571\n",
      "[Epoch 9000]: loss: 5.915942219128102\n",
      "[Epoch 10000]: loss: 5.528468077275539\n",
      "[Epoch 11000]: loss: 5.240636435721716\n",
      "[Epoch 12000]: loss: 5.028361144882086\n",
      "[Epoch 13000]: loss: 4.872469561189141\n",
      "[Epoch 14000]: loss: 4.758082053120599\n",
      "[Epoch 15000]: loss: 4.67392641651128\n",
      "[Epoch 16000]: loss: 4.6116356320097225\n",
      "[Epoch 17000]: loss: 4.565097055471956\n",
      "[Epoch 18000]: loss: 4.52989658534131\n",
      "[Epoch 19000]: loss: 4.502871800068669\n",
      "[Epoch 20000]: loss: 4.481767948573015\n",
      "[Epoch 21000]: loss: 4.46498111408897\n",
      "[Epoch 22000]: loss: 4.451370529085081\n",
      "[Epoch 23000]: loss: 4.440123443584537\n",
      "[Epoch 24000]: loss: 4.430658811765573\n",
      "[Epoch 25000]: loss: 4.422559107338722\n",
      "[Epoch 26000]: loss: 4.415522259735094\n",
      "[Epoch 27000]: loss: 4.409327858226381\n",
      "[Epoch 28000]: loss: 4.403813415467157\n",
      "[Epoch 29000]: loss: 4.398857697144196\n",
      "[Epoch 30000]: loss: 4.394369004174232\n",
      "[Epoch 31000]: loss: 4.390276922243371\n",
      "[Epoch 32000]: loss: 4.386526498248072\n",
      "[Epoch 33000]: loss: 4.383074116134219\n",
      "[Epoch 34000]: loss: 4.379884563942544\n",
      "[Epoch 35000]: loss: 4.376928937175935\n",
      "[Epoch 36000]: loss: 4.374183130606563\n",
      "[Epoch 37000]: loss: 4.371626745262719\n",
      "[Epoch 38000]: loss: 4.369242289360911\n",
      "[Epoch 39000]: loss: 4.367014588225598\n",
      "[Epoch 40000]: loss: 4.364930343546456\n",
      "[Epoch 41000]: loss: 4.362977799992342\n",
      "[Epoch 42000]: loss: 4.361146489550772\n",
      "[Epoch 43000]: loss: 4.359427032605411\n",
      "[Epoch 44000]: loss: 4.357810980824128\n",
      "[Epoch 45000]: loss: 4.356290691187727\n",
      "[Epoch 46000]: loss: 4.354859223488069\n",
      "[Epoch 47000]: loss: 4.353510255742428\n",
      "[Epoch 48000]: loss: 4.3522380134724585\n",
      "[Epoch 49000]: loss: 4.351037209864899\n",
      "[Epoch 50000]: loss: 4.349902994595706\n",
      "[Epoch 51000]: loss: 4.348830909649266\n",
      "[Epoch 52000]: loss: 4.347816850862661\n",
      "[Epoch 53000]: loss: 4.34685703421564\n",
      "[Epoch 54000]: loss: 4.345947966100872\n",
      "[Epoch 55000]: loss: 4.345086416968121\n",
      "[Epoch 56000]: loss: 4.344269397855458\n",
      "[Epoch 57000]: loss: 4.343494139411424\n",
      "[Epoch 58000]: loss: 4.34275807308196\n",
      "[Epoch 59000]: loss: 4.3420588141903504\n",
      "[Epoch 60000]: loss: 4.341394146681469\n",
      "[Epoch 61000]: loss: 4.340762009335975\n",
      "[Epoch 62000]: loss: 4.340160483287975\n",
      "[Epoch 63000]: loss: 4.339587780702497\n",
      "[Epoch 64000]: loss: 4.339042234488041\n",
      "[Epoch 65000]: loss: 4.338522288935321\n",
      "[Epoch 66000]: loss: 4.338026491186654\n",
      "[Epoch 67000]: loss: 4.337553483451917\n",
      "[Epoch 68000]: loss: 4.337101995896714\n",
      "[Epoch 69000]: loss: 4.336670840136853\n",
      "[Epoch 70000]: loss: 4.336258903280581\n",
      "[Epoch 71000]: loss: 4.3358651424663845\n",
      "[Epoch 72000]: loss: 4.335488579849768\n",
      "[Epoch 73000]: loss: 4.335128297997343\n",
      "[Epoch 74000]: loss: 4.334783435650887\n",
      "[Epoch 75000]: loss: 4.334453183827857\n",
      "[Epoch 76000]: loss: 4.334136782228238\n",
      "[Epoch 77000]: loss: 4.333833515920615\n",
      "[Epoch 78000]: loss: 4.333542712283036\n",
      "[Epoch 79000]: loss: 4.33326373817661\n",
      "[Epoch 80000]: loss: 4.332995997331926\n",
      "[Epoch 81000]: loss: 4.332738927930263\n",
      "[Epoch 82000]: loss: 4.332492000363292\n",
      "[Epoch 83000]: loss: 4.332254715156439\n",
      "[Epoch 84000]: loss: 4.332026601042534\n",
      "[Epoch 85000]: loss: 4.331807213173494\n",
      "[Epoch 86000]: loss: 4.331596131458996\n",
      "[Epoch 87000]: loss: 4.3313929590219935\n",
      "[Epoch 88000]: loss: 4.331197320761921\n",
      "[Epoch 89000]: loss: 4.331008862017151\n",
      "[Epoch 90000]: loss: 4.330827247319062\n",
      "[Epoch 91000]: loss: 4.330652159230709\n",
      "[Epoch 92000]: loss: 4.33048329726368\n",
      "[Epoch 93000]: loss: 4.330320376867287\n",
      "[Epoch 94000]: loss: 4.3301631284846875\n",
      "[Epoch 95000]: loss: 4.330011296671045\n",
      "[Epoch 96000]: loss: 4.329864639269162\n",
      "[Epoch 97000]: loss: 4.329722926638446\n",
      "[Epoch 98000]: loss: 4.329585940933383\n",
      "[Epoch 99000]: loss: 4.3294534754279885\n",
      "[Epoch 100000]: loss: 4.3293253338830056\n"
     ]
    }
   ],
   "source": [
    "model = Linear_Regression()\n",
    "model.fit(X, Y, valid=None, max_epoch=100000, lr=0.000003, C=0.00001)"
   ]
  },
  {
   "cell_type": "code",
   "execution_count": 27,
   "metadata": {},
   "outputs": [
    {
     "name": "stdout",
     "output_type": "stream",
     "text": [
      "(500, 1)\n"
     ]
    }
   ],
   "source": [
    "predict = model.predict(X_test)\n",
    "print(predict.shape)\n",
    "for i in range(len(predict)):\n",
    "    if predict[i]<0:\n",
    "        predict[i] = 19.445"
   ]
  },
  {
   "cell_type": "code",
   "execution_count": 28,
   "metadata": {},
   "outputs": [],
   "source": [
    " with open('line_regression_result.csv', 'w') as f:\n",
    "        print('id,value', file=f)\n",
    "        for (i, p) in enumerate(predict) :\n",
    "            print('id_{},{}'.format(i, p[0]), file=f)"
   ]
  },
  {
   "cell_type": "markdown",
   "metadata": {},
   "source": [
    "# TODO #\n",
    "\n",
    "* ~~去掉七八月~~\n",
    "* ~~shift 3 小時~~\n",
    "* ~~只做PM2.5 PM10 NO2影響大......~~\n",
    "* ~~負的資料砍掉~~\n",
    "* n-fold\n",
    "* normalize\n",
    "* gradient bootsing\n",
    "\n"
   ]
  },
  {
   "cell_type": "code",
   "execution_count": null,
   "metadata": {},
   "outputs": [],
   "source": []
  }
 ],
 "metadata": {
  "kernelspec": {
   "display_name": "Python 3",
   "language": "python",
   "name": "python3"
  },
  "language_info": {
   "codemirror_mode": {
    "name": "ipython",
    "version": 3
   },
   "file_extension": ".py",
   "mimetype": "text/x-python",
   "name": "python",
   "nbconvert_exporter": "python",
   "pygments_lexer": "ipython3",
   "version": "3.6.5"
  }
 },
 "nbformat": 4,
 "nbformat_minor": 2
}
