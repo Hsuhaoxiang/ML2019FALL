{
 "cells": [
  {
   "cell_type": "code",
   "execution_count": 68,
   "metadata": {},
   "outputs": [],
   "source": [
    "import numpy as np\n",
    "import pandas as pd\n",
    "import sys\n",
    "\n",
    "train = pd.read_csv('year1-data.csv')\n",
    "train2  = pd.read_csv('year2-data.csv')\n",
    "X_test = pd.read_csv('testing_data.csv')\n",
    "#train.shape #6588(366*18)*26\n",
    "#train2.shape #6570(365*18)*26\n",
    "#X_test.shape #9000*11"
   ]
  },
  {
   "cell_type": "code",
   "execution_count": 69,
   "metadata": {},
   "outputs": [],
   "source": [
    "#train = train.replace(\"#\",\"\")\n",
    "#train = train.replace(\"\\*\",\"\")\n",
    "#train = train.replace(\"x\",\"\")\n",
    "def preprocess(train):\n",
    "    train.replace(\"#\",'',inplace=True,regex=True)\n",
    "    train.replace(\"x\",'',inplace=True,regex=True)\n",
    "    train.replace(\"\\*\",'',inplace=True,regex=True)\n",
    "    train.replace(\"NR\",0,inplace=True) #將NR變成0\n",
    "    train.fillna(0, inplace=True) #把NAN變成0\n",
    "    train = train.iloc[:,2:]\n",
    "    return train"
   ]
  },
  {
   "cell_type": "code",
   "execution_count": 70,
   "metadata": {},
   "outputs": [],
   "source": [
    "train =  preprocess(train) #6588*24\n",
    "train2 = preprocess(train2) #6570*24\n",
    "X_test = preprocess(X_test) #9000*9\n"
   ]
  },
  {
   "cell_type": "code",
   "execution_count": 71,
   "metadata": {},
   "outputs": [],
   "source": [
    "def get_feature(train,test=False):\n",
    "    train = np.array(train,dtype=float)# to array 6588*24\n",
    "    tmp=[]\n",
    "    feature = []\n",
    "    for i  in range(train.shape[0]): #0~6587\n",
    "        if not test:\n",
    "            if i/18>180 and i/18<240:\n",
    "                continue\n",
    "        index = i%18\n",
    "        if index==2 or index==4 or index==5 or index==7 or index==8 or index==9 or index==12:#只取CO,NO,NO2,PM2.5,PM10,O3,SO2\n",
    "                        \n",
    "    \n",
    "            tmp.append(train[i])\n",
    "        if index==17:\n",
    "            tmp = np.array(tmp,dtype=float)#shape7*24\n",
    "            feature.append(tmp)\n",
    "            tmp = []\n",
    "    feature = np.array(feature,dtype=float)#366*168\n",
    "    print(feature.shape)\n",
    "    return feature"
   ]
  },
  {
   "cell_type": "code",
   "execution_count": 72,
   "metadata": {},
   "outputs": [
    {
     "name": "stdout",
     "output_type": "stream",
     "text": [
      "(306, 7, 24)\n",
      "(305, 7, 24)\n",
      "(500, 7, 9)\n"
     ]
    }
   ],
   "source": [
    "train = get_feature(train)#shape 366*168\n",
    "train2 = get_feature(train2)#shape 365*168\n",
    "X_test = get_feature(X_test,test=True)#500*7*9\n"
   ]
  },
  {
   "cell_type": "code",
   "execution_count": 73,
   "metadata": {},
   "outputs": [],
   "source": [
    "train = np.concatenate((train, train2), axis=0)#shape 731*7*24"
   ]
  },
  {
   "cell_type": "code",
   "execution_count": 74,
   "metadata": {},
   "outputs": [],
   "source": [
    "tmp = train[0]\n",
    "tmp.shape\n",
    "for i in range(1,train.shape[0]):\n",
    "    tmp =  np.concatenate((tmp, train[i]), axis=1)\n",
    "train = tmp #7*17544"
   ]
  },
  {
   "cell_type": "code",
   "execution_count": 75,
   "metadata": {},
   "outputs": [
    {
     "data": {
      "text/plain": [
       "(500, 63)"
      ]
     },
     "execution_count": 75,
     "metadata": {},
     "output_type": "execute_result"
    }
   ],
   "source": [
    "tmp = []\n",
    "X_test.shape\n",
    "for i in range(X_test.shape[0]):\n",
    "    tmp.append(X_test[i].flatten())\n",
    "X_test = tmp \n",
    "X_test = np.array(X_test,dtype=float)#shape 500*63\n",
    "X_test.shape\n"
   ]
  },
  {
   "cell_type": "code",
   "execution_count": 76,
   "metadata": {},
   "outputs": [],
   "source": [
    "X=[]\n",
    "Y=[]\n",
    "for i in range(0, train.shape[1]-9,3):\n",
    "    X.append(train[:, i:i+9].flatten())\n",
    "    Y.append([train[5, i+9]])\n",
    "\n",
    "X = np.array(X)#shape 5845*63\n",
    "Y = np.array(Y)#shape 5845*1\n"
   ]
  },
  {
   "cell_type": "code",
   "execution_count": 77,
   "metadata": {},
   "outputs": [],
   "source": [
    "class Linear_Regression():\n",
    "    def __init__(self):\n",
    "        pass\n",
    "        \n",
    "    def error(self, X, Y):\n",
    "        return Y - self.predict(X)\n",
    "\n",
    "    def MSE(self, X, Y):#MSE(X) = E[(X-Y)^2]\n",
    "        return np.sqrt(np.mean(self.error(X, Y) ** 2))\n",
    "    \n",
    "    def predict(self, X):#   y = wx+b\n",
    "        _X = np.reshape(X, (-1, self.feature_dim))\n",
    "        return np.dot(_X, self.W) + self.B\n",
    "\n",
    "    def fit(self, _X, Y, valid, max_epoch=500000, lr=0.000001, C=0.0):\n",
    "        assert _X.shape[0] == Y.shape[0]\n",
    "        N = _X.shape[0]\n",
    "        self.feature_dim = feature_dim = _X.shape[1]\n",
    "        self.C = C\n",
    "        print(_X.shape)\n",
    "        X = _X\n",
    "        \n",
    "        if valid is not None:\n",
    "            X_valid, Y_valid = valid\n",
    "            X_valid = self._scale(X_valid, istrain=False)\n",
    "            \n",
    "        self.B = 0.0\n",
    "        self.W = np.ones((self.feature_dim, 1))\n",
    "\n",
    "        B_lr = 0.0\n",
    "        W_lr = np.zeros((feature_dim, 1))\n",
    "        for epoch in range(1, max_epoch+1):\n",
    "            \n",
    "            error = Y - self.predict(X)          \n",
    "            B_grad = -np.sum(error)  / N\n",
    "            W_grad = -np.dot(X.T, error) / N\n",
    "            self.B = self.B - lr  * B_grad\n",
    "            self.W = self.W - lr  * W_grad\n",
    "            \n",
    "            if epoch % 1000 == 0:\n",
    "                print('[Epoch {}]: loss: {}'.format(epoch, self.MSE(X, Y)))\n",
    "                if valid is not None:\n",
    "                    print('valid loss: {}'.format(self.MSE(X_valid, Y_valid)))"
   ]
  },
  {
   "cell_type": "code",
   "execution_count": 78,
   "metadata": {},
   "outputs": [
    {
     "name": "stdout",
     "output_type": "stream",
     "text": [
      "(4885, 63)\n",
      "[Epoch 1000]: loss: 36.14148823215899\n",
      "[Epoch 2000]: loss: 33.34631462967338\n",
      "[Epoch 3000]: loss: 31.93137338879863\n",
      "[Epoch 4000]: loss: 31.10151746876456\n",
      "[Epoch 5000]: loss: 30.57492730581511\n",
      "[Epoch 6000]: loss: 30.2271269465743\n",
      "[Epoch 7000]: loss: 29.992691203964394\n",
      "[Epoch 8000]: loss: 29.832854452053848\n",
      "[Epoch 9000]: loss: 29.7230340256992\n",
      "[Epoch 10000]: loss: 29.647081372111266\n",
      "[Epoch 11000]: loss: 29.594195138584322\n",
      "[Epoch 12000]: loss: 29.55708188455794\n",
      "[Epoch 13000]: loss: 29.53079090448748\n",
      "[Epoch 14000]: loss: 29.5119508580131\n",
      "[Epoch 15000]: loss: 29.49826058858368\n",
      "[Epoch 16000]: loss: 29.488146234811737\n",
      "[Epoch 17000]: loss: 29.48052913845606\n",
      "[Epoch 18000]: loss: 29.474668300053622\n",
      "[Epoch 19000]: loss: 29.470053256177774\n",
      "[Epoch 20000]: loss: 29.466331157304033\n",
      "[Epoch 21000]: loss: 29.463257081063144\n",
      "[Epoch 22000]: loss: 29.46066014711413\n",
      "[Epoch 23000]: loss: 29.458420386030642\n",
      "[Epoch 24000]: loss: 29.45645293165183\n",
      "[Epoch 25000]: loss: 29.454697203921487\n",
      "[Epoch 26000]: loss: 29.453109494866464\n",
      "[Epoch 27000]: loss: 29.45165787718016\n",
      "[Epoch 28000]: loss: 29.450318699508635\n",
      "[Epoch 29000]: loss: 29.44907416697137\n",
      "[Epoch 30000]: loss: 29.44791066498091\n",
      "[Epoch 31000]: loss: 29.44681759303172\n",
      "[Epoch 32000]: loss: 29.44578654909826\n",
      "[Epoch 33000]: loss: 29.444810755688042\n",
      "[Epoch 34000]: loss: 29.44388465296426\n",
      "[Epoch 35000]: loss: 29.443003607802307\n",
      "[Epoch 36000]: loss: 29.442163703657826\n",
      "[Epoch 37000]: loss: 29.44136158706885\n",
      "[Epoch 38000]: loss: 29.44059435410394\n",
      "[Epoch 39000]: loss: 29.439859465200218\n",
      "[Epoch 40000]: loss: 29.439154680357092\n",
      "[Epoch 41000]: loss: 29.43847800907359\n",
      "[Epoch 42000]: loss: 29.437827671086918\n",
      "[Epoch 43000]: loss: 29.43720206512383\n",
      "[Epoch 44000]: loss: 29.43659974367725\n",
      "[Epoch 45000]: loss: 29.43601939237841\n",
      "[Epoch 46000]: loss: 29.4354598129253\n",
      "[Epoch 47000]: loss: 29.434919908803288\n",
      "[Epoch 48000]: loss: 29.434398673229087\n",
      "[Epoch 49000]: loss: 29.433895178888598\n",
      "[Epoch 50000]: loss: 29.43340856914014\n",
      "[Epoch 51000]: loss: 29.432938050428017\n",
      "[Epoch 52000]: loss: 29.43248288570561\n",
      "[Epoch 53000]: loss: 29.432042388707828\n",
      "[Epoch 54000]: loss: 29.43161591894358\n",
      "[Epoch 55000]: loss: 29.431202877302375\n",
      "[Epoch 56000]: loss: 29.430802702187727\n",
      "[Epoch 57000]: loss: 29.43041486610456\n",
      "[Epoch 58000]: loss: 29.430038872639283\n",
      "[Epoch 59000]: loss: 29.4296742537809\n",
      "[Epoch 60000]: loss: 29.429320567538902\n",
      "[Epoch 61000]: loss: 29.428977395820393\n",
      "[Epoch 62000]: loss: 29.428644342533858\n",
      "[Epoch 63000]: loss: 29.428321031891816\n",
      "[Epoch 64000]: loss: 29.428007106888096\n",
      "[Epoch 65000]: loss: 29.427702227928826\n",
      "[Epoch 66000]: loss: 29.42740607159887\n",
      "[Epoch 67000]: loss: 29.42711832954798\n",
      "[Epoch 68000]: loss: 29.426838707482727\n",
      "[Epoch 69000]: loss: 29.42656692425216\n",
      "[Epoch 70000]: loss: 29.426302711016668\n",
      "[Epoch 71000]: loss: 29.42604581049076\n",
      "[Epoch 72000]: loss: 29.425795976251578\n",
      "[Epoch 73000]: loss: 29.425552972106182\n",
      "[Epoch 74000]: loss: 29.425316571511136\n",
      "[Epoch 75000]: loss: 29.425086557039\n",
      "[Epoch 76000]: loss: 29.42486271988689\n",
      "[Epoch 77000]: loss: 29.424644859422695\n",
      "[Epoch 78000]: loss: 29.42443278276527\n",
      "[Epoch 79000]: loss: 29.424226304395212\n",
      "[Epoch 80000]: loss: 29.424025245793256\n",
      "[Epoch 81000]: loss: 29.423829435103684\n",
      "[Epoch 82000]: loss: 29.423638706820334\n",
      "[Epoch 83000]: loss: 29.423452901493288\n",
      "[Epoch 84000]: loss: 29.423271865454204\n",
      "[Epoch 85000]: loss: 29.42309545055881\n",
      "[Epoch 86000]: loss: 29.422923513944994\n",
      "[Epoch 87000]: loss: 29.4227559178052\n",
      "[Epoch 88000]: loss: 29.42259252917198\n",
      "[Epoch 89000]: loss: 29.422433219715607\n",
      "[Epoch 90000]: loss: 29.422277865552868\n",
      "[Epoch 91000]: loss: 29.422126347066076\n",
      "[Epoch 92000]: loss: 29.42197854873163\n",
      "[Epoch 93000]: loss: 29.421834358957433\n",
      "[Epoch 94000]: loss: 29.421693669928434\n",
      "[Epoch 95000]: loss: 29.421556377459854\n",
      "[Epoch 96000]: loss: 29.421422380857503\n",
      "[Epoch 97000]: loss: 29.421291582784743\n",
      "[Epoch 98000]: loss: 29.421163889135634\n",
      "[Epoch 99000]: loss: 29.42103920891396\n",
      "[Epoch 100000]: loss: 29.420917454117678\n"
     ]
    }
   ],
   "source": [
    "model = Linear_Regression()\n",
    "model.fit(X, Y, valid=None, max_epoch=100000, lr=0.000003, C=0.00001)"
   ]
  },
  {
   "cell_type": "code",
   "execution_count": 79,
   "metadata": {},
   "outputs": [],
   "source": [
    "predict = model.predict(X_test)\n",
    "for i in range(len(predict)):\n",
    "    if predict[i]<0:\n",
    "        predict[i] = 19.445"
   ]
  },
  {
   "cell_type": "code",
   "execution_count": 80,
   "metadata": {},
   "outputs": [],
   "source": [
    " with open('resule.csv', 'w') as f:\n",
    "        print('id,value', file=f)\n",
    "        for (i, p) in enumerate(predict) :\n",
    "            print('id_{},{}'.format(i, p[0]), file=f)"
   ]
  },
  {
   "cell_type": "markdown",
   "metadata": {},
   "source": [
    "# TODO #\n",
    "\n",
    "* 去掉七八月\n",
    "* shift 3 小時\n",
    "* 只做PM2.5 PM10 NO2影響大......\n",
    "* 負的資料砍掉\n",
    "\n"
   ]
  },
  {
   "cell_type": "code",
   "execution_count": null,
   "metadata": {},
   "outputs": [],
   "source": []
  }
 ],
 "metadata": {
  "kernelspec": {
   "display_name": "Python 3",
   "language": "python",
   "name": "python3"
  },
  "language_info": {
   "codemirror_mode": {
    "name": "ipython",
    "version": 3
   },
   "file_extension": ".py",
   "mimetype": "text/x-python",
   "name": "python",
   "nbconvert_exporter": "python",
   "pygments_lexer": "ipython3",
   "version": "3.6.5"
  }
 },
 "nbformat": 4,
 "nbformat_minor": 2
}
