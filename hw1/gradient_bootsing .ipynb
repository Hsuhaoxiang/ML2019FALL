{
 "cells": [
  {
   "cell_type": "code",
   "execution_count": 1,
   "metadata": {},
   "outputs": [],
   "source": [
    "import numpy as np\n",
    "import pandas as pd\n",
    "import sys\n",
    "from sklearn import ensemble as em\n",
    "train = pd.read_csv('year1-data.csv')\n",
    "train2  = pd.read_csv('year2-data.csv')\n",
    "\n",
    "X_test = pd.read_csv('testing_data.csv')\n",
    "#train.shape #6588(366*18)*26\n",
    "#train2.shape #6570(365*18)*26\n",
    "#X_test.shape #9000*11"
   ]
  },
  {
   "cell_type": "code",
   "execution_count": 2,
   "metadata": {},
   "outputs": [],
   "source": [
    "#train = train.replace(\"#\",\"\")\n",
    "#train = train.replace(\"\\*\",\"\")\n",
    "#train = train.replace(\"x\",\"\")\n",
    "def preprocess(train):\n",
    "    train.replace(\"#\",'',inplace=True,regex=True)\n",
    "    train.replace(\"x\",'',inplace=True,regex=True)\n",
    "    train.replace(\"\\*\",'',inplace=True,regex=True)\n",
    "    train.replace(\"NR\",0,inplace=True) #將NR變成0\n",
    "    train.fillna(0, inplace=True) #把NAN變成0\n",
    "    train = train.iloc[:,2:]\n",
    "    return train"
   ]
  },
  {
   "cell_type": "code",
   "execution_count": 3,
   "metadata": {},
   "outputs": [],
   "source": [
    "train =  preprocess(train) #6588*24\n",
    "train2 = preprocess(train2) #6570*24\n",
    "X_test = preprocess(X_test) #9000*9\n"
   ]
  },
  {
   "cell_type": "code",
   "execution_count": 4,
   "metadata": {},
   "outputs": [],
   "source": [
    "def get_feature(train,test=False):\n",
    "    train = np.array(train,dtype=float)# to array 6588*24\n",
    "    tmp=[]\n",
    "    feature = []\n",
    "    for i  in range(train.shape[0]): #0~6587\n",
    "        index = i%18\n",
    "        tmp.append(train[i])\n",
    "        if index==17:\n",
    "            tmp = np.array(tmp,dtype=float)#shape7*24\n",
    "            feature.append(tmp)\n",
    "            tmp = []\n",
    "    feature = np.array(feature,dtype=float)#366*168\n",
    "    print(feature.shape)\n",
    "    return feature"
   ]
  },
  {
   "cell_type": "code",
   "execution_count": 5,
   "metadata": {},
   "outputs": [
    {
     "name": "stdout",
     "output_type": "stream",
     "text": [
      "(366, 18, 24)\n",
      "(365, 18, 24)\n",
      "(500, 18, 9)\n"
     ]
    }
   ],
   "source": [
    "train = get_feature(train)#shape 366*168\n",
    "train2 = get_feature(train2)#shape 365*168\n",
    "X_test = get_feature(X_test)#500*7*9\n"
   ]
  },
  {
   "cell_type": "code",
   "execution_count": 6,
   "metadata": {},
   "outputs": [],
   "source": [
    "train = np.concatenate((train, train2), axis=0)#shape 731*7*24"
   ]
  },
  {
   "cell_type": "code",
   "execution_count": 7,
   "metadata": {},
   "outputs": [],
   "source": [
    "tmp = train[0]\n",
    "tmp.shape\n",
    "for i in range(1,train.shape[0]):\n",
    "    tmp =  np.concatenate((tmp, train[i]), axis=1)\n",
    "train = tmp #7*17544"
   ]
  },
  {
   "cell_type": "code",
   "execution_count": 8,
   "metadata": {},
   "outputs": [
    {
     "data": {
      "text/plain": [
       "(500, 162)"
      ]
     },
     "execution_count": 8,
     "metadata": {},
     "output_type": "execute_result"
    }
   ],
   "source": [
    "tmp = []\n",
    "X_test.shape\n",
    "for i in range(X_test.shape[0]):\n",
    "    tmp.append(X_test[i].flatten())\n",
    "X_test = tmp \n",
    "X_test = np.array(X_test,dtype=float)#shape 500*63\n",
    "X_test.shape\n"
   ]
  },
  {
   "cell_type": "code",
   "execution_count": 9,
   "metadata": {},
   "outputs": [],
   "source": [
    "def valid(x, y):\n",
    "    if y <= 2:\n",
    "        y = 4\n",
    "    if y>100:\n",
    "        y = 80\n",
    "    for i in range(9):\n",
    "        if x[9,i] <= 2:\n",
    "            x[9,i] = 4\n",
    "        if x[9,i] > 100:\n",
    "            x[9,i] = 80"
   ]
  },
  {
   "cell_type": "code",
   "execution_count": 10,
   "metadata": {},
   "outputs": [
    {
     "data": {
      "text/plain": [
       "(17535, 162)"
      ]
     },
     "execution_count": 10,
     "metadata": {},
     "output_type": "execute_result"
    }
   ],
   "source": [
    "X=[]\n",
    "Y=[]\n",
    "for i in range(0, train.shape[1]-9):\n",
    "    x =  train[:, i:i+9]\n",
    "    y = train[9, i+9]\n",
    "    valid(x,y)\n",
    "    X.append(x.flatten())\n",
    "    Y.append(y)\n",
    "\n",
    "X = np.array(X)#shape 5845*63\n",
    "Y = np.array(Y)#shape 5845*1\n",
    "X.shape\n",
    "#Y.shape"
   ]
  },
  {
   "cell_type": "code",
   "execution_count": 11,
   "metadata": {},
   "outputs": [
    {
     "name": "stdout",
     "output_type": "stream",
     "text": [
      "      Iter       Train Loss   Remaining Time \n",
      "         1        4853.1214           49.45m\n",
      "         2        4762.0060           50.10m\n",
      "         3        4672.7079           49.32m\n",
      "         4        4585.1843           49.03m\n",
      "         5        4499.3973           48.83m\n",
      "         6        4415.3158           48.84m\n",
      "         7        4332.9073           49.44m\n",
      "         8        4252.1385           49.49m\n",
      "         9        4172.9770           49.59m\n",
      "        10        4095.3911           49.68m\n",
      "        20        3402.5438           49.47m\n",
      "        30        2832.5539           49.32m\n",
      "        40        2343.6776           49.35m\n",
      "        50        1951.1967           49.63m\n",
      "        60        1622.4701           49.78m\n",
      "        70        1350.3014           49.41m\n",
      "        80        1128.3279           49.04m\n",
      "        90         947.7192           48.98m\n",
      "       100         796.0798           48.89m\n",
      "       200         168.8611           47.88m\n",
      "       300          57.2769           46.89m\n",
      "       400          25.3281           46.55m\n",
      "       500          13.9644           47.81m\n",
      "       600          10.0484           47.67m\n",
      "       700           7.9984           47.76m\n",
      "       800           6.6081           47.62m\n",
      "       900           5.6965           46.67m\n",
      "      1000           4.7981           46.19m\n",
      "      2000           0.8282           35.71m\n",
      "      3000           0.1293           19.43m\n",
      "      4000           0.0190            0.00s\n"
     ]
    }
   ],
   "source": [
    "gbmodel = em.GradientBoostingRegressor(verbose = True,n_estimators=4000, learning_rate=0.01,max_depth=10, loss='ls').fit(X,Y)\n",
    "ans = gbmodel.predict(X_test)\n"
   ]
  },
  {
   "cell_type": "code",
   "execution_count": 13,
   "metadata": {},
   "outputs": [],
   "source": [
    "#predict = model.predict(X_test)\n",
    "for i in range(len(ans)):\n",
    "    if ans[i]<0:\n",
    "        ans[i] = 19.445"
   ]
  },
  {
   "cell_type": "code",
   "execution_count": 14,
   "metadata": {},
   "outputs": [],
   "source": [
    " with open('gradient_bootsing_result.csv', 'w') as f:\n",
    "        print('id,value', file=f)\n",
    "        for (i, p) in enumerate(ans) :\n",
    "            print('id_{},{}'.format(i, p), file=f)"
   ]
  },
  {
   "cell_type": "markdown",
   "metadata": {},
   "source": [
    "# TODO #\n",
    "\n",
    "* ~~去掉七八月~~\n",
    "* ~~shift 3 小時~~\n",
    "* ~~只做PM2.5 PM10 NO2影響大......~~\n",
    "* ~~負的資料砍掉~~\n",
    "* n-fold\n",
    "* normalize\n",
    "* gradient bootsing\n",
    "\n"
   ]
  },
  {
   "cell_type": "code",
   "execution_count": null,
   "metadata": {},
   "outputs": [],
   "source": []
  }
 ],
 "metadata": {
  "kernelspec": {
   "display_name": "Python 3",
   "language": "python",
   "name": "python3"
  },
  "language_info": {
   "codemirror_mode": {
    "name": "ipython",
    "version": 3
   },
   "file_extension": ".py",
   "mimetype": "text/x-python",
   "name": "python",
   "nbconvert_exporter": "python",
   "pygments_lexer": "ipython3",
   "version": "3.6.5"
  }
 },
 "nbformat": 4,
 "nbformat_minor": 2
}
