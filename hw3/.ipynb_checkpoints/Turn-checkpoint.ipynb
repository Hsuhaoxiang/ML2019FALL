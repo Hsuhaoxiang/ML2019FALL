{
 "cells": [
  {
   "cell_type": "code",
   "execution_count": 2,
   "metadata": {},
   "outputs": [],
   "source": [
    "import torch\n",
    "import torch.nn as nn\n",
    "import torch.optim as optim\n",
    "import torch.nn.functional as F\n",
    "import torchvision\n",
    "import torchvision.transforms as transforms\n",
    "from torch.utils.data import Dataset, DataLoader\n",
    "import glob\n",
    "import os\n",
    "import numpy as np\n",
    "import pandas as pd\n",
    "import sys\n",
    "import cv2"
   ]
  },
  {
   "cell_type": "code",
   "execution_count": 8,
   "metadata": {},
   "outputs": [],
   "source": [
    "ans1 = pd.read_csv(\"cnn5.csv\")\n",
    "ans2 = pd.read_csv(\"cnn4.csv\")\n",
    "ans1 = np.array(ans1,dtype = int)[:,1]\n",
    "ans2 = np.array(ans2,dtype = int)[:,1]"
   ]
  },
  {
   "cell_type": "code",
   "execution_count": 12,
   "metadata": {},
   "outputs": [
    {
     "name": "stdout",
     "output_type": "stream",
     "text": [
      "[(0, 4, 70), (3, 5, 767), (5, 3, 915), (0, 4, 1923), (2, 4, 1996), (1, 5, 1998), (2, 4, 2086), (0, 4, 2988), (4, 0, 3760), (6, 2, 3863), (2, 4, 4465), (2, 5, 5053), (1, 5, 5084), (2, 5, 6004), (5, 2, 6066), (0, 5, 6358), (1, 5, 6449)]\n"
     ]
    }
   ],
   "source": [
    "dif = []\n",
    "for idx in range(len(ans1)):\n",
    "    if ans1[idx]!=ans2[idx]:\n",
    "        dif.append((ans1[idx],ans2[idx],idx))\n",
    "print(dif)"
   ]
  },
  {
   "cell_type": "code",
   "execution_count": null,
   "metadata": {},
   "outputs": [],
   "source": []
  },
  {
   "cell_type": "code",
   "execution_count": null,
   "metadata": {},
   "outputs": [],
   "source": []
  },
  {
   "cell_type": "code",
   "execution_count": null,
   "metadata": {},
   "outputs": [],
   "source": []
  }
 ],
 "metadata": {
  "kernelspec": {
   "display_name": "Python 3",
   "language": "python",
   "name": "python3"
  },
  "language_info": {
   "codemirror_mode": {
    "name": "ipython",
    "version": 3
   },
   "file_extension": ".py",
   "mimetype": "text/x-python",
   "name": "python",
   "nbconvert_exporter": "python",
   "pygments_lexer": "ipython3",
   "version": "3.6.5"
  }
 },
 "nbformat": 4,
 "nbformat_minor": 2
}
