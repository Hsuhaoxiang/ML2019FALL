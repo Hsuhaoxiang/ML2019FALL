{
 "cells": [
  {
   "cell_type": "code",
   "execution_count": 1,
   "metadata": {},
   "outputs": [],
   "source": [
    "import torch\n",
    "import torch.nn as nn\n",
    "import torch.optim as optim\n",
    "import torch.nn.functional as F\n",
    "import torchvision\n",
    "import torchvision.transforms as transforms\n",
    "from torch.utils.data import Dataset, DataLoader\n",
    "import glob\n",
    "import os\n",
    "import numpy as np\n",
    "import pandas as pd\n",
    "import sys\n",
    "import cv2"
   ]
  },
  {
   "cell_type": "code",
   "execution_count": 2,
   "metadata": {},
   "outputs": [],
   "source": [
    "class FaceImage(Dataset):\n",
    "    def __init__(self,label,picture_file,path,Train=True):\n",
    "        self.data_path = path\n",
    "        self.label = label\n",
    "        self.train = Train\n",
    "        self.picture_file = picture_file\n",
    "    def __getitem__(self,index):\n",
    "\n",
    "        file_path = os.path.join(self.data_path,self.picture_file[index])\n",
    "        img = cv2.imread(file_path,cv2.IMREAD_GRAYSCALE)\n",
    "        img = np.expand_dims(img,0)\n",
    "        img =torch.tensor(img).float()\n",
    "        if self.train==True:\n",
    "            return torch.FloatTensor(img),self.label[index,1]\n",
    "        else:\n",
    "            return img\n",
    "\n",
    "    def __len__(self):\n",
    "        return len(os.listdir(self.data_path))\n"
   ]
  },
  {
   "cell_type": "code",
   "execution_count": 3,
   "metadata": {},
   "outputs": [],
   "source": [
    "class ImageNet(nn.Module):\n",
    "    def __init__(self):\n",
    "        super(ImageNet,self).__init__()\n",
    "        self.conv1 = nn.Sequential(\n",
    "            nn.Conv2d(1, 48, kernel_size=3,stride =(1,1)),\n",
    "            nn.Dropout2d(0.3),\n",
    "            nn.MaxPool2d(2),\n",
    "            nn.ReLU()\n",
    "        )\n",
    "        self.conv2 = nn.Sequential(\n",
    "            nn.Conv2d(48, 128, kernel_size=3,stride =(1,1)),\n",
    "            nn.Dropout2d(0.2),\n",
    "            nn.MaxPool2d(2),\n",
    "            nn.ReLU()\n",
    "        )\n",
    "        self.conv3 = nn.Sequential(\n",
    "            nn.Conv2d(128, 256, kernel_size=3,stride =(1,1)),\n",
    "            nn.Dropout2d(0.5),\n",
    "            nn.MaxPool2d(2),\n",
    "            nn.ReLU()\n",
    "        )\n",
    "\n",
    "        self.fcn1 = nn.Linear(in_features =4096 ,out_features =512 ,bias = True)\n",
    "        self.fcn2 = nn.Linear(in_features = 512,out_features =256 ,bias = True)\n",
    "        self.fcn3 = nn.Linear(in_features =256 ,out_features =7 ,bias = True)\n",
    "\n",
    "    def forward(self , x):\n",
    "        x = self.conv1(x)\n",
    "        x = self.conv2(x)\n",
    "        x = self.conv3(x)\n",
    "        x = x.view(x.size(0),-1)\n",
    "        #print(\"size:\",x.shape)\n",
    "        x = F.relu(self.fcn1(x))\n",
    "        x = F.relu(self.fcn2(x))\n",
    "        out = self.fcn3(x)\n",
    "        \n",
    "        return out"
   ]
  },
  {
   "cell_type": "code",
   "execution_count": 4,
   "metadata": {},
   "outputs": [],
   "source": [
    "train_label = pd.read_csv('./train.csv')\n",
    "train_label = np.array(train_label,dtype = int)\n",
    "datalen  = len(train_label)\n",
    "picture_file = sorted(os.listdir('./train_img'))\n",
    "train_dataset = FaceImage(train_label,picture_file,'./train_img')\n",
    "picture_file = sorted(os.listdir('./test_img'))\n",
    "test_dataset = FaceImage(train_label,picture_file,'./test_img',Train = False)\n",
    "train_loader = torch.utils.data.DataLoader(train_dataset,batch_size = 256)\n",
    "test_loader = torch.utils.data.DataLoader(test_dataset,batch_size =256)"
   ]
  },
  {
   "cell_type": "code",
   "execution_count": 8,
   "metadata": {},
   "outputs": [
    {
     "name": "stderr",
     "output_type": "stream",
     "text": [
      "/Library/Frameworks/Python.framework/Versions/3.6/lib/python3.6/site-packages/torch/serialization.py:454: SourceChangeWarning: source code of class 'torch.nn.modules.dropout.Dropout2d' has changed. you can retrieve the original source code by accessing the object's source attribute or set `torch.nn.Module.dump_patches = True` and use the patch tool to revert the changes.\n",
      "  warnings.warn(msg, SourceChangeWarning)\n",
      "/Library/Frameworks/Python.framework/Versions/3.6/lib/python3.6/site-packages/torch/serialization.py:454: SourceChangeWarning: source code of class 'torch.nn.modules.pooling.MaxPool2d' has changed. you can retrieve the original source code by accessing the object's source attribute or set `torch.nn.Module.dump_patches = True` and use the patch tool to revert the changes.\n",
      "  warnings.warn(msg, SourceChangeWarning)\n",
      "/Library/Frameworks/Python.framework/Versions/3.6/lib/python3.6/site-packages/torch/serialization.py:454: SourceChangeWarning: source code of class 'torch.nn.modules.activation.ReLU' has changed. you can retrieve the original source code by accessing the object's source attribute or set `torch.nn.Module.dump_patches = True` and use the patch tool to revert the changes.\n",
      "  warnings.warn(msg, SourceChangeWarning)\n",
      "/Library/Frameworks/Python.framework/Versions/3.6/lib/python3.6/site-packages/torch/serialization.py:454: SourceChangeWarning: source code of class 'torch.nn.modules.linear.Linear' has changed. you can retrieve the original source code by accessing the object's source attribute or set `torch.nn.Module.dump_patches = True` and use the patch tool to revert the changes.\n",
      "  warnings.warn(msg, SourceChangeWarning)\n"
     ]
    }
   ],
   "source": [
    "model = torch.load(\"Imagenet_best.pkl\",map_location = \"cpu\")\n",
    "model = model.cpu()"
   ]
  },
  {
   "cell_type": "code",
   "execution_count": 9,
   "metadata": {},
   "outputs": [],
   "source": [
    "model.eval()\n",
    "ans = []\n",
    "for idx,test in enumerate(_loader):\n",
    "    test =test\n",
    "    #print(idx)\n",
    "    ans.append(model(test))\n"
   ]
  },
  {
   "cell_type": "code",
   "execution_count": 10,
   "metadata": {},
   "outputs": [
    {
     "name": "stdout",
     "output_type": "stream",
     "text": [
      "3\n"
     ]
    }
   ],
   "source": [
    "ans_final =[]\n",
    "for a in ans:\n",
    "    for pre in a:\n",
    "        pre = pre.tolist()\n",
    "        ans_final.append(pre.index(max(pre)))"
   ]
  },
  {
   "cell_type": "code",
   "execution_count": 11,
   "metadata": {},
   "outputs": [],
   "source": [
    "with open(\"reconstru_result.csv\",\"w\") as f:\n",
    "    print(\"id,label\", file = f)\n",
    "    for id,label in enumerate(ans_final):\n",
    "        print(\"{},{}\".format(id,label) ,file = f)"
   ]
  },
  {
   "cell_type": "code",
   "execution_count": null,
   "metadata": {},
   "outputs": [],
   "source": []
  },
  {
   "cell_type": "code",
   "execution_count": null,
   "metadata": {},
   "outputs": [],
   "source": []
  },
  {
   "cell_type": "code",
   "execution_count": null,
   "metadata": {},
   "outputs": [],
   "source": []
  },
  {
   "cell_type": "code",
   "execution_count": null,
   "metadata": {},
   "outputs": [],
   "source": []
  }
 ],
 "metadata": {
  "kernelspec": {
   "display_name": "Python 3",
   "language": "python",
   "name": "python3"
  },
  "language_info": {
   "codemirror_mode": {
    "name": "ipython",
    "version": 3
   },
   "file_extension": ".py",
   "mimetype": "text/x-python",
   "name": "python",
   "nbconvert_exporter": "python",
   "pygments_lexer": "ipython3",
   "version": "3.6.5"
  }
 },
 "nbformat": 4,
 "nbformat_minor": 2
}
