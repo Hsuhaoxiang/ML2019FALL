{
 "cells": [
  {
   "cell_type": "code",
   "execution_count": 1,
   "metadata": {},
   "outputs": [],
   "source": [
    "import torch\n",
    "import torch.nn as nn\n",
    "import torch.optim as optim\n",
    "import torch.nn.functional as F\n",
    "import torchvision\n",
    "import torchvision.transforms as transforms\n",
    "from torch.utils.data import Dataset, DataLoader\n",
    "import glob\n",
    "import os\n",
    "import numpy as np\n",
    "import pandas as pd\n",
    "import sys\n",
    "import cv2\n"
   ]
  },
  {
   "cell_type": "code",
   "execution_count": 2,
   "metadata": {},
   "outputs": [],
   "source": [
    "class FaceImage(Dataset):\n",
    "    def __init__(self,label,picture_file,path,Train=True):\n",
    "        self.data_path = path\n",
    "        self.label = label\n",
    "        self.train = Train\n",
    "        self.picture_file = picture_file\n",
    "    def __getitem__(self,index):\n",
    "\n",
    "        file_path = os.path.join(self.data_path,self.picture_file[index])\n",
    "        img = cv2.imread(file_path,cv2.IMREAD_GRAYSCALE)\n",
    "        img = np.expand_dims(img,0)\n",
    "        img =torch.tensor(img).float()\n",
    "        if self.train==True:\n",
    "            return torch.FloatTensor(img),self.label[index,1]\n",
    "        else:\n",
    "            return img\n",
    "\n",
    "    def __len__(self):\n",
    "        return len(os.listdir(self.data_path))\n"
   ]
  },
  {
   "cell_type": "code",
   "execution_count": 22,
   "metadata": {},
   "outputs": [],
   "source": [
    "class ImageNet(nn.Module):\n",
    "    def __init__(self):\n",
    "        super(ImageNet,self).__init__()\n",
    "        self.conv1 = nn.Conv2d(1, 6, kernel_size =(5,5),stride =(1,1),padding = (3,3))\n",
    "        self.conv2 = nn.Conv2d(6, 16, kernel_size =(4,4),stride =(1,1),padding = (2,2))\n",
    "        self.conv3 = nn.Conv2d(16, 32, kernel_size =(3,3),stride =(1,1),padding = (1,1))\n",
    "        self.fcn1 = nn.Linear(in_features =1152 ,out_features =512 ,bias = True)\n",
    "        self.fcn2 = nn.Linear(in_features = 512,out_features =256 ,bias = True)\n",
    "        self.fcn3 = nn.Linear(in_features =256 ,out_features =7 ,bias = True)\n",
    "\n",
    "    def forward(self , x):\n",
    "        x =F.relu(F.max_pool2d(self.conv1(x),2))\n",
    "        #print('Tensor size and type after conv1:', x.shape, x.dtype)\n",
    "        x =F.relu(F.max_pool2d(self.conv2(x),2))\n",
    "        #print('Tensor size and type after conv2:', x.shape, x.dtype)\n",
    "        x =F.relu(F.max_pool2d(self.conv3(x),2))\n",
    "        #print('Tensor size and type after conv3:', x.shape, x.dtype)\n",
    "        x = x.view(x.size(0),-1)\n",
    "        #print(\"size:\",x.shape)\n",
    "        x = F.relu(self.fcn1(x))\n",
    "        x = F.relu(self.fcn2(x))\n",
    "        #out = torch.sigmoid(self.fcn3(x))\n",
    "        out = F.softmax(self.fcn3(x),dim=1)\n",
    "        \n",
    "        return out"
   ]
  },
  {
   "cell_type": "code",
   "execution_count": 23,
   "metadata": {},
   "outputs": [],
   "source": [
    "train_label = pd.read_csv('./train.csv')\n",
    "train_label = np.array(train_label,dtype = int)\n",
    "datalen  = len(train_label)\n",
    "picture_file = sorted(os.listdir('./train_img'))\n",
    "train_dataset = FaceImage(train_label,picture_file,'./train_img')\n",
    "picture_file = sorted(os.listdir('./test_img'))\n",
    "test_dataset = FaceImage(train_label,picture_file,'./test_img',Train = False)\n",
    "train_loader = torch.utils.data.DataLoader(train_dataset,batch_size = 256)\n",
    "test_loader = torch.utils.data.DataLoader(test_dataset,batch_size = 256)\n"
   ]
  },
  {
   "cell_type": "code",
   "execution_count": null,
   "metadata": {},
   "outputs": [
    {
     "name": "stdout",
     "output_type": "stream",
     "text": [
      "ImageNet(\n",
      "  (conv1): Conv2d(1, 6, kernel_size=(5, 5), stride=(1, 1), padding=(3, 3))\n",
      "  (conv2): Conv2d(6, 16, kernel_size=(4, 4), stride=(1, 1), padding=(2, 2))\n",
      "  (conv3): Conv2d(16, 32, kernel_size=(3, 3), stride=(1, 1), padding=(1, 1))\n",
      "  (fcn1): Linear(in_features=1152, out_features=512, bias=True)\n",
      "  (fcn2): Linear(in_features=512, out_features=256, bias=True)\n",
      "  (fcn3): Linear(in_features=256, out_features=7, bias=True)\n",
      ")\n",
      "Train Epoch: 6 [26112/28888 (90%)]\tLoss: 1.832788\r"
     ]
    }
   ],
   "source": [
    "model = ImageNet()\n",
    "print(model)\n",
    "for epoch in range(100):\n",
    "    optimizer = optim.SGD(model.parameters(), lr=0.001, momentum=0.9)\n",
    "    model.train()\n",
    "    train_loss = 0\n",
    "    correct = 0\n",
    "\n",
    "    for batch_index ,(data, label) in enumerate(train_loader):\n",
    "        \n",
    "        optimizer.zero_grad()\n",
    "        output = model(data)\n",
    "        #print(output.shape,label.shape)\n",
    "        loss = F.cross_entropy(output, label)\n",
    "        #train_loss += criterion(output, label).item()\n",
    "        loss.backward()\n",
    "        optimizer.step()\n",
    "        print('Train Epoch: {} [{}/{} ({:.0f}%)]\\tLoss: {:.6f}'.format(epoch, batch_index * len(data), len(train_loader.dataset),100. * batch_index / len(train_loader), loss.item()),end = \"\\r\")\n",
    "\n"
   ]
  },
  {
   "cell_type": "code",
   "execution_count": null,
   "metadata": {},
   "outputs": [],
   "source": [
    "torch.save(model,\"Imagenet.pkl\")"
   ]
  },
  {
   "cell_type": "code",
   "execution_count": null,
   "metadata": {},
   "outputs": [],
   "source": [
    "ans = []\n",
    "for idx,test in enumerate(test_loader):\n",
    "    ans.append(model(test))\n"
   ]
  },
  {
   "cell_type": "code",
   "execution_count": null,
   "metadata": {},
   "outputs": [],
   "source": [
    "ans_final =[]\n",
    "for a in ans:\n",
    "    for pre in a:\n",
    "        ans_final.append(pre)\n",
    "print((ans_final[0]))\n",
    "    "
   ]
  },
  {
   "cell_type": "code",
   "execution_count": 20,
   "metadata": {},
   "outputs": [],
   "source": [
    "with open(\"cnn.csv\",\"w\") as f:\n",
    "    print(\"id,label\", file = f)\n",
    "    for id,label in enumerate(ans_final):\n",
    "        print(\"{},{}\".format(id+1,label) ,file = f)"
   ]
  },
  {
   "cell_type": "markdown",
   "metadata": {},
   "source": [
    "\n",
    "\n",
    "\n",
    "\n",
    "\n",
    "\n",
    "# Pytorch 不用one-hot-encoding 額外寫會出錯\n"
   ]
  },
  {
   "cell_type": "code",
   "execution_count": null,
   "metadata": {},
   "outputs": [],
   "source": []
  },
  {
   "cell_type": "code",
   "execution_count": null,
   "metadata": {},
   "outputs": [],
   "source": []
  }
 ],
 "metadata": {
  "kernelspec": {
   "display_name": "Python 3",
   "language": "python",
   "name": "python3"
  },
  "language_info": {
   "codemirror_mode": {
    "name": "ipython",
    "version": 3
   },
   "file_extension": ".py",
   "mimetype": "text/x-python",
   "name": "python",
   "nbconvert_exporter": "python",
   "pygments_lexer": "ipython3",
   "version": "3.6.5"
  }
 },
 "nbformat": 4,
 "nbformat_minor": 2
}
