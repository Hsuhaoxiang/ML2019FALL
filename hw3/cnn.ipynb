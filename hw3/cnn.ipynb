{
 "cells": [
  {
   "cell_type": "code",
   "execution_count": 1,
   "metadata": {},
   "outputs": [],
   "source": [
    "import torch\n",
    "import torch.nn as nn\n",
    "import torch.optim as optim\n",
    "import torch.nn.functional as F\n",
    "import torchvision\n",
    "import torchvision.transforms as transforms\n",
    "from torch.utils.data import Dataset, DataLoader\n",
    "import glob\n",
    "import os\n",
    "import numpy as np\n",
    "import pandas as pd\n",
    "import sys\n",
    "import cv2\n"
   ]
  },
  {
   "cell_type": "code",
   "execution_count": 2,
   "metadata": {},
   "outputs": [
    {
     "name": "stdout",
     "output_type": "stream",
     "text": [
      "Device used: cuda\n"
     ]
    }
   ],
   "source": [
    "use_cuda = torch.cuda.is_available()\n",
    "torch.manual_seed(123)\n",
    "device = torch.device(\"cuda\" if use_cuda else \"cpu\")\n",
    "print('Device used:', device)"
   ]
  },
  {
   "cell_type": "code",
   "execution_count": 3,
   "metadata": {},
   "outputs": [],
   "source": [
    "class FaceImage(Dataset):\n",
    "    def __init__(self,label,picture_file,path,Train=True):\n",
    "        self.data_path = path\n",
    "        self.label = label\n",
    "        self.train = Train\n",
    "        self.picture_file = picture_file\n",
    "    def __getitem__(self,index):\n",
    "\n",
    "        file_path = os.path.join(self.data_path,self.picture_file[index])\n",
    "        img = cv2.imread(file_path,cv2.IMREAD_GRAYSCALE)\n",
    "        img = np.expand_dims(img,0)\n",
    "        img =torch.tensor(img).float()\n",
    "        if self.train==True:\n",
    "            return torch.FloatTensor(img),self.label[index,1]\n",
    "        else:\n",
    "            return img\n",
    "\n",
    "    def __len__(self):\n",
    "        return len(os.listdir(self.data_path))\n"
   ]
  },
  {
   "cell_type": "code",
   "execution_count": 4,
   "metadata": {},
   "outputs": [],
   "source": [
    "class ImageNet(nn.Module):\n",
    "    def __init__(self):\n",
    "        super(ImageNet,self).__init__()\n",
    "        self.conv1 = nn.Sequential(\n",
    "            nn.Conv2d(1, 48, kernel_size=3,stride =(1,1)),\n",
    "            nn.Dropout2d(0.3),\n",
    "            nn.MaxPool2d(2),\n",
    "            nn.ReLU()\n",
    "        )\n",
    "        self.conv2 = nn.Sequential(\n",
    "            nn.Conv2d(48, 128, kernel_size=3,stride =(1,1)),\n",
    "            nn.Dropout2d(0.4),\n",
    "            nn.MaxPool2d(2),\n",
    "            nn.ReLU()\n",
    "        )\n",
    "        self.conv3 = nn.Sequential(\n",
    "            nn.Conv2d(128, 256, kernel_size=3,stride =(1,1)),\n",
    "            nn.Dropout2d(0.4),\n",
    "            nn.MaxPool2d(2),\n",
    "            nn.ReLU()\n",
    "        )\n",
    "\n",
    "        self.fcn1 = nn.Linear(in_features =4096 ,out_features =512 ,bias = True)\n",
    "        self.fcn2 = nn.Linear(in_features = 512,out_features =256 ,bias = True)\n",
    "        self.fcn3 = nn.Linear(in_features =256 ,out_features =7 ,bias = True)\n",
    "\n",
    "    def forward(self , x):\n",
    "        x = self.conv1(x)\n",
    "        x = self.conv2(x)\n",
    "        x = self.conv3(x)\n",
    "        x = x.view(x.size(0),-1)\n",
    "        #print(\"size:\",x.shape)\n",
    "        x = F.relu(self.fcn1(x))\n",
    "        x = F.relu(self.fcn2(x))\n",
    "        out = self.fcn3(x)\n",
    "        \n",
    "        return out"
   ]
  },
  {
   "cell_type": "code",
   "execution_count": 5,
   "metadata": {},
   "outputs": [],
   "source": [
    "train_label = pd.read_csv('./train.csv')\n",
    "train_label = np.array(train_label,dtype = int)\n",
    "datalen  = len(train_label)\n",
    "\n",
    "\n",
    "picture_file = sorted(os.listdir('./train_img'))\n",
    "train_dataset = FaceImage(train_label,picture_file,'./train_img')\n",
    "picture_file = sorted(os.listdir('./test_img'))\n",
    "test_dataset = FaceImage(train_label,picture_file,'./test_img',Train = False)\n",
    "train_loader = torch.utils.data.DataLoader(train_dataset,batch_size = 256)\n",
    "test_loader = torch.utils.data.DataLoader(test_dataset,batch_size = 256)\n"
   ]
  },
  {
   "cell_type": "code",
   "execution_count": 6,
   "metadata": {},
   "outputs": [
    {
     "name": "stdout",
     "output_type": "stream",
     "text": [
      "ImageNet(\n",
      "  (conv1): Sequential(\n",
      "    (0): Conv2d(1, 48, kernel_size=(3, 3), stride=(1, 1))\n",
      "    (1): Dropout2d(p=0.4, inplace=False)\n",
      "    (2): MaxPool2d(kernel_size=2, stride=2, padding=0, dilation=1, ceil_mode=False)\n",
      "    (3): ReLU()\n",
      "  )\n",
      "  (conv2): Sequential(\n",
      "    (0): Conv2d(48, 128, kernel_size=(3, 3), stride=(1, 1))\n",
      "    (1): Dropout2d(p=0.3, inplace=False)\n",
      "    (2): MaxPool2d(kernel_size=2, stride=2, padding=0, dilation=1, ceil_mode=False)\n",
      "    (3): ReLU()\n",
      "  )\n",
      "  (conv3): Sequential(\n",
      "    (0): Conv2d(128, 256, kernel_size=(3, 3), stride=(1, 1))\n",
      "    (1): Dropout2d(p=0.3, inplace=False)\n",
      "    (2): MaxPool2d(kernel_size=2, stride=2, padding=0, dilation=1, ceil_mode=False)\n",
      "    (3): ReLU()\n",
      "  )\n",
      "  (fcn1): Linear(in_features=4096, out_features=512, bias=True)\n",
      "  (fcn2): Linear(in_features=512, out_features=256, bias=True)\n",
      "  (fcn3): Linear(in_features=256, out_features=7, bias=True)\n",
      ")\n",
      "Train Epoch: 1 [256/28888 (1%)]\tLoss: 0.001786198\r"
     ]
    },
    {
     "name": "stderr",
     "output_type": "stream",
     "text": [
      "/home/haoxiang/miniconda3/envs/ml2019fall_hw3/lib/python3.6/site-packages/torch/serialization.py:256: UserWarning: Couldn't retrieve source code for container of type ImageNet. It won't be checked for correctness upon loading.\n",
      "  \"type \" + obj.__name__ + \". It won't be checked \"\n"
     ]
    },
    {
     "name": "stdout",
     "output_type": "stream",
     "text": [
      "Train Epoch: 799 [24192/28888 (99%)]\tLoss: 0.002522\r"
     ]
    }
   ],
   "source": [
    "#model = ImageNet().cuda()\n",
    "model = torch.load(\"Imagenet3.pkl\")\n",
    "print(model)\n",
    "for epoch in range(800):\n",
    "    optimizer = optim.SGD(model.parameters(), lr=0.001, momentum=0.9)\n",
    "    model.train()\n",
    "    train_loss = 0\n",
    "    correct = 0\n",
    "\n",
    "    for batch_index ,(data, label) in enumerate(train_loader):\n",
    "        data, label =data.cuda(), label.cuda()\n",
    "        optimizer.zero_grad()\n",
    "        output = model(data)\n",
    "        criterion = nn.CrossEntropyLoss()\n",
    "        loss = criterion(output, label)\n",
    "        loss.backward()\n",
    "        optimizer.step()\n",
    "        print('Train Epoch: {} [{}/{} ({:.0f}%)]\\tLoss: {:.6f}'.format(epoch, batch_index * len(data), len(train_loader.dataset),100. * batch_index / len(train_loader), loss.item()),end = \"\\r\")\n",
    "    if epoch%100==0:\n",
    "        torch.save(model,\"Imagenet4.pkl\")\n"
   ]
  },
  {
   "cell_type": "code",
   "execution_count": 7,
   "metadata": {},
   "outputs": [],
   "source": [
    "torch.save(model,\"Imagenet4.pkl\")"
   ]
  },
  {
   "cell_type": "code",
   "execution_count": null,
   "metadata": {},
   "outputs": [],
   "source": [
    "#model = torch.load(\"Imagenet.pkl\",map_location = \"cpu\")\n",
    "model.eval()\n",
    "model.cpu()\n",
    "ans = []\n",
    "for idx,test in enumerate(test_loader):\n",
    "    test =test\n",
    "    ans.append(model(test))\n"
   ]
  },
  {
   "cell_type": "code",
   "execution_count": null,
   "metadata": {},
   "outputs": [],
   "source": [
    "ans_final =[]\n",
    "for a in ans:\n",
    "    for pre in a:\n",
    "        pre = pre.tolist()\n",
    "        ans_final.append(pre.inedx(max(pre)))"
   ]
  },
  {
   "cell_type": "code",
   "execution_count": null,
   "metadata": {},
   "outputs": [],
   "source": [
    "with open(\"cnn3.csv\",\"w\") as f:\n",
    "    print(\"id,label\", file = f)\n",
    "    for id,label in enumerate(ans_final):\n",
    "        print(\"{},{}\".format(id,label) ,file = f)"
   ]
  },
  {
   "cell_type": "markdown",
   "metadata": {},
   "source": [
    "# Pytorch 注意事項\n",
    "\n",
    "* pytorch 不用在output layer加 softmax 因為loss 裡面包好了\n",
    "* Pytorch 不用one-hot-encoding 額外寫會出錯\n",
    "\n",
    "\n",
    "\n"
   ]
  },
  {
   "cell_type": "code",
   "execution_count": null,
   "metadata": {},
   "outputs": [],
   "source": []
  },
  {
   "cell_type": "code",
   "execution_count": null,
   "metadata": {},
   "outputs": [],
   "source": []
  }
 ],
 "metadata": {
  "kernelspec": {
   "display_name": "Python 3",
   "language": "python",
   "name": "python3"
  },
  "language_info": {
   "codemirror_mode": {
    "name": "ipython",
    "version": 3
   },
   "file_extension": ".py",
   "mimetype": "text/x-python",
   "name": "python",
   "nbconvert_exporter": "python",
   "pygments_lexer": "ipython3",
   "version": "3.6.9"
  }
 },
 "nbformat": 4,
 "nbformat_minor": 2
}
