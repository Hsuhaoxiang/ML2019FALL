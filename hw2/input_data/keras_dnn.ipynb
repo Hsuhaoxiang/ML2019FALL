{
 "cells": [
  {
   "cell_type": "code",
   "execution_count": 1,
   "metadata": {},
   "outputs": [
    {
     "name": "stderr",
     "output_type": "stream",
     "text": [
      "Using TensorFlow backend.\n"
     ]
    }
   ],
   "source": [
    "import numpy as np\n",
    "import pandas as pd\n",
    "import sys\n",
    "from keras.models import Sequential\n",
    "from keras.layers import Dense,Dropout ,Activation"
   ]
  },
  {
   "cell_type": "code",
   "execution_count": 2,
   "metadata": {},
   "outputs": [
    {
     "name": "stdout",
     "output_type": "stream",
     "text": [
      "X_shape: (32561, 106) \n",
      "Y_shape: (32561,)\n"
     ]
    }
   ],
   "source": [
    "\n",
    "X = pd.read_csv(\"X_train\",low_memory=False)\n",
    "X_test = pd.read_csv(\"X_test\",low_memory=False)\n",
    "Y = np.loadtxt(\"Y_train\",dtype=np.int,delimiter=',')\n",
    "\n",
    "Y = Y.flatten()\n",
    "\n",
    "X=np.array(X,dtype = float)\n",
    "X_test = np.array(X_test,dtype = float)\n",
    "\n",
    "\n",
    "X_mean = np.mean(X,axis =0,keepdims = True)\n",
    "X_std = np.std(X,axis = 0,keepdims = True)\n",
    "\n",
    "X = (X-X_mean)/X_std\n",
    "X_test = (X_test-X_mean)/X_std\n",
    "\n",
    "#bias = np.ones((32561,1))\n",
    "#biastest = np.ones((16281,1))\n",
    "#X = np.concatenate((X,bias),axis = 1)\n",
    "#X_test = np.concatenate((X_test,biastest),axis = 1)\n",
    "print(\"X_shape:\",X.shape,\"\\nY_shape:\",Y.shape)\n"
   ]
  },
  {
   "cell_type": "code",
   "execution_count": 3,
   "metadata": {},
   "outputs": [
    {
     "name": "stdout",
     "output_type": "stream",
     "text": [
      "_________________________________________________________________\n",
      "Layer (type)                 Output Shape              Param #   \n",
      "=================================================================\n",
      "dense_1 (Dense)              (None, 50)                5350      \n",
      "_________________________________________________________________\n",
      "activation_1 (Activation)    (None, 50)                0         \n",
      "_________________________________________________________________\n",
      "dropout_1 (Dropout)          (None, 50)                0         \n",
      "_________________________________________________________________\n",
      "dense_2 (Dense)              (None, 40)                2040      \n",
      "_________________________________________________________________\n",
      "activation_2 (Activation)    (None, 40)                0         \n",
      "_________________________________________________________________\n",
      "dropout_2 (Dropout)          (None, 40)                0         \n",
      "_________________________________________________________________\n",
      "dense_3 (Dense)              (None, 30)                1230      \n",
      "_________________________________________________________________\n",
      "activation_3 (Activation)    (None, 30)                0         \n",
      "_________________________________________________________________\n",
      "dropout_3 (Dropout)          (None, 30)                0         \n",
      "_________________________________________________________________\n",
      "dense_4 (Dense)              (None, 20)                620       \n",
      "_________________________________________________________________\n",
      "activation_4 (Activation)    (None, 20)                0         \n",
      "_________________________________________________________________\n",
      "dropout_4 (Dropout)          (None, 20)                0         \n",
      "_________________________________________________________________\n",
      "dense_5 (Dense)              (None, 1)                 21        \n",
      "_________________________________________________________________\n",
      "activation_5 (Activation)    (None, 1)                 0         \n",
      "=================================================================\n",
      "Total params: 9,261\n",
      "Trainable params: 9,261\n",
      "Non-trainable params: 0\n",
      "_________________________________________________________________\n"
     ]
    }
   ],
   "source": [
    "model = Sequential()\n",
    "model.add(Dense(50,input_dim = 106))\n",
    "model.add(Activation('relu') )\n",
    "model.add(Dropout(0.3))\n",
    "model.add(Dense(40))\n",
    "model.add(Activation('relu') )\n",
    "model.add(Dropout(0.2))\n",
    "model.add(Dense(30))\n",
    "model.add(Activation('relu') )\n",
    "model.add(Dropout(0.1))\n",
    "model.add(Dense(20))\n",
    "model.add(Activation('relu') )\n",
    "model.add(Dropout(0.1))\n",
    "model.add(Dense(1))\n",
    "model.add(Activation('sigmoid'))\n",
    "model.compile(loss = 'binary_crossentropy',optimizer= 'adam',metrics=['accuracy'])\n",
    "model.summary()\n"
   ]
  },
  {
   "cell_type": "code",
   "execution_count": 4,
   "metadata": {},
   "outputs": [
    {
     "name": "stdout",
     "output_type": "stream",
     "text": [
      "Train on 32398 samples, validate on 163 samples\n",
      "Epoch 1/30\n",
      "32398/32398 [==============================] - 2s 48us/step - loss: 0.3970 - acc: 0.8130 - val_loss: 0.2969 - val_acc: 0.8589\n",
      "Epoch 2/30\n",
      "32398/32398 [==============================] - 1s 37us/step - loss: 0.3397 - acc: 0.8442 - val_loss: 0.2868 - val_acc: 0.8589\n",
      "Epoch 3/30\n",
      "32398/32398 [==============================] - 1s 37us/step - loss: 0.3313 - acc: 0.8469 - val_loss: 0.2772 - val_acc: 0.8528\n",
      "Epoch 4/30\n",
      "32398/32398 [==============================] - 1s 37us/step - loss: 0.3227 - acc: 0.8536 - val_loss: 0.2635 - val_acc: 0.8773\n",
      "Epoch 5/30\n",
      "32398/32398 [==============================] - 1s 37us/step - loss: 0.3178 - acc: 0.8536 - val_loss: 0.2692 - val_acc: 0.8589\n",
      "Epoch 6/30\n",
      "32398/32398 [==============================] - 1s 37us/step - loss: 0.3151 - acc: 0.8550 - val_loss: 0.2647 - val_acc: 0.8589\n",
      "Epoch 7/30\n",
      "32398/32398 [==============================] - 1s 37us/step - loss: 0.3155 - acc: 0.8557 - val_loss: 0.2628 - val_acc: 0.8712\n",
      "Epoch 8/30\n",
      "32398/32398 [==============================] - 1s 38us/step - loss: 0.3113 - acc: 0.8575 - val_loss: 0.2694 - val_acc: 0.8589\n",
      "Epoch 9/30\n",
      "32398/32398 [==============================] - 1s 37us/step - loss: 0.3090 - acc: 0.8572 - val_loss: 0.2636 - val_acc: 0.8466\n",
      "Epoch 10/30\n",
      "32398/32398 [==============================] - 1s 37us/step - loss: 0.3077 - acc: 0.8579 - val_loss: 0.2688 - val_acc: 0.8528\n",
      "Epoch 11/30\n",
      "32398/32398 [==============================] - 1s 37us/step - loss: 0.3071 - acc: 0.8604 - val_loss: 0.2749 - val_acc: 0.8528\n",
      "Epoch 12/30\n",
      "32398/32398 [==============================] - 1s 38us/step - loss: 0.3057 - acc: 0.8600 - val_loss: 0.2689 - val_acc: 0.8589\n",
      "Epoch 13/30\n",
      "32398/32398 [==============================] - 1s 37us/step - loss: 0.3042 - acc: 0.8611 - val_loss: 0.2775 - val_acc: 0.8466\n",
      "Epoch 14/30\n",
      "32398/32398 [==============================] - 1s 38us/step - loss: 0.3035 - acc: 0.8615 - val_loss: 0.2723 - val_acc: 0.8589\n",
      "Epoch 15/30\n",
      "32398/32398 [==============================] - 1s 39us/step - loss: 0.3044 - acc: 0.8616 - val_loss: 0.2668 - val_acc: 0.8528\n",
      "Epoch 16/30\n",
      "32398/32398 [==============================] - 1s 39us/step - loss: 0.3028 - acc: 0.8629 - val_loss: 0.2674 - val_acc: 0.8589\n",
      "Epoch 17/30\n",
      "32398/32398 [==============================] - 1s 39us/step - loss: 0.3024 - acc: 0.8623 - val_loss: 0.2617 - val_acc: 0.8712\n",
      "Epoch 18/30\n",
      "32398/32398 [==============================] - 1s 39us/step - loss: 0.3000 - acc: 0.8622 - val_loss: 0.2590 - val_acc: 0.8712\n",
      "Epoch 19/30\n",
      "32398/32398 [==============================] - 1s 39us/step - loss: 0.3010 - acc: 0.8627 - val_loss: 0.2703 - val_acc: 0.8834\n",
      "Epoch 20/30\n",
      "32398/32398 [==============================] - 1s 39us/step - loss: 0.3000 - acc: 0.8618 - val_loss: 0.2565 - val_acc: 0.8589\n",
      "Epoch 21/30\n",
      "32398/32398 [==============================] - 1s 39us/step - loss: 0.3003 - acc: 0.8636 - val_loss: 0.2611 - val_acc: 0.8773\n",
      "Epoch 22/30\n",
      "32398/32398 [==============================] - 1s 40us/step - loss: 0.2986 - acc: 0.8652 - val_loss: 0.2655 - val_acc: 0.8712\n",
      "Epoch 23/30\n",
      "32398/32398 [==============================] - 1s 35us/step - loss: 0.2981 - acc: 0.8634 - val_loss: 0.2560 - val_acc: 0.8528\n",
      "Epoch 24/30\n",
      "32398/32398 [==============================] - 1s 35us/step - loss: 0.2992 - acc: 0.8640 - val_loss: 0.2733 - val_acc: 0.8589\n",
      "Epoch 25/30\n",
      "32398/32398 [==============================] - 1s 35us/step - loss: 0.2956 - acc: 0.8645 - val_loss: 0.2548 - val_acc: 0.8712\n",
      "Epoch 26/30\n",
      "32398/32398 [==============================] - 1s 36us/step - loss: 0.2958 - acc: 0.8651 - val_loss: 0.2538 - val_acc: 0.8773\n",
      "Epoch 27/30\n",
      "32398/32398 [==============================] - 1s 35us/step - loss: 0.2954 - acc: 0.8660 - val_loss: 0.2635 - val_acc: 0.8650\n",
      "Epoch 28/30\n",
      "32398/32398 [==============================] - 1s 36us/step - loss: 0.2967 - acc: 0.8651 - val_loss: 0.2491 - val_acc: 0.8773\n",
      "Epoch 29/30\n",
      "32398/32398 [==============================] - 1s 36us/step - loss: 0.2961 - acc: 0.8654 - val_loss: 0.2619 - val_acc: 0.8650\n",
      "Epoch 30/30\n",
      "32398/32398 [==============================] - 1s 37us/step - loss: 0.2940 - acc: 0.8675 - val_loss: 0.2628 - val_acc: 0.8650\n"
     ]
    },
    {
     "data": {
      "text/plain": [
       "<keras.callbacks.History at 0x105695b70>"
      ]
     },
     "execution_count": 4,
     "metadata": {},
     "output_type": "execute_result"
    }
   ],
   "source": [
    "model.fit(x = X,y = Y,epochs =30,validation_split= 0.005,verbose = 1)"
   ]
  },
  {
   "cell_type": "code",
   "execution_count": 5,
   "metadata": {},
   "outputs": [
    {
     "name": "stdout",
     "output_type": "stream",
     "text": [
      "(16281, 1)\n"
     ]
    }
   ],
   "source": [
    "ans = model.predict(X_test)\n",
    "\n",
    "print(ans.shape)\n",
    "for i in range(len(ans)):\n",
    "    if ans[i]<0.5:\n",
    "        ans[i] = 0\n",
    "    else:\n",
    "        ans[i] = 1\n",
    "ans =np.array(ans,dtype=int)"
   ]
  },
  {
   "cell_type": "code",
   "execution_count": 8,
   "metadata": {},
   "outputs": [],
   "source": [
    " with open('keras_dnn.csv', 'w') as f:\n",
    "        print('id,label', file=f)\n",
    "        for (i, p) in enumerate(ans) :\n",
    "            print('{},{}'.format(i+1, p[0]), file=f)"
   ]
  },
  {
   "cell_type": "code",
   "execution_count": 9,
   "metadata": {},
   "outputs": [],
   "source": [
    "model.save('kaggle_0.86019.h5') "
   ]
  },
  {
   "cell_type": "code",
   "execution_count": null,
   "metadata": {},
   "outputs": [],
   "source": []
  }
 ],
 "metadata": {
  "kernelspec": {
   "display_name": "Python 3",
   "language": "python",
   "name": "python3"
  },
  "language_info": {
   "codemirror_mode": {
    "name": "ipython",
    "version": 3
   },
   "file_extension": ".py",
   "mimetype": "text/x-python",
   "name": "python",
   "nbconvert_exporter": "python",
   "pygments_lexer": "ipython3",
   "version": "3.6.5"
  }
 },
 "nbformat": 4,
 "nbformat_minor": 2
}
