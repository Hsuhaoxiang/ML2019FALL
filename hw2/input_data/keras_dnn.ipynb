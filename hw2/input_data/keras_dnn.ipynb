{
 "cells": [
  {
   "cell_type": "code",
   "execution_count": 1,
   "metadata": {},
   "outputs": [
    {
     "name": "stderr",
     "output_type": "stream",
     "text": [
      "Using TensorFlow backend.\n"
     ]
    }
   ],
   "source": [
    "import numpy as np\n",
    "import pandas as pd\n",
    "import sys\n",
    "from keras.models import Sequential\n",
    "from keras.layers import Dense,Dropout ,Activation"
   ]
  },
  {
   "cell_type": "code",
   "execution_count": 2,
   "metadata": {},
   "outputs": [
    {
     "name": "stdout",
     "output_type": "stream",
     "text": [
      "X_shape: (32561, 106) \n",
      "Y_shape: (32561,)\n"
     ]
    }
   ],
   "source": [
    "\n",
    "X = pd.read_csv(\"X_train\",low_memory=False)\n",
    "X_test = pd.read_csv(\"X_test\",low_memory=False)\n",
    "Y = np.loadtxt(\"Y_train\",dtype=np.int,delimiter=',')\n",
    "\n",
    "Y = Y.flatten()\n",
    "\n",
    "X=np.array(X,dtype = float)\n",
    "X_test = np.array(X_test,dtype = float)\n",
    "\n",
    "\n",
    "X_mean = np.mean(X,axis =0,keepdims = True)\n",
    "X_std = np.std(X,axis = 0,keepdims = True)\n",
    "\n",
    "X = (X-X_mean)/X_std\n",
    "X_test = (X_test-X_mean)/X_std\n",
    "\n",
    "#bias = np.ones((32561,1))\n",
    "#biastest = np.ones((16281,1))\n",
    "#X = np.concatenate((X,bias),axis = 1)\n",
    "#X_test = np.concatenate((X_test,biastest),axis = 1)\n",
    "print(\"X_shape:\",X.shape,\"\\nY_shape:\",Y.shape)\n"
   ]
  },
  {
   "cell_type": "code",
   "execution_count": 3,
   "metadata": {},
   "outputs": [
    {
     "name": "stdout",
     "output_type": "stream",
     "text": [
      "_________________________________________________________________\n",
      "Layer (type)                 Output Shape              Param #   \n",
      "=================================================================\n",
      "dense_1 (Dense)              (None, 200)               21400     \n",
      "_________________________________________________________________\n",
      "activation_1 (Activation)    (None, 200)               0         \n",
      "_________________________________________________________________\n",
      "dropout_1 (Dropout)          (None, 200)               0         \n",
      "_________________________________________________________________\n",
      "dense_2 (Dense)              (None, 100)               20100     \n",
      "_________________________________________________________________\n",
      "activation_2 (Activation)    (None, 100)               0         \n",
      "_________________________________________________________________\n",
      "dropout_2 (Dropout)          (None, 100)               0         \n",
      "_________________________________________________________________\n",
      "dense_3 (Dense)              (None, 30)                3030      \n",
      "_________________________________________________________________\n",
      "activation_3 (Activation)    (None, 30)                0         \n",
      "_________________________________________________________________\n",
      "dropout_3 (Dropout)          (None, 30)                0         \n",
      "_________________________________________________________________\n",
      "dense_4 (Dense)              (None, 1)                 31        \n",
      "_________________________________________________________________\n",
      "activation_4 (Activation)    (None, 1)                 0         \n",
      "=================================================================\n",
      "Total params: 44,561\n",
      "Trainable params: 44,561\n",
      "Non-trainable params: 0\n",
      "_________________________________________________________________\n"
     ]
    }
   ],
   "source": [
    "model = Sequential()\n",
    "model.add(Dense(200,input_dim = 106))\n",
    "model.add(Activation('relu') )\n",
    "model.add(Dropout(0.2))\n",
    "model.add(Dense(100))\n",
    "model.add(Activation('relu') )\n",
    "model.add(Dropout(0.2))\n",
    "model.add(Dense(30))\n",
    "model.add(Activation('relu') )\n",
    "model.add(Dropout(0.2))\n",
    "model.add(Dense(1))\n",
    "model.add(Activation('sigmoid'))\n",
    "model.compile(loss = 'binary_crossentropy',optimizer= 'adam',metrics=['accuracy'])\n",
    "model.summary()\n"
   ]
  },
  {
   "cell_type": "code",
   "execution_count": 4,
   "metadata": {},
   "outputs": [
    {
     "name": "stdout",
     "output_type": "stream",
     "text": [
      "Train on 32528 samples, validate on 33 samples\n",
      "Epoch 1/20\n",
      "32528/32528 [==============================] - 2s 50us/step - loss: 0.3598 - acc: 0.8334 - val_loss: 0.3317 - val_acc: 0.8182\n",
      "Epoch 2/20\n",
      "32528/32528 [==============================] - 1s 41us/step - loss: 0.3264 - acc: 0.8491 - val_loss: 0.3118 - val_acc: 0.8788\n",
      "Epoch 3/20\n",
      "32528/32528 [==============================] - 1s 40us/step - loss: 0.3173 - acc: 0.8527 - val_loss: 0.2817 - val_acc: 0.8788\n",
      "Epoch 4/20\n",
      "32528/32528 [==============================] - 1s 38us/step - loss: 0.3125 - acc: 0.8548 - val_loss: 0.2996 - val_acc: 0.8485\n",
      "Epoch 5/20\n",
      "32528/32528 [==============================] - 1s 39us/step - loss: 0.3090 - acc: 0.8586 - val_loss: 0.2799 - val_acc: 0.8788\n",
      "Epoch 6/20\n",
      "32528/32528 [==============================] - 1s 38us/step - loss: 0.3041 - acc: 0.8593 - val_loss: 0.2589 - val_acc: 0.8485\n",
      "Epoch 7/20\n",
      "32528/32528 [==============================] - 1s 38us/step - loss: 0.3018 - acc: 0.8594 - val_loss: 0.2860 - val_acc: 0.8788\n",
      "Epoch 8/20\n",
      "32528/32528 [==============================] - 1s 38us/step - loss: 0.2997 - acc: 0.8615 - val_loss: 0.2780 - val_acc: 0.8485\n",
      "Epoch 9/20\n",
      "32528/32528 [==============================] - 1s 39us/step - loss: 0.2987 - acc: 0.8622 - val_loss: 0.2635 - val_acc: 0.8182\n",
      "Epoch 10/20\n",
      "32528/32528 [==============================] - 1s 39us/step - loss: 0.2944 - acc: 0.8621 - val_loss: 0.2917 - val_acc: 0.8788\n",
      "Epoch 11/20\n",
      "32528/32528 [==============================] - 1s 39us/step - loss: 0.2935 - acc: 0.8644 - val_loss: 0.2586 - val_acc: 0.8182\n",
      "Epoch 12/20\n",
      "32528/32528 [==============================] - 1s 39us/step - loss: 0.2907 - acc: 0.8648 - val_loss: 0.2621 - val_acc: 0.8485\n",
      "Epoch 13/20\n",
      "32528/32528 [==============================] - 1s 40us/step - loss: 0.2878 - acc: 0.8667 - val_loss: 0.2434 - val_acc: 0.8182\n",
      "Epoch 14/20\n",
      "32528/32528 [==============================] - 1s 40us/step - loss: 0.2848 - acc: 0.8674 - val_loss: 0.2792 - val_acc: 0.8485\n",
      "Epoch 15/20\n",
      "32528/32528 [==============================] - 1s 40us/step - loss: 0.2833 - acc: 0.8677 - val_loss: 0.2426 - val_acc: 0.9091\n",
      "Epoch 16/20\n",
      "32528/32528 [==============================] - 1s 40us/step - loss: 0.2826 - acc: 0.8692 - val_loss: 0.2618 - val_acc: 0.8485\n",
      "Epoch 17/20\n",
      "32528/32528 [==============================] - 1s 40us/step - loss: 0.2792 - acc: 0.8695 - val_loss: 0.2756 - val_acc: 0.8182\n",
      "Epoch 18/20\n",
      "32528/32528 [==============================] - 1s 39us/step - loss: 0.2796 - acc: 0.8701 - val_loss: 0.2537 - val_acc: 0.9091\n",
      "Epoch 19/20\n",
      "32528/32528 [==============================] - 1s 40us/step - loss: 0.2770 - acc: 0.8705 - val_loss: 0.2556 - val_acc: 0.9091\n",
      "Epoch 20/20\n",
      "32528/32528 [==============================] - 1s 41us/step - loss: 0.2760 - acc: 0.8710 - val_loss: 0.2806 - val_acc: 0.8485\n"
     ]
    },
    {
     "data": {
      "text/plain": [
       "<keras.callbacks.History at 0x1093e1320>"
      ]
     },
     "execution_count": 4,
     "metadata": {},
     "output_type": "execute_result"
    }
   ],
   "source": [
    "model.fit(x = X,y = Y,epochs = 20,validation_split= 0.001,verbose = 1)"
   ]
  },
  {
   "cell_type": "code",
   "execution_count": 5,
   "metadata": {},
   "outputs": [
    {
     "name": "stdout",
     "output_type": "stream",
     "text": [
      "(16281, 1)\n"
     ]
    }
   ],
   "source": [
    "ans = model.predict(X_test)\n",
    "\n",
    "print(ans.shape)\n",
    "for i in range(len(ans)):\n",
    "    if ans[i]<0.5:\n",
    "        ans[i] = 0\n",
    "    else:\n",
    "        ans[i] = 1\n",
    "ans =np.array(ans,dtype=int)"
   ]
  },
  {
   "cell_type": "code",
   "execution_count": 6,
   "metadata": {},
   "outputs": [],
   "source": [
    " with open('keras_dnn.csv', 'w') as f:\n",
    "        print('id,label', file=f)\n",
    "        for (i, p) in enumerate(ans) :\n",
    "            print('{},{}'.format(i+1, p[0]), file=f)"
   ]
  },
  {
   "cell_type": "code",
   "execution_count": null,
   "metadata": {},
   "outputs": [],
   "source": [
    "model.save('kaggle_.h5') "
   ]
  },
  {
   "cell_type": "code",
   "execution_count": null,
   "metadata": {},
   "outputs": [],
   "source": []
  }
 ],
 "metadata": {
  "kernelspec": {
   "display_name": "Python 3",
   "language": "python",
   "name": "python3"
  },
  "language_info": {
   "codemirror_mode": {
    "name": "ipython",
    "version": 3
   },
   "file_extension": ".py",
   "mimetype": "text/x-python",
   "name": "python",
   "nbconvert_exporter": "python",
   "pygments_lexer": "ipython3",
   "version": "3.6.5"
  }
 },
 "nbformat": 4,
 "nbformat_minor": 2
}
