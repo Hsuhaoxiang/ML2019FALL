{
 "cells": [
  {
   "cell_type": "code",
   "execution_count": 6,
   "metadata": {},
   "outputs": [
    {
     "name": "stdout",
     "output_type": "stream",
     "text": [
      "X_shape: (32560, 107) \n",
      "Y_shape: (32560, 1)\n"
     ]
    }
   ],
   "source": [
    "import numpy as np\n",
    "import pandas as pd\n",
    "import sys\n",
    "X = pd.read_csv(\"X_train\",low_memory=False)\n",
    "X_test = pd.read_csv(\"X_test\",low_memory=False)\n",
    "X=np.array(X,dtype = float)\n",
    "X_test = np.array(X_test,dtype = float)\n",
    "X = X[1:,:]\n",
    "X_test = X_test[1:,:]\n",
    "X_mean = np.mean(X,axis =0,keepdims = True)\n",
    "X_std = np.std(X,axis = 0,keepdims = True)\n",
    "\n",
    "X = (X-X_mean)/X_std\n",
    "X_test = (X_test-X_mean)/X_std\n",
    "\n",
    "Y = pd.read_csv(\"Y_train\",low_memory=False)\n",
    "Y = np.array(Y,dtype = float)\n",
    "bias = np.ones((32560,1))\n",
    "biastest = np.ones((16280,1))\n",
    "X = np.concatenate((X,bias),axis = 1)\n",
    "X_test = np.concatenate((X_test,biastest),axis = 1)\n",
    "print(\"X_shape:\",X.shape,\"\\nY_shape:\",Y.shape)\n",
    "\n"
   ]
  },
  {
   "cell_type": "code",
   "execution_count": 7,
   "metadata": {},
   "outputs": [],
   "source": [
    "class logistic_regression():\n",
    "    def __init__(self):\n",
    "        pass\n",
    "    def _init_para(self):\n",
    "        self.W =np.ones((107,1))\n",
    "        \n",
    "    def fit(self, X, Y, valid=None, max_epoch=2000, lr=0.000001):\n",
    "        assert X.shape[0] == Y.shape[0]\n",
    "        self._init_para()\n",
    "\n",
    "        for epoch in range(1, max_epoch+1):\n",
    "            \n",
    "            W_grad = -np.dot(X.T,(Y-self.predict(X)))\n",
    "            #print(W_grad.shape)\n",
    "            self.W = self.W -(lr*W_grad)\n",
    "            #print(self.W)\n",
    "\n",
    "            if epoch%100==0:\n",
    "                training_loss = self.loss(X,Y)\n",
    "                #accuracy = self.evaluate(X,Y)\n",
    "                print('[Epoch%5d] - training loss: %5f'%(epoch, training_loss))\n",
    "            \n",
    "    def sigmod(self,z):#   sigmod(z) = 1/(1+e^-z)\n",
    "        return 1/(1+np.exp(-z+0.00000000001))\n",
    "    \n",
    "    def predict(self, X, test=False):\n",
    "        return self.sigmod(np.dot(X,self.W))\n",
    "\n",
    "    def loss(self, X, Y, pred=None):\n",
    "        predict_value = self.predict(X)\n",
    "        return -np.sum(Y*np.log(predict_value+0.00000000001)+(1-Y)*(np.log(1-predict_value+0.00000000001)))\n",
    "\n",
    "\n",
    "    def evaluate(self, X, Y):\n",
    "        pred=self.predict(X)\n",
    "        for i in range(len(pred)):\n",
    "            if pred[i]>=0.5:\n",
    "                pred[i] = 1\n",
    "            else:\n",
    "                pred[i] =0\n",
    "            return np.mean(1-np.abs(pred-Y))\n",
    "\n"
   ]
  },
  {
   "cell_type": "code",
   "execution_count": 8,
   "metadata": {},
   "outputs": [
    {
     "name": "stdout",
     "output_type": "stream",
     "text": [
      "[Epoch  100] - training loss: 49461.490985\n",
      "[Epoch  200] - training loss: 34861.873531\n",
      "[Epoch  300] - training loss: 26246.406711\n",
      "[Epoch  400] - training loss: 21087.937325\n",
      "[Epoch  500] - training loss: 18098.638756\n",
      "[Epoch  600] - training loss: 16220.007544\n",
      "[Epoch  700] - training loss: 14912.858727\n",
      "[Epoch  800] - training loss: 13944.096320\n",
      "[Epoch  900] - training loss: 13174.891010\n",
      "[Epoch 1000] - training loss: 12560.356696\n",
      "[Epoch 1100] - training loss: 12080.282724\n",
      "[Epoch 1200] - training loss: 11695.043819\n",
      "[Epoch 1300] - training loss: 11387.599953\n",
      "[Epoch 1400] - training loss: 11150.349846\n",
      "[Epoch 1500] - training loss: 10960.058786\n",
      "[Epoch 1600] - training loss: 10803.977335\n",
      "[Epoch 1700] - training loss: 10677.832307\n",
      "[Epoch 1800] - training loss: 10576.973986\n",
      "[Epoch 1900] - training loss: 10502.608172\n",
      "[Epoch 2000] - training loss: 10461.658463\n"
     ]
    }
   ],
   "source": [
    "model = logistic_regression()\n",
    "model.fit(X,Y)\n"
   ]
  },
  {
   "cell_type": "code",
   "execution_count": 10,
   "metadata": {},
   "outputs": [
    {
     "name": "stdout",
     "output_type": "stream",
     "text": [
      "(16280, 1)\n"
     ]
    }
   ],
   "source": [
    "predict = model.predict(X_test)\n",
    "\n",
    "\n",
    "print(predict.shape)\n",
    "for i in range(len(predict)):\n",
    "    if predict[i]<0.5:\n",
    "        predict[i] = 0\n",
    "    else:\n",
    "        predict[i] = 1"
   ]
  },
  {
   "cell_type": "code",
   "execution_count": 11,
   "metadata": {},
   "outputs": [],
   "source": [
    " with open('logistic_regression.csv', 'w') as f:\n",
    "        print('id,label', file=f)\n",
    "        for (i, p) in enumerate(predict) :\n",
    "            print('id_{},{}'.format(i, p[0]), file=f)"
   ]
  },
  {
   "cell_type": "code",
   "execution_count": null,
   "metadata": {},
   "outputs": [],
   "source": []
  }
 ],
 "metadata": {
  "kernelspec": {
   "display_name": "Python 3",
   "language": "python",
   "name": "python3"
  },
  "language_info": {
   "codemirror_mode": {
    "name": "ipython",
    "version": 3
   },
   "file_extension": ".py",
   "mimetype": "text/x-python",
   "name": "python",
   "nbconvert_exporter": "python",
   "pygments_lexer": "ipython3",
   "version": "3.6.5"
  }
 },
 "nbformat": 4,
 "nbformat_minor": 2
}
