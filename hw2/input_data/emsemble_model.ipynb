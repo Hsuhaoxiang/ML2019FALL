{
 "cells": [
  {
   "cell_type": "code",
   "execution_count": 1,
   "metadata": {},
   "outputs": [
    {
     "name": "stderr",
     "output_type": "stream",
     "text": [
      "Using TensorFlow backend.\n"
     ]
    }
   ],
   "source": [
    "import numpy as np\n",
    "import pandas as pd\n",
    "import sys\n",
    "import math\n",
    "from keras.models import Sequential\n",
    "from keras.layers import Dense,Dropout ,Activation\n",
    "from sklearn.svm import SVC"
   ]
  },
  {
   "cell_type": "code",
   "execution_count": 2,
   "metadata": {},
   "outputs": [
    {
     "name": "stdout",
     "output_type": "stream",
     "text": [
      "X_shape: (32561, 106) \n",
      "Y_shape: (32561,)\n"
     ]
    }
   ],
   "source": [
    "X = pd.read_csv(\"X_train\",low_memory=False)\n",
    "X_test = pd.read_csv(\"X_test\",low_memory=False)\n",
    "Y = np.loadtxt(\"Y_train\",dtype=np.int,delimiter=',')\n",
    "Y_logistic = np.reshape(Y,(-1,1))\n",
    "Y = Y.flatten()\n",
    "\n",
    "X=np.array(X,dtype = float)\n",
    "X_test = np.array(X_test,dtype = float)\n",
    "\n",
    "\n",
    "X_mean = np.mean(X,axis =0,keepdims = True)\n",
    "X_std = np.std(X,axis = 0,keepdims = True)\n",
    "\n",
    "X = (X-X_mean)/X_std\n",
    "X_test = (X_test-X_mean)/X_std\n",
    "bias = np.ones((32561,1))\n",
    "biastest = np.ones((16281,1))\n",
    "X_logistic = np.concatenate((X,bias),axis = 1)\n",
    "X_test_logistic = np.concatenate((X_test,biastest),axis = 1)\n",
    "\n",
    "#bias = np.ones((32561,1))\n",
    "#biastest = np.ones((16281,1))\n",
    "#X = np.concatenate((X,bias),axis = 1)\n",
    "#X_test = np.concatenate((X_test,biastest),axis = 1)\n",
    "print(\"X_shape:\",X.shape,\"\\nY_shape:\",Y.shape)\n"
   ]
  },
  {
   "cell_type": "code",
   "execution_count": 3,
   "metadata": {},
   "outputs": [],
   "source": [
    "class logistic_regression():\n",
    "    def __init__(self):\n",
    "        pass\n",
    "    def _init_para(self):\n",
    "        self.W =np.ones((107,1))\n",
    "        \n",
    "    def fit(self, X, Y, valid=None, max_epoch=2000, lr=0.000001):\n",
    "        assert X.shape[0] == Y.shape[0]\n",
    "        self._init_para()\n",
    "\n",
    "        for epoch in range(1, max_epoch+1):\n",
    "            \n",
    "            W_grad = -np.dot(X.T,(Y-self.predict(X)))\n",
    "            #print(W_grad.shape)\n",
    "            self.W = self.W -(lr*W_grad)\n",
    "            #print(self.W)\n",
    "\n",
    "            if epoch%100==0:\n",
    "                training_loss = self.loss(X,Y)\n",
    "                #accuracy = self.evaluate(X,Y)\n",
    "                print('[Epoch%5d] - training loss: %5f'%(epoch, training_loss))\n",
    "            \n",
    "    def sigmod(self,z):#   sigmod(z) = 1/(1+e^-z)\n",
    "        return 1/(1+np.exp(-z))\n",
    "    \n",
    "    def predict(self, X, test=False):\n",
    "        return self.sigmod(np.dot(X,self.W))\n",
    "\n",
    "    def loss(self, X, Y, pred=None):\n",
    "        predict_value = self.predict(X)\n",
    "        return -np.sum(Y*np.log(predict_value+0.00000000001)+(1-Y)*(np.log(1-predict_value+0.00000000001)))\n",
    "\n",
    "\n",
    "    def evaluate(self, X, Y):\n",
    "        pred=self.predict(X)\n",
    "        for i in range(len(pred)):\n",
    "            if pred[i]>=0.5:\n",
    "                pred[i] = 1\n",
    "            else:\n",
    "                pred[i] =0\n",
    "            return np.mean(1-np.abs(pred-Y))\n"
   ]
  },
  {
   "cell_type": "code",
   "execution_count": 4,
   "metadata": {},
   "outputs": [
    {
     "name": "stdout",
     "output_type": "stream",
     "text": [
      "[Epoch  100] - training loss: 49462.305997\n",
      "[Epoch  200] - training loss: 34862.255814\n",
      "[Epoch  300] - training loss: 26246.592140\n",
      "[Epoch  400] - training loss: 21088.055762\n",
      "[Epoch  500] - training loss: 18098.741507\n",
      "[Epoch  600] - training loss: 16220.104454\n",
      "[Epoch  700] - training loss: 14912.953588\n",
      "[Epoch  800] - training loss: 13944.184312\n",
      "[Epoch  900] - training loss: 13174.972544\n",
      "[Epoch 1000] - training loss: 12560.438753\n",
      "[Epoch 1100] - training loss: 12080.368998\n",
      "[Epoch 1200] - training loss: 11695.135036\n",
      "[Epoch 1300] - training loss: 11387.696303\n",
      "[Epoch 1400] - training loss: 11150.449163\n",
      "[Epoch 1500] - training loss: 10960.159789\n",
      "[Epoch 1600] - training loss: 10804.080743\n",
      "[Epoch 1700] - training loss: 10677.938866\n",
      "[Epoch 1800] - training loss: 10577.083859\n",
      "[Epoch 1900] - training loss: 10502.724193\n",
      "[Epoch 2000] - training loss: 10461.781170\n",
      "[Epoch 2100] - training loss: 10440.631333\n",
      "[Epoch 2200] - training loss: 10426.843834\n",
      "[Epoch 2300] - training loss: 10416.175234\n",
      "[Epoch 2400] - training loss: 10407.234370\n",
      "[Epoch 2500] - training loss: 10399.476319\n",
      "[Epoch 2600] - training loss: 10392.636363\n",
      "[Epoch 2700] - training loss: 10386.557762\n",
      "[Epoch 2800] - training loss: 10381.132580\n",
      "[Epoch 2900] - training loss: 10376.278474\n",
      "[Epoch 3000] - training loss: 10371.928337\n",
      "[Epoch 3100] - training loss: 10368.025140\n",
      "[Epoch 3200] - training loss: 10364.519132\n",
      "[Epoch 3300] - training loss: 10361.366219\n",
      "[Epoch 3400] - training loss: 10358.526985\n",
      "[Epoch 3500] - training loss: 10355.966064\n",
      "[Epoch 3600] - training loss: 10353.651713\n",
      "[Epoch 3700] - training loss: 10351.555495\n",
      "[Epoch 3800] - training loss: 10349.652013\n",
      "[Epoch 3900] - training loss: 10347.918675\n",
      "[Epoch 4000] - training loss: 10346.335464\n",
      "[Epoch 4100] - training loss: 10344.884698\n",
      "[Epoch 4200] - training loss: 10343.550096\n",
      "[Epoch 4300] - training loss: 10342.299360\n",
      "[Epoch 4400] - training loss: 10340.741751\n",
      "[Epoch 4500] - training loss: 10337.395022\n",
      "[Epoch 4600] - training loss: 10333.219045\n",
      "[Epoch 4700] - training loss: 10329.044816\n",
      "[Epoch 4800] - training loss: 10324.925305\n",
      "[Epoch 4900] - training loss: 10320.857097\n",
      "[Epoch 5000] - training loss: 10316.838077\n",
      "[Epoch 5100] - training loss: 10312.936173\n",
      "[Epoch 5200] - training loss: 10309.997158\n",
      "[Epoch 5300] - training loss: 10308.713557\n",
      "[Epoch 5400] - training loss: 10307.931307\n",
      "[Epoch 5500] - training loss: 10307.274733\n",
      "[Epoch 5600] - training loss: 10306.675388\n",
      "[Epoch 5700] - training loss: 10306.113669\n",
      "[Epoch 5800] - training loss: 10305.581365\n",
      "[Epoch 5900] - training loss: 10305.073997\n",
      "[Epoch 6000] - training loss: 10304.588648\n",
      "[Epoch 6100] - training loss: 10304.123180\n",
      "[Epoch 6200] - training loss: 10303.675908\n",
      "[Epoch 6300] - training loss: 10303.245438\n",
      "[Epoch 6400] - training loss: 10302.830581\n",
      "[Epoch 6500] - training loss: 10302.430301\n",
      "[Epoch 6600] - training loss: 10302.043682\n",
      "[Epoch 6700] - training loss: 10301.669907\n",
      "[Epoch 6800] - training loss: 10301.308238\n",
      "[Epoch 6900] - training loss: 10300.958007\n",
      "[Epoch 7000] - training loss: 10300.618606\n",
      "[Epoch 7100] - training loss: 10300.289478\n",
      "[Epoch 7200] - training loss: 10299.970110\n",
      "[Epoch 7300] - training loss: 10299.660030\n",
      "[Epoch 7400] - training loss: 10299.358800\n",
      "[Epoch 7500] - training loss: 10299.066015\n",
      "[Epoch 7600] - training loss: 10298.781299\n",
      "[Epoch 7700] - training loss: 10298.504299\n",
      "[Epoch 7800] - training loss: 10298.234688\n",
      "[Epoch 7900] - training loss: 10297.972159\n",
      "[Epoch 8000] - training loss: 10297.716425\n",
      "[Epoch 8100] - training loss: 10297.467214\n",
      "[Epoch 8200] - training loss: 10297.224272\n",
      "[Epoch 8300] - training loss: 10296.987362\n",
      "[Epoch 8400] - training loss: 10296.756255\n",
      "[Epoch 8500] - training loss: 10296.530741\n",
      "[Epoch 8600] - training loss: 10296.310617\n",
      "[Epoch 8700] - training loss: 10296.095692\n",
      "[Epoch 8800] - training loss: 10295.885785\n",
      "[Epoch 8900] - training loss: 10295.680726\n",
      "[Epoch 9000] - training loss: 10295.480351\n",
      "[Epoch 9100] - training loss: 10295.284505\n",
      "[Epoch 9200] - training loss: 10295.093042\n",
      "[Epoch 9300] - training loss: 10294.905820\n",
      "[Epoch 9400] - training loss: 10294.722706\n",
      "[Epoch 9500] - training loss: 10294.543572\n",
      "[Epoch 9600] - training loss: 10294.368296\n",
      "[Epoch 9700] - training loss: 10294.196762\n",
      "[Epoch 9800] - training loss: 10294.028859\n",
      "[Epoch 9900] - training loss: 10293.864478\n",
      "[Epoch10000] - training loss: 10293.703518\n"
     ]
    }
   ],
   "source": [
    "logistic_model = logistic_regression()\n",
    "logistic_model.fit(X_logistic,Y_logistic,max_epoch = 10000)"
   ]
  },
  {
   "cell_type": "code",
   "execution_count": 5,
   "metadata": {},
   "outputs": [],
   "source": [
    "class Generative_model():\n",
    "    def __init__(self):\n",
    "        pass\n",
    "    \n",
    "    \n",
    "    def sigmoid(self,z):#   sigmod(z) = 1/(1+e^-z)\n",
    "        return 1/(1+np.exp(-z))\n",
    "    \n",
    "\n",
    "    def fit(self, X, Y):\n",
    "        assert X.shape[0] == Y.shape[0]        \n",
    "        x1 = []#Y=1\n",
    "        x2 = []#Y=0\n",
    "        for i in range(X.shape[0]):\n",
    "            if Y[i]==1:\n",
    "                x1.append(X[i,:])\n",
    "            else:\n",
    "                x2.append(X[i,:])\n",
    "        x1 = np.array(x1,dtype = float)#~7000*106\n",
    "        x2 = np.array(x2,dtype = float)#~20000*106\n",
    "        \n",
    "        \n",
    "        self.X_mean_class1 = np.mean(x1,axis =0,keepdims = True)#1*106\n",
    "        self.X_mean_class2 = np.mean(x2,axis =0,keepdims = True)#1*106\n",
    "\n",
    "        self.X_len = x1.shape[0]+x2.shape[0]\n",
    "        self.Pc1 = (x1.shape[0]/X.shape[0])\n",
    "        self.Pc2 = (x2.shape[0]/X.shape[0])\n",
    "        \n",
    "        Sigma1 = np.dot((x1 - self.X_mean_class1).T,(x1 - self.X_mean_class1))/x1.shape[0]\n",
    "        Sigma2 = np.dot((x2 - self.X_mean_class2).T,(x2 - self.X_mean_class2))/x2.shape[0]\n",
    "        self.Sigma = self.Pc1*Sigma1 + self.Pc2*Sigma2\n",
    "        #print(\"Sigma1:\",Sigma1.shape,\"\\nSigma2:\",Sigma2.shape,\"\\nSigma:\",self.Sigma.shape)\n",
    "\n",
    "    def predict(self, test_X):\n",
    "        #print(\"testx:\",test_X.shape)\n",
    "        sigma_inverse = np.linalg.pinv(self.Sigma)\n",
    "        #print(sigma_inverse)\n",
    "        w = np.dot((self.X_mean_class1-self.X_mean_class2),sigma_inverse)\n",
    "        #print(\"w=\",w)\n",
    "        b = (-0.5) * np.dot(np.dot(self.X_mean_class1, sigma_inverse), self.X_mean_class1.T) + (0.5) * np.dot(np.dot(self.X_mean_class2, sigma_inverse), self.X_mean_class2.T) + np.log(float(self.Pc1)/(self.Pc2))\n",
    "        z = np.dot(w, X_test.T) + b        \n",
    "        \n",
    "        return self.sigmoid(z)"
   ]
  },
  {
   "cell_type": "code",
   "execution_count": 6,
   "metadata": {},
   "outputs": [],
   "source": [
    "generative_model = Generative_model()\n",
    "generative_model.fit(X,Y)"
   ]
  },
  {
   "cell_type": "code",
   "execution_count": 7,
   "metadata": {},
   "outputs": [
    {
     "name": "stdout",
     "output_type": "stream",
     "text": [
      "_________________________________________________________________\n",
      "Layer (type)                 Output Shape              Param #   \n",
      "=================================================================\n",
      "dense_1 (Dense)              (None, 50)                5350      \n",
      "_________________________________________________________________\n",
      "activation_1 (Activation)    (None, 50)                0         \n",
      "_________________________________________________________________\n",
      "dropout_1 (Dropout)          (None, 50)                0         \n",
      "_________________________________________________________________\n",
      "dense_2 (Dense)              (None, 40)                2040      \n",
      "_________________________________________________________________\n",
      "activation_2 (Activation)    (None, 40)                0         \n",
      "_________________________________________________________________\n",
      "dropout_2 (Dropout)          (None, 40)                0         \n",
      "_________________________________________________________________\n",
      "dense_3 (Dense)              (None, 30)                1230      \n",
      "_________________________________________________________________\n",
      "activation_3 (Activation)    (None, 30)                0         \n",
      "_________________________________________________________________\n",
      "dropout_3 (Dropout)          (None, 30)                0         \n",
      "_________________________________________________________________\n",
      "dense_4 (Dense)              (None, 20)                620       \n",
      "_________________________________________________________________\n",
      "activation_4 (Activation)    (None, 20)                0         \n",
      "_________________________________________________________________\n",
      "dropout_4 (Dropout)          (None, 20)                0         \n",
      "_________________________________________________________________\n",
      "dense_5 (Dense)              (None, 1)                 21        \n",
      "_________________________________________________________________\n",
      "activation_5 (Activation)    (None, 1)                 0         \n",
      "=================================================================\n",
      "Total params: 9,261\n",
      "Trainable params: 9,261\n",
      "Non-trainable params: 0\n",
      "_________________________________________________________________\n"
     ]
    }
   ],
   "source": [
    "dnn_model = Sequential()\n",
    "dnn_model.add(Dense(50,input_dim = 106))\n",
    "dnn_model.add(Activation('relu') )\n",
    "dnn_model.add(Dropout(0.3))\n",
    "dnn_model.add(Dense(40))\n",
    "dnn_model.add(Activation('relu') )\n",
    "dnn_model.add(Dropout(0.2))\n",
    "dnn_model.add(Dense(30))\n",
    "dnn_model.add(Activation('relu') )\n",
    "dnn_model.add(Dropout(0.1))\n",
    "dnn_model.add(Dense(20))\n",
    "dnn_model.add(Activation('relu') )\n",
    "dnn_model.add(Dropout(0.1))\n",
    "dnn_model.add(Dense(1))\n",
    "dnn_model.add(Activation('sigmoid'))\n",
    "dnn_model.compile(loss = 'binary_crossentropy',optimizer= 'adam',metrics=['accuracy'])\n",
    "dnn_model.summary()"
   ]
  },
  {
   "cell_type": "code",
   "execution_count": 8,
   "metadata": {},
   "outputs": [
    {
     "name": "stdout",
     "output_type": "stream",
     "text": [
      "Train on 32398 samples, validate on 163 samples\n",
      "Epoch 1/30\n",
      "32398/32398 [==============================] - 2s 50us/step - loss: 0.3937 - acc: 0.8139 - val_loss: 0.2974 - val_acc: 0.8589\n",
      "Epoch 2/30\n",
      "32398/32398 [==============================] - 1s 39us/step - loss: 0.3422 - acc: 0.8417 - val_loss: 0.2893 - val_acc: 0.8528\n",
      "Epoch 3/30\n",
      "32398/32398 [==============================] - 1s 37us/step - loss: 0.3295 - acc: 0.8469 - val_loss: 0.2905 - val_acc: 0.8650\n",
      "Epoch 4/30\n",
      "32398/32398 [==============================] - 1s 39us/step - loss: 0.3226 - acc: 0.8523 - val_loss: 0.2886 - val_acc: 0.8650\n",
      "Epoch 5/30\n",
      "32398/32398 [==============================] - 1s 39us/step - loss: 0.3184 - acc: 0.8550 - val_loss: 0.2739 - val_acc: 0.8589\n",
      "Epoch 6/30\n",
      "32398/32398 [==============================] - 1s 39us/step - loss: 0.3149 - acc: 0.8558 - val_loss: 0.2810 - val_acc: 0.8773\n",
      "Epoch 7/30\n",
      "32398/32398 [==============================] - 1s 40us/step - loss: 0.3118 - acc: 0.8572 - val_loss: 0.2749 - val_acc: 0.8589\n",
      "Epoch 8/30\n",
      "32398/32398 [==============================] - 1s 38us/step - loss: 0.3122 - acc: 0.8578 - val_loss: 0.2711 - val_acc: 0.8712\n",
      "Epoch 9/30\n",
      "32398/32398 [==============================] - 1s 38us/step - loss: 0.3093 - acc: 0.8579 - val_loss: 0.2726 - val_acc: 0.8589\n",
      "Epoch 10/30\n",
      "32398/32398 [==============================] - 1s 40us/step - loss: 0.3073 - acc: 0.8583 - val_loss: 0.2711 - val_acc: 0.8589\n",
      "Epoch 11/30\n",
      "32398/32398 [==============================] - 1s 39us/step - loss: 0.3073 - acc: 0.8592 - val_loss: 0.2627 - val_acc: 0.8712\n",
      "Epoch 12/30\n",
      "32398/32398 [==============================] - 1s 39us/step - loss: 0.3058 - acc: 0.8597 - val_loss: 0.2691 - val_acc: 0.8712\n",
      "Epoch 13/30\n",
      "32398/32398 [==============================] - 1s 39us/step - loss: 0.3049 - acc: 0.8589 - val_loss: 0.2627 - val_acc: 0.8528\n",
      "Epoch 14/30\n",
      "32398/32398 [==============================] - 1s 39us/step - loss: 0.3045 - acc: 0.8607 - val_loss: 0.2636 - val_acc: 0.8528\n",
      "Epoch 15/30\n",
      "32398/32398 [==============================] - 1s 39us/step - loss: 0.3047 - acc: 0.8590 - val_loss: 0.2535 - val_acc: 0.8589\n",
      "Epoch 16/30\n",
      "32398/32398 [==============================] - 1s 39us/step - loss: 0.3034 - acc: 0.8608 - val_loss: 0.2639 - val_acc: 0.8650\n",
      "Epoch 17/30\n",
      "32398/32398 [==============================] - 1s 39us/step - loss: 0.3025 - acc: 0.8625 - val_loss: 0.2711 - val_acc: 0.8650\n",
      "Epoch 18/30\n",
      "32398/32398 [==============================] - 1s 39us/step - loss: 0.2999 - acc: 0.8626 - val_loss: 0.2623 - val_acc: 0.8589\n",
      "Epoch 19/30\n",
      "32398/32398 [==============================] - 1s 39us/step - loss: 0.3007 - acc: 0.8639 - val_loss: 0.2589 - val_acc: 0.8528\n",
      "Epoch 20/30\n",
      "32398/32398 [==============================] - 1s 39us/step - loss: 0.2991 - acc: 0.8627 - val_loss: 0.2525 - val_acc: 0.8773\n",
      "Epoch 21/30\n",
      "32398/32398 [==============================] - 1s 40us/step - loss: 0.2979 - acc: 0.8649 - val_loss: 0.2661 - val_acc: 0.8650\n",
      "Epoch 22/30\n",
      "32398/32398 [==============================] - 1s 41us/step - loss: 0.2983 - acc: 0.8645 - val_loss: 0.2608 - val_acc: 0.8773\n",
      "Epoch 23/30\n",
      "32398/32398 [==============================] - 1s 41us/step - loss: 0.2975 - acc: 0.8627 - val_loss: 0.2570 - val_acc: 0.8650\n",
      "Epoch 24/30\n",
      "32398/32398 [==============================] - 1s 41us/step - loss: 0.2975 - acc: 0.8628 - val_loss: 0.2584 - val_acc: 0.8834\n",
      "Epoch 25/30\n",
      "32398/32398 [==============================] - 1s 42us/step - loss: 0.2965 - acc: 0.8665 - val_loss: 0.2659 - val_acc: 0.8834\n",
      "Epoch 26/30\n",
      "32398/32398 [==============================] - 1s 41us/step - loss: 0.2973 - acc: 0.8636 - val_loss: 0.2626 - val_acc: 0.8650\n",
      "Epoch 27/30\n",
      "32398/32398 [==============================] - 1s 41us/step - loss: 0.2978 - acc: 0.8672 - val_loss: 0.2543 - val_acc: 0.8712\n",
      "Epoch 28/30\n",
      "32398/32398 [==============================] - 1s 41us/step - loss: 0.2956 - acc: 0.8645 - val_loss: 0.2536 - val_acc: 0.8712\n",
      "Epoch 29/30\n",
      "32398/32398 [==============================] - 1s 41us/step - loss: 0.2946 - acc: 0.8658 - val_loss: 0.2538 - val_acc: 0.8712\n",
      "Epoch 30/30\n",
      "32398/32398 [==============================] - 1s 41us/step - loss: 0.2934 - acc: 0.8650 - val_loss: 0.2628 - val_acc: 0.8834\n"
     ]
    },
    {
     "data": {
      "text/plain": [
       "<keras.callbacks.History at 0x13e3ef358>"
      ]
     },
     "execution_count": 8,
     "metadata": {},
     "output_type": "execute_result"
    }
   ],
   "source": [
    "dnn_model.fit(x = X,y = Y,epochs =30,validation_split= 0.005,verbose = 1)"
   ]
  },
  {
   "cell_type": "code",
   "execution_count": 9,
   "metadata": {},
   "outputs": [
    {
     "data": {
      "text/plain": [
       "SVC(C=1, cache_size=200, class_weight=None, coef0=0.0,\n",
       "    decision_function_shape='ovr', degree=3, gamma='auto', kernel='linear',\n",
       "    max_iter=-1, probability=False, random_state=None, shrinking=True,\n",
       "    tol=0.001, verbose=False)"
      ]
     },
     "execution_count": 9,
     "metadata": {},
     "output_type": "execute_result"
    }
   ],
   "source": [
    "svc_model = SVC(kernel='linear', C=1, gamma='auto')\n",
    "svc_model.fit(X,Y)"
   ]
  },
  {
   "cell_type": "code",
   "execution_count": 23,
   "metadata": {},
   "outputs": [
    {
     "name": "stdout",
     "output_type": "stream",
     "text": [
      "(16281, 1) (16281, 1) (16281, 1) (16281, 1)\n",
      "(16281, 1)\n"
     ]
    }
   ],
   "source": [
    "predict_logistic = logistic_model.predict(X_test_logistic)\n",
    "predict_dnn = dnn_model.predict(X_test)\n",
    "predict_generative = generative_model.predict(X_test)\n",
    "predict_svc =svc_model.predict(X_test)\n",
    "predict_svc = np.reshape(predict_svc,(-1,1))\n",
    "predict_logistic = np.reshape(predict_logistic,(-1,1))\n",
    "predict_generative = np.reshape(predict_generative,(-1,1))\n",
    "print(predict_logistic.shape,predict_dnn.shape,predict_svc.shape,predict_generative.shape)\n",
    "finialresult = (predict_logistic*0.2 + predict_dnn*0.6 + predict_generative*0.1 + predict_svc*0.1)\n",
    "print(finialresult.shape)\n",
    "for i in range(len(finialresult)):\n",
    "    if finialresult[i]<0.5:\n",
    "        finialresult[i] = 0\n",
    "    else:\n",
    "        finialresult[i] = 1\n",
    "finialresult =np.array(finialresult,dtype=int)"
   ]
  },
  {
   "cell_type": "code",
   "execution_count": 26,
   "metadata": {},
   "outputs": [],
   "source": [
    " with open('emsemble.csv', 'w') as f:\n",
    "        print('id,label', file=f)\n",
    "        for (i, p) in enumerate(finialresult) :\n",
    "            print('{},{}'.format(i+1, p[0]), file=f)"
   ]
  },
  {
   "cell_type": "code",
   "execution_count": null,
   "metadata": {},
   "outputs": [],
   "source": []
  }
 ],
 "metadata": {
  "kernelspec": {
   "display_name": "Python 3",
   "language": "python",
   "name": "python3"
  },
  "language_info": {
   "codemirror_mode": {
    "name": "ipython",
    "version": 3
   },
   "file_extension": ".py",
   "mimetype": "text/x-python",
   "name": "python",
   "nbconvert_exporter": "python",
   "pygments_lexer": "ipython3",
   "version": "3.6.5"
  }
 },
 "nbformat": 4,
 "nbformat_minor": 2
}
