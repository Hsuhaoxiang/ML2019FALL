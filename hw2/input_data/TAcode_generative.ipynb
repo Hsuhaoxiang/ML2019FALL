{
 "cells": [
  {
   "cell_type": "code",
   "execution_count": 11,
   "metadata": {},
   "outputs": [],
   "source": [
    "import numpy as np\n",
    "import pandas as pd\n",
    "import sys\n",
    "import math\n",
    "dim =106"
   ]
  },
  {
   "cell_type": "code",
   "execution_count": 12,
   "metadata": {},
   "outputs": [],
   "source": [
    "def load_data():\n",
    "    x_train = pd.read_csv('X_train')\n",
    "    x_test = pd.read_csv('X_test')\n",
    "\n",
    "    x_train = x_train.values\n",
    "    x_test = x_test.values\n",
    "\n",
    "    y_train = pd.read_csv('Y_train', header = None)\n",
    "    y_train = y_train.values\n",
    "    y_train = y_train.reshape(-1)\n",
    "\n",
    "    return x_train, y_train, x_test\n",
    "\n",
    "def sigmoid(z):\n",
    "    res = 1 / (1.0 + np.exp(-z))\n",
    "    return np.clip(res, 1e-6, 1-1e-6)"
   ]
  },
  {
   "cell_type": "code",
   "execution_count": 35,
   "metadata": {},
   "outputs": [],
   "source": [
    "def train(x_train, y_train):\n",
    "    cnt1 = 0\n",
    "    cnt2 = 0\n",
    "    \n",
    "    mu1 = np.zeros((dim,))\n",
    "    mu2 = np.zeros((dim,))\n",
    "    \n",
    "    for i in range(x_train.shape[0]):\n",
    "        if y_train[i] == 1:\n",
    "            cnt1 += 1\n",
    "            mu1 += x_train[i]\n",
    "        else:\n",
    "            cnt2 += 1\n",
    "            mu2 += x_train[i]\n",
    "    mu1 /= cnt1\n",
    "    mu2 /= cnt2\n",
    "\n",
    "    sigma1 = np.zeros((dim,dim))\n",
    "    sigma2 = np.zeros((dim,dim))\n",
    "    for i in range(x_train.shape[0]):\n",
    "        if y_train[i] == 1:\n",
    "            sigma1 += np.dot(np.transpose([x_train[i] - mu1]), [(x_train[i] - mu1)])\n",
    "        else:\n",
    "            sigma2 += np.dot(np.transpose([x_train[i] - mu2]), [(x_train[i] - mu2)])\n",
    "    sigma1 /= cnt1\n",
    "    sigma2 /= cnt2\n",
    "\n",
    "    \n",
    "    share_sigma = (cnt1 / x_train.shape[0]) * sigma1 + (cnt2 / x_train.shape[0]) * sigma2\n",
    "    return mu1, mu2, share_sigma, cnt1, cnt2"
   ]
  },
  {
   "cell_type": "code",
   "execution_count": 36,
   "metadata": {},
   "outputs": [],
   "source": [
    "def predict(x_test, mu1, mu2, share_sigma, N1, N2):\n",
    "    sigma_inverse = np.linalg.inv(share_sigma)\n",
    "    print(sigma_inverse)\n",
    "    w = np.dot( (mu1-mu2), sigma_inverse)\n",
    "    #print(\"w=\",w)\n",
    "    b = (-0.5) * np.dot(np.dot(mu1.T, sigma_inverse), mu1) + (0.5) * np.dot(np.dot(mu2.T, sigma_inverse), mu2) + np.log(float(N1)/N2)\n",
    "\n",
    "    z = np.dot(w, x_test.T) + b\n",
    "    pred = sigmoid(z)\n",
    "    return pred"
   ]
  },
  {
   "cell_type": "code",
   "execution_count": 37,
   "metadata": {},
   "outputs": [
    {
     "name": "stdout",
     "output_type": "stream",
     "text": [
      "[[ 9.42393826e-03  5.49352286e-08 -3.23540064e-03 ...  1.16008222e-01\n",
      "   1.16826759e-01  1.12250880e-01]\n",
      " [ 5.49352286e-08  9.53007087e-11 -1.20713754e-06 ... -2.16024337e-05\n",
      "  -2.30136203e-05 -2.06118204e-05]\n",
      " [-3.23540064e-03 -1.20713754e-06  9.12072201e+00 ... -8.83955987e+00\n",
      "  -8.23395892e+00 -8.86549864e+00]\n",
      " ...\n",
      " [ 1.18368886e-01 -2.15809713e-05 -8.83206079e+00 ... -3.27336907e+14\n",
      "  -3.27336907e+14 -3.27336907e+14]\n",
      " [ 1.15906143e-01 -2.30194325e-05 -8.20160225e+00 ... -3.27336907e+14\n",
      "  -3.27336907e+14 -3.27336907e+14]\n",
      " [ 1.11840580e-01 -2.06161798e-05 -8.83035809e+00 ... -3.27336907e+14\n",
      "  -3.27336907e+14 -3.27336907e+14]]\n"
     ]
    }
   ],
   "source": [
    "if __name__ == '__main__':\n",
    "    x_train,y_train,x_test = load_data()\n",
    "    \n",
    "    mu1, mu2, shared_sigma, N1, N2 = train(x_train, y_train)\n",
    "\n",
    "    \n",
    "    y = predict(x_test, mu1, mu2, shared_sigma, N1, N2)\n",
    "    \n",
    "    y = (np.around(y))\n",
    "    y = np.array(y,dtype = int)\n",
    "    \n",
    "    with open('TAcode_generative_model.csv', 'w') as f:\n",
    "        print('id,label', file=f)\n",
    "        for (i, p) in enumerate(y) :\n",
    "            print('{},{}'.format(i+1, p), file=f)\n",
    "    \n",
    "    #predict x_test"
   ]
  },
  {
   "cell_type": "code",
   "execution_count": null,
   "metadata": {},
   "outputs": [],
   "source": []
  },
  {
   "cell_type": "code",
   "execution_count": null,
   "metadata": {},
   "outputs": [],
   "source": []
  }
 ],
 "metadata": {
  "kernelspec": {
   "display_name": "Python 3",
   "language": "python",
   "name": "python3"
  },
  "language_info": {
   "codemirror_mode": {
    "name": "ipython",
    "version": 3
   },
   "file_extension": ".py",
   "mimetype": "text/x-python",
   "name": "python",
   "nbconvert_exporter": "python",
   "pygments_lexer": "ipython3",
   "version": "3.6.5"
  }
 },
 "nbformat": 4,
 "nbformat_minor": 2
}
