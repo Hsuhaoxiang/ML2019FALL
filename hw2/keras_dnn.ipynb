{
 "cells": [
  {
   "cell_type": "code",
   "execution_count": 1,
   "metadata": {},
   "outputs": [
    {
     "name": "stderr",
     "output_type": "stream",
     "text": [
      "Using TensorFlow backend.\n",
      "/Library/Frameworks/Python.framework/Versions/3.6/lib/python3.6/site-packages/tensorflow/python/framework/dtypes.py:523: FutureWarning: Passing (type, 1) or '1type' as a synonym of type is deprecated; in a future version of numpy, it will be understood as (type, (1,)) / '(1,)type'.\n",
      "  _np_qint8 = np.dtype([(\"qint8\", np.int8, 1)])\n",
      "/Library/Frameworks/Python.framework/Versions/3.6/lib/python3.6/site-packages/tensorflow/python/framework/dtypes.py:524: FutureWarning: Passing (type, 1) or '1type' as a synonym of type is deprecated; in a future version of numpy, it will be understood as (type, (1,)) / '(1,)type'.\n",
      "  _np_quint8 = np.dtype([(\"quint8\", np.uint8, 1)])\n",
      "/Library/Frameworks/Python.framework/Versions/3.6/lib/python3.6/site-packages/tensorflow/python/framework/dtypes.py:525: FutureWarning: Passing (type, 1) or '1type' as a synonym of type is deprecated; in a future version of numpy, it will be understood as (type, (1,)) / '(1,)type'.\n",
      "  _np_qint16 = np.dtype([(\"qint16\", np.int16, 1)])\n",
      "/Library/Frameworks/Python.framework/Versions/3.6/lib/python3.6/site-packages/tensorflow/python/framework/dtypes.py:526: FutureWarning: Passing (type, 1) or '1type' as a synonym of type is deprecated; in a future version of numpy, it will be understood as (type, (1,)) / '(1,)type'.\n",
      "  _np_quint16 = np.dtype([(\"quint16\", np.uint16, 1)])\n",
      "/Library/Frameworks/Python.framework/Versions/3.6/lib/python3.6/site-packages/tensorflow/python/framework/dtypes.py:527: FutureWarning: Passing (type, 1) or '1type' as a synonym of type is deprecated; in a future version of numpy, it will be understood as (type, (1,)) / '(1,)type'.\n",
      "  _np_qint32 = np.dtype([(\"qint32\", np.int32, 1)])\n",
      "/Library/Frameworks/Python.framework/Versions/3.6/lib/python3.6/site-packages/tensorflow/python/framework/dtypes.py:532: FutureWarning: Passing (type, 1) or '1type' as a synonym of type is deprecated; in a future version of numpy, it will be understood as (type, (1,)) / '(1,)type'.\n",
      "  np_resource = np.dtype([(\"resource\", np.ubyte, 1)])\n"
     ]
    }
   ],
   "source": [
    "import numpy as np\n",
    "import pandas as pd\n",
    "import sys\n",
    "from keras.models import Sequential\n",
    "from keras.layers import Dense,Dropout ,Activation"
   ]
  },
  {
   "cell_type": "code",
   "execution_count": 2,
   "metadata": {},
   "outputs": [
    {
     "name": "stdout",
     "output_type": "stream",
     "text": [
      "X_shape: (32561, 106) \n",
      "Y_shape: (32561,)\n"
     ]
    }
   ],
   "source": [
    "\n",
    "X = pd.read_csv(\"X_train\",low_memory=False)\n",
    "X_test = pd.read_csv(\"X_test\",low_memory=False)\n",
    "Y = np.loadtxt(\"Y_train\",dtype=np.int,delimiter=',')\n",
    "\n",
    "Y = Y.flatten()\n",
    "\n",
    "X=np.array(X,dtype = float)\n",
    "X_test = np.array(X_test,dtype = float)\n",
    "\n",
    "\n",
    "X_mean = np.mean(X,axis =0,keepdims = True)\n",
    "X_std = np.std(X,axis = 0,keepdims = True)\n",
    "\n",
    "X = (X-X_mean)/X_std\n",
    "X_test = (X_test-X_mean)/X_std\n",
    "\n",
    "#bias = np.ones((32561,1))\n",
    "#biastest = np.ones((16281,1))\n",
    "#X = np.concatenate((X,bias),axis = 1)\n",
    "#X_test = np.concatenate((X_test,biastest),axis = 1)\n",
    "print(\"X_shape:\",X.shape,\"\\nY_shape:\",Y.shape)\n"
   ]
  },
  {
   "cell_type": "code",
   "execution_count": 3,
   "metadata": {},
   "outputs": [
    {
     "name": "stdout",
     "output_type": "stream",
     "text": [
      "_________________________________________________________________\n",
      "Layer (type)                 Output Shape              Param #   \n",
      "=================================================================\n",
      "dense_1 (Dense)              (None, 100)               10700     \n",
      "_________________________________________________________________\n",
      "activation_1 (Activation)    (None, 100)               0         \n",
      "_________________________________________________________________\n",
      "dropout_1 (Dropout)          (None, 100)               0         \n",
      "_________________________________________________________________\n",
      "dense_2 (Dense)              (None, 80)                8080      \n",
      "_________________________________________________________________\n",
      "activation_2 (Activation)    (None, 80)                0         \n",
      "_________________________________________________________________\n",
      "dropout_2 (Dropout)          (None, 80)                0         \n",
      "_________________________________________________________________\n",
      "dense_3 (Dense)              (None, 40)                3240      \n",
      "_________________________________________________________________\n",
      "activation_3 (Activation)    (None, 40)                0         \n",
      "_________________________________________________________________\n",
      "dropout_3 (Dropout)          (None, 40)                0         \n",
      "_________________________________________________________________\n",
      "dense_4 (Dense)              (None, 20)                820       \n",
      "_________________________________________________________________\n",
      "activation_4 (Activation)    (None, 20)                0         \n",
      "_________________________________________________________________\n",
      "dropout_4 (Dropout)          (None, 20)                0         \n",
      "_________________________________________________________________\n",
      "dense_5 (Dense)              (None, 10)                210       \n",
      "_________________________________________________________________\n",
      "activation_5 (Activation)    (None, 10)                0         \n",
      "_________________________________________________________________\n",
      "dropout_5 (Dropout)          (None, 10)                0         \n",
      "_________________________________________________________________\n",
      "dense_6 (Dense)              (None, 1)                 11        \n",
      "_________________________________________________________________\n",
      "activation_6 (Activation)    (None, 1)                 0         \n",
      "=================================================================\n",
      "Total params: 23,061\n",
      "Trainable params: 23,061\n",
      "Non-trainable params: 0\n",
      "_________________________________________________________________\n"
     ]
    }
   ],
   "source": [
    "model = Sequential()\n",
    "model.add(Dense(100,input_dim = 106))\n",
    "model.add(Activation('relu') )\n",
    "model.add(Dropout(0.3))\n",
    "model.add(Dense(80))\n",
    "model.add(Activation('relu') )\n",
    "model.add(Dropout(0.3))\n",
    "model.add(Dense(40))\n",
    "model.add(Activation('relu') )\n",
    "model.add(Dropout(0.3))\n",
    "model.add(Dense(20))\n",
    "model.add(Activation('relu') )\n",
    "model.add(Dropout(0.3))\n",
    "model.add(Dense(10))\n",
    "model.add(Activation('relu') )\n",
    "model.add(Dropout(0.3))\n",
    "model.add(Dense(1))\n",
    "model.add(Activation('sigmoid'))\n",
    "model.compile(loss = 'binary_crossentropy',optimizer= 'adam',metrics=['accuracy'])\n",
    "model.summary()\n"
   ]
  },
  {
   "cell_type": "code",
   "execution_count": 4,
   "metadata": {},
   "outputs": [
    {
     "name": "stdout",
     "output_type": "stream",
     "text": [
      "Train on 32398 samples, validate on 163 samples\n",
      "Epoch 1/30\n",
      "32398/32398 [==============================] - 2s 61us/step - loss: 0.4254 - acc: 0.7911 - val_loss: 0.3175 - val_acc: 0.8528\n",
      "Epoch 2/30\n",
      "32398/32398 [==============================] - 1s 45us/step - loss: 0.3604 - acc: 0.8327 - val_loss: 0.2835 - val_acc: 0.8528\n",
      "Epoch 3/30\n",
      "32398/32398 [==============================] - 1s 43us/step - loss: 0.3467 - acc: 0.8392 - val_loss: 0.2843 - val_acc: 0.8528\n",
      "Epoch 4/30\n",
      "32398/32398 [==============================] - 1s 45us/step - loss: 0.3399 - acc: 0.8440 - val_loss: 0.2744 - val_acc: 0.8589\n",
      "Epoch 5/30\n",
      "32398/32398 [==============================] - 1s 46us/step - loss: 0.3345 - acc: 0.8473 - val_loss: 0.2781 - val_acc: 0.8466\n",
      "Epoch 6/30\n",
      "32398/32398 [==============================] - 2s 46us/step - loss: 0.3290 - acc: 0.8477 - val_loss: 0.2747 - val_acc: 0.8773\n",
      "Epoch 7/30\n",
      "32398/32398 [==============================] - 1s 45us/step - loss: 0.3275 - acc: 0.8515 - val_loss: 0.2748 - val_acc: 0.8528\n",
      "Epoch 8/30\n",
      "32398/32398 [==============================] - 2s 54us/step - loss: 0.3260 - acc: 0.8511 - val_loss: 0.2701 - val_acc: 0.8834\n",
      "Epoch 9/30\n",
      "32398/32398 [==============================] - 2s 53us/step - loss: 0.3222 - acc: 0.8523 - val_loss: 0.2689 - val_acc: 0.8712\n",
      "Epoch 10/30\n",
      "32398/32398 [==============================] - 2s 55us/step - loss: 0.3195 - acc: 0.8530 - val_loss: 0.2708 - val_acc: 0.8650\n",
      "Epoch 11/30\n",
      "32398/32398 [==============================] - 2s 48us/step - loss: 0.3189 - acc: 0.8534 - val_loss: 0.2665 - val_acc: 0.8650\n",
      "Epoch 12/30\n",
      "32398/32398 [==============================] - 2s 47us/step - loss: 0.3167 - acc: 0.8545 - val_loss: 0.2728 - val_acc: 0.8466\n",
      "Epoch 13/30\n",
      "32398/32398 [==============================] - 2s 52us/step - loss: 0.3158 - acc: 0.8543 - val_loss: 0.2592 - val_acc: 0.8773\n",
      "Epoch 14/30\n",
      "32398/32398 [==============================] - 2s 48us/step - loss: 0.3154 - acc: 0.8561 - val_loss: 0.2512 - val_acc: 0.9080\n",
      "Epoch 15/30\n",
      "32398/32398 [==============================] - 2s 49us/step - loss: 0.3131 - acc: 0.8609 - val_loss: 0.2687 - val_acc: 0.8712\n",
      "Epoch 16/30\n",
      "32398/32398 [==============================] - 2s 46us/step - loss: 0.3121 - acc: 0.8567 - val_loss: 0.2702 - val_acc: 0.8712\n",
      "Epoch 17/30\n",
      "32398/32398 [==============================] - 1s 46us/step - loss: 0.3102 - acc: 0.8606 - val_loss: 0.2655 - val_acc: 0.8650\n",
      "Epoch 18/30\n",
      "32398/32398 [==============================] - 1s 46us/step - loss: 0.3081 - acc: 0.8587 - val_loss: 0.2637 - val_acc: 0.8712\n",
      "Epoch 19/30\n",
      "32398/32398 [==============================] - 1s 45us/step - loss: 0.3104 - acc: 0.8588 - val_loss: 0.2660 - val_acc: 0.8650\n",
      "Epoch 20/30\n",
      "32398/32398 [==============================] - 1s 45us/step - loss: 0.3070 - acc: 0.8597 - val_loss: 0.2713 - val_acc: 0.8466\n",
      "Epoch 21/30\n",
      "32398/32398 [==============================] - 1s 45us/step - loss: 0.3061 - acc: 0.8591 - val_loss: 0.2639 - val_acc: 0.8712\n",
      "Epoch 22/30\n",
      "32398/32398 [==============================] - 1s 44us/step - loss: 0.3049 - acc: 0.8619 - val_loss: 0.2585 - val_acc: 0.8650\n",
      "Epoch 23/30\n",
      "32398/32398 [==============================] - 1s 46us/step - loss: 0.3053 - acc: 0.8615 - val_loss: 0.2726 - val_acc: 0.8528\n",
      "Epoch 24/30\n",
      "32398/32398 [==============================] - 2s 47us/step - loss: 0.3039 - acc: 0.8603 - val_loss: 0.2868 - val_acc: 0.8466\n",
      "Epoch 25/30\n",
      "32398/32398 [==============================] - 2s 47us/step - loss: 0.3037 - acc: 0.8610 - val_loss: 0.2716 - val_acc: 0.8650\n",
      "Epoch 26/30\n",
      "32398/32398 [==============================] - 1s 44us/step - loss: 0.3035 - acc: 0.8613 - val_loss: 0.2719 - val_acc: 0.8589\n",
      "Epoch 27/30\n",
      "32398/32398 [==============================] - 1s 44us/step - loss: 0.3026 - acc: 0.8631 - val_loss: 0.2623 - val_acc: 0.8528\n",
      "Epoch 28/30\n",
      "32398/32398 [==============================] - 1s 45us/step - loss: 0.3021 - acc: 0.8616 - val_loss: 0.2704 - val_acc: 0.8589\n",
      "Epoch 29/30\n",
      "32398/32398 [==============================] - 2s 47us/step - loss: 0.3005 - acc: 0.8635 - val_loss: 0.2719 - val_acc: 0.8528\n",
      "Epoch 30/30\n",
      "32398/32398 [==============================] - 2s 47us/step - loss: 0.3019 - acc: 0.8629 - val_loss: 0.2711 - val_acc: 0.8589\n"
     ]
    },
    {
     "data": {
      "text/plain": [
       "<keras.callbacks.History at 0x115945898>"
      ]
     },
     "execution_count": 4,
     "metadata": {},
     "output_type": "execute_result"
    }
   ],
   "source": [
    "model.fit(x = X,y = Y,epochs =30,validation_split= 0.005,shuffle=True,verbose = 1)"
   ]
  },
  {
   "cell_type": "code",
   "execution_count": 5,
   "metadata": {},
   "outputs": [
    {
     "data": {
      "text/plain": [
       "'\\nprint(ans.shape)\\nfor i in range(len(ans)):\\n    if ans[i]<0.5:\\n        ans[i] = 0\\n    else:\\n        ans[i] = 1\\nans =np.array(ans,dtype=int)\\n'"
      ]
     },
     "execution_count": 5,
     "metadata": {},
     "output_type": "execute_result"
    }
   ],
   "source": [
    "ans = model.predict(X_test)\n",
    "\n"
   ]
  },
  {
   "cell_type": "code",
   "execution_count": 6,
   "metadata": {},
   "outputs": [],
   "source": [
    " with open('keras_dnn_pro.csv', 'w') as f:\n",
    "        print('id,label', file=f)\n",
    "        for (i, p) in enumerate(ans) :\n",
    "            print('{},{}'.format(i+1, p[0]), file=f)"
   ]
  },
  {
   "cell_type": "code",
   "execution_count": 7,
   "metadata": {},
   "outputs": [],
   "source": [
    "#model.save('kaggle_0.86019.h5') "
   ]
  },
  {
   "cell_type": "code",
   "execution_count": 8,
   "metadata": {},
   "outputs": [
    {
     "name": "stdout",
     "output_type": "stream",
     "text": [
      "(16281, 1)\n"
     ]
    }
   ],
   "source": [
    "print(ans.shape)\n",
    "for i in range(len(ans)):\n",
    "    if ans[i]<0.5:\n",
    "        ans[i] = 0\n",
    "    else:\n",
    "        ans[i] = 1\n",
    "ans =np.array(ans,dtype=int)\n"
   ]
  },
  {
   "cell_type": "code",
   "execution_count": 9,
   "metadata": {},
   "outputs": [],
   "source": [
    " with open('keras_dnn.csv', 'w') as f:\n",
    "        print('id,label', file=f)\n",
    "        for (i, p) in enumerate(ans) :\n",
    "            print('{},{}'.format(i+1, p[0]), file=f)"
   ]
  },
  {
   "cell_type": "code",
   "execution_count": null,
   "metadata": {},
   "outputs": [],
   "source": []
  }
 ],
 "metadata": {
  "kernelspec": {
   "display_name": "Python 3",
   "language": "python",
   "name": "python3"
  },
  "language_info": {
   "codemirror_mode": {
    "name": "ipython",
    "version": 3
   },
   "file_extension": ".py",
   "mimetype": "text/x-python",
   "name": "python",
   "nbconvert_exporter": "python",
   "pygments_lexer": "ipython3",
   "version": "3.6.5"
  }
 },
 "nbformat": 4,
 "nbformat_minor": 2
}
