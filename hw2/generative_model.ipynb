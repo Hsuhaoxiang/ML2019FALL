{
 "cells": [
  {
   "cell_type": "code",
   "execution_count": 33,
   "metadata": {},
   "outputs": [
    {
     "name": "stdout",
     "output_type": "stream",
     "text": [
      "X_shape: (32561, 106) \n",
      "Y_shape: (32561, 1)\n"
     ]
    }
   ],
   "source": [
    "import numpy as np\n",
    "import pandas as pd\n",
    "import sys\n",
    "import math\n",
    "\n",
    "X = pd.read_csv(\"X_train\",low_memory=False)\n",
    "X_test = pd.read_csv(\"X_test\",low_memory=False)\n",
    "Y = np.loadtxt(\"Y_train\",dtype=np.float,delimiter=',')\n",
    "\n",
    "\n",
    "Y = np.reshape(Y,(-1,1))\n",
    "X=np.array(X,dtype = float)\n",
    "X_test = np.array(X_test,dtype = float)\n",
    "\n",
    "#normalize\n",
    "\"\"\"\n",
    "X_mean = np.mean(X,axis =0,keepdims = True)\n",
    "X_std = np.std(X,axis = 0,keepdims = True)\n",
    "X = (X-X_mean)/X_std\n",
    "X_test = (X_test-X_mean)/X_std\n",
    "print(X,X_test)\n",
    "\"\"\"\n",
    "#Y = pd.read_csv(\"Y_train\",low_memory=False)\n",
    "#Y = np.array(Y,dtype = float)\n",
    "\n",
    "print(\"X_shape:\",X.shape,\"\\nY_shape:\",Y.shape)\n"
   ]
  },
  {
   "cell_type": "code",
   "execution_count": 56,
   "metadata": {},
   "outputs": [],
   "source": [
    "class Generative_model():\n",
    "    def __init__(self):\n",
    "        pass\n",
    "    \n",
    "    \n",
    "    def sigmoid(self,z):#   sigmod(z) = 1/(1+e^-z)\n",
    "        return 1/(1+np.exp(-z))\n",
    "    \n",
    "\n",
    "    def fit(self, X, Y):\n",
    "        assert X.shape[0] == Y.shape[0]        \n",
    "        x1 = []#Y=1\n",
    "        x2 = []#Y=0\n",
    "        for i in range(X.shape[0]):\n",
    "            if Y[i]==1:\n",
    "                x1.append(X[i,:])\n",
    "            else:\n",
    "                x2.append(X[i,:])\n",
    "        x1 = np.array(x1,dtype = float)#~7000*106\n",
    "        x2 = np.array(x2,dtype = float)#~20000*106\n",
    "        \n",
    "        \n",
    "        self.X_mean_class1 = np.mean(x1,axis =0,keepdims = True)#1*106\n",
    "        self.X_mean_class2 = np.mean(x2,axis =0,keepdims = True)#1*106\n",
    "\n",
    "        self.X_len = x1.shape[0]+x2.shape[0]\n",
    "        self.Pc1 = (x1.shape[0]/X.shape[0])\n",
    "        self.Pc2 = (x2.shape[0]/X.shape[0])\n",
    "        \n",
    "        Sigma1 = np.dot((x1 - self.X_mean_class1).T,(x1 - self.X_mean_class1))/x1.shape[0]\n",
    "        Sigma2 = np.dot((x2 - self.X_mean_class2).T,(x2 - self.X_mean_class2))/x2.shape[0]\n",
    "        self.Sigma = self.Pc1*Sigma1 + self.Pc2*Sigma2\n",
    "        #print(\"Sigma1:\",Sigma1.shape,\"\\nSigma2:\",Sigma2.shape,\"\\nSigma:\",self.Sigma.shape)\n",
    "\n",
    "    def predict(self, test_X):\n",
    "        #print(\"testx:\",test_X.shape)\n",
    "        sigma_inverse = np.linalg.pinv(self.Sigma)\n",
    "        #print(sigma_inverse)\n",
    "        w = np.dot((self.X_mean_class1-self.X_mean_class2),sigma_inverse)\n",
    "        #print(\"w=\",w)\n",
    "        b = (-0.5) * np.dot(np.dot(self.X_mean_class1, sigma_inverse), self.X_mean_class1.T) + (0.5) * np.dot(np.dot(self.X_mean_class2, sigma_inverse), self.X_mean_class2.T) + np.log(float(self.Pc1)/(self.Pc2))\n",
    "        z = np.dot(w, X_test.T) + b        \n",
    "        \n",
    "        return self.sigmoid(z)"
   ]
  },
  {
   "cell_type": "code",
   "execution_count": 57,
   "metadata": {},
   "outputs": [
    {
     "name": "stdout",
     "output_type": "stream",
     "text": [
      "[[ 9.42392133e-03  5.49352967e-08 -3.23469525e-03 ...  8.04504506e-03\n",
      "   5.57224184e-03  1.55713978e-03]\n",
      " [ 5.49355495e-08  9.53009216e-11 -1.20715962e-06 ...  1.31662525e-07\n",
      "  -1.29846204e-06  1.09303245e-06]\n",
      " [-3.23516379e-03 -1.20715095e-06  9.12071495e+00 ... -5.41875711e-01\n",
      "   8.87362695e-02 -5.40430494e-01]\n",
      " ...\n",
      " [ 8.07473375e-03  1.30952956e-07 -5.42062864e-01 ...  5.42774378e+02\n",
      "  -3.38150479e+01  2.09493273e+01]\n",
      " [ 5.60510133e-03 -1.29923261e-06  8.84394148e-02 ... -3.38118731e+01\n",
      "   1.98533897e+03 -7.52939658e+00]\n",
      " [ 1.55965495e-03  1.09291257e-06 -5.40544077e-01 ...  2.09541861e+01\n",
      "  -7.52432650e+00  9.44492816e+01]]\n"
     ]
    }
   ],
   "source": [
    "model = Generative_model()\n",
    "model.fit(X,Y)\n",
    "result = model.predict(X_test)\n",
    "result = np.reshape(result,-1)\n",
    "\n",
    "for i in range(len(result)):\n",
    "    if result[i]<0.5:\n",
    "        result[i] = 0\n",
    "    else:\n",
    "        result[i] = 1\n",
    "result =np.array(result,dtype=int)\n",
    "\n",
    "\n"
   ]
  },
  {
   "cell_type": "code",
   "execution_count": 58,
   "metadata": {},
   "outputs": [],
   "source": [
    " with open('generative_model.csv', 'w') as f:\n",
    "        print('id,label', file=f)\n",
    "        for (i, p) in enumerate(result) :\n",
    "            print('{},{}'.format(i+1, p), file=f)"
   ]
  },
  {
   "cell_type": "markdown",
   "metadata": {},
   "source": [
    "# WHY inv can't work?"
   ]
  },
  {
   "cell_type": "code",
   "execution_count": null,
   "metadata": {},
   "outputs": [],
   "source": []
  }
 ],
 "metadata": {
  "kernelspec": {
   "display_name": "Python 3",
   "language": "python",
   "name": "python3"
  },
  "language_info": {
   "codemirror_mode": {
    "name": "ipython",
    "version": 3
   },
   "file_extension": ".py",
   "mimetype": "text/x-python",
   "name": "python",
   "nbconvert_exporter": "python",
   "pygments_lexer": "ipython3",
   "version": "3.6.5"
  }
 },
 "nbformat": 4,
 "nbformat_minor": 2
}
