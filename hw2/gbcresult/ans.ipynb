{
 "cells": [
  {
   "cell_type": "code",
   "execution_count": 89,
   "metadata": {},
   "outputs": [],
   "source": [
    "import numpy as np\n",
    "import pandas as pd"
   ]
  },
  {
   "cell_type": "code",
   "execution_count": 90,
   "metadata": {},
   "outputs": [],
   "source": [
    "g1=pd.read_csv(\"gbc1.csv\",delimiter=',')\n",
    "g2=pd.read_csv(\"gbc2.csv\",delimiter=',')\n",
    "g3=pd.read_csv(\"gbc3.csv\",delimiter=',')\n",
    "g4=pd.read_csv(\"gbc4.csv\",delimiter=',')\n",
    "g5=pd.read_csv(\"gbc5.csv\",delimiter=',')"
   ]
  },
  {
   "cell_type": "code",
   "execution_count": 91,
   "metadata": {},
   "outputs": [],
   "source": [
    "g1 = np.array(g1,dtype = int)\n",
    "g2 = np.array(g2,dtype = int)\n",
    "g3 = np.array(g3,dtype = int)\n",
    "g4 = np.array(g4,dtype = int)\n",
    "g5 = np.array(g5,dtype = int)\n",
    "\n",
    "\n",
    "ans=[]\n",
    "one=[]\n",
    "for i in range(len(g1)):\n",
    "    predict= g1[i][1]*0.2+g2[i][1]*0.1+g3[i][1]*0.1+g4[i][1]*0.2+g5[i][1]*0.4\n",
    "    predict=int(np.round(predict))\n",
    "    ans.append(predict)\n",
    "    \n",
    "    "
   ]
  },
  {
   "cell_type": "code",
   "execution_count": 92,
   "metadata": {},
   "outputs": [
    {
     "name": "stdout",
     "output_type": "stream",
     "text": [
      "16281\n"
     ]
    }
   ],
   "source": [
    "print(len(ans))\n"
   ]
  },
  {
   "cell_type": "code",
   "execution_count": 93,
   "metadata": {},
   "outputs": [],
   "source": [
    " with open('gbc_5_time.csv', 'w') as f:\n",
    "        print('id,label', file=f)\n",
    "        for (i, p) in enumerate(ans) :\n",
    "            print('{},{}'.format(i+1, p), file=f)"
   ]
  },
  {
   "cell_type": "markdown",
   "metadata": {},
   "source": [
    "## Different to model 5 (with best result on kaggle public leaderboard)##\n",
    "* model 1 :105\n",
    "* model 2 :274\n",
    "* model 3 :467\n",
    "* model 4 :122\n"
   ]
  },
  {
   "cell_type": "code",
   "execution_count": null,
   "metadata": {},
   "outputs": [],
   "source": []
  }
 ],
 "metadata": {
  "kernelspec": {
   "display_name": "Python 3",
   "language": "python",
   "name": "python3"
  },
  "language_info": {
   "codemirror_mode": {
    "name": "ipython",
    "version": 3
   },
   "file_extension": ".py",
   "mimetype": "text/x-python",
   "name": "python",
   "nbconvert_exporter": "python",
   "pygments_lexer": "ipython3",
   "version": "3.6.5"
  }
 },
 "nbformat": 4,
 "nbformat_minor": 2
}
