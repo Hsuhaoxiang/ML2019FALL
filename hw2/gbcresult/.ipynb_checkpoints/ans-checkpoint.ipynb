{
 "cells": [
  {
   "cell_type": "code",
   "execution_count": 68,
   "metadata": {},
   "outputs": [],
   "source": [
    "import numpy as np\n",
    "import pandas as pd"
   ]
  },
  {
   "cell_type": "code",
   "execution_count": 69,
   "metadata": {},
   "outputs": [],
   "source": [
    "g1=pd.read_csv(\"gbc1.csv\",delimiter=',')\n",
    "g2=pd.read_csv(\"gbc2.csv\",delimiter=',')\n",
    "g3=pd.read_csv(\"gbc3.csv\",delimiter=',')\n",
    "g4=pd.read_csv(\"gbc4.csv\",delimiter=',')\n",
    "g5=pd.read_csv(\"gbc5.csv\",delimiter=',')"
   ]
  },
  {
   "cell_type": "code",
   "execution_count": 70,
   "metadata": {},
   "outputs": [],
   "source": [
    "g1 = np.array(g1,dtype = int)\n",
    "g2 = np.array(g2,dtype = int)\n",
    "g3 = np.array(g3,dtype = int)\n",
    "g4 = np.array(g4,dtype = int)\n",
    "g5 = np.array(g5,dtype = int)\n",
    "\n",
    "\n",
    "ans=[]\n",
    "for i in range(len(g1)):\n",
    "    if g1[i][1]+g2[i][1]+g3[i][1]\n",
    "    "
   ]
  },
  {
   "cell_type": "code",
   "execution_count": 71,
   "metadata": {},
   "outputs": [
    {
     "name": "stdout",
     "output_type": "stream",
     "text": [
      "1\n"
     ]
    }
   ],
   "source": [
    "a=0\n",
    "a^=1\n",
    "print(a)"
   ]
  },
  {
   "cell_type": "code",
   "execution_count": 72,
   "metadata": {},
   "outputs": [
    {
     "name": "stdout",
     "output_type": "stream",
     "text": [
      "878\n",
      "14\n",
      "16281\n"
     ]
    }
   ],
   "source": [
    "print(len(dif))\n",
    "change = []\n",
    "for a in dif:\n",
    "    if dnn_pro[a][1]>0.95 or dnn_pro[a][1]<0.05:\n",
    "        change.append(a)\n",
    "print(len(change))\n",
    "for a in change:\n",
    "    boosting[a][1]^=1\n",
    "print(len(boosting))"
   ]
  },
  {
   "cell_type": "code",
   "execution_count": 74,
   "metadata": {},
   "outputs": [],
   "source": [
    " with open('gbc_change.csv', 'w') as f:\n",
    "        print('id,label', file=f)\n",
    "        for (i, p) in enumerate(boosting) :\n",
    "            print('{},{}'.format(i+1, p[1]), file=f)"
   ]
  },
  {
   "cell_type": "code",
   "execution_count": null,
   "metadata": {},
   "outputs": [],
   "source": []
  },
  {
   "cell_type": "code",
   "execution_count": null,
   "metadata": {},
   "outputs": [],
   "source": []
  }
 ],
 "metadata": {
  "kernelspec": {
   "display_name": "Python 3",
   "language": "python",
   "name": "python3"
  },
  "language_info": {
   "codemirror_mode": {
    "name": "ipython",
    "version": 3
   },
   "file_extension": ".py",
   "mimetype": "text/x-python",
   "name": "python",
   "nbconvert_exporter": "python",
   "pygments_lexer": "ipython3",
   "version": "3.6.5"
  }
 },
 "nbformat": 4,
 "nbformat_minor": 2
}
